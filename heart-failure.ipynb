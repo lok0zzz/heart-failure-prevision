{
 "cells": [
  {
   "cell_type": "markdown",
   "metadata": {},
   "source": [
    "## Importação das bibliotecas"
   ]
  },
  {
   "cell_type": "code",
   "execution_count": 83,
   "metadata": {},
   "outputs": [],
   "source": [
    "import pandas as pd\n",
    "import numpy as np\n",
    "import seaborn as sns\n",
    "import plotly.express as px"
   ]
  },
  {
   "cell_type": "code",
   "execution_count": 84,
   "metadata": {},
   "outputs": [
    {
     "data": {
      "text/html": [
       "<div>\n",
       "<style scoped>\n",
       "    .dataframe tbody tr th:only-of-type {\n",
       "        vertical-align: middle;\n",
       "    }\n",
       "\n",
       "    .dataframe tbody tr th {\n",
       "        vertical-align: top;\n",
       "    }\n",
       "\n",
       "    .dataframe thead th {\n",
       "        text-align: right;\n",
       "    }\n",
       "</style>\n",
       "<table border=\"1\" class=\"dataframe\">\n",
       "  <thead>\n",
       "    <tr style=\"text-align: right;\">\n",
       "      <th></th>\n",
       "      <th>age</th>\n",
       "      <th>anaemia</th>\n",
       "      <th>creatinine_phosphokinase</th>\n",
       "      <th>diabetes</th>\n",
       "      <th>ejection_fraction</th>\n",
       "      <th>high_blood_pressure</th>\n",
       "      <th>platelets</th>\n",
       "      <th>serum_creatinine</th>\n",
       "      <th>serum_sodium</th>\n",
       "      <th>sex</th>\n",
       "      <th>smoking</th>\n",
       "      <th>time</th>\n",
       "      <th>DEATH_EVENT</th>\n",
       "    </tr>\n",
       "  </thead>\n",
       "  <tbody>\n",
       "    <tr>\n",
       "      <th>0</th>\n",
       "      <td>75.0</td>\n",
       "      <td>0</td>\n",
       "      <td>582</td>\n",
       "      <td>0</td>\n",
       "      <td>20</td>\n",
       "      <td>1</td>\n",
       "      <td>265000.00</td>\n",
       "      <td>1.9</td>\n",
       "      <td>130</td>\n",
       "      <td>1</td>\n",
       "      <td>0</td>\n",
       "      <td>4</td>\n",
       "      <td>1</td>\n",
       "    </tr>\n",
       "    <tr>\n",
       "      <th>1</th>\n",
       "      <td>55.0</td>\n",
       "      <td>0</td>\n",
       "      <td>7861</td>\n",
       "      <td>0</td>\n",
       "      <td>38</td>\n",
       "      <td>0</td>\n",
       "      <td>263358.03</td>\n",
       "      <td>1.1</td>\n",
       "      <td>136</td>\n",
       "      <td>1</td>\n",
       "      <td>0</td>\n",
       "      <td>6</td>\n",
       "      <td>1</td>\n",
       "    </tr>\n",
       "    <tr>\n",
       "      <th>2</th>\n",
       "      <td>65.0</td>\n",
       "      <td>0</td>\n",
       "      <td>146</td>\n",
       "      <td>0</td>\n",
       "      <td>20</td>\n",
       "      <td>0</td>\n",
       "      <td>162000.00</td>\n",
       "      <td>1.3</td>\n",
       "      <td>129</td>\n",
       "      <td>1</td>\n",
       "      <td>1</td>\n",
       "      <td>7</td>\n",
       "      <td>1</td>\n",
       "    </tr>\n",
       "    <tr>\n",
       "      <th>3</th>\n",
       "      <td>50.0</td>\n",
       "      <td>1</td>\n",
       "      <td>111</td>\n",
       "      <td>0</td>\n",
       "      <td>20</td>\n",
       "      <td>0</td>\n",
       "      <td>210000.00</td>\n",
       "      <td>1.9</td>\n",
       "      <td>137</td>\n",
       "      <td>1</td>\n",
       "      <td>0</td>\n",
       "      <td>7</td>\n",
       "      <td>1</td>\n",
       "    </tr>\n",
       "    <tr>\n",
       "      <th>4</th>\n",
       "      <td>65.0</td>\n",
       "      <td>1</td>\n",
       "      <td>160</td>\n",
       "      <td>1</td>\n",
       "      <td>20</td>\n",
       "      <td>0</td>\n",
       "      <td>327000.00</td>\n",
       "      <td>2.7</td>\n",
       "      <td>116</td>\n",
       "      <td>0</td>\n",
       "      <td>0</td>\n",
       "      <td>8</td>\n",
       "      <td>1</td>\n",
       "    </tr>\n",
       "  </tbody>\n",
       "</table>\n",
       "</div>"
      ],
      "text/plain": [
       "    age  anaemia  creatinine_phosphokinase  diabetes  ejection_fraction  \\\n",
       "0  75.0        0                       582         0                 20   \n",
       "1  55.0        0                      7861         0                 38   \n",
       "2  65.0        0                       146         0                 20   \n",
       "3  50.0        1                       111         0                 20   \n",
       "4  65.0        1                       160         1                 20   \n",
       "\n",
       "   high_blood_pressure  platelets  serum_creatinine  serum_sodium  sex  \\\n",
       "0                    1  265000.00               1.9           130    1   \n",
       "1                    0  263358.03               1.1           136    1   \n",
       "2                    0  162000.00               1.3           129    1   \n",
       "3                    0  210000.00               1.9           137    1   \n",
       "4                    0  327000.00               2.7           116    0   \n",
       "\n",
       "   smoking  time  DEATH_EVENT  \n",
       "0        0     4            1  \n",
       "1        0     6            1  \n",
       "2        1     7            1  \n",
       "3        0     7            1  \n",
       "4        0     8            1  "
      ]
     },
     "execution_count": 84,
     "metadata": {},
     "output_type": "execute_result"
    }
   ],
   "source": [
    "data = pd.read_csv('Heart Failure Clinical Records.csv')\n",
    "data.head()"
   ]
  },
  {
   "cell_type": "markdown",
   "metadata": {},
   "source": [
    "## Análise exploratória"
   ]
  },
  {
   "cell_type": "code",
   "execution_count": 85,
   "metadata": {},
   "outputs": [
    {
     "name": "stdout",
     "output_type": "stream",
     "text": [
      "Tamanho: (299, 13)\n",
      "-----------------------------------------------------------------------------------------------------------\n"
     ]
    },
    {
     "data": {
      "text/html": [
       "<div>\n",
       "<style scoped>\n",
       "    .dataframe tbody tr th:only-of-type {\n",
       "        vertical-align: middle;\n",
       "    }\n",
       "\n",
       "    .dataframe tbody tr th {\n",
       "        vertical-align: top;\n",
       "    }\n",
       "\n",
       "    .dataframe thead th {\n",
       "        text-align: right;\n",
       "    }\n",
       "</style>\n",
       "<table border=\"1\" class=\"dataframe\">\n",
       "  <thead>\n",
       "    <tr style=\"text-align: right;\">\n",
       "      <th></th>\n",
       "      <th>age</th>\n",
       "      <th>anaemia</th>\n",
       "      <th>creatinine_phosphokinase</th>\n",
       "      <th>diabetes</th>\n",
       "      <th>ejection_fraction</th>\n",
       "      <th>high_blood_pressure</th>\n",
       "      <th>platelets</th>\n",
       "      <th>serum_creatinine</th>\n",
       "      <th>serum_sodium</th>\n",
       "      <th>sex</th>\n",
       "      <th>smoking</th>\n",
       "      <th>time</th>\n",
       "      <th>DEATH_EVENT</th>\n",
       "    </tr>\n",
       "  </thead>\n",
       "  <tbody>\n",
       "    <tr>\n",
       "      <th>count</th>\n",
       "      <td>299.000000</td>\n",
       "      <td>299.000000</td>\n",
       "      <td>299.000000</td>\n",
       "      <td>299.000000</td>\n",
       "      <td>299.000000</td>\n",
       "      <td>299.000000</td>\n",
       "      <td>299.000000</td>\n",
       "      <td>299.00000</td>\n",
       "      <td>299.000000</td>\n",
       "      <td>299.000000</td>\n",
       "      <td>299.00000</td>\n",
       "      <td>299.000000</td>\n",
       "      <td>299.00000</td>\n",
       "    </tr>\n",
       "    <tr>\n",
       "      <th>mean</th>\n",
       "      <td>60.833893</td>\n",
       "      <td>0.431438</td>\n",
       "      <td>581.839465</td>\n",
       "      <td>0.418060</td>\n",
       "      <td>38.083612</td>\n",
       "      <td>0.351171</td>\n",
       "      <td>263358.029264</td>\n",
       "      <td>1.39388</td>\n",
       "      <td>136.625418</td>\n",
       "      <td>0.648829</td>\n",
       "      <td>0.32107</td>\n",
       "      <td>130.260870</td>\n",
       "      <td>0.32107</td>\n",
       "    </tr>\n",
       "    <tr>\n",
       "      <th>std</th>\n",
       "      <td>11.894809</td>\n",
       "      <td>0.496107</td>\n",
       "      <td>970.287881</td>\n",
       "      <td>0.494067</td>\n",
       "      <td>11.834841</td>\n",
       "      <td>0.478136</td>\n",
       "      <td>97804.236869</td>\n",
       "      <td>1.03451</td>\n",
       "      <td>4.412477</td>\n",
       "      <td>0.478136</td>\n",
       "      <td>0.46767</td>\n",
       "      <td>77.614208</td>\n",
       "      <td>0.46767</td>\n",
       "    </tr>\n",
       "    <tr>\n",
       "      <th>min</th>\n",
       "      <td>40.000000</td>\n",
       "      <td>0.000000</td>\n",
       "      <td>23.000000</td>\n",
       "      <td>0.000000</td>\n",
       "      <td>14.000000</td>\n",
       "      <td>0.000000</td>\n",
       "      <td>25100.000000</td>\n",
       "      <td>0.50000</td>\n",
       "      <td>113.000000</td>\n",
       "      <td>0.000000</td>\n",
       "      <td>0.00000</td>\n",
       "      <td>4.000000</td>\n",
       "      <td>0.00000</td>\n",
       "    </tr>\n",
       "    <tr>\n",
       "      <th>25%</th>\n",
       "      <td>51.000000</td>\n",
       "      <td>0.000000</td>\n",
       "      <td>116.500000</td>\n",
       "      <td>0.000000</td>\n",
       "      <td>30.000000</td>\n",
       "      <td>0.000000</td>\n",
       "      <td>212500.000000</td>\n",
       "      <td>0.90000</td>\n",
       "      <td>134.000000</td>\n",
       "      <td>0.000000</td>\n",
       "      <td>0.00000</td>\n",
       "      <td>73.000000</td>\n",
       "      <td>0.00000</td>\n",
       "    </tr>\n",
       "    <tr>\n",
       "      <th>50%</th>\n",
       "      <td>60.000000</td>\n",
       "      <td>0.000000</td>\n",
       "      <td>250.000000</td>\n",
       "      <td>0.000000</td>\n",
       "      <td>38.000000</td>\n",
       "      <td>0.000000</td>\n",
       "      <td>262000.000000</td>\n",
       "      <td>1.10000</td>\n",
       "      <td>137.000000</td>\n",
       "      <td>1.000000</td>\n",
       "      <td>0.00000</td>\n",
       "      <td>115.000000</td>\n",
       "      <td>0.00000</td>\n",
       "    </tr>\n",
       "    <tr>\n",
       "      <th>75%</th>\n",
       "      <td>70.000000</td>\n",
       "      <td>1.000000</td>\n",
       "      <td>582.000000</td>\n",
       "      <td>1.000000</td>\n",
       "      <td>45.000000</td>\n",
       "      <td>1.000000</td>\n",
       "      <td>303500.000000</td>\n",
       "      <td>1.40000</td>\n",
       "      <td>140.000000</td>\n",
       "      <td>1.000000</td>\n",
       "      <td>1.00000</td>\n",
       "      <td>203.000000</td>\n",
       "      <td>1.00000</td>\n",
       "    </tr>\n",
       "    <tr>\n",
       "      <th>max</th>\n",
       "      <td>95.000000</td>\n",
       "      <td>1.000000</td>\n",
       "      <td>7861.000000</td>\n",
       "      <td>1.000000</td>\n",
       "      <td>80.000000</td>\n",
       "      <td>1.000000</td>\n",
       "      <td>850000.000000</td>\n",
       "      <td>9.40000</td>\n",
       "      <td>148.000000</td>\n",
       "      <td>1.000000</td>\n",
       "      <td>1.00000</td>\n",
       "      <td>285.000000</td>\n",
       "      <td>1.00000</td>\n",
       "    </tr>\n",
       "  </tbody>\n",
       "</table>\n",
       "</div>"
      ],
      "text/plain": [
       "              age     anaemia  creatinine_phosphokinase    diabetes  \\\n",
       "count  299.000000  299.000000                299.000000  299.000000   \n",
       "mean    60.833893    0.431438                581.839465    0.418060   \n",
       "std     11.894809    0.496107                970.287881    0.494067   \n",
       "min     40.000000    0.000000                 23.000000    0.000000   \n",
       "25%     51.000000    0.000000                116.500000    0.000000   \n",
       "50%     60.000000    0.000000                250.000000    0.000000   \n",
       "75%     70.000000    1.000000                582.000000    1.000000   \n",
       "max     95.000000    1.000000               7861.000000    1.000000   \n",
       "\n",
       "       ejection_fraction  high_blood_pressure      platelets  \\\n",
       "count         299.000000           299.000000     299.000000   \n",
       "mean           38.083612             0.351171  263358.029264   \n",
       "std            11.834841             0.478136   97804.236869   \n",
       "min            14.000000             0.000000   25100.000000   \n",
       "25%            30.000000             0.000000  212500.000000   \n",
       "50%            38.000000             0.000000  262000.000000   \n",
       "75%            45.000000             1.000000  303500.000000   \n",
       "max            80.000000             1.000000  850000.000000   \n",
       "\n",
       "       serum_creatinine  serum_sodium         sex    smoking        time  \\\n",
       "count         299.00000    299.000000  299.000000  299.00000  299.000000   \n",
       "mean            1.39388    136.625418    0.648829    0.32107  130.260870   \n",
       "std             1.03451      4.412477    0.478136    0.46767   77.614208   \n",
       "min             0.50000    113.000000    0.000000    0.00000    4.000000   \n",
       "25%             0.90000    134.000000    0.000000    0.00000   73.000000   \n",
       "50%             1.10000    137.000000    1.000000    0.00000  115.000000   \n",
       "75%             1.40000    140.000000    1.000000    1.00000  203.000000   \n",
       "max             9.40000    148.000000    1.000000    1.00000  285.000000   \n",
       "\n",
       "       DEATH_EVENT  \n",
       "count    299.00000  \n",
       "mean       0.32107  \n",
       "std        0.46767  \n",
       "min        0.00000  \n",
       "25%        0.00000  \n",
       "50%        0.00000  \n",
       "75%        1.00000  \n",
       "max        1.00000  "
      ]
     },
     "metadata": {},
     "output_type": "display_data"
    },
    {
     "name": "stdout",
     "output_type": "stream",
     "text": [
      "-----------------------------------------------------------------------------------------------------------\n",
      "<class 'pandas.core.frame.DataFrame'>\n",
      "RangeIndex: 299 entries, 0 to 298\n",
      "Data columns (total 13 columns):\n",
      " #   Column                    Non-Null Count  Dtype  \n",
      "---  ------                    --------------  -----  \n",
      " 0   age                       299 non-null    float64\n",
      " 1   anaemia                   299 non-null    int64  \n",
      " 2   creatinine_phosphokinase  299 non-null    int64  \n",
      " 3   diabetes                  299 non-null    int64  \n",
      " 4   ejection_fraction         299 non-null    int64  \n",
      " 5   high_blood_pressure       299 non-null    int64  \n",
      " 6   platelets                 299 non-null    float64\n",
      " 7   serum_creatinine          299 non-null    float64\n",
      " 8   serum_sodium              299 non-null    int64  \n",
      " 9   sex                       299 non-null    int64  \n",
      " 10  smoking                   299 non-null    int64  \n",
      " 11  time                      299 non-null    int64  \n",
      " 12  DEATH_EVENT               299 non-null    int64  \n",
      "dtypes: float64(3), int64(10)\n",
      "memory usage: 30.5 KB\n",
      "None\n"
     ]
    }
   ],
   "source": [
    "print('Tamanho: ', end=\"\")\n",
    "print(data.shape)\n",
    "print('-----------------------------------------------------------------------------------------------------------')\n",
    "display(data.describe())\n",
    "print('-----------------------------------------------------------------------------------------------------------')\n",
    "print(data.info())"
   ]
  },
  {
   "cell_type": "markdown",
   "metadata": {},
   "source": [
    "Aqui observamos que temos mais mulheres do que homens na nossa base de dados."
   ]
  },
  {
   "cell_type": "code",
   "execution_count": 86,
   "metadata": {},
   "outputs": [
    {
     "data": {
      "text/html": [
       "<div>\n",
       "<style scoped>\n",
       "    .dataframe tbody tr th:only-of-type {\n",
       "        vertical-align: middle;\n",
       "    }\n",
       "\n",
       "    .dataframe tbody tr th {\n",
       "        vertical-align: top;\n",
       "    }\n",
       "\n",
       "    .dataframe thead th {\n",
       "        text-align: right;\n",
       "    }\n",
       "</style>\n",
       "<table border=\"1\" class=\"dataframe\">\n",
       "  <thead>\n",
       "    <tr style=\"text-align: right;\">\n",
       "      <th></th>\n",
       "      <th>age</th>\n",
       "      <th>anaemia</th>\n",
       "      <th>creatinine_phosphokinase</th>\n",
       "      <th>diabetes</th>\n",
       "      <th>ejection_fraction</th>\n",
       "      <th>high_blood_pressure</th>\n",
       "      <th>platelets</th>\n",
       "      <th>serum_creatinine</th>\n",
       "      <th>serum_sodium</th>\n",
       "      <th>sex</th>\n",
       "      <th>smoking</th>\n",
       "      <th>time</th>\n",
       "      <th>DEATH_EVENT</th>\n",
       "    </tr>\n",
       "  </thead>\n",
       "  <tbody>\n",
       "    <tr>\n",
       "      <th>0</th>\n",
       "      <td>75.0</td>\n",
       "      <td>0</td>\n",
       "      <td>582</td>\n",
       "      <td>0</td>\n",
       "      <td>20</td>\n",
       "      <td>1</td>\n",
       "      <td>265000.00</td>\n",
       "      <td>1.9</td>\n",
       "      <td>130</td>\n",
       "      <td>1</td>\n",
       "      <td>0</td>\n",
       "      <td>4</td>\n",
       "      <td>1</td>\n",
       "    </tr>\n",
       "    <tr>\n",
       "      <th>1</th>\n",
       "      <td>55.0</td>\n",
       "      <td>0</td>\n",
       "      <td>7861</td>\n",
       "      <td>0</td>\n",
       "      <td>38</td>\n",
       "      <td>0</td>\n",
       "      <td>263358.03</td>\n",
       "      <td>1.1</td>\n",
       "      <td>136</td>\n",
       "      <td>1</td>\n",
       "      <td>0</td>\n",
       "      <td>6</td>\n",
       "      <td>1</td>\n",
       "    </tr>\n",
       "    <tr>\n",
       "      <th>2</th>\n",
       "      <td>65.0</td>\n",
       "      <td>0</td>\n",
       "      <td>146</td>\n",
       "      <td>0</td>\n",
       "      <td>20</td>\n",
       "      <td>0</td>\n",
       "      <td>162000.00</td>\n",
       "      <td>1.3</td>\n",
       "      <td>129</td>\n",
       "      <td>1</td>\n",
       "      <td>1</td>\n",
       "      <td>7</td>\n",
       "      <td>1</td>\n",
       "    </tr>\n",
       "    <tr>\n",
       "      <th>3</th>\n",
       "      <td>50.0</td>\n",
       "      <td>1</td>\n",
       "      <td>111</td>\n",
       "      <td>0</td>\n",
       "      <td>20</td>\n",
       "      <td>0</td>\n",
       "      <td>210000.00</td>\n",
       "      <td>1.9</td>\n",
       "      <td>137</td>\n",
       "      <td>1</td>\n",
       "      <td>0</td>\n",
       "      <td>7</td>\n",
       "      <td>1</td>\n",
       "    </tr>\n",
       "    <tr>\n",
       "      <th>4</th>\n",
       "      <td>65.0</td>\n",
       "      <td>1</td>\n",
       "      <td>160</td>\n",
       "      <td>1</td>\n",
       "      <td>20</td>\n",
       "      <td>0</td>\n",
       "      <td>327000.00</td>\n",
       "      <td>2.7</td>\n",
       "      <td>116</td>\n",
       "      <td>0</td>\n",
       "      <td>0</td>\n",
       "      <td>8</td>\n",
       "      <td>1</td>\n",
       "    </tr>\n",
       "    <tr>\n",
       "      <th>...</th>\n",
       "      <td>...</td>\n",
       "      <td>...</td>\n",
       "      <td>...</td>\n",
       "      <td>...</td>\n",
       "      <td>...</td>\n",
       "      <td>...</td>\n",
       "      <td>...</td>\n",
       "      <td>...</td>\n",
       "      <td>...</td>\n",
       "      <td>...</td>\n",
       "      <td>...</td>\n",
       "      <td>...</td>\n",
       "      <td>...</td>\n",
       "    </tr>\n",
       "    <tr>\n",
       "      <th>294</th>\n",
       "      <td>62.0</td>\n",
       "      <td>0</td>\n",
       "      <td>61</td>\n",
       "      <td>1</td>\n",
       "      <td>38</td>\n",
       "      <td>1</td>\n",
       "      <td>155000.00</td>\n",
       "      <td>1.1</td>\n",
       "      <td>143</td>\n",
       "      <td>1</td>\n",
       "      <td>1</td>\n",
       "      <td>270</td>\n",
       "      <td>0</td>\n",
       "    </tr>\n",
       "    <tr>\n",
       "      <th>295</th>\n",
       "      <td>55.0</td>\n",
       "      <td>0</td>\n",
       "      <td>1820</td>\n",
       "      <td>0</td>\n",
       "      <td>38</td>\n",
       "      <td>0</td>\n",
       "      <td>270000.00</td>\n",
       "      <td>1.2</td>\n",
       "      <td>139</td>\n",
       "      <td>0</td>\n",
       "      <td>0</td>\n",
       "      <td>271</td>\n",
       "      <td>0</td>\n",
       "    </tr>\n",
       "    <tr>\n",
       "      <th>296</th>\n",
       "      <td>45.0</td>\n",
       "      <td>0</td>\n",
       "      <td>2060</td>\n",
       "      <td>1</td>\n",
       "      <td>60</td>\n",
       "      <td>0</td>\n",
       "      <td>742000.00</td>\n",
       "      <td>0.8</td>\n",
       "      <td>138</td>\n",
       "      <td>0</td>\n",
       "      <td>0</td>\n",
       "      <td>278</td>\n",
       "      <td>0</td>\n",
       "    </tr>\n",
       "    <tr>\n",
       "      <th>297</th>\n",
       "      <td>45.0</td>\n",
       "      <td>0</td>\n",
       "      <td>2413</td>\n",
       "      <td>0</td>\n",
       "      <td>38</td>\n",
       "      <td>0</td>\n",
       "      <td>140000.00</td>\n",
       "      <td>1.4</td>\n",
       "      <td>140</td>\n",
       "      <td>1</td>\n",
       "      <td>1</td>\n",
       "      <td>280</td>\n",
       "      <td>0</td>\n",
       "    </tr>\n",
       "    <tr>\n",
       "      <th>298</th>\n",
       "      <td>50.0</td>\n",
       "      <td>0</td>\n",
       "      <td>196</td>\n",
       "      <td>0</td>\n",
       "      <td>45</td>\n",
       "      <td>0</td>\n",
       "      <td>395000.00</td>\n",
       "      <td>1.6</td>\n",
       "      <td>136</td>\n",
       "      <td>1</td>\n",
       "      <td>1</td>\n",
       "      <td>285</td>\n",
       "      <td>0</td>\n",
       "    </tr>\n",
       "  </tbody>\n",
       "</table>\n",
       "<p>299 rows × 13 columns</p>\n",
       "</div>"
      ],
      "text/plain": [
       "      age  anaemia  creatinine_phosphokinase  diabetes  ejection_fraction  \\\n",
       "0    75.0        0                       582         0                 20   \n",
       "1    55.0        0                      7861         0                 38   \n",
       "2    65.0        0                       146         0                 20   \n",
       "3    50.0        1                       111         0                 20   \n",
       "4    65.0        1                       160         1                 20   \n",
       "..    ...      ...                       ...       ...                ...   \n",
       "294  62.0        0                        61         1                 38   \n",
       "295  55.0        0                      1820         0                 38   \n",
       "296  45.0        0                      2060         1                 60   \n",
       "297  45.0        0                      2413         0                 38   \n",
       "298  50.0        0                       196         0                 45   \n",
       "\n",
       "     high_blood_pressure  platelets  serum_creatinine  serum_sodium  sex  \\\n",
       "0                      1  265000.00               1.9           130    1   \n",
       "1                      0  263358.03               1.1           136    1   \n",
       "2                      0  162000.00               1.3           129    1   \n",
       "3                      0  210000.00               1.9           137    1   \n",
       "4                      0  327000.00               2.7           116    0   \n",
       "..                   ...        ...               ...           ...  ...   \n",
       "294                    1  155000.00               1.1           143    1   \n",
       "295                    0  270000.00               1.2           139    0   \n",
       "296                    0  742000.00               0.8           138    0   \n",
       "297                    0  140000.00               1.4           140    1   \n",
       "298                    0  395000.00               1.6           136    1   \n",
       "\n",
       "     smoking  time  DEATH_EVENT  \n",
       "0          0     4            1  \n",
       "1          0     6            1  \n",
       "2          1     7            1  \n",
       "3          0     7            1  \n",
       "4          0     8            1  \n",
       "..       ...   ...          ...  \n",
       "294        1   270            0  \n",
       "295        0   271            0  \n",
       "296        0   278            0  \n",
       "297        1   280            0  \n",
       "298        1   285            0  \n",
       "\n",
       "[299 rows x 13 columns]"
      ]
     },
     "metadata": {},
     "output_type": "display_data"
    }
   ],
   "source": [
    "tmp = data.copy()\n",
    "tmp['sex'] = tmp['sex'].apply(lambda x: 'Mulher' if x == 0 else 'Homem')\n",
    "tmp['DEATH_EVENT'] = tmp['DEATH_EVENT'].apply(lambda x: 'Não faleceu' if x == 0 else 'Faleceu')\n",
    "\n",
    "fig = px.pie(tmp, names='sex', width=500, color_discrete_sequence=['#19647E', '#A31621'])\n",
    "fig.update_xaxes(title_text='Sexo')\n",
    "fig.update_yaxes(title_text='')\n",
    "fig.update_layout(bargap=0.2)\n",
    "# fig.show()\n",
    "display(data)\n"
   ]
  },
  {
   "cell_type": "markdown",
   "metadata": {},
   "source": [
    "Aqui podemos ver que apenas 32% dos homens e 32,4% das mulheres da base de dados faleceram durante o acompanhamento"
   ]
  },
  {
   "cell_type": "code",
   "execution_count": 87,
   "metadata": {},
   "outputs": [
    {
     "data": {
      "application/vnd.plotly.v1+json": {
       "config": {
        "plotlyServerURL": "https://plot.ly"
       },
       "data": [
        {
         "alignmentgroup": "True",
         "bingroup": "x",
         "hovertemplate": "Sexo=Homem<br>DEATH_EVENT=%{x}<br>count=%{y}<extra></extra>",
         "legendgroup": "Homem",
         "marker": {
          "color": "#19647E",
          "pattern": {
           "shape": ""
          }
         },
         "name": "Homem",
         "offsetgroup": "Homem",
         "orientation": "v",
         "showlegend": true,
         "type": "histogram",
         "x": [
          "Faleceu",
          "Faleceu",
          "Faleceu",
          "Faleceu",
          "Faleceu",
          "Faleceu",
          "Faleceu",
          "Faleceu",
          "Faleceu",
          "Faleceu",
          "Faleceu",
          "Faleceu",
          "Faleceu",
          "Faleceu",
          "Faleceu",
          "Faleceu",
          "Não faleceu",
          "Faleceu",
          "Faleceu",
          "Faleceu",
          "Faleceu",
          "Faleceu",
          "Faleceu",
          "Faleceu",
          "Faleceu",
          "Faleceu",
          "Não faleceu",
          "Faleceu",
          "Faleceu",
          "Não faleceu",
          "Faleceu",
          "Faleceu",
          "Faleceu",
          "Faleceu",
          "Faleceu",
          "Faleceu",
          "Não faleceu",
          "Não faleceu",
          "Faleceu",
          "Faleceu",
          "Faleceu",
          "Não faleceu",
          "Faleceu",
          "Faleceu",
          "Faleceu",
          "Faleceu",
          "Não faleceu",
          "Não faleceu",
          "Faleceu",
          "Não faleceu",
          "Faleceu",
          "Faleceu",
          "Não faleceu",
          "Não faleceu",
          "Não faleceu",
          "Não faleceu",
          "Não faleceu",
          "Não faleceu",
          "Não faleceu",
          "Não faleceu",
          "Não faleceu",
          "Não faleceu",
          "Não faleceu",
          "Faleceu",
          "Não faleceu",
          "Não faleceu",
          "Não faleceu",
          "Não faleceu",
          "Não faleceu",
          "Não faleceu",
          "Não faleceu",
          "Não faleceu",
          "Não faleceu",
          "Não faleceu",
          "Faleceu",
          "Não faleceu",
          "Não faleceu",
          "Não faleceu",
          "Não faleceu",
          "Faleceu",
          "Não faleceu",
          "Não faleceu",
          "Não faleceu",
          "Não faleceu",
          "Não faleceu",
          "Não faleceu",
          "Não faleceu",
          "Não faleceu",
          "Não faleceu",
          "Faleceu",
          "Faleceu",
          "Não faleceu",
          "Não faleceu",
          "Não faleceu",
          "Faleceu",
          "Não faleceu",
          "Não faleceu",
          "Não faleceu",
          "Não faleceu",
          "Não faleceu",
          "Não faleceu",
          "Não faleceu",
          "Não faleceu",
          "Não faleceu",
          "Não faleceu",
          "Não faleceu",
          "Faleceu",
          "Não faleceu",
          "Faleceu",
          "Não faleceu",
          "Não faleceu",
          "Não faleceu",
          "Não faleceu",
          "Não faleceu",
          "Não faleceu",
          "Não faleceu",
          "Não faleceu",
          "Não faleceu",
          "Não faleceu",
          "Faleceu",
          "Faleceu",
          "Faleceu",
          "Faleceu",
          "Faleceu",
          "Não faleceu",
          "Não faleceu",
          "Não faleceu",
          "Faleceu",
          "Faleceu",
          "Não faleceu",
          "Não faleceu",
          "Não faleceu",
          "Não faleceu",
          "Não faleceu",
          "Não faleceu",
          "Não faleceu",
          "Não faleceu",
          "Não faleceu",
          "Não faleceu",
          "Não faleceu",
          "Não faleceu",
          "Não faleceu",
          "Faleceu",
          "Não faleceu",
          "Não faleceu",
          "Não faleceu",
          "Não faleceu",
          "Não faleceu",
          "Não faleceu",
          "Não faleceu",
          "Não faleceu",
          "Não faleceu",
          "Não faleceu",
          "Não faleceu",
          "Não faleceu",
          "Não faleceu",
          "Não faleceu",
          "Não faleceu",
          "Não faleceu",
          "Não faleceu",
          "Não faleceu",
          "Faleceu",
          "Não faleceu",
          "Não faleceu",
          "Não faleceu",
          "Não faleceu",
          "Não faleceu",
          "Não faleceu",
          "Não faleceu",
          "Não faleceu",
          "Não faleceu",
          "Faleceu",
          "Não faleceu",
          "Não faleceu",
          "Faleceu",
          "Não faleceu",
          "Não faleceu",
          "Não faleceu",
          "Não faleceu",
          "Não faleceu",
          "Não faleceu",
          "Não faleceu",
          "Não faleceu",
          "Não faleceu",
          "Não faleceu",
          "Não faleceu",
          "Não faleceu",
          "Não faleceu",
          "Não faleceu",
          "Não faleceu",
          "Não faleceu",
          "Não faleceu",
          "Não faleceu",
          "Não faleceu"
         ],
         "xaxis": "x",
         "yaxis": "y"
        },
        {
         "alignmentgroup": "True",
         "bingroup": "x",
         "hovertemplate": "Sexo=Mulher<br>DEATH_EVENT=%{x}<br>count=%{y}<extra></extra>",
         "legendgroup": "Mulher",
         "marker": {
          "color": "#A31621",
          "pattern": {
           "shape": ""
          }
         },
         "name": "Mulher",
         "offsetgroup": "Mulher",
         "orientation": "v",
         "showlegend": true,
         "type": "histogram",
         "x": [
          "Faleceu",
          "Faleceu",
          "Não faleceu",
          "Faleceu",
          "Faleceu",
          "Não faleceu",
          "Faleceu",
          "Faleceu",
          "Faleceu",
          "Faleceu",
          "Não faleceu",
          "Faleceu",
          "Faleceu",
          "Faleceu",
          "Faleceu",
          "Faleceu",
          "Faleceu",
          "Faleceu",
          "Faleceu",
          "Faleceu",
          "Faleceu",
          "Não faleceu",
          "Faleceu",
          "Faleceu",
          "Não faleceu",
          "Não faleceu",
          "Não faleceu",
          "Faleceu",
          "Faleceu",
          "Não faleceu",
          "Não faleceu",
          "Não faleceu",
          "Não faleceu",
          "Não faleceu",
          "Não faleceu",
          "Faleceu",
          "Faleceu",
          "Não faleceu",
          "Não faleceu",
          "Não faleceu",
          "Não faleceu",
          "Faleceu",
          "Não faleceu",
          "Não faleceu",
          "Não faleceu",
          "Não faleceu",
          "Faleceu",
          "Não faleceu",
          "Não faleceu",
          "Não faleceu",
          "Não faleceu",
          "Não faleceu",
          "Não faleceu",
          "Não faleceu",
          "Faleceu",
          "Não faleceu",
          "Não faleceu",
          "Faleceu",
          "Faleceu",
          "Não faleceu",
          "Não faleceu",
          "Não faleceu",
          "Faleceu",
          "Faleceu",
          "Não faleceu",
          "Não faleceu",
          "Não faleceu",
          "Não faleceu",
          "Não faleceu",
          "Não faleceu",
          "Não faleceu",
          "Não faleceu",
          "Não faleceu",
          "Não faleceu",
          "Faleceu",
          "Não faleceu",
          "Faleceu",
          "Não faleceu",
          "Não faleceu",
          "Não faleceu",
          "Não faleceu",
          "Faleceu",
          "Não faleceu",
          "Não faleceu",
          "Não faleceu",
          "Não faleceu",
          "Não faleceu",
          "Não faleceu",
          "Não faleceu",
          "Não faleceu",
          "Não faleceu",
          "Não faleceu",
          "Não faleceu",
          "Não faleceu",
          "Não faleceu",
          "Não faleceu",
          "Não faleceu",
          "Não faleceu",
          "Não faleceu",
          "Não faleceu",
          "Não faleceu",
          "Não faleceu",
          "Não faleceu",
          "Não faleceu",
          "Não faleceu"
         ],
         "xaxis": "x",
         "yaxis": "y"
        }
       ],
       "layout": {
        "bargap": 0.2,
        "barmode": "relative",
        "legend": {
         "title": {
          "text": "Sexo"
         },
         "tracegroupgap": 0
        },
        "margin": {
         "t": 60
        },
        "template": {
         "data": {
          "bar": [
           {
            "error_x": {
             "color": "#2a3f5f"
            },
            "error_y": {
             "color": "#2a3f5f"
            },
            "marker": {
             "line": {
              "color": "#E5ECF6",
              "width": 0.5
             },
             "pattern": {
              "fillmode": "overlay",
              "size": 10,
              "solidity": 0.2
             }
            },
            "type": "bar"
           }
          ],
          "barpolar": [
           {
            "marker": {
             "line": {
              "color": "#E5ECF6",
              "width": 0.5
             },
             "pattern": {
              "fillmode": "overlay",
              "size": 10,
              "solidity": 0.2
             }
            },
            "type": "barpolar"
           }
          ],
          "carpet": [
           {
            "aaxis": {
             "endlinecolor": "#2a3f5f",
             "gridcolor": "white",
             "linecolor": "white",
             "minorgridcolor": "white",
             "startlinecolor": "#2a3f5f"
            },
            "baxis": {
             "endlinecolor": "#2a3f5f",
             "gridcolor": "white",
             "linecolor": "white",
             "minorgridcolor": "white",
             "startlinecolor": "#2a3f5f"
            },
            "type": "carpet"
           }
          ],
          "choropleth": [
           {
            "colorbar": {
             "outlinewidth": 0,
             "ticks": ""
            },
            "type": "choropleth"
           }
          ],
          "contour": [
           {
            "colorbar": {
             "outlinewidth": 0,
             "ticks": ""
            },
            "colorscale": [
             [
              0,
              "#0d0887"
             ],
             [
              0.1111111111111111,
              "#46039f"
             ],
             [
              0.2222222222222222,
              "#7201a8"
             ],
             [
              0.3333333333333333,
              "#9c179e"
             ],
             [
              0.4444444444444444,
              "#bd3786"
             ],
             [
              0.5555555555555556,
              "#d8576b"
             ],
             [
              0.6666666666666666,
              "#ed7953"
             ],
             [
              0.7777777777777778,
              "#fb9f3a"
             ],
             [
              0.8888888888888888,
              "#fdca26"
             ],
             [
              1,
              "#f0f921"
             ]
            ],
            "type": "contour"
           }
          ],
          "contourcarpet": [
           {
            "colorbar": {
             "outlinewidth": 0,
             "ticks": ""
            },
            "type": "contourcarpet"
           }
          ],
          "heatmap": [
           {
            "colorbar": {
             "outlinewidth": 0,
             "ticks": ""
            },
            "colorscale": [
             [
              0,
              "#0d0887"
             ],
             [
              0.1111111111111111,
              "#46039f"
             ],
             [
              0.2222222222222222,
              "#7201a8"
             ],
             [
              0.3333333333333333,
              "#9c179e"
             ],
             [
              0.4444444444444444,
              "#bd3786"
             ],
             [
              0.5555555555555556,
              "#d8576b"
             ],
             [
              0.6666666666666666,
              "#ed7953"
             ],
             [
              0.7777777777777778,
              "#fb9f3a"
             ],
             [
              0.8888888888888888,
              "#fdca26"
             ],
             [
              1,
              "#f0f921"
             ]
            ],
            "type": "heatmap"
           }
          ],
          "heatmapgl": [
           {
            "colorbar": {
             "outlinewidth": 0,
             "ticks": ""
            },
            "colorscale": [
             [
              0,
              "#0d0887"
             ],
             [
              0.1111111111111111,
              "#46039f"
             ],
             [
              0.2222222222222222,
              "#7201a8"
             ],
             [
              0.3333333333333333,
              "#9c179e"
             ],
             [
              0.4444444444444444,
              "#bd3786"
             ],
             [
              0.5555555555555556,
              "#d8576b"
             ],
             [
              0.6666666666666666,
              "#ed7953"
             ],
             [
              0.7777777777777778,
              "#fb9f3a"
             ],
             [
              0.8888888888888888,
              "#fdca26"
             ],
             [
              1,
              "#f0f921"
             ]
            ],
            "type": "heatmapgl"
           }
          ],
          "histogram": [
           {
            "marker": {
             "pattern": {
              "fillmode": "overlay",
              "size": 10,
              "solidity": 0.2
             }
            },
            "type": "histogram"
           }
          ],
          "histogram2d": [
           {
            "colorbar": {
             "outlinewidth": 0,
             "ticks": ""
            },
            "colorscale": [
             [
              0,
              "#0d0887"
             ],
             [
              0.1111111111111111,
              "#46039f"
             ],
             [
              0.2222222222222222,
              "#7201a8"
             ],
             [
              0.3333333333333333,
              "#9c179e"
             ],
             [
              0.4444444444444444,
              "#bd3786"
             ],
             [
              0.5555555555555556,
              "#d8576b"
             ],
             [
              0.6666666666666666,
              "#ed7953"
             ],
             [
              0.7777777777777778,
              "#fb9f3a"
             ],
             [
              0.8888888888888888,
              "#fdca26"
             ],
             [
              1,
              "#f0f921"
             ]
            ],
            "type": "histogram2d"
           }
          ],
          "histogram2dcontour": [
           {
            "colorbar": {
             "outlinewidth": 0,
             "ticks": ""
            },
            "colorscale": [
             [
              0,
              "#0d0887"
             ],
             [
              0.1111111111111111,
              "#46039f"
             ],
             [
              0.2222222222222222,
              "#7201a8"
             ],
             [
              0.3333333333333333,
              "#9c179e"
             ],
             [
              0.4444444444444444,
              "#bd3786"
             ],
             [
              0.5555555555555556,
              "#d8576b"
             ],
             [
              0.6666666666666666,
              "#ed7953"
             ],
             [
              0.7777777777777778,
              "#fb9f3a"
             ],
             [
              0.8888888888888888,
              "#fdca26"
             ],
             [
              1,
              "#f0f921"
             ]
            ],
            "type": "histogram2dcontour"
           }
          ],
          "mesh3d": [
           {
            "colorbar": {
             "outlinewidth": 0,
             "ticks": ""
            },
            "type": "mesh3d"
           }
          ],
          "parcoords": [
           {
            "line": {
             "colorbar": {
              "outlinewidth": 0,
              "ticks": ""
             }
            },
            "type": "parcoords"
           }
          ],
          "pie": [
           {
            "automargin": true,
            "type": "pie"
           }
          ],
          "scatter": [
           {
            "marker": {
             "colorbar": {
              "outlinewidth": 0,
              "ticks": ""
             }
            },
            "type": "scatter"
           }
          ],
          "scatter3d": [
           {
            "line": {
             "colorbar": {
              "outlinewidth": 0,
              "ticks": ""
             }
            },
            "marker": {
             "colorbar": {
              "outlinewidth": 0,
              "ticks": ""
             }
            },
            "type": "scatter3d"
           }
          ],
          "scattercarpet": [
           {
            "marker": {
             "colorbar": {
              "outlinewidth": 0,
              "ticks": ""
             }
            },
            "type": "scattercarpet"
           }
          ],
          "scattergeo": [
           {
            "marker": {
             "colorbar": {
              "outlinewidth": 0,
              "ticks": ""
             }
            },
            "type": "scattergeo"
           }
          ],
          "scattergl": [
           {
            "marker": {
             "colorbar": {
              "outlinewidth": 0,
              "ticks": ""
             }
            },
            "type": "scattergl"
           }
          ],
          "scattermapbox": [
           {
            "marker": {
             "colorbar": {
              "outlinewidth": 0,
              "ticks": ""
             }
            },
            "type": "scattermapbox"
           }
          ],
          "scatterpolar": [
           {
            "marker": {
             "colorbar": {
              "outlinewidth": 0,
              "ticks": ""
             }
            },
            "type": "scatterpolar"
           }
          ],
          "scatterpolargl": [
           {
            "marker": {
             "colorbar": {
              "outlinewidth": 0,
              "ticks": ""
             }
            },
            "type": "scatterpolargl"
           }
          ],
          "scatterternary": [
           {
            "marker": {
             "colorbar": {
              "outlinewidth": 0,
              "ticks": ""
             }
            },
            "type": "scatterternary"
           }
          ],
          "surface": [
           {
            "colorbar": {
             "outlinewidth": 0,
             "ticks": ""
            },
            "colorscale": [
             [
              0,
              "#0d0887"
             ],
             [
              0.1111111111111111,
              "#46039f"
             ],
             [
              0.2222222222222222,
              "#7201a8"
             ],
             [
              0.3333333333333333,
              "#9c179e"
             ],
             [
              0.4444444444444444,
              "#bd3786"
             ],
             [
              0.5555555555555556,
              "#d8576b"
             ],
             [
              0.6666666666666666,
              "#ed7953"
             ],
             [
              0.7777777777777778,
              "#fb9f3a"
             ],
             [
              0.8888888888888888,
              "#fdca26"
             ],
             [
              1,
              "#f0f921"
             ]
            ],
            "type": "surface"
           }
          ],
          "table": [
           {
            "cells": {
             "fill": {
              "color": "#EBF0F8"
             },
             "line": {
              "color": "white"
             }
            },
            "header": {
             "fill": {
              "color": "#C8D4E3"
             },
             "line": {
              "color": "white"
             }
            },
            "type": "table"
           }
          ]
         },
         "layout": {
          "annotationdefaults": {
           "arrowcolor": "#2a3f5f",
           "arrowhead": 0,
           "arrowwidth": 1
          },
          "autotypenumbers": "strict",
          "coloraxis": {
           "colorbar": {
            "outlinewidth": 0,
            "ticks": ""
           }
          },
          "colorscale": {
           "diverging": [
            [
             0,
             "#8e0152"
            ],
            [
             0.1,
             "#c51b7d"
            ],
            [
             0.2,
             "#de77ae"
            ],
            [
             0.3,
             "#f1b6da"
            ],
            [
             0.4,
             "#fde0ef"
            ],
            [
             0.5,
             "#f7f7f7"
            ],
            [
             0.6,
             "#e6f5d0"
            ],
            [
             0.7,
             "#b8e186"
            ],
            [
             0.8,
             "#7fbc41"
            ],
            [
             0.9,
             "#4d9221"
            ],
            [
             1,
             "#276419"
            ]
           ],
           "sequential": [
            [
             0,
             "#0d0887"
            ],
            [
             0.1111111111111111,
             "#46039f"
            ],
            [
             0.2222222222222222,
             "#7201a8"
            ],
            [
             0.3333333333333333,
             "#9c179e"
            ],
            [
             0.4444444444444444,
             "#bd3786"
            ],
            [
             0.5555555555555556,
             "#d8576b"
            ],
            [
             0.6666666666666666,
             "#ed7953"
            ],
            [
             0.7777777777777778,
             "#fb9f3a"
            ],
            [
             0.8888888888888888,
             "#fdca26"
            ],
            [
             1,
             "#f0f921"
            ]
           ],
           "sequentialminus": [
            [
             0,
             "#0d0887"
            ],
            [
             0.1111111111111111,
             "#46039f"
            ],
            [
             0.2222222222222222,
             "#7201a8"
            ],
            [
             0.3333333333333333,
             "#9c179e"
            ],
            [
             0.4444444444444444,
             "#bd3786"
            ],
            [
             0.5555555555555556,
             "#d8576b"
            ],
            [
             0.6666666666666666,
             "#ed7953"
            ],
            [
             0.7777777777777778,
             "#fb9f3a"
            ],
            [
             0.8888888888888888,
             "#fdca26"
            ],
            [
             1,
             "#f0f921"
            ]
           ]
          },
          "colorway": [
           "#636efa",
           "#EF553B",
           "#00cc96",
           "#ab63fa",
           "#FFA15A",
           "#19d3f3",
           "#FF6692",
           "#B6E880",
           "#FF97FF",
           "#FECB52"
          ],
          "font": {
           "color": "#2a3f5f"
          },
          "geo": {
           "bgcolor": "white",
           "lakecolor": "white",
           "landcolor": "#E5ECF6",
           "showlakes": true,
           "showland": true,
           "subunitcolor": "white"
          },
          "hoverlabel": {
           "align": "left"
          },
          "hovermode": "closest",
          "mapbox": {
           "style": "light"
          },
          "paper_bgcolor": "white",
          "plot_bgcolor": "#E5ECF6",
          "polar": {
           "angularaxis": {
            "gridcolor": "white",
            "linecolor": "white",
            "ticks": ""
           },
           "bgcolor": "#E5ECF6",
           "radialaxis": {
            "gridcolor": "white",
            "linecolor": "white",
            "ticks": ""
           }
          },
          "scene": {
           "xaxis": {
            "backgroundcolor": "#E5ECF6",
            "gridcolor": "white",
            "gridwidth": 2,
            "linecolor": "white",
            "showbackground": true,
            "ticks": "",
            "zerolinecolor": "white"
           },
           "yaxis": {
            "backgroundcolor": "#E5ECF6",
            "gridcolor": "white",
            "gridwidth": 2,
            "linecolor": "white",
            "showbackground": true,
            "ticks": "",
            "zerolinecolor": "white"
           },
           "zaxis": {
            "backgroundcolor": "#E5ECF6",
            "gridcolor": "white",
            "gridwidth": 2,
            "linecolor": "white",
            "showbackground": true,
            "ticks": "",
            "zerolinecolor": "white"
           }
          },
          "shapedefaults": {
           "line": {
            "color": "#2a3f5f"
           }
          },
          "ternary": {
           "aaxis": {
            "gridcolor": "white",
            "linecolor": "white",
            "ticks": ""
           },
           "baxis": {
            "gridcolor": "white",
            "linecolor": "white",
            "ticks": ""
           },
           "bgcolor": "#E5ECF6",
           "caxis": {
            "gridcolor": "white",
            "linecolor": "white",
            "ticks": ""
           }
          },
          "title": {
           "x": 0.05
          },
          "xaxis": {
           "automargin": true,
           "gridcolor": "white",
           "linecolor": "white",
           "ticks": "",
           "title": {
            "standoff": 15
           },
           "zerolinecolor": "white",
           "zerolinewidth": 2
          },
          "yaxis": {
           "automargin": true,
           "gridcolor": "white",
           "linecolor": "white",
           "ticks": "",
           "title": {
            "standoff": 15
           },
           "zerolinecolor": "white",
           "zerolinewidth": 2
          }
         }
        },
        "width": 500,
        "xaxis": {
         "anchor": "y",
         "domain": [
          0,
          1
         ],
         "title": {
          "text": "Evento"
         }
        },
        "yaxis": {
         "anchor": "x",
         "domain": [
          0,
          1
         ],
         "title": {
          "text": ""
         }
        }
       }
      }
     },
     "metadata": {},
     "output_type": "display_data"
    }
   ],
   "source": [
    "fig = px.histogram(tmp, x='DEATH_EVENT', width=500, \n",
    "             color_discrete_sequence=['#19647E', '#A31621'], color='sex', labels={\"sex\": \"Sexo\"})\n",
    "fig.update_xaxes(title_text='Evento')\n",
    "fig.update_yaxes(title_text='')\n",
    "fig.update_layout(bargap=0.2)\n",
    "fig.show()"
   ]
  },
  {
   "cell_type": "markdown",
   "metadata": {},
   "source": [
    "Aqui podemos observar que, dos pacientes falecidos, os homens são os que mais acabaram morrendo durante o acompanhamento"
   ]
  },
  {
   "cell_type": "code",
   "execution_count": 88,
   "metadata": {},
   "outputs": [
    {
     "data": {
      "application/vnd.plotly.v1+json": {
       "config": {
        "plotlyServerURL": "https://plot.ly"
       },
       "data": [
        {
         "domain": {
          "x": [
           0,
           1
          ],
          "y": [
           0,
           1
          ]
         },
         "hovertemplate": "sex=%{label}<extra></extra>",
         "labels": [
          "Homem",
          "Homem",
          "Homem",
          "Homem",
          "Mulher",
          "Homem",
          "Homem",
          "Homem",
          "Mulher",
          "Homem",
          "Homem",
          "Homem",
          "Homem",
          "Homem",
          "Homem",
          "Homem",
          "Homem",
          "Mulher",
          "Mulher",
          "Mulher",
          "Homem",
          "Mulher",
          "Homem",
          "Mulher",
          "Homem",
          "Homem",
          "Homem",
          "Homem",
          "Homem",
          "Mulher",
          "Homem",
          "Homem",
          "Homem",
          "Mulher",
          "Mulher",
          "Homem",
          "Mulher",
          "Homem",
          "Mulher",
          "Homem",
          "Homem",
          "Homem",
          "Homem",
          "Mulher",
          "Homem",
          "Mulher",
          "Mulher",
          "Mulher",
          "Mulher",
          "Homem",
          "Homem",
          "Homem",
          "Homem",
          "Mulher",
          "Homem",
          "Homem",
          "Mulher",
          "Homem",
          "Mulher",
          "Homem",
          "Homem",
          "Homem",
          "Homem",
          "Mulher",
          "Mulher",
          "Homem",
          "Mulher",
          "Homem",
          "Mulher",
          "Mulher",
          "Homem",
          "Mulher",
          "Homem",
          "Homem",
          "Homem",
          "Mulher",
          "Mulher",
          "Homem",
          "Mulher",
          "Homem",
          "Homem",
          "Homem",
          "Homem",
          "Homem",
          "Homem",
          "Mulher",
          "Mulher",
          "Homem",
          "Homem",
          "Mulher",
          "Mulher",
          "Homem",
          "Mulher",
          "Homem",
          "Homem",
          "Homem"
         ],
         "legendgroup": "",
         "name": "",
         "showlegend": true,
         "type": "pie"
        }
       ],
       "layout": {
        "legend": {
         "tracegroupgap": 0
        },
        "margin": {
         "t": 60
        },
        "piecolorway": [
         "#19647E",
         "#A31621"
        ],
        "template": {
         "data": {
          "bar": [
           {
            "error_x": {
             "color": "#2a3f5f"
            },
            "error_y": {
             "color": "#2a3f5f"
            },
            "marker": {
             "line": {
              "color": "#E5ECF6",
              "width": 0.5
             },
             "pattern": {
              "fillmode": "overlay",
              "size": 10,
              "solidity": 0.2
             }
            },
            "type": "bar"
           }
          ],
          "barpolar": [
           {
            "marker": {
             "line": {
              "color": "#E5ECF6",
              "width": 0.5
             },
             "pattern": {
              "fillmode": "overlay",
              "size": 10,
              "solidity": 0.2
             }
            },
            "type": "barpolar"
           }
          ],
          "carpet": [
           {
            "aaxis": {
             "endlinecolor": "#2a3f5f",
             "gridcolor": "white",
             "linecolor": "white",
             "minorgridcolor": "white",
             "startlinecolor": "#2a3f5f"
            },
            "baxis": {
             "endlinecolor": "#2a3f5f",
             "gridcolor": "white",
             "linecolor": "white",
             "minorgridcolor": "white",
             "startlinecolor": "#2a3f5f"
            },
            "type": "carpet"
           }
          ],
          "choropleth": [
           {
            "colorbar": {
             "outlinewidth": 0,
             "ticks": ""
            },
            "type": "choropleth"
           }
          ],
          "contour": [
           {
            "colorbar": {
             "outlinewidth": 0,
             "ticks": ""
            },
            "colorscale": [
             [
              0,
              "#0d0887"
             ],
             [
              0.1111111111111111,
              "#46039f"
             ],
             [
              0.2222222222222222,
              "#7201a8"
             ],
             [
              0.3333333333333333,
              "#9c179e"
             ],
             [
              0.4444444444444444,
              "#bd3786"
             ],
             [
              0.5555555555555556,
              "#d8576b"
             ],
             [
              0.6666666666666666,
              "#ed7953"
             ],
             [
              0.7777777777777778,
              "#fb9f3a"
             ],
             [
              0.8888888888888888,
              "#fdca26"
             ],
             [
              1,
              "#f0f921"
             ]
            ],
            "type": "contour"
           }
          ],
          "contourcarpet": [
           {
            "colorbar": {
             "outlinewidth": 0,
             "ticks": ""
            },
            "type": "contourcarpet"
           }
          ],
          "heatmap": [
           {
            "colorbar": {
             "outlinewidth": 0,
             "ticks": ""
            },
            "colorscale": [
             [
              0,
              "#0d0887"
             ],
             [
              0.1111111111111111,
              "#46039f"
             ],
             [
              0.2222222222222222,
              "#7201a8"
             ],
             [
              0.3333333333333333,
              "#9c179e"
             ],
             [
              0.4444444444444444,
              "#bd3786"
             ],
             [
              0.5555555555555556,
              "#d8576b"
             ],
             [
              0.6666666666666666,
              "#ed7953"
             ],
             [
              0.7777777777777778,
              "#fb9f3a"
             ],
             [
              0.8888888888888888,
              "#fdca26"
             ],
             [
              1,
              "#f0f921"
             ]
            ],
            "type": "heatmap"
           }
          ],
          "heatmapgl": [
           {
            "colorbar": {
             "outlinewidth": 0,
             "ticks": ""
            },
            "colorscale": [
             [
              0,
              "#0d0887"
             ],
             [
              0.1111111111111111,
              "#46039f"
             ],
             [
              0.2222222222222222,
              "#7201a8"
             ],
             [
              0.3333333333333333,
              "#9c179e"
             ],
             [
              0.4444444444444444,
              "#bd3786"
             ],
             [
              0.5555555555555556,
              "#d8576b"
             ],
             [
              0.6666666666666666,
              "#ed7953"
             ],
             [
              0.7777777777777778,
              "#fb9f3a"
             ],
             [
              0.8888888888888888,
              "#fdca26"
             ],
             [
              1,
              "#f0f921"
             ]
            ],
            "type": "heatmapgl"
           }
          ],
          "histogram": [
           {
            "marker": {
             "pattern": {
              "fillmode": "overlay",
              "size": 10,
              "solidity": 0.2
             }
            },
            "type": "histogram"
           }
          ],
          "histogram2d": [
           {
            "colorbar": {
             "outlinewidth": 0,
             "ticks": ""
            },
            "colorscale": [
             [
              0,
              "#0d0887"
             ],
             [
              0.1111111111111111,
              "#46039f"
             ],
             [
              0.2222222222222222,
              "#7201a8"
             ],
             [
              0.3333333333333333,
              "#9c179e"
             ],
             [
              0.4444444444444444,
              "#bd3786"
             ],
             [
              0.5555555555555556,
              "#d8576b"
             ],
             [
              0.6666666666666666,
              "#ed7953"
             ],
             [
              0.7777777777777778,
              "#fb9f3a"
             ],
             [
              0.8888888888888888,
              "#fdca26"
             ],
             [
              1,
              "#f0f921"
             ]
            ],
            "type": "histogram2d"
           }
          ],
          "histogram2dcontour": [
           {
            "colorbar": {
             "outlinewidth": 0,
             "ticks": ""
            },
            "colorscale": [
             [
              0,
              "#0d0887"
             ],
             [
              0.1111111111111111,
              "#46039f"
             ],
             [
              0.2222222222222222,
              "#7201a8"
             ],
             [
              0.3333333333333333,
              "#9c179e"
             ],
             [
              0.4444444444444444,
              "#bd3786"
             ],
             [
              0.5555555555555556,
              "#d8576b"
             ],
             [
              0.6666666666666666,
              "#ed7953"
             ],
             [
              0.7777777777777778,
              "#fb9f3a"
             ],
             [
              0.8888888888888888,
              "#fdca26"
             ],
             [
              1,
              "#f0f921"
             ]
            ],
            "type": "histogram2dcontour"
           }
          ],
          "mesh3d": [
           {
            "colorbar": {
             "outlinewidth": 0,
             "ticks": ""
            },
            "type": "mesh3d"
           }
          ],
          "parcoords": [
           {
            "line": {
             "colorbar": {
              "outlinewidth": 0,
              "ticks": ""
             }
            },
            "type": "parcoords"
           }
          ],
          "pie": [
           {
            "automargin": true,
            "type": "pie"
           }
          ],
          "scatter": [
           {
            "marker": {
             "colorbar": {
              "outlinewidth": 0,
              "ticks": ""
             }
            },
            "type": "scatter"
           }
          ],
          "scatter3d": [
           {
            "line": {
             "colorbar": {
              "outlinewidth": 0,
              "ticks": ""
             }
            },
            "marker": {
             "colorbar": {
              "outlinewidth": 0,
              "ticks": ""
             }
            },
            "type": "scatter3d"
           }
          ],
          "scattercarpet": [
           {
            "marker": {
             "colorbar": {
              "outlinewidth": 0,
              "ticks": ""
             }
            },
            "type": "scattercarpet"
           }
          ],
          "scattergeo": [
           {
            "marker": {
             "colorbar": {
              "outlinewidth": 0,
              "ticks": ""
             }
            },
            "type": "scattergeo"
           }
          ],
          "scattergl": [
           {
            "marker": {
             "colorbar": {
              "outlinewidth": 0,
              "ticks": ""
             }
            },
            "type": "scattergl"
           }
          ],
          "scattermapbox": [
           {
            "marker": {
             "colorbar": {
              "outlinewidth": 0,
              "ticks": ""
             }
            },
            "type": "scattermapbox"
           }
          ],
          "scatterpolar": [
           {
            "marker": {
             "colorbar": {
              "outlinewidth": 0,
              "ticks": ""
             }
            },
            "type": "scatterpolar"
           }
          ],
          "scatterpolargl": [
           {
            "marker": {
             "colorbar": {
              "outlinewidth": 0,
              "ticks": ""
             }
            },
            "type": "scatterpolargl"
           }
          ],
          "scatterternary": [
           {
            "marker": {
             "colorbar": {
              "outlinewidth": 0,
              "ticks": ""
             }
            },
            "type": "scatterternary"
           }
          ],
          "surface": [
           {
            "colorbar": {
             "outlinewidth": 0,
             "ticks": ""
            },
            "colorscale": [
             [
              0,
              "#0d0887"
             ],
             [
              0.1111111111111111,
              "#46039f"
             ],
             [
              0.2222222222222222,
              "#7201a8"
             ],
             [
              0.3333333333333333,
              "#9c179e"
             ],
             [
              0.4444444444444444,
              "#bd3786"
             ],
             [
              0.5555555555555556,
              "#d8576b"
             ],
             [
              0.6666666666666666,
              "#ed7953"
             ],
             [
              0.7777777777777778,
              "#fb9f3a"
             ],
             [
              0.8888888888888888,
              "#fdca26"
             ],
             [
              1,
              "#f0f921"
             ]
            ],
            "type": "surface"
           }
          ],
          "table": [
           {
            "cells": {
             "fill": {
              "color": "#EBF0F8"
             },
             "line": {
              "color": "white"
             }
            },
            "header": {
             "fill": {
              "color": "#C8D4E3"
             },
             "line": {
              "color": "white"
             }
            },
            "type": "table"
           }
          ]
         },
         "layout": {
          "annotationdefaults": {
           "arrowcolor": "#2a3f5f",
           "arrowhead": 0,
           "arrowwidth": 1
          },
          "autotypenumbers": "strict",
          "coloraxis": {
           "colorbar": {
            "outlinewidth": 0,
            "ticks": ""
           }
          },
          "colorscale": {
           "diverging": [
            [
             0,
             "#8e0152"
            ],
            [
             0.1,
             "#c51b7d"
            ],
            [
             0.2,
             "#de77ae"
            ],
            [
             0.3,
             "#f1b6da"
            ],
            [
             0.4,
             "#fde0ef"
            ],
            [
             0.5,
             "#f7f7f7"
            ],
            [
             0.6,
             "#e6f5d0"
            ],
            [
             0.7,
             "#b8e186"
            ],
            [
             0.8,
             "#7fbc41"
            ],
            [
             0.9,
             "#4d9221"
            ],
            [
             1,
             "#276419"
            ]
           ],
           "sequential": [
            [
             0,
             "#0d0887"
            ],
            [
             0.1111111111111111,
             "#46039f"
            ],
            [
             0.2222222222222222,
             "#7201a8"
            ],
            [
             0.3333333333333333,
             "#9c179e"
            ],
            [
             0.4444444444444444,
             "#bd3786"
            ],
            [
             0.5555555555555556,
             "#d8576b"
            ],
            [
             0.6666666666666666,
             "#ed7953"
            ],
            [
             0.7777777777777778,
             "#fb9f3a"
            ],
            [
             0.8888888888888888,
             "#fdca26"
            ],
            [
             1,
             "#f0f921"
            ]
           ],
           "sequentialminus": [
            [
             0,
             "#0d0887"
            ],
            [
             0.1111111111111111,
             "#46039f"
            ],
            [
             0.2222222222222222,
             "#7201a8"
            ],
            [
             0.3333333333333333,
             "#9c179e"
            ],
            [
             0.4444444444444444,
             "#bd3786"
            ],
            [
             0.5555555555555556,
             "#d8576b"
            ],
            [
             0.6666666666666666,
             "#ed7953"
            ],
            [
             0.7777777777777778,
             "#fb9f3a"
            ],
            [
             0.8888888888888888,
             "#fdca26"
            ],
            [
             1,
             "#f0f921"
            ]
           ]
          },
          "colorway": [
           "#636efa",
           "#EF553B",
           "#00cc96",
           "#ab63fa",
           "#FFA15A",
           "#19d3f3",
           "#FF6692",
           "#B6E880",
           "#FF97FF",
           "#FECB52"
          ],
          "font": {
           "color": "#2a3f5f"
          },
          "geo": {
           "bgcolor": "white",
           "lakecolor": "white",
           "landcolor": "#E5ECF6",
           "showlakes": true,
           "showland": true,
           "subunitcolor": "white"
          },
          "hoverlabel": {
           "align": "left"
          },
          "hovermode": "closest",
          "mapbox": {
           "style": "light"
          },
          "paper_bgcolor": "white",
          "plot_bgcolor": "#E5ECF6",
          "polar": {
           "angularaxis": {
            "gridcolor": "white",
            "linecolor": "white",
            "ticks": ""
           },
           "bgcolor": "#E5ECF6",
           "radialaxis": {
            "gridcolor": "white",
            "linecolor": "white",
            "ticks": ""
           }
          },
          "scene": {
           "xaxis": {
            "backgroundcolor": "#E5ECF6",
            "gridcolor": "white",
            "gridwidth": 2,
            "linecolor": "white",
            "showbackground": true,
            "ticks": "",
            "zerolinecolor": "white"
           },
           "yaxis": {
            "backgroundcolor": "#E5ECF6",
            "gridcolor": "white",
            "gridwidth": 2,
            "linecolor": "white",
            "showbackground": true,
            "ticks": "",
            "zerolinecolor": "white"
           },
           "zaxis": {
            "backgroundcolor": "#E5ECF6",
            "gridcolor": "white",
            "gridwidth": 2,
            "linecolor": "white",
            "showbackground": true,
            "ticks": "",
            "zerolinecolor": "white"
           }
          },
          "shapedefaults": {
           "line": {
            "color": "#2a3f5f"
           }
          },
          "ternary": {
           "aaxis": {
            "gridcolor": "white",
            "linecolor": "white",
            "ticks": ""
           },
           "baxis": {
            "gridcolor": "white",
            "linecolor": "white",
            "ticks": ""
           },
           "bgcolor": "#E5ECF6",
           "caxis": {
            "gridcolor": "white",
            "linecolor": "white",
            "ticks": ""
           }
          },
          "title": {
           "x": 0.05
          },
          "xaxis": {
           "automargin": true,
           "gridcolor": "white",
           "linecolor": "white",
           "ticks": "",
           "title": {
            "standoff": 15
           },
           "zerolinecolor": "white",
           "zerolinewidth": 2
          },
          "yaxis": {
           "automargin": true,
           "gridcolor": "white",
           "linecolor": "white",
           "ticks": "",
           "title": {
            "standoff": 15
           },
           "zerolinecolor": "white",
           "zerolinewidth": 2
          }
         }
        },
        "width": 500
       }
      }
     },
     "metadata": {},
     "output_type": "display_data"
    }
   ],
   "source": [
    "graph_df = tmp.loc[tmp['DEATH_EVENT'] == 'Faleceu']\n",
    "fig = px.pie(graph_df, names='sex', width=500, \n",
    "             color_discrete_sequence=['#19647E', '#A31621'])\n",
    "fig.show()"
   ]
  },
  {
   "cell_type": "markdown",
   "metadata": {},
   "source": [
    "## Procurando features"
   ]
  },
  {
   "cell_type": "code",
   "execution_count": 89,
   "metadata": {},
   "outputs": [
    {
     "data": {
      "text/html": [
       "<style type=\"text/css\">\n",
       "#T_16c80_row0_col0, #T_16c80_row1_col1, #T_16c80_row2_col2, #T_16c80_row3_col3, #T_16c80_row4_col4, #T_16c80_row5_col5, #T_16c80_row6_col6, #T_16c80_row7_col7, #T_16c80_row8_col8, #T_16c80_row9_col9, #T_16c80_row10_col10, #T_16c80_row11_col11, #T_16c80_row12_col12 {\n",
       "  background-color: #b40426;\n",
       "  color: #f1f1f1;\n",
       "}\n",
       "#T_16c80_row0_col1, #T_16c80_row4_col0, #T_16c80_row5_col4, #T_16c80_row12_col5 {\n",
       "  background-color: #86a9fc;\n",
       "  color: #f1f1f1;\n",
       "}\n",
       "#T_16c80_row0_col2 {\n",
       "  background-color: #5673e0;\n",
       "  color: #f1f1f1;\n",
       "}\n",
       "#T_16c80_row0_col3 {\n",
       "  background-color: #4961d2;\n",
       "  color: #f1f1f1;\n",
       "}\n",
       "#T_16c80_row0_col4, #T_16c80_row5_col0 {\n",
       "  background-color: #90b2fe;\n",
       "  color: #000000;\n",
       "}\n",
       "#T_16c80_row0_col5 {\n",
       "  background-color: #89acfd;\n",
       "  color: #000000;\n",
       "}\n",
       "#T_16c80_row0_col6 {\n",
       "  background-color: #4e68d8;\n",
       "  color: #f1f1f1;\n",
       "}\n",
       "#T_16c80_row0_col7 {\n",
       "  background-color: #9bbcff;\n",
       "  color: #000000;\n",
       "}\n",
       "#T_16c80_row0_col8, #T_16c80_row4_col2, #T_16c80_row6_col1, #T_16c80_row6_col7, #T_16c80_row11_col9 {\n",
       "  background-color: #6180e9;\n",
       "  color: #f1f1f1;\n",
       "}\n",
       "#T_16c80_row0_col9, #T_16c80_row3_col6, #T_16c80_row5_col1, #T_16c80_row5_col8, #T_16c80_row8_col5 {\n",
       "  background-color: #799cf8;\n",
       "  color: #f1f1f1;\n",
       "}\n",
       "#T_16c80_row0_col10, #T_16c80_row2_col7, #T_16c80_row7_col2, #T_16c80_row8_col0 {\n",
       "  background-color: #688aef;\n",
       "  color: #f1f1f1;\n",
       "}\n",
       "#T_16c80_row0_col11, #T_16c80_row1_col5, #T_16c80_row1_col8, #T_16c80_row8_col1, #T_16c80_row10_col0 {\n",
       "  background-color: #7a9df8;\n",
       "  color: #f1f1f1;\n",
       "}\n",
       "#T_16c80_row0_col12 {\n",
       "  background-color: #dfdbd9;\n",
       "  color: #000000;\n",
       "}\n",
       "#T_16c80_row1_col0 {\n",
       "  background-color: #8fb1fe;\n",
       "  color: #000000;\n",
       "}\n",
       "#T_16c80_row1_col2, #T_16c80_row2_col1, #T_16c80_row3_col9, #T_16c80_row3_col10, #T_16c80_row8_col7, #T_16c80_row9_col3, #T_16c80_row9_col6, #T_16c80_row11_col0, #T_16c80_row11_col5, #T_16c80_row11_col12, #T_16c80_row12_col4, #T_16c80_row12_col8, #T_16c80_row12_col11 {\n",
       "  background-color: #3b4cc0;\n",
       "  color: #f1f1f1;\n",
       "}\n",
       "#T_16c80_row1_col3, #T_16c80_row2_col3, #T_16c80_row5_col3 {\n",
       "  background-color: #6282ea;\n",
       "  color: #f1f1f1;\n",
       "}\n",
       "#T_16c80_row1_col4, #T_16c80_row9_col0, #T_16c80_row11_col8 {\n",
       "  background-color: #88abfd;\n",
       "  color: #000000;\n",
       "}\n",
       "#T_16c80_row1_col6 {\n",
       "  background-color: #506bda;\n",
       "  color: #f1f1f1;\n",
       "}\n",
       "#T_16c80_row1_col7, #T_16c80_row7_col4 {\n",
       "  background-color: #7b9ff9;\n",
       "  color: #f1f1f1;\n",
       "}\n",
       "#T_16c80_row1_col9 {\n",
       "  background-color: #4a63d3;\n",
       "  color: #f1f1f1;\n",
       "}\n",
       "#T_16c80_row1_col10, #T_16c80_row11_col7 {\n",
       "  background-color: #445acc;\n",
       "  color: #f1f1f1;\n",
       "}\n",
       "#T_16c80_row1_col11 {\n",
       "  background-color: #8db0fe;\n",
       "  color: #000000;\n",
       "}\n",
       "#T_16c80_row1_col12, #T_16c80_row12_col0 {\n",
       "  background-color: #bcd2f7;\n",
       "  color: #000000;\n",
       "}\n",
       "#T_16c80_row2_col0 {\n",
       "  background-color: #5e7de7;\n",
       "  color: #f1f1f1;\n",
       "}\n",
       "#T_16c80_row2_col4 {\n",
       "  background-color: #7396f5;\n",
       "  color: #f1f1f1;\n",
       "}\n",
       "#T_16c80_row2_col5, #T_16c80_row7_col10 {\n",
       "  background-color: #5a78e4;\n",
       "  color: #f1f1f1;\n",
       "}\n",
       "#T_16c80_row2_col6, #T_16c80_row10_col6, #T_16c80_row10_col7, #T_16c80_row12_col3 {\n",
       "  background-color: #6485ec;\n",
       "  color: #f1f1f1;\n",
       "}\n",
       "#T_16c80_row2_col8, #T_16c80_row12_col2 {\n",
       "  background-color: #80a3fa;\n",
       "  color: #f1f1f1;\n",
       "}\n",
       "#T_16c80_row2_col9, #T_16c80_row6_col5, #T_16c80_row7_col1 {\n",
       "  background-color: #7da0f9;\n",
       "  color: #f1f1f1;\n",
       "}\n",
       "#T_16c80_row2_col10, #T_16c80_row4_col3, #T_16c80_row8_col10, #T_16c80_row12_col9 {\n",
       "  background-color: #6384eb;\n",
       "  color: #f1f1f1;\n",
       "}\n",
       "#T_16c80_row2_col11, #T_16c80_row10_col12 {\n",
       "  background-color: #abc8fd;\n",
       "  color: #000000;\n",
       "}\n",
       "#T_16c80_row2_col12 {\n",
       "  background-color: #bbd1f8;\n",
       "  color: #000000;\n",
       "}\n",
       "#T_16c80_row3_col0, #T_16c80_row5_col2 {\n",
       "  background-color: #5977e3;\n",
       "  color: #f1f1f1;\n",
       "}\n",
       "#T_16c80_row3_col1, #T_16c80_row3_col2, #T_16c80_row4_col7, #T_16c80_row11_col2 {\n",
       "  background-color: #6a8bef;\n",
       "  color: #f1f1f1;\n",
       "}\n",
       "#T_16c80_row3_col4, #T_16c80_row8_col2 {\n",
       "  background-color: #7ea1fa;\n",
       "  color: #f1f1f1;\n",
       "}\n",
       "#T_16c80_row3_col5, #T_16c80_row5_col6, #T_16c80_row5_col7, #T_16c80_row6_col10 {\n",
       "  background-color: #6b8df0;\n",
       "  color: #f1f1f1;\n",
       "}\n",
       "#T_16c80_row3_col7, #T_16c80_row10_col5, #T_16c80_row11_col6, #T_16c80_row12_col10 {\n",
       "  background-color: #5f7fe8;\n",
       "  color: #f1f1f1;\n",
       "}\n",
       "#T_16c80_row3_col8 {\n",
       "  background-color: #5572df;\n",
       "  color: #f1f1f1;\n",
       "}\n",
       "#T_16c80_row3_col11 {\n",
       "  background-color: #b6cefa;\n",
       "  color: #000000;\n",
       "}\n",
       "#T_16c80_row3_col12 {\n",
       "  background-color: #aec9fc;\n",
       "  color: #000000;\n",
       "}\n",
       "#T_16c80_row4_col1, #T_16c80_row4_col5 {\n",
       "  background-color: #7699f6;\n",
       "  color: #f1f1f1;\n",
       "}\n",
       "#T_16c80_row4_col6 {\n",
       "  background-color: #7295f4;\n",
       "  color: #f1f1f1;\n",
       "}\n",
       "#T_16c80_row4_col8 {\n",
       "  background-color: #a2c1ff;\n",
       "  color: #000000;\n",
       "}\n",
       "#T_16c80_row4_col9, #T_16c80_row10_col3 {\n",
       "  background-color: #3d50c3;\n",
       "  color: #f1f1f1;\n",
       "}\n",
       "#T_16c80_row4_col10, #T_16c80_row10_col1, #T_16c80_row12_col6 {\n",
       "  background-color: #4f69d9;\n",
       "  color: #f1f1f1;\n",
       "}\n",
       "#T_16c80_row4_col11 {\n",
       "  background-color: #b7cff9;\n",
       "  color: #000000;\n",
       "}\n",
       "#T_16c80_row4_col12 {\n",
       "  background-color: #7093f3;\n",
       "  color: #f1f1f1;\n",
       "}\n",
       "#T_16c80_row5_col9 {\n",
       "  background-color: #485fd1;\n",
       "  color: #f1f1f1;\n",
       "}\n",
       "#T_16c80_row5_col10, #T_16c80_row9_col1 {\n",
       "  background-color: #536edd;\n",
       "  color: #f1f1f1;\n",
       "}\n",
       "#T_16c80_row5_col11, #T_16c80_row6_col3, #T_16c80_row6_col8, #T_16c80_row8_col12, #T_16c80_row12_col1 {\n",
       "  background-color: #81a4fb;\n",
       "  color: #f1f1f1;\n",
       "}\n",
       "#T_16c80_row5_col12 {\n",
       "  background-color: #bfd3f6;\n",
       "  color: #000000;\n",
       "}\n",
       "#T_16c80_row6_col0, #T_16c80_row9_col8 {\n",
       "  background-color: #6687ed;\n",
       "  color: #f1f1f1;\n",
       "}\n",
       "#T_16c80_row6_col2 {\n",
       "  background-color: #7597f6;\n",
       "  color: #f1f1f1;\n",
       "}\n",
       "#T_16c80_row6_col4 {\n",
       "  background-color: #93b5fe;\n",
       "  color: #000000;\n",
       "}\n",
       "#T_16c80_row6_col9 {\n",
       "  background-color: #4358cb;\n",
       "  color: #f1f1f1;\n",
       "}\n",
       "#T_16c80_row6_col11 {\n",
       "  background-color: #b1cbfc;\n",
       "  color: #000000;\n",
       "}\n",
       "#T_16c80_row6_col12, #T_16c80_row7_col0 {\n",
       "  background-color: #a3c2fe;\n",
       "  color: #000000;\n",
       "}\n",
       "#T_16c80_row7_col3, #T_16c80_row9_col4 {\n",
       "  background-color: #5875e1;\n",
       "  color: #f1f1f1;\n",
       "}\n",
       "#T_16c80_row7_col5, #T_16c80_row10_col4 {\n",
       "  background-color: #6c8ff1;\n",
       "  color: #f1f1f1;\n",
       "}\n",
       "#T_16c80_row7_col6, #T_16c80_row9_col5 {\n",
       "  background-color: #516ddb;\n",
       "  color: #f1f1f1;\n",
       "}\n",
       "#T_16c80_row7_col8 {\n",
       "  background-color: #3c4ec2;\n",
       "  color: #f1f1f1;\n",
       "}\n",
       "#T_16c80_row7_col9 {\n",
       "  background-color: #6788ee;\n",
       "  color: #f1f1f1;\n",
       "}\n",
       "#T_16c80_row7_col11 {\n",
       "  background-color: #8caffe;\n",
       "  color: #000000;\n",
       "}\n",
       "#T_16c80_row7_col12 {\n",
       "  background-color: #e6d7cf;\n",
       "  color: #000000;\n",
       "}\n",
       "#T_16c80_row8_col3 {\n",
       "  background-color: #4c66d6;\n",
       "  color: #f1f1f1;\n",
       "}\n",
       "#T_16c80_row8_col4 {\n",
       "  background-color: #afcafc;\n",
       "  color: #000000;\n",
       "}\n",
       "#T_16c80_row8_col6, #T_16c80_row9_col7, #T_16c80_row10_col8, #T_16c80_row11_col3 {\n",
       "  background-color: #6f92f3;\n",
       "  color: #f1f1f1;\n",
       "}\n",
       "#T_16c80_row8_col9 {\n",
       "  background-color: #5d7ce6;\n",
       "  color: #f1f1f1;\n",
       "}\n",
       "#T_16c80_row8_col11 {\n",
       "  background-color: #c1d4f4;\n",
       "  color: #000000;\n",
       "}\n",
       "#T_16c80_row9_col2 {\n",
       "  background-color: #85a8fc;\n",
       "  color: #f1f1f1;\n",
       "}\n",
       "#T_16c80_row9_col10 {\n",
       "  background-color: #e1dad6;\n",
       "  color: #000000;\n",
       "}\n",
       "#T_16c80_row9_col11 {\n",
       "  background-color: #aac7fd;\n",
       "  color: #000000;\n",
       "}\n",
       "#T_16c80_row9_col12 {\n",
       "  background-color: #adc9fd;\n",
       "  color: #000000;\n",
       "}\n",
       "#T_16c80_row10_col2 {\n",
       "  background-color: #6e90f2;\n",
       "  color: #f1f1f1;\n",
       "}\n",
       "#T_16c80_row10_col9 {\n",
       "  background-color: #e2dad5;\n",
       "  color: #000000;\n",
       "}\n",
       "#T_16c80_row10_col11 {\n",
       "  background-color: #a9c6fd;\n",
       "  color: #000000;\n",
       "}\n",
       "#T_16c80_row11_col1 {\n",
       "  background-color: #465ecf;\n",
       "  color: #f1f1f1;\n",
       "}\n",
       "#T_16c80_row11_col4 {\n",
       "  background-color: #8badfd;\n",
       "  color: #000000;\n",
       "}\n",
       "#T_16c80_row11_col10 {\n",
       "  background-color: #5b7ae5;\n",
       "  color: #f1f1f1;\n",
       "}\n",
       "#T_16c80_row12_col7 {\n",
       "  background-color: #c3d5f4;\n",
       "  color: #000000;\n",
       "}\n",
       "</style>\n",
       "<table id=\"T_16c80\">\n",
       "  <thead>\n",
       "    <tr>\n",
       "      <th class=\"blank level0\" >&nbsp;</th>\n",
       "      <th id=\"T_16c80_level0_col0\" class=\"col_heading level0 col0\" >age</th>\n",
       "      <th id=\"T_16c80_level0_col1\" class=\"col_heading level0 col1\" >anaemia</th>\n",
       "      <th id=\"T_16c80_level0_col2\" class=\"col_heading level0 col2\" >creatinine_phosphokinase</th>\n",
       "      <th id=\"T_16c80_level0_col3\" class=\"col_heading level0 col3\" >diabetes</th>\n",
       "      <th id=\"T_16c80_level0_col4\" class=\"col_heading level0 col4\" >ejection_fraction</th>\n",
       "      <th id=\"T_16c80_level0_col5\" class=\"col_heading level0 col5\" >high_blood_pressure</th>\n",
       "      <th id=\"T_16c80_level0_col6\" class=\"col_heading level0 col6\" >platelets</th>\n",
       "      <th id=\"T_16c80_level0_col7\" class=\"col_heading level0 col7\" >serum_creatinine</th>\n",
       "      <th id=\"T_16c80_level0_col8\" class=\"col_heading level0 col8\" >serum_sodium</th>\n",
       "      <th id=\"T_16c80_level0_col9\" class=\"col_heading level0 col9\" >sex</th>\n",
       "      <th id=\"T_16c80_level0_col10\" class=\"col_heading level0 col10\" >smoking</th>\n",
       "      <th id=\"T_16c80_level0_col11\" class=\"col_heading level0 col11\" >time</th>\n",
       "      <th id=\"T_16c80_level0_col12\" class=\"col_heading level0 col12\" >DEATH_EVENT</th>\n",
       "    </tr>\n",
       "  </thead>\n",
       "  <tbody>\n",
       "    <tr>\n",
       "      <th id=\"T_16c80_level0_row0\" class=\"row_heading level0 row0\" >age</th>\n",
       "      <td id=\"T_16c80_row0_col0\" class=\"data row0 col0\" >1.000000</td>\n",
       "      <td id=\"T_16c80_row0_col1\" class=\"data row0 col1\" >0.088006</td>\n",
       "      <td id=\"T_16c80_row0_col2\" class=\"data row0 col2\" >-0.081584</td>\n",
       "      <td id=\"T_16c80_row0_col3\" class=\"data row0 col3\" >-0.101012</td>\n",
       "      <td id=\"T_16c80_row0_col4\" class=\"data row0 col4\" >0.060098</td>\n",
       "      <td id=\"T_16c80_row0_col5\" class=\"data row0 col5\" >0.093289</td>\n",
       "      <td id=\"T_16c80_row0_col6\" class=\"data row0 col6\" >-0.052354</td>\n",
       "      <td id=\"T_16c80_row0_col7\" class=\"data row0 col7\" >0.159187</td>\n",
       "      <td id=\"T_16c80_row0_col8\" class=\"data row0 col8\" >-0.045966</td>\n",
       "      <td id=\"T_16c80_row0_col9\" class=\"data row0 col9\" >0.065430</td>\n",
       "      <td id=\"T_16c80_row0_col10\" class=\"data row0 col10\" >0.018668</td>\n",
       "      <td id=\"T_16c80_row0_col11\" class=\"data row0 col11\" >-0.224068</td>\n",
       "      <td id=\"T_16c80_row0_col12\" class=\"data row0 col12\" >0.253729</td>\n",
       "    </tr>\n",
       "    <tr>\n",
       "      <th id=\"T_16c80_level0_row1\" class=\"row_heading level0 row1\" >anaemia</th>\n",
       "      <td id=\"T_16c80_row1_col0\" class=\"data row1 col0\" >0.088006</td>\n",
       "      <td id=\"T_16c80_row1_col1\" class=\"data row1 col1\" >1.000000</td>\n",
       "      <td id=\"T_16c80_row1_col2\" class=\"data row1 col2\" >-0.190741</td>\n",
       "      <td id=\"T_16c80_row1_col3\" class=\"data row1 col3\" >-0.012729</td>\n",
       "      <td id=\"T_16c80_row1_col4\" class=\"data row1 col4\" >0.031557</td>\n",
       "      <td id=\"T_16c80_row1_col5\" class=\"data row1 col5\" >0.038182</td>\n",
       "      <td id=\"T_16c80_row1_col6\" class=\"data row1 col6\" >-0.043786</td>\n",
       "      <td id=\"T_16c80_row1_col7\" class=\"data row1 col7\" >0.052174</td>\n",
       "      <td id=\"T_16c80_row1_col8\" class=\"data row1 col8\" >0.041882</td>\n",
       "      <td id=\"T_16c80_row1_col9\" class=\"data row1 col9\" >-0.094769</td>\n",
       "      <td id=\"T_16c80_row1_col10\" class=\"data row1 col10\" >-0.107290</td>\n",
       "      <td id=\"T_16c80_row1_col11\" class=\"data row1 col11\" >-0.141414</td>\n",
       "      <td id=\"T_16c80_row1_col12\" class=\"data row1 col12\" >0.066270</td>\n",
       "    </tr>\n",
       "    <tr>\n",
       "      <th id=\"T_16c80_level0_row2\" class=\"row_heading level0 row2\" >creatinine_phosphokinase</th>\n",
       "      <td id=\"T_16c80_row2_col0\" class=\"data row2 col0\" >-0.081584</td>\n",
       "      <td id=\"T_16c80_row2_col1\" class=\"data row2 col1\" >-0.190741</td>\n",
       "      <td id=\"T_16c80_row2_col2\" class=\"data row2 col2\" >1.000000</td>\n",
       "      <td id=\"T_16c80_row2_col3\" class=\"data row2 col3\" >-0.009639</td>\n",
       "      <td id=\"T_16c80_row2_col4\" class=\"data row2 col4\" >-0.044080</td>\n",
       "      <td id=\"T_16c80_row2_col5\" class=\"data row2 col5\" >-0.070590</td>\n",
       "      <td id=\"T_16c80_row2_col6\" class=\"data row2 col6\" >0.024463</td>\n",
       "      <td id=\"T_16c80_row2_col7\" class=\"data row2 col7\" >-0.016408</td>\n",
       "      <td id=\"T_16c80_row2_col8\" class=\"data row2 col8\" >0.059550</td>\n",
       "      <td id=\"T_16c80_row2_col9\" class=\"data row2 col9\" >0.079791</td>\n",
       "      <td id=\"T_16c80_row2_col10\" class=\"data row2 col10\" >0.002421</td>\n",
       "      <td id=\"T_16c80_row2_col11\" class=\"data row2 col11\" >-0.009346</td>\n",
       "      <td id=\"T_16c80_row2_col12\" class=\"data row2 col12\" >0.062728</td>\n",
       "    </tr>\n",
       "    <tr>\n",
       "      <th id=\"T_16c80_level0_row3\" class=\"row_heading level0 row3\" >diabetes</th>\n",
       "      <td id=\"T_16c80_row3_col0\" class=\"data row3 col0\" >-0.101012</td>\n",
       "      <td id=\"T_16c80_row3_col1\" class=\"data row3 col1\" >-0.012729</td>\n",
       "      <td id=\"T_16c80_row3_col2\" class=\"data row3 col2\" >-0.009639</td>\n",
       "      <td id=\"T_16c80_row3_col3\" class=\"data row3 col3\" >1.000000</td>\n",
       "      <td id=\"T_16c80_row3_col4\" class=\"data row3 col4\" >-0.004850</td>\n",
       "      <td id=\"T_16c80_row3_col5\" class=\"data row3 col5\" >-0.012732</td>\n",
       "      <td id=\"T_16c80_row3_col6\" class=\"data row3 col6\" >0.092193</td>\n",
       "      <td id=\"T_16c80_row3_col7\" class=\"data row3 col7\" >-0.046975</td>\n",
       "      <td id=\"T_16c80_row3_col8\" class=\"data row3 col8\" >-0.089551</td>\n",
       "      <td id=\"T_16c80_row3_col9\" class=\"data row3 col9\" >-0.157730</td>\n",
       "      <td id=\"T_16c80_row3_col10\" class=\"data row3 col10\" >-0.147173</td>\n",
       "      <td id=\"T_16c80_row3_col11\" class=\"data row3 col11\" >0.033726</td>\n",
       "      <td id=\"T_16c80_row3_col12\" class=\"data row3 col12\" >-0.001943</td>\n",
       "    </tr>\n",
       "    <tr>\n",
       "      <th id=\"T_16c80_level0_row4\" class=\"row_heading level0 row4\" >ejection_fraction</th>\n",
       "      <td id=\"T_16c80_row4_col0\" class=\"data row4 col0\" >0.060098</td>\n",
       "      <td id=\"T_16c80_row4_col1\" class=\"data row4 col1\" >0.031557</td>\n",
       "      <td id=\"T_16c80_row4_col2\" class=\"data row4 col2\" >-0.044080</td>\n",
       "      <td id=\"T_16c80_row4_col3\" class=\"data row4 col3\" >-0.004850</td>\n",
       "      <td id=\"T_16c80_row4_col4\" class=\"data row4 col4\" >1.000000</td>\n",
       "      <td id=\"T_16c80_row4_col5\" class=\"data row4 col5\" >0.024445</td>\n",
       "      <td id=\"T_16c80_row4_col6\" class=\"data row4 col6\" >0.072177</td>\n",
       "      <td id=\"T_16c80_row4_col7\" class=\"data row4 col7\" >-0.011302</td>\n",
       "      <td id=\"T_16c80_row4_col8\" class=\"data row4 col8\" >0.175902</td>\n",
       "      <td id=\"T_16c80_row4_col9\" class=\"data row4 col9\" >-0.148386</td>\n",
       "      <td id=\"T_16c80_row4_col10\" class=\"data row4 col10\" >-0.067315</td>\n",
       "      <td id=\"T_16c80_row4_col11\" class=\"data row4 col11\" >0.041729</td>\n",
       "      <td id=\"T_16c80_row4_col12\" class=\"data row4 col12\" >-0.268603</td>\n",
       "    </tr>\n",
       "    <tr>\n",
       "      <th id=\"T_16c80_level0_row5\" class=\"row_heading level0 row5\" >high_blood_pressure</th>\n",
       "      <td id=\"T_16c80_row5_col0\" class=\"data row5 col0\" >0.093289</td>\n",
       "      <td id=\"T_16c80_row5_col1\" class=\"data row5 col1\" >0.038182</td>\n",
       "      <td id=\"T_16c80_row5_col2\" class=\"data row5 col2\" >-0.070590</td>\n",
       "      <td id=\"T_16c80_row5_col3\" class=\"data row5 col3\" >-0.012732</td>\n",
       "      <td id=\"T_16c80_row5_col4\" class=\"data row5 col4\" >0.024445</td>\n",
       "      <td id=\"T_16c80_row5_col5\" class=\"data row5 col5\" >1.000000</td>\n",
       "      <td id=\"T_16c80_row5_col6\" class=\"data row5 col6\" >0.049963</td>\n",
       "      <td id=\"T_16c80_row5_col7\" class=\"data row5 col7\" >-0.004935</td>\n",
       "      <td id=\"T_16c80_row5_col8\" class=\"data row5 col8\" >0.037109</td>\n",
       "      <td id=\"T_16c80_row5_col9\" class=\"data row5 col9\" >-0.104615</td>\n",
       "      <td id=\"T_16c80_row5_col10\" class=\"data row5 col10\" >-0.055711</td>\n",
       "      <td id=\"T_16c80_row5_col11\" class=\"data row5 col11\" >-0.196439</td>\n",
       "      <td id=\"T_16c80_row5_col12\" class=\"data row5 col12\" >0.079351</td>\n",
       "    </tr>\n",
       "    <tr>\n",
       "      <th id=\"T_16c80_level0_row6\" class=\"row_heading level0 row6\" >platelets</th>\n",
       "      <td id=\"T_16c80_row6_col0\" class=\"data row6 col0\" >-0.052354</td>\n",
       "      <td id=\"T_16c80_row6_col1\" class=\"data row6 col1\" >-0.043786</td>\n",
       "      <td id=\"T_16c80_row6_col2\" class=\"data row6 col2\" >0.024463</td>\n",
       "      <td id=\"T_16c80_row6_col3\" class=\"data row6 col3\" >0.092193</td>\n",
       "      <td id=\"T_16c80_row6_col4\" class=\"data row6 col4\" >0.072177</td>\n",
       "      <td id=\"T_16c80_row6_col5\" class=\"data row6 col5\" >0.049963</td>\n",
       "      <td id=\"T_16c80_row6_col6\" class=\"data row6 col6\" >1.000000</td>\n",
       "      <td id=\"T_16c80_row6_col7\" class=\"data row6 col7\" >-0.041198</td>\n",
       "      <td id=\"T_16c80_row6_col8\" class=\"data row6 col8\" >0.062125</td>\n",
       "      <td id=\"T_16c80_row6_col9\" class=\"data row6 col9\" >-0.125120</td>\n",
       "      <td id=\"T_16c80_row6_col10\" class=\"data row6 col10\" >0.028234</td>\n",
       "      <td id=\"T_16c80_row6_col11\" class=\"data row6 col11\" >0.010514</td>\n",
       "      <td id=\"T_16c80_row6_col12\" class=\"data row6 col12\" >-0.049139</td>\n",
       "    </tr>\n",
       "    <tr>\n",
       "      <th id=\"T_16c80_level0_row7\" class=\"row_heading level0 row7\" >serum_creatinine</th>\n",
       "      <td id=\"T_16c80_row7_col0\" class=\"data row7 col0\" >0.159187</td>\n",
       "      <td id=\"T_16c80_row7_col1\" class=\"data row7 col1\" >0.052174</td>\n",
       "      <td id=\"T_16c80_row7_col2\" class=\"data row7 col2\" >-0.016408</td>\n",
       "      <td id=\"T_16c80_row7_col3\" class=\"data row7 col3\" >-0.046975</td>\n",
       "      <td id=\"T_16c80_row7_col4\" class=\"data row7 col4\" >-0.011302</td>\n",
       "      <td id=\"T_16c80_row7_col5\" class=\"data row7 col5\" >-0.004935</td>\n",
       "      <td id=\"T_16c80_row7_col6\" class=\"data row7 col6\" >-0.041198</td>\n",
       "      <td id=\"T_16c80_row7_col7\" class=\"data row7 col7\" >1.000000</td>\n",
       "      <td id=\"T_16c80_row7_col8\" class=\"data row7 col8\" >-0.189095</td>\n",
       "      <td id=\"T_16c80_row7_col9\" class=\"data row7 col9\" >0.006970</td>\n",
       "      <td id=\"T_16c80_row7_col10\" class=\"data row7 col10\" >-0.027414</td>\n",
       "      <td id=\"T_16c80_row7_col11\" class=\"data row7 col11\" >-0.149315</td>\n",
       "      <td id=\"T_16c80_row7_col12\" class=\"data row7 col12\" >0.294278</td>\n",
       "    </tr>\n",
       "    <tr>\n",
       "      <th id=\"T_16c80_level0_row8\" class=\"row_heading level0 row8\" >serum_sodium</th>\n",
       "      <td id=\"T_16c80_row8_col0\" class=\"data row8 col0\" >-0.045966</td>\n",
       "      <td id=\"T_16c80_row8_col1\" class=\"data row8 col1\" >0.041882</td>\n",
       "      <td id=\"T_16c80_row8_col2\" class=\"data row8 col2\" >0.059550</td>\n",
       "      <td id=\"T_16c80_row8_col3\" class=\"data row8 col3\" >-0.089551</td>\n",
       "      <td id=\"T_16c80_row8_col4\" class=\"data row8 col4\" >0.175902</td>\n",
       "      <td id=\"T_16c80_row8_col5\" class=\"data row8 col5\" >0.037109</td>\n",
       "      <td id=\"T_16c80_row8_col6\" class=\"data row8 col6\" >0.062125</td>\n",
       "      <td id=\"T_16c80_row8_col7\" class=\"data row8 col7\" >-0.189095</td>\n",
       "      <td id=\"T_16c80_row8_col8\" class=\"data row8 col8\" >1.000000</td>\n",
       "      <td id=\"T_16c80_row8_col9\" class=\"data row8 col9\" >-0.027566</td>\n",
       "      <td id=\"T_16c80_row8_col10\" class=\"data row8 col10\" >0.004813</td>\n",
       "      <td id=\"T_16c80_row8_col11\" class=\"data row8 col11\" >0.087640</td>\n",
       "      <td id=\"T_16c80_row8_col12\" class=\"data row8 col12\" >-0.195204</td>\n",
       "    </tr>\n",
       "    <tr>\n",
       "      <th id=\"T_16c80_level0_row9\" class=\"row_heading level0 row9\" >sex</th>\n",
       "      <td id=\"T_16c80_row9_col0\" class=\"data row9 col0\" >0.065430</td>\n",
       "      <td id=\"T_16c80_row9_col1\" class=\"data row9 col1\" >-0.094769</td>\n",
       "      <td id=\"T_16c80_row9_col2\" class=\"data row9 col2\" >0.079791</td>\n",
       "      <td id=\"T_16c80_row9_col3\" class=\"data row9 col3\" >-0.157730</td>\n",
       "      <td id=\"T_16c80_row9_col4\" class=\"data row9 col4\" >-0.148386</td>\n",
       "      <td id=\"T_16c80_row9_col5\" class=\"data row9 col5\" >-0.104615</td>\n",
       "      <td id=\"T_16c80_row9_col6\" class=\"data row9 col6\" >-0.125120</td>\n",
       "      <td id=\"T_16c80_row9_col7\" class=\"data row9 col7\" >0.006970</td>\n",
       "      <td id=\"T_16c80_row9_col8\" class=\"data row9 col8\" >-0.027566</td>\n",
       "      <td id=\"T_16c80_row9_col9\" class=\"data row9 col9\" >1.000000</td>\n",
       "      <td id=\"T_16c80_row9_col10\" class=\"data row9 col10\" >0.445892</td>\n",
       "      <td id=\"T_16c80_row9_col11\" class=\"data row9 col11\" >-0.015608</td>\n",
       "      <td id=\"T_16c80_row9_col12\" class=\"data row9 col12\" >-0.004316</td>\n",
       "    </tr>\n",
       "    <tr>\n",
       "      <th id=\"T_16c80_level0_row10\" class=\"row_heading level0 row10\" >smoking</th>\n",
       "      <td id=\"T_16c80_row10_col0\" class=\"data row10 col0\" >0.018668</td>\n",
       "      <td id=\"T_16c80_row10_col1\" class=\"data row10 col1\" >-0.107290</td>\n",
       "      <td id=\"T_16c80_row10_col2\" class=\"data row10 col2\" >0.002421</td>\n",
       "      <td id=\"T_16c80_row10_col3\" class=\"data row10 col3\" >-0.147173</td>\n",
       "      <td id=\"T_16c80_row10_col4\" class=\"data row10 col4\" >-0.067315</td>\n",
       "      <td id=\"T_16c80_row10_col5\" class=\"data row10 col5\" >-0.055711</td>\n",
       "      <td id=\"T_16c80_row10_col6\" class=\"data row10 col6\" >0.028234</td>\n",
       "      <td id=\"T_16c80_row10_col7\" class=\"data row10 col7\" >-0.027414</td>\n",
       "      <td id=\"T_16c80_row10_col8\" class=\"data row10 col8\" >0.004813</td>\n",
       "      <td id=\"T_16c80_row10_col9\" class=\"data row10 col9\" >0.445892</td>\n",
       "      <td id=\"T_16c80_row10_col10\" class=\"data row10 col10\" >1.000000</td>\n",
       "      <td id=\"T_16c80_row10_col11\" class=\"data row10 col11\" >-0.022839</td>\n",
       "      <td id=\"T_16c80_row10_col12\" class=\"data row10 col12\" >-0.012623</td>\n",
       "    </tr>\n",
       "    <tr>\n",
       "      <th id=\"T_16c80_level0_row11\" class=\"row_heading level0 row11\" >time</th>\n",
       "      <td id=\"T_16c80_row11_col0\" class=\"data row11 col0\" >-0.224068</td>\n",
       "      <td id=\"T_16c80_row11_col1\" class=\"data row11 col1\" >-0.141414</td>\n",
       "      <td id=\"T_16c80_row11_col2\" class=\"data row11 col2\" >-0.009346</td>\n",
       "      <td id=\"T_16c80_row11_col3\" class=\"data row11 col3\" >0.033726</td>\n",
       "      <td id=\"T_16c80_row11_col4\" class=\"data row11 col4\" >0.041729</td>\n",
       "      <td id=\"T_16c80_row11_col5\" class=\"data row11 col5\" >-0.196439</td>\n",
       "      <td id=\"T_16c80_row11_col6\" class=\"data row11 col6\" >0.010514</td>\n",
       "      <td id=\"T_16c80_row11_col7\" class=\"data row11 col7\" >-0.149315</td>\n",
       "      <td id=\"T_16c80_row11_col8\" class=\"data row11 col8\" >0.087640</td>\n",
       "      <td id=\"T_16c80_row11_col9\" class=\"data row11 col9\" >-0.015608</td>\n",
       "      <td id=\"T_16c80_row11_col10\" class=\"data row11 col10\" >-0.022839</td>\n",
       "      <td id=\"T_16c80_row11_col11\" class=\"data row11 col11\" >1.000000</td>\n",
       "      <td id=\"T_16c80_row11_col12\" class=\"data row11 col12\" >-0.526964</td>\n",
       "    </tr>\n",
       "    <tr>\n",
       "      <th id=\"T_16c80_level0_row12\" class=\"row_heading level0 row12\" >DEATH_EVENT</th>\n",
       "      <td id=\"T_16c80_row12_col0\" class=\"data row12 col0\" >0.253729</td>\n",
       "      <td id=\"T_16c80_row12_col1\" class=\"data row12 col1\" >0.066270</td>\n",
       "      <td id=\"T_16c80_row12_col2\" class=\"data row12 col2\" >0.062728</td>\n",
       "      <td id=\"T_16c80_row12_col3\" class=\"data row12 col3\" >-0.001943</td>\n",
       "      <td id=\"T_16c80_row12_col4\" class=\"data row12 col4\" >-0.268603</td>\n",
       "      <td id=\"T_16c80_row12_col5\" class=\"data row12 col5\" >0.079351</td>\n",
       "      <td id=\"T_16c80_row12_col6\" class=\"data row12 col6\" >-0.049139</td>\n",
       "      <td id=\"T_16c80_row12_col7\" class=\"data row12 col7\" >0.294278</td>\n",
       "      <td id=\"T_16c80_row12_col8\" class=\"data row12 col8\" >-0.195204</td>\n",
       "      <td id=\"T_16c80_row12_col9\" class=\"data row12 col9\" >-0.004316</td>\n",
       "      <td id=\"T_16c80_row12_col10\" class=\"data row12 col10\" >-0.012623</td>\n",
       "      <td id=\"T_16c80_row12_col11\" class=\"data row12 col11\" >-0.526964</td>\n",
       "      <td id=\"T_16c80_row12_col12\" class=\"data row12 col12\" >1.000000</td>\n",
       "    </tr>\n",
       "  </tbody>\n",
       "</table>\n"
      ],
      "text/plain": [
       "<pandas.io.formats.style.Styler at 0x1dd4fe93f40>"
      ]
     },
     "execution_count": 89,
     "metadata": {},
     "output_type": "execute_result"
    }
   ],
   "source": [
    "corr = data.corr()\n",
    "corr.style.background_gradient(cmap='coolwarm')"
   ]
  },
  {
   "cell_type": "markdown",
   "metadata": {},
   "source": [
    "## Iniciando modelagem"
   ]
  },
  {
   "cell_type": "code",
   "execution_count": 90,
   "metadata": {},
   "outputs": [],
   "source": [
    "from sklearn.model_selection import train_test_split\n",
    "\n",
    "X = data[['time', 'serum_creatinine', 'ejection_fraction', 'age']]\n",
    "y = data['DEATH_EVENT']\n",
    "\n",
    "X_train, X_test, y_train, y_test = train_test_split(X, y, test_size=0.33, random_state=42)"
   ]
  },
  {
   "cell_type": "code",
   "execution_count": 91,
   "metadata": {},
   "outputs": [],
   "source": [
    "from sklearn.metrics import accuracy_score\n",
    "from sklearn.metrics import recall_score\n",
    "from sklearn.metrics import f1_score\n",
    "from sklearn.metrics import confusion_matrix\n",
    "from sklearn.pipeline import make_pipeline\n",
    "from sklearn.preprocessing import StandardScaler\n",
    "\n",
    "from sklearn.linear_model import LogisticRegression\n",
    "from sklearn import tree\n",
    "\n",
    "from sklearn.neighbors import KNeighborsClassifier\n",
    "from sklearn.svm import SVC\n",
    "from sklearn.ensemble import RandomForestClassifier\n",
    "from sklearn.ensemble import GradientBoostingClassifier\n",
    "\n",
    "import keras\n",
    "from keras.models import Sequential\n",
    "from keras.layers import Dense\n",
    "from keras.utils import to_categorical\n",
    "import tensorflow as tf"
   ]
  },
  {
   "cell_type": "markdown",
   "metadata": {},
   "source": [
    "# Criando modelos"
   ]
  },
  {
   "cell_type": "markdown",
   "metadata": {},
   "source": [
    "Antes de mais nada, vamos esclarescer algumas decisões tomadas para decidirmos o melhor modelo:\n",
    "\n",
    "    • Iremos prestar atenção principalmente para o recall do modelo, pois ele tenta analisar aqueles que o modelo realmente acertou (ideal para doenças pois analisa principalmente VERDADEIROS POSITIVOS)"
   ]
  },
  {
   "cell_type": "markdown",
   "metadata": {},
   "source": [
    "LogisticRegression"
   ]
  },
  {
   "cell_type": "code",
   "execution_count": 92,
   "metadata": {},
   "outputs": [
    {
     "name": "stdout",
     "output_type": "stream",
     "text": [
      "Accuracy: 0.8080808080808081\n",
      "Recall: 0.6428571428571429\n",
      "F1: 0.7397260273972603\n",
      "[[53  4]\n",
      " [15 27]]\n"
     ]
    }
   ],
   "source": [
    "clf = LogisticRegression(random_state=0).fit(X_train, y_train)\n",
    "prev = clf.predict(X_test)\n",
    "\n",
    "print(f'Accuracy: {accuracy_score(y_test, prev)}')\n",
    "print(f'Recall: {recall_score(y_test, prev)}')\n",
    "print(f'F1: {f1_score(y_test, prev)}')\n",
    "print(confusion_matrix(y_test, prev))\n"
   ]
  },
  {
   "cell_type": "markdown",
   "metadata": {},
   "source": [
    "DecisionTree"
   ]
  },
  {
   "cell_type": "code",
   "execution_count": 93,
   "metadata": {},
   "outputs": [
    {
     "name": "stdout",
     "output_type": "stream",
     "text": [
      "Accuracy: 0.7070707070707071\n",
      "Recall: 0.5476190476190477\n",
      "F1: 0.6133333333333334\n",
      "[[47 10]\n",
      " [19 23]]\n"
     ]
    }
   ],
   "source": [
    "clf = tree.DecisionTreeClassifier(random_state=0).fit(X_train, y_train)\n",
    "prev = clf.predict(X_test)\n",
    "\n",
    "print(f'Accuracy: {accuracy_score(y_test, prev)}')\n",
    "print(f'Recall: {recall_score(y_test, prev)}')\n",
    "print(f'F1: {f1_score(y_test, prev)}')\n",
    "print(confusion_matrix(y_test, prev))\n"
   ]
  },
  {
   "cell_type": "markdown",
   "metadata": {},
   "source": [
    "KNN"
   ]
  },
  {
   "cell_type": "code",
   "execution_count": 94,
   "metadata": {},
   "outputs": [
    {
     "name": "stdout",
     "output_type": "stream",
     "text": [
      "Accuracy: 0.7272727272727273\n",
      "Recall: 0.42857142857142855\n",
      "F1: 0.5714285714285714\n",
      "[[54  3]\n",
      " [24 18]]\n"
     ]
    }
   ],
   "source": [
    "neigh = KNeighborsClassifier(n_neighbors=2).fit(X_train, y_train)\n",
    "prev = neigh.predict(X_test)\n",
    "\n",
    "print(f'Accuracy: {accuracy_score(y_test, prev)}')\n",
    "print(f'Recall: {recall_score(y_test, prev)}')\n",
    "print(f'F1: {f1_score(y_test, prev)}')\n",
    "print(confusion_matrix(y_test, prev))"
   ]
  },
  {
   "cell_type": "markdown",
   "metadata": {},
   "source": [
    "SVM"
   ]
  },
  {
   "cell_type": "code",
   "execution_count": 95,
   "metadata": {},
   "outputs": [
    {
     "name": "stdout",
     "output_type": "stream",
     "text": [
      "Accuracy: 0.797979797979798\n",
      "Recall: 0.6666666666666666\n",
      "F1: 0.7368421052631577\n",
      "[[51  6]\n",
      " [14 28]]\n"
     ]
    }
   ],
   "source": [
    "model = make_pipeline(StandardScaler(), SVC(gamma='auto')).fit(X_train, y_train)\n",
    "prev = model.predict(X_test)\n",
    "\n",
    "print(f'Accuracy: {accuracy_score(y_test, prev)}')\n",
    "print(f'Recall: {recall_score(y_test, prev)}')\n",
    "print(f'F1: {f1_score(y_test, prev)}')\n",
    "print(confusion_matrix(y_test, prev))"
   ]
  },
  {
   "cell_type": "markdown",
   "metadata": {},
   "source": [
    "RandomForest"
   ]
  },
  {
   "cell_type": "code",
   "execution_count": 96,
   "metadata": {},
   "outputs": [
    {
     "name": "stdout",
     "output_type": "stream",
     "text": [
      "Accuracy: 0.7474747474747475\n",
      "Recall: 0.47619047619047616\n",
      "F1: 0.6153846153846153\n",
      "[[54  3]\n",
      " [22 20]]\n"
     ]
    }
   ],
   "source": [
    "clf = RandomForestClassifier(max_depth=2, random_state=0).fit(X_train, y_train)\n",
    "prev = clf.predict(X_test)\n",
    "\n",
    "print(f'Accuracy: {accuracy_score(y_test, prev)}')\n",
    "print(f'Recall: {recall_score(y_test, prev)}')\n",
    "print(f'F1: {f1_score(y_test, prev)}')\n",
    "print(confusion_matrix(y_test, prev))"
   ]
  },
  {
   "cell_type": "markdown",
   "metadata": {},
   "source": [
    "GradientBoosting"
   ]
  },
  {
   "cell_type": "code",
   "execution_count": 97,
   "metadata": {},
   "outputs": [
    {
     "name": "stdout",
     "output_type": "stream",
     "text": [
      "Accuracy: 0.7676767676767676\n",
      "Recall: 0.6428571428571429\n",
      "F1: 0.7012987012987013\n",
      "[[49  8]\n",
      " [15 27]]\n"
     ]
    }
   ],
   "source": [
    "clf = GradientBoostingClassifier(n_estimators=100, learning_rate=1.0, max_depth=1, random_state=0).fit(X_train, y_train)\n",
    "prev = clf.predict(X_test)\n",
    "\n",
    "print(f'Accuracy: {accuracy_score(y_test, prev)}')\n",
    "print(f'Recall: {recall_score(y_test, prev)}')\n",
    "print(f'F1: {f1_score(y_test, prev)}')\n",
    "print(confusion_matrix(y_test, prev))"
   ]
  },
  {
   "cell_type": "markdown",
   "metadata": {},
   "source": [
    "Keras"
   ]
  },
  {
   "cell_type": "code",
   "execution_count": 99,
   "metadata": {},
   "outputs": [
    {
     "name": "stdout",
     "output_type": "stream",
     "text": [
      "Epoch 1/400\n",
      "20/20 [==============================] - 1s 1ms/step - loss: 1.2360 - accuracy: 0.7850 - recall_10: 0.2222 \n",
      "Epoch 2/400\n",
      "20/20 [==============================] - 0s 2ms/step - loss: 1.0491 - accuracy: 0.7950 - recall_10: 0.2778\n",
      "Epoch 3/400\n",
      "20/20 [==============================] - 0s 2ms/step - loss: 0.8904 - accuracy: 0.8100 - recall_10: 0.3333\n",
      "Epoch 4/400\n",
      "20/20 [==============================] - 0s 2ms/step - loss: 0.7611 - accuracy: 0.8200 - recall_10: 0.3704\n",
      "Epoch 5/400\n",
      "20/20 [==============================] - 0s 2ms/step - loss: 0.6545 - accuracy: 0.8100 - recall_10: 0.3704\n",
      "Epoch 6/400\n",
      "20/20 [==============================] - 0s 2ms/step - loss: 0.5692 - accuracy: 0.8400 - recall_10: 0.4815\n",
      "Epoch 7/400\n",
      "20/20 [==============================] - 0s 1ms/step - loss: 0.5077 - accuracy: 0.8550 - recall_10: 0.5370\n",
      "Epoch 8/400\n",
      "20/20 [==============================] - 0s 1ms/step - loss: 0.4728 - accuracy: 0.8650 - recall_10: 0.5741\n",
      "Epoch 9/400\n",
      "20/20 [==============================] - 0s 1ms/step - loss: 0.4447 - accuracy: 0.8650 - recall_10: 0.5926\n",
      "Epoch 10/400\n",
      "20/20 [==============================] - 0s 2ms/step - loss: 0.4214 - accuracy: 0.8750 - recall_10: 0.6296\n",
      "Epoch 11/400\n",
      "20/20 [==============================] - 0s 1ms/step - loss: 0.4089 - accuracy: 0.8750 - recall_10: 0.6296\n",
      "Epoch 12/400\n",
      "20/20 [==============================] - 0s 2ms/step - loss: 0.3970 - accuracy: 0.8750 - recall_10: 0.6296\n",
      "Epoch 13/400\n",
      "20/20 [==============================] - 0s 2ms/step - loss: 0.3920 - accuracy: 0.8800 - recall_10: 0.6481\n",
      "Epoch 14/400\n",
      "20/20 [==============================] - 0s 2ms/step - loss: 0.3886 - accuracy: 0.8750 - recall_10: 0.6481\n",
      "Epoch 15/400\n",
      "20/20 [==============================] - 0s 2ms/step - loss: 0.3853 - accuracy: 0.8750 - recall_10: 0.6481\n",
      "Epoch 16/400\n",
      "20/20 [==============================] - 0s 2ms/step - loss: 0.3831 - accuracy: 0.8800 - recall_10: 0.6667\n",
      "Epoch 17/400\n",
      "20/20 [==============================] - 0s 1ms/step - loss: 0.3802 - accuracy: 0.8800 - recall_10: 0.6667\n",
      "Epoch 18/400\n",
      "20/20 [==============================] - 0s 2ms/step - loss: 0.3786 - accuracy: 0.8800 - recall_10: 0.6667\n",
      "Epoch 19/400\n",
      "20/20 [==============================] - 0s 1ms/step - loss: 0.3790 - accuracy: 0.8800 - recall_10: 0.6667\n",
      "Epoch 20/400\n",
      "20/20 [==============================] - 0s 1ms/step - loss: 0.3769 - accuracy: 0.8800 - recall_10: 0.6667\n",
      "Epoch 21/400\n",
      "20/20 [==============================] - 0s 2ms/step - loss: 0.3763 - accuracy: 0.8800 - recall_10: 0.6667\n",
      "Epoch 22/400\n",
      "20/20 [==============================] - 0s 1ms/step - loss: 0.3756 - accuracy: 0.8800 - recall_10: 0.6667\n",
      "Epoch 23/400\n",
      "20/20 [==============================] - 0s 2ms/step - loss: 0.3750 - accuracy: 0.8800 - recall_10: 0.6667\n",
      "Epoch 24/400\n",
      "20/20 [==============================] - 0s 1ms/step - loss: 0.3743 - accuracy: 0.8800 - recall_10: 0.6667\n",
      "Epoch 25/400\n",
      "20/20 [==============================] - 0s 1ms/step - loss: 0.3744 - accuracy: 0.8800 - recall_10: 0.6667\n",
      "Epoch 26/400\n",
      "20/20 [==============================] - 0s 2ms/step - loss: 0.3741 - accuracy: 0.8800 - recall_10: 0.6852\n",
      "Epoch 27/400\n",
      "20/20 [==============================] - 0s 1ms/step - loss: 0.3735 - accuracy: 0.8850 - recall_10: 0.6852\n",
      "Epoch 28/400\n",
      "20/20 [==============================] - 0s 1ms/step - loss: 0.3741 - accuracy: 0.8800 - recall_10: 0.6667\n",
      "Epoch 29/400\n",
      "20/20 [==============================] - 0s 1ms/step - loss: 0.3737 - accuracy: 0.8800 - recall_10: 0.6667\n",
      "Epoch 30/400\n",
      "20/20 [==============================] - 0s 1ms/step - loss: 0.3727 - accuracy: 0.8800 - recall_10: 0.6667\n",
      "Epoch 31/400\n",
      "20/20 [==============================] - 0s 1ms/step - loss: 0.3738 - accuracy: 0.8800 - recall_10: 0.6667\n",
      "Epoch 32/400\n",
      "20/20 [==============================] - 0s 1ms/step - loss: 0.3726 - accuracy: 0.8800 - recall_10: 0.6667\n",
      "Epoch 33/400\n",
      "20/20 [==============================] - 0s 1ms/step - loss: 0.3719 - accuracy: 0.8800 - recall_10: 0.6667\n",
      "Epoch 34/400\n",
      "20/20 [==============================] - 0s 2ms/step - loss: 0.3716 - accuracy: 0.8800 - recall_10: 0.6667\n",
      "Epoch 35/400\n",
      "20/20 [==============================] - 0s 1ms/step - loss: 0.3718 - accuracy: 0.8800 - recall_10: 0.6667\n",
      "Epoch 36/400\n",
      "20/20 [==============================] - 0s 1ms/step - loss: 0.3710 - accuracy: 0.8800 - recall_10: 0.6667\n",
      "Epoch 37/400\n",
      "20/20 [==============================] - 0s 2ms/step - loss: 0.3705 - accuracy: 0.8800 - recall_10: 0.6667\n",
      "Epoch 38/400\n",
      "20/20 [==============================] - 0s 2ms/step - loss: 0.3704 - accuracy: 0.8800 - recall_10: 0.6667\n",
      "Epoch 39/400\n",
      "20/20 [==============================] - 0s 2ms/step - loss: 0.3706 - accuracy: 0.8800 - recall_10: 0.6667\n",
      "Epoch 40/400\n",
      "20/20 [==============================] - 0s 2ms/step - loss: 0.3702 - accuracy: 0.8800 - recall_10: 0.6667\n",
      "Epoch 41/400\n",
      "20/20 [==============================] - 0s 2ms/step - loss: 0.3696 - accuracy: 0.8800 - recall_10: 0.6667\n",
      "Epoch 42/400\n",
      "20/20 [==============================] - 0s 2ms/step - loss: 0.3692 - accuracy: 0.8800 - recall_10: 0.6667\n",
      "Epoch 43/400\n",
      "20/20 [==============================] - 0s 2ms/step - loss: 0.3701 - accuracy: 0.8800 - recall_10: 0.6667\n",
      "Epoch 44/400\n",
      "20/20 [==============================] - 0s 2ms/step - loss: 0.3695 - accuracy: 0.8800 - recall_10: 0.6667\n",
      "Epoch 45/400\n",
      "20/20 [==============================] - 0s 2ms/step - loss: 0.3691 - accuracy: 0.8800 - recall_10: 0.6667\n",
      "Epoch 46/400\n",
      "20/20 [==============================] - 0s 2ms/step - loss: 0.3684 - accuracy: 0.8800 - recall_10: 0.6667\n",
      "Epoch 47/400\n",
      "20/20 [==============================] - 0s 2ms/step - loss: 0.3680 - accuracy: 0.8800 - recall_10: 0.6667\n",
      "Epoch 48/400\n",
      "20/20 [==============================] - 0s 2ms/step - loss: 0.3678 - accuracy: 0.8800 - recall_10: 0.6667\n",
      "Epoch 49/400\n",
      "20/20 [==============================] - 0s 2ms/step - loss: 0.3684 - accuracy: 0.8800 - recall_10: 0.6667\n",
      "Epoch 50/400\n",
      "20/20 [==============================] - 0s 2ms/step - loss: 0.3664 - accuracy: 0.8800 - recall_10: 0.6667\n",
      "Epoch 51/400\n",
      "20/20 [==============================] - 0s 2ms/step - loss: 0.3667 - accuracy: 0.8800 - recall_10: 0.6667\n",
      "Epoch 52/400\n",
      "20/20 [==============================] - 0s 2ms/step - loss: 0.3660 - accuracy: 0.8800 - recall_10: 0.6667\n",
      "Epoch 53/400\n",
      "20/20 [==============================] - 0s 2ms/step - loss: 0.3661 - accuracy: 0.8800 - recall_10: 0.6667\n",
      "Epoch 54/400\n",
      "20/20 [==============================] - 0s 2ms/step - loss: 0.3649 - accuracy: 0.8800 - recall_10: 0.6667\n",
      "Epoch 55/400\n",
      "20/20 [==============================] - 0s 2ms/step - loss: 0.3652 - accuracy: 0.8800 - recall_10: 0.6667\n",
      "Epoch 56/400\n",
      "20/20 [==============================] - 0s 1ms/step - loss: 0.3643 - accuracy: 0.8800 - recall_10: 0.6667\n",
      "Epoch 57/400\n",
      "20/20 [==============================] - 0s 1ms/step - loss: 0.3641 - accuracy: 0.8800 - recall_10: 0.6667\n",
      "Epoch 58/400\n",
      "20/20 [==============================] - 0s 1ms/step - loss: 0.3627 - accuracy: 0.8800 - recall_10: 0.6667\n",
      "Epoch 59/400\n",
      "20/20 [==============================] - 0s 1ms/step - loss: 0.3623 - accuracy: 0.8800 - recall_10: 0.6481\n",
      "Epoch 60/400\n",
      "20/20 [==============================] - 0s 1ms/step - loss: 0.3616 - accuracy: 0.8800 - recall_10: 0.6481\n",
      "Epoch 61/400\n",
      "20/20 [==============================] - 0s 1ms/step - loss: 0.3612 - accuracy: 0.8800 - recall_10: 0.6481\n",
      "Epoch 62/400\n",
      "20/20 [==============================] - 0s 1ms/step - loss: 0.3608 - accuracy: 0.8800 - recall_10: 0.6667\n",
      "Epoch 63/400\n",
      "20/20 [==============================] - 0s 1ms/step - loss: 0.3610 - accuracy: 0.8800 - recall_10: 0.6481\n",
      "Epoch 64/400\n",
      "20/20 [==============================] - 0s 1ms/step - loss: 0.3599 - accuracy: 0.8750 - recall_10: 0.6481\n",
      "Epoch 65/400\n",
      "20/20 [==============================] - 0s 2ms/step - loss: 0.3597 - accuracy: 0.8850 - recall_10: 0.6667\n",
      "Epoch 66/400\n",
      "20/20 [==============================] - 0s 1ms/step - loss: 0.3599 - accuracy: 0.8750 - recall_10: 0.6481\n",
      "Epoch 67/400\n",
      "20/20 [==============================] - 0s 1ms/step - loss: 0.3592 - accuracy: 0.8800 - recall_10: 0.6481\n",
      "Epoch 68/400\n",
      "20/20 [==============================] - 0s 2ms/step - loss: 0.3587 - accuracy: 0.8800 - recall_10: 0.6481\n",
      "Epoch 69/400\n",
      "20/20 [==============================] - 0s 2ms/step - loss: 0.3577 - accuracy: 0.8800 - recall_10: 0.6481\n",
      "Epoch 70/400\n",
      "20/20 [==============================] - 0s 2ms/step - loss: 0.3585 - accuracy: 0.8800 - recall_10: 0.6667\n",
      "Epoch 71/400\n",
      "20/20 [==============================] - 0s 2ms/step - loss: 0.3585 - accuracy: 0.8800 - recall_10: 0.6481\n",
      "Epoch 72/400\n",
      "20/20 [==============================] - 0s 1ms/step - loss: 0.3578 - accuracy: 0.8800 - recall_10: 0.6481\n",
      "Epoch 73/400\n",
      "20/20 [==============================] - 0s 1ms/step - loss: 0.3562 - accuracy: 0.8800 - recall_10: 0.6481\n",
      "Epoch 74/400\n",
      "20/20 [==============================] - 0s 1ms/step - loss: 0.3573 - accuracy: 0.8800 - recall_10: 0.6481\n",
      "Epoch 75/400\n",
      "20/20 [==============================] - 0s 1ms/step - loss: 0.3565 - accuracy: 0.8800 - recall_10: 0.6481\n",
      "Epoch 76/400\n",
      "20/20 [==============================] - 0s 1ms/step - loss: 0.3565 - accuracy: 0.8800 - recall_10: 0.6481\n",
      "Epoch 77/400\n",
      "20/20 [==============================] - 0s 1ms/step - loss: 0.3557 - accuracy: 0.8800 - recall_10: 0.6481\n",
      "Epoch 78/400\n",
      "20/20 [==============================] - 0s 1ms/step - loss: 0.3553 - accuracy: 0.8800 - recall_10: 0.6481\n",
      "Epoch 79/400\n",
      "20/20 [==============================] - 0s 1ms/step - loss: 0.3548 - accuracy: 0.8800 - recall_10: 0.6481\n",
      "Epoch 80/400\n",
      "20/20 [==============================] - 0s 1ms/step - loss: 0.3551 - accuracy: 0.8800 - recall_10: 0.6481\n",
      "Epoch 81/400\n",
      "20/20 [==============================] - 0s 1ms/step - loss: 0.3551 - accuracy: 0.8800 - recall_10: 0.6481\n",
      "Epoch 82/400\n",
      "20/20 [==============================] - 0s 1ms/step - loss: 0.3551 - accuracy: 0.8800 - recall_10: 0.6481\n",
      "Epoch 83/400\n",
      "20/20 [==============================] - 0s 1ms/step - loss: 0.3570 - accuracy: 0.8800 - recall_10: 0.6481\n",
      "Epoch 84/400\n",
      "20/20 [==============================] - 0s 1ms/step - loss: 0.3548 - accuracy: 0.8800 - recall_10: 0.6481\n",
      "Epoch 85/400\n",
      "20/20 [==============================] - 0s 1ms/step - loss: 0.3547 - accuracy: 0.8800 - recall_10: 0.6481\n",
      "Epoch 86/400\n",
      "20/20 [==============================] - 0s 1ms/step - loss: 0.3534 - accuracy: 0.8800 - recall_10: 0.6481\n",
      "Epoch 87/400\n",
      "20/20 [==============================] - 0s 1ms/step - loss: 0.3549 - accuracy: 0.8800 - recall_10: 0.6481\n",
      "Epoch 88/400\n",
      "20/20 [==============================] - 0s 1ms/step - loss: 0.3539 - accuracy: 0.8800 - recall_10: 0.6481\n",
      "Epoch 89/400\n",
      "20/20 [==============================] - 0s 1ms/step - loss: 0.3536 - accuracy: 0.8800 - recall_10: 0.6481\n",
      "Epoch 90/400\n",
      "20/20 [==============================] - 0s 1ms/step - loss: 0.3554 - accuracy: 0.8800 - recall_10: 0.6481\n",
      "Epoch 91/400\n",
      "20/20 [==============================] - 0s 2ms/step - loss: 0.3523 - accuracy: 0.8800 - recall_10: 0.6481\n",
      "Epoch 92/400\n",
      "20/20 [==============================] - 0s 1ms/step - loss: 0.3523 - accuracy: 0.8800 - recall_10: 0.6667\n",
      "Epoch 93/400\n",
      "20/20 [==============================] - 0s 1ms/step - loss: 0.3518 - accuracy: 0.8800 - recall_10: 0.6481\n",
      "Epoch 94/400\n",
      "20/20 [==============================] - 0s 1ms/step - loss: 0.3522 - accuracy: 0.8800 - recall_10: 0.6481\n",
      "Epoch 95/400\n",
      "20/20 [==============================] - 0s 1ms/step - loss: 0.3517 - accuracy: 0.8800 - recall_10: 0.6667\n",
      "Epoch 96/400\n",
      "20/20 [==============================] - 0s 1ms/step - loss: 0.3510 - accuracy: 0.8850 - recall_10: 0.6667\n",
      "Epoch 97/400\n",
      "20/20 [==============================] - 0s 1ms/step - loss: 0.3505 - accuracy: 0.8800 - recall_10: 0.6481\n",
      "Epoch 98/400\n",
      "20/20 [==============================] - 0s 1ms/step - loss: 0.3497 - accuracy: 0.8850 - recall_10: 0.6667\n",
      "Epoch 99/400\n",
      "20/20 [==============================] - 0s 2ms/step - loss: 0.3507 - accuracy: 0.8800 - recall_10: 0.6667\n",
      "Epoch 100/400\n",
      "20/20 [==============================] - 0s 1ms/step - loss: 0.3493 - accuracy: 0.8800 - recall_10: 0.6481\n",
      "Epoch 101/400\n",
      "20/20 [==============================] - 0s 1ms/step - loss: 0.3489 - accuracy: 0.8850 - recall_10: 0.6667\n",
      "Epoch 102/400\n",
      "20/20 [==============================] - 0s 1ms/step - loss: 0.3483 - accuracy: 0.8850 - recall_10: 0.6667\n",
      "Epoch 103/400\n",
      "20/20 [==============================] - 0s 1ms/step - loss: 0.3483 - accuracy: 0.8800 - recall_10: 0.6481\n",
      "Epoch 104/400\n",
      "20/20 [==============================] - 0s 1ms/step - loss: 0.3494 - accuracy: 0.8800 - recall_10: 0.6481\n",
      "Epoch 105/400\n",
      "20/20 [==============================] - 0s 1ms/step - loss: 0.3476 - accuracy: 0.8800 - recall_10: 0.6667\n",
      "Epoch 106/400\n",
      "20/20 [==============================] - 0s 1ms/step - loss: 0.3475 - accuracy: 0.8850 - recall_10: 0.6667\n",
      "Epoch 107/400\n",
      "20/20 [==============================] - 0s 1ms/step - loss: 0.3486 - accuracy: 0.8800 - recall_10: 0.6481\n",
      "Epoch 108/400\n",
      "20/20 [==============================] - 0s 1ms/step - loss: 0.3469 - accuracy: 0.8850 - recall_10: 0.6667\n",
      "Epoch 109/400\n",
      "20/20 [==============================] - 0s 2ms/step - loss: 0.3463 - accuracy: 0.8900 - recall_10: 0.6852\n",
      "Epoch 110/400\n",
      "20/20 [==============================] - 0s 1ms/step - loss: 0.3463 - accuracy: 0.8800 - recall_10: 0.6481\n",
      "Epoch 111/400\n",
      "20/20 [==============================] - 0s 2ms/step - loss: 0.3459 - accuracy: 0.8800 - recall_10: 0.6481\n",
      "Epoch 112/400\n",
      "20/20 [==============================] - 0s 2ms/step - loss: 0.3451 - accuracy: 0.8850 - recall_10: 0.6667\n",
      "Epoch 113/400\n",
      "20/20 [==============================] - 0s 2ms/step - loss: 0.3451 - accuracy: 0.8850 - recall_10: 0.6667\n",
      "Epoch 114/400\n",
      "20/20 [==============================] - 0s 2ms/step - loss: 0.3448 - accuracy: 0.8850 - recall_10: 0.6667\n",
      "Epoch 115/400\n",
      "20/20 [==============================] - 0s 2ms/step - loss: 0.3439 - accuracy: 0.8800 - recall_10: 0.6481\n",
      "Epoch 116/400\n",
      "20/20 [==============================] - 0s 2ms/step - loss: 0.3444 - accuracy: 0.8800 - recall_10: 0.6481\n",
      "Epoch 117/400\n",
      "20/20 [==============================] - 0s 2ms/step - loss: 0.3438 - accuracy: 0.8850 - recall_10: 0.6667\n",
      "Epoch 118/400\n",
      "20/20 [==============================] - 0s 2ms/step - loss: 0.3446 - accuracy: 0.8750 - recall_10: 0.6667\n",
      "Epoch 119/400\n",
      "20/20 [==============================] - 0s 2ms/step - loss: 0.3432 - accuracy: 0.8850 - recall_10: 0.6667\n",
      "Epoch 120/400\n",
      "20/20 [==============================] - 0s 1ms/step - loss: 0.3424 - accuracy: 0.8800 - recall_10: 0.6481\n",
      "Epoch 121/400\n",
      "20/20 [==============================] - 0s 1ms/step - loss: 0.3433 - accuracy: 0.8800 - recall_10: 0.6481\n",
      "Epoch 122/400\n",
      "20/20 [==============================] - 0s 1ms/step - loss: 0.3424 - accuracy: 0.8800 - recall_10: 0.6481\n",
      "Epoch 123/400\n",
      "20/20 [==============================] - 0s 1ms/step - loss: 0.3421 - accuracy: 0.8800 - recall_10: 0.6481\n",
      "Epoch 124/400\n",
      "20/20 [==============================] - 0s 1ms/step - loss: 0.3422 - accuracy: 0.8850 - recall_10: 0.6667\n",
      "Epoch 125/400\n",
      "20/20 [==============================] - 0s 1ms/step - loss: 0.3410 - accuracy: 0.8850 - recall_10: 0.6667\n",
      "Epoch 126/400\n",
      "20/20 [==============================] - 0s 1ms/step - loss: 0.3420 - accuracy: 0.8800 - recall_10: 0.6481\n",
      "Epoch 127/400\n",
      "20/20 [==============================] - 0s 1ms/step - loss: 0.3417 - accuracy: 0.8800 - recall_10: 0.6667\n",
      "Epoch 128/400\n",
      "20/20 [==============================] - 0s 1ms/step - loss: 0.3403 - accuracy: 0.8850 - recall_10: 0.6667\n",
      "Epoch 129/400\n",
      "20/20 [==============================] - 0s 3ms/step - loss: 0.3408 - accuracy: 0.8800 - recall_10: 0.6481\n",
      "Epoch 130/400\n",
      "20/20 [==============================] - 0s 2ms/step - loss: 0.3400 - accuracy: 0.8850 - recall_10: 0.6667\n",
      "Epoch 131/400\n",
      "20/20 [==============================] - 0s 2ms/step - loss: 0.3398 - accuracy: 0.8800 - recall_10: 0.6481\n",
      "Epoch 132/400\n",
      "20/20 [==============================] - 0s 2ms/step - loss: 0.3400 - accuracy: 0.8800 - recall_10: 0.6667\n",
      "Epoch 133/400\n",
      "20/20 [==============================] - 0s 2ms/step - loss: 0.3417 - accuracy: 0.8800 - recall_10: 0.6481\n",
      "Epoch 134/400\n",
      "20/20 [==============================] - 0s 2ms/step - loss: 0.3393 - accuracy: 0.8800 - recall_10: 0.6481\n",
      "Epoch 135/400\n",
      "20/20 [==============================] - 0s 2ms/step - loss: 0.3377 - accuracy: 0.8800 - recall_10: 0.6481\n",
      "Epoch 136/400\n",
      "20/20 [==============================] - 0s 1ms/step - loss: 0.3392 - accuracy: 0.8800 - recall_10: 0.6481\n",
      "Epoch 137/400\n",
      "20/20 [==============================] - 0s 1ms/step - loss: 0.3387 - accuracy: 0.8800 - recall_10: 0.6481\n",
      "Epoch 138/400\n",
      "20/20 [==============================] - 0s 1ms/step - loss: 0.3375 - accuracy: 0.8800 - recall_10: 0.6481\n",
      "Epoch 139/400\n",
      "20/20 [==============================] - 0s 1ms/step - loss: 0.3368 - accuracy: 0.8800 - recall_10: 0.6481\n",
      "Epoch 140/400\n",
      "20/20 [==============================] - 0s 1ms/step - loss: 0.3365 - accuracy: 0.8800 - recall_10: 0.6481\n",
      "Epoch 141/400\n",
      "20/20 [==============================] - 0s 1ms/step - loss: 0.3364 - accuracy: 0.8800 - recall_10: 0.6481\n",
      "Epoch 142/400\n",
      "20/20 [==============================] - 0s 1ms/step - loss: 0.3366 - accuracy: 0.8850 - recall_10: 0.6667\n",
      "Epoch 143/400\n",
      "20/20 [==============================] - 0s 1ms/step - loss: 0.3358 - accuracy: 0.8850 - recall_10: 0.6667\n",
      "Epoch 144/400\n",
      "20/20 [==============================] - 0s 1ms/step - loss: 0.3363 - accuracy: 0.8800 - recall_10: 0.6481\n",
      "Epoch 145/400\n",
      "20/20 [==============================] - 0s 1ms/step - loss: 0.3359 - accuracy: 0.8800 - recall_10: 0.6481\n",
      "Epoch 146/400\n",
      "20/20 [==============================] - 0s 2ms/step - loss: 0.3358 - accuracy: 0.8800 - recall_10: 0.6481\n",
      "Epoch 147/400\n",
      "20/20 [==============================] - 0s 2ms/step - loss: 0.3347 - accuracy: 0.8850 - recall_10: 0.6667\n",
      "Epoch 148/400\n",
      "20/20 [==============================] - 0s 1ms/step - loss: 0.3359 - accuracy: 0.8800 - recall_10: 0.6852\n",
      "Epoch 149/400\n",
      "20/20 [==============================] - 0s 2ms/step - loss: 0.3340 - accuracy: 0.8800 - recall_10: 0.6481\n",
      "Epoch 150/400\n",
      "20/20 [==============================] - 0s 2ms/step - loss: 0.3361 - accuracy: 0.8800 - recall_10: 0.6481\n",
      "Epoch 151/400\n",
      "20/20 [==============================] - 0s 3ms/step - loss: 0.3337 - accuracy: 0.8850 - recall_10: 0.6667\n",
      "Epoch 152/400\n",
      "20/20 [==============================] - 0s 3ms/step - loss: 0.3326 - accuracy: 0.8850 - recall_10: 0.6667\n",
      "Epoch 153/400\n",
      "20/20 [==============================] - 0s 3ms/step - loss: 0.3331 - accuracy: 0.8800 - recall_10: 0.6481\n",
      "Epoch 154/400\n",
      "20/20 [==============================] - 0s 2ms/step - loss: 0.3330 - accuracy: 0.8850 - recall_10: 0.6667\n",
      "Epoch 155/400\n",
      "20/20 [==============================] - 0s 2ms/step - loss: 0.3350 - accuracy: 0.8750 - recall_10: 0.6852\n",
      "Epoch 156/400\n",
      "20/20 [==============================] - 0s 1ms/step - loss: 0.3318 - accuracy: 0.8850 - recall_10: 0.6667\n",
      "Epoch 157/400\n",
      "20/20 [==============================] - 0s 1ms/step - loss: 0.3327 - accuracy: 0.8800 - recall_10: 0.6481\n",
      "Epoch 158/400\n",
      "20/20 [==============================] - 0s 1ms/step - loss: 0.3318 - accuracy: 0.8850 - recall_10: 0.6667\n",
      "Epoch 159/400\n",
      "20/20 [==============================] - 0s 1ms/step - loss: 0.3316 - accuracy: 0.8800 - recall_10: 0.6852\n",
      "Epoch 160/400\n",
      "20/20 [==============================] - 0s 2ms/step - loss: 0.3310 - accuracy: 0.8850 - recall_10: 0.6852\n",
      "Epoch 161/400\n",
      "20/20 [==============================] - 0s 2ms/step - loss: 0.3304 - accuracy: 0.8800 - recall_10: 0.6852\n",
      "Epoch 162/400\n",
      "20/20 [==============================] - 0s 1ms/step - loss: 0.3301 - accuracy: 0.8750 - recall_10: 0.6852\n",
      "Epoch 163/400\n",
      "20/20 [==============================] - 0s 2ms/step - loss: 0.3294 - accuracy: 0.8850 - recall_10: 0.6852\n",
      "Epoch 164/400\n",
      "20/20 [==============================] - 0s 2ms/step - loss: 0.3293 - accuracy: 0.8850 - recall_10: 0.6852\n",
      "Epoch 165/400\n",
      "20/20 [==============================] - 0s 2ms/step - loss: 0.3284 - accuracy: 0.8750 - recall_10: 0.6852\n",
      "Epoch 166/400\n",
      "20/20 [==============================] - 0s 2ms/step - loss: 0.3287 - accuracy: 0.8800 - recall_10: 0.6852\n",
      "Epoch 167/400\n",
      "20/20 [==============================] - 0s 1ms/step - loss: 0.3270 - accuracy: 0.8750 - recall_10: 0.6852\n",
      "Epoch 168/400\n",
      "20/20 [==============================] - 0s 1ms/step - loss: 0.3277 - accuracy: 0.8750 - recall_10: 0.6852\n",
      "Epoch 169/400\n",
      "20/20 [==============================] - 0s 1000us/step - loss: 0.3258 - accuracy: 0.8800 - recall_10: 0.6852\n",
      "Epoch 170/400\n",
      "20/20 [==============================] - 0s 1ms/step - loss: 0.3277 - accuracy: 0.8800 - recall_10: 0.6667\n",
      "Epoch 171/400\n",
      "20/20 [==============================] - 0s 1ms/step - loss: 0.3251 - accuracy: 0.8700 - recall_10: 0.6667\n",
      "Epoch 172/400\n",
      "20/20 [==============================] - 0s 1ms/step - loss: 0.3253 - accuracy: 0.8700 - recall_10: 0.6667\n",
      "Epoch 173/400\n",
      "20/20 [==============================] - 0s 1ms/step - loss: 0.3238 - accuracy: 0.8800 - recall_10: 0.6852\n",
      "Epoch 174/400\n",
      "20/20 [==============================] - 0s 2ms/step - loss: 0.3244 - accuracy: 0.8750 - recall_10: 0.6852\n",
      "Epoch 175/400\n",
      "20/20 [==============================] - 0s 2ms/step - loss: 0.3262 - accuracy: 0.8750 - recall_10: 0.6852\n",
      "Epoch 176/400\n",
      "20/20 [==============================] - 0s 2ms/step - loss: 0.3215 - accuracy: 0.8750 - recall_10: 0.6852\n",
      "Epoch 177/400\n",
      "20/20 [==============================] - 0s 2ms/step - loss: 0.3226 - accuracy: 0.8800 - recall_10: 0.6667\n",
      "Epoch 178/400\n",
      "20/20 [==============================] - 0s 1ms/step - loss: 0.3238 - accuracy: 0.8800 - recall_10: 0.6852\n",
      "Epoch 179/400\n",
      "20/20 [==============================] - 0s 1ms/step - loss: 0.3257 - accuracy: 0.8850 - recall_10: 0.6667\n",
      "Epoch 180/400\n",
      "20/20 [==============================] - 0s 1ms/step - loss: 0.3216 - accuracy: 0.8850 - recall_10: 0.6667\n",
      "Epoch 181/400\n",
      "20/20 [==============================] - 0s 1ms/step - loss: 0.3243 - accuracy: 0.8750 - recall_10: 0.6852\n",
      "Epoch 182/400\n",
      "20/20 [==============================] - 0s 1ms/step - loss: 0.3236 - accuracy: 0.8750 - recall_10: 0.6852\n",
      "Epoch 183/400\n",
      "20/20 [==============================] - 0s 1ms/step - loss: 0.3213 - accuracy: 0.8800 - recall_10: 0.6667\n",
      "Epoch 184/400\n",
      "20/20 [==============================] - 0s 1ms/step - loss: 0.3229 - accuracy: 0.8850 - recall_10: 0.6852\n",
      "Epoch 185/400\n",
      "20/20 [==============================] - 0s 1ms/step - loss: 0.3212 - accuracy: 0.8750 - recall_10: 0.6852\n",
      "Epoch 186/400\n",
      "20/20 [==============================] - 0s 1ms/step - loss: 0.3225 - accuracy: 0.8750 - recall_10: 0.6852\n",
      "Epoch 187/400\n",
      "20/20 [==============================] - 0s 1ms/step - loss: 0.3197 - accuracy: 0.8850 - recall_10: 0.6667\n",
      "Epoch 188/400\n",
      "20/20 [==============================] - 0s 1ms/step - loss: 0.3196 - accuracy: 0.8850 - recall_10: 0.6852\n",
      "Epoch 189/400\n",
      "20/20 [==============================] - 0s 1ms/step - loss: 0.3196 - accuracy: 0.8750 - recall_10: 0.6852\n",
      "Epoch 190/400\n",
      "20/20 [==============================] - 0s 1ms/step - loss: 0.3208 - accuracy: 0.8750 - recall_10: 0.6667\n",
      "Epoch 191/400\n",
      "20/20 [==============================] - 0s 1ms/step - loss: 0.3189 - accuracy: 0.8900 - recall_10: 0.6852\n",
      "Epoch 192/400\n",
      "20/20 [==============================] - 0s 1ms/step - loss: 0.3212 - accuracy: 0.8750 - recall_10: 0.6852\n",
      "Epoch 193/400\n",
      "20/20 [==============================] - 0s 1ms/step - loss: 0.3182 - accuracy: 0.8750 - recall_10: 0.6852\n",
      "Epoch 194/400\n",
      "20/20 [==============================] - 0s 1ms/step - loss: 0.3171 - accuracy: 0.8850 - recall_10: 0.6852\n",
      "Epoch 195/400\n",
      "20/20 [==============================] - 0s 1ms/step - loss: 0.3179 - accuracy: 0.8800 - recall_10: 0.6852\n",
      "Epoch 196/400\n",
      "20/20 [==============================] - 0s 1ms/step - loss: 0.3186 - accuracy: 0.8800 - recall_10: 0.7037\n",
      "Epoch 197/400\n",
      "20/20 [==============================] - 0s 1ms/step - loss: 0.3180 - accuracy: 0.8750 - recall_10: 0.6852\n",
      "Epoch 198/400\n",
      "20/20 [==============================] - 0s 1ms/step - loss: 0.3158 - accuracy: 0.8750 - recall_10: 0.6667\n",
      "Epoch 199/400\n",
      "20/20 [==============================] - 0s 1ms/step - loss: 0.3194 - accuracy: 0.8800 - recall_10: 0.6667\n",
      "Epoch 200/400\n",
      "20/20 [==============================] - 0s 1ms/step - loss: 0.3180 - accuracy: 0.8800 - recall_10: 0.7037\n",
      "Epoch 201/400\n",
      "20/20 [==============================] - 0s 1ms/step - loss: 0.3152 - accuracy: 0.8800 - recall_10: 0.7037\n",
      "Epoch 202/400\n",
      "20/20 [==============================] - 0s 1ms/step - loss: 0.3159 - accuracy: 0.8850 - recall_10: 0.6667\n",
      "Epoch 203/400\n",
      "20/20 [==============================] - 0s 1ms/step - loss: 0.3182 - accuracy: 0.8850 - recall_10: 0.7037\n",
      "Epoch 204/400\n",
      "20/20 [==============================] - 0s 1ms/step - loss: 0.3154 - accuracy: 0.8850 - recall_10: 0.7037\n",
      "Epoch 205/400\n",
      "20/20 [==============================] - 0s 1ms/step - loss: 0.3136 - accuracy: 0.8850 - recall_10: 0.6667\n",
      "Epoch 206/400\n",
      "20/20 [==============================] - 0s 1ms/step - loss: 0.3139 - accuracy: 0.8850 - recall_10: 0.7037\n",
      "Epoch 207/400\n",
      "20/20 [==============================] - 0s 2ms/step - loss: 0.3141 - accuracy: 0.8800 - recall_10: 0.7037\n",
      "Epoch 208/400\n",
      "20/20 [==============================] - 0s 2ms/step - loss: 0.3128 - accuracy: 0.8850 - recall_10: 0.7037\n",
      "Epoch 209/400\n",
      "20/20 [==============================] - 0s 1ms/step - loss: 0.3132 - accuracy: 0.8850 - recall_10: 0.6852\n",
      "Epoch 210/400\n",
      "20/20 [==============================] - 0s 1ms/step - loss: 0.3142 - accuracy: 0.8800 - recall_10: 0.7037\n",
      "Epoch 211/400\n",
      "20/20 [==============================] - 0s 4ms/step - loss: 0.3121 - accuracy: 0.8800 - recall_10: 0.7037\n",
      "Epoch 212/400\n",
      "20/20 [==============================] - 0s 1ms/step - loss: 0.3119 - accuracy: 0.8900 - recall_10: 0.7222\n",
      "Epoch 213/400\n",
      "20/20 [==============================] - 0s 1ms/step - loss: 0.3137 - accuracy: 0.8800 - recall_10: 0.6852\n",
      "Epoch 214/400\n",
      "20/20 [==============================] - 0s 1ms/step - loss: 0.3123 - accuracy: 0.8850 - recall_10: 0.7037\n",
      "Epoch 215/400\n",
      "20/20 [==============================] - 0s 1ms/step - loss: 0.3116 - accuracy: 0.8800 - recall_10: 0.7037\n",
      "Epoch 216/400\n",
      "20/20 [==============================] - 0s 1ms/step - loss: 0.3113 - accuracy: 0.8950 - recall_10: 0.7222\n",
      "Epoch 217/400\n",
      "20/20 [==============================] - 0s 1ms/step - loss: 0.3129 - accuracy: 0.8750 - recall_10: 0.6667\n",
      "Epoch 218/400\n",
      "20/20 [==============================] - 0s 1ms/step - loss: 0.3122 - accuracy: 0.8900 - recall_10: 0.7222\n",
      "Epoch 219/400\n",
      "20/20 [==============================] - 0s 1ms/step - loss: 0.3101 - accuracy: 0.8800 - recall_10: 0.7037\n",
      "Epoch 220/400\n",
      "20/20 [==============================] - 0s 1ms/step - loss: 0.3105 - accuracy: 0.8850 - recall_10: 0.6852\n",
      "Epoch 221/400\n",
      "20/20 [==============================] - 0s 2ms/step - loss: 0.3097 - accuracy: 0.8850 - recall_10: 0.7037\n",
      "Epoch 222/400\n",
      "20/20 [==============================] - 0s 1ms/step - loss: 0.3119 - accuracy: 0.8900 - recall_10: 0.7407\n",
      "Epoch 223/400\n",
      "20/20 [==============================] - 0s 1ms/step - loss: 0.3092 - accuracy: 0.8850 - recall_10: 0.7222\n",
      "Epoch 224/400\n",
      "20/20 [==============================] - 0s 1ms/step - loss: 0.3100 - accuracy: 0.8900 - recall_10: 0.7222\n",
      "Epoch 225/400\n",
      "20/20 [==============================] - 0s 1ms/step - loss: 0.3101 - accuracy: 0.9000 - recall_10: 0.7222\n",
      "Epoch 226/400\n",
      "20/20 [==============================] - 0s 2ms/step - loss: 0.3092 - accuracy: 0.8900 - recall_10: 0.7037\n",
      "Epoch 227/400\n",
      "20/20 [==============================] - 0s 1ms/step - loss: 0.3094 - accuracy: 0.8900 - recall_10: 0.7407\n",
      "Epoch 228/400\n",
      "20/20 [==============================] - 0s 1ms/step - loss: 0.3092 - accuracy: 0.8900 - recall_10: 0.7407\n",
      "Epoch 229/400\n",
      "20/20 [==============================] - 0s 1ms/step - loss: 0.3081 - accuracy: 0.8900 - recall_10: 0.7037\n",
      "Epoch 230/400\n",
      "20/20 [==============================] - 0s 1ms/step - loss: 0.3086 - accuracy: 0.8900 - recall_10: 0.6852\n",
      "Epoch 231/400\n",
      "20/20 [==============================] - 0s 1ms/step - loss: 0.3087 - accuracy: 0.8950 - recall_10: 0.7222\n",
      "Epoch 232/400\n",
      "20/20 [==============================] - 0s 1ms/step - loss: 0.3092 - accuracy: 0.8900 - recall_10: 0.7407\n",
      "Epoch 233/400\n",
      "20/20 [==============================] - 0s 1ms/step - loss: 0.3073 - accuracy: 0.8900 - recall_10: 0.7407\n",
      "Epoch 234/400\n",
      "20/20 [==============================] - 0s 1ms/step - loss: 0.3078 - accuracy: 0.8900 - recall_10: 0.7407\n",
      "Epoch 235/400\n",
      "20/20 [==============================] - 0s 2ms/step - loss: 0.3077 - accuracy: 0.8900 - recall_10: 0.7037\n",
      "Epoch 236/400\n",
      "20/20 [==============================] - 0s 1ms/step - loss: 0.3068 - accuracy: 0.8950 - recall_10: 0.7407\n",
      "Epoch 237/400\n",
      "20/20 [==============================] - 0s 1ms/step - loss: 0.3065 - accuracy: 0.8950 - recall_10: 0.7407\n",
      "Epoch 238/400\n",
      "20/20 [==============================] - 0s 1ms/step - loss: 0.3071 - accuracy: 0.8950 - recall_10: 0.7407\n",
      "Epoch 239/400\n",
      "20/20 [==============================] - 0s 1ms/step - loss: 0.3078 - accuracy: 0.8950 - recall_10: 0.7407\n",
      "Epoch 240/400\n",
      "20/20 [==============================] - 0s 1ms/step - loss: 0.3057 - accuracy: 0.8900 - recall_10: 0.7407\n",
      "Epoch 241/400\n",
      "20/20 [==============================] - 0s 2ms/step - loss: 0.3110 - accuracy: 0.8850 - recall_10: 0.6667\n",
      "Epoch 242/400\n",
      "20/20 [==============================] - 0s 1ms/step - loss: 0.3064 - accuracy: 0.8950 - recall_10: 0.7407\n",
      "Epoch 243/400\n",
      "20/20 [==============================] - 0s 1ms/step - loss: 0.3074 - accuracy: 0.8800 - recall_10: 0.7037\n",
      "Epoch 244/400\n",
      "20/20 [==============================] - 0s 3ms/step - loss: 0.3054 - accuracy: 0.8950 - recall_10: 0.7407\n",
      "Epoch 245/400\n",
      "20/20 [==============================] - 0s 2ms/step - loss: 0.3057 - accuracy: 0.8950 - recall_10: 0.7407\n",
      "Epoch 246/400\n",
      "20/20 [==============================] - 0s 2ms/step - loss: 0.3086 - accuracy: 0.8850 - recall_10: 0.7222\n",
      "Epoch 247/400\n",
      "20/20 [==============================] - 0s 2ms/step - loss: 0.3051 - accuracy: 0.8950 - recall_10: 0.7407\n",
      "Epoch 248/400\n",
      "20/20 [==============================] - 0s 1ms/step - loss: 0.3048 - accuracy: 0.8900 - recall_10: 0.7407\n",
      "Epoch 249/400\n",
      "20/20 [==============================] - 0s 1ms/step - loss: 0.3042 - accuracy: 0.8900 - recall_10: 0.7407\n",
      "Epoch 250/400\n",
      "20/20 [==============================] - 0s 1ms/step - loss: 0.3055 - accuracy: 0.8900 - recall_10: 0.7407\n",
      "Epoch 251/400\n",
      "20/20 [==============================] - 0s 1ms/step - loss: 0.3055 - accuracy: 0.8900 - recall_10: 0.7037\n",
      "Epoch 252/400\n",
      "20/20 [==============================] - 0s 1ms/step - loss: 0.3082 - accuracy: 0.8900 - recall_10: 0.7407\n",
      "Epoch 253/400\n",
      "20/20 [==============================] - 0s 1ms/step - loss: 0.3128 - accuracy: 0.8850 - recall_10: 0.6667\n",
      "Epoch 254/400\n",
      "20/20 [==============================] - 0s 1ms/step - loss: 0.3063 - accuracy: 0.8850 - recall_10: 0.7222\n",
      "Epoch 255/400\n",
      "20/20 [==============================] - 0s 2ms/step - loss: 0.3042 - accuracy: 0.8900 - recall_10: 0.7407\n",
      "Epoch 256/400\n",
      "20/20 [==============================] - 0s 2ms/step - loss: 0.3044 - accuracy: 0.9050 - recall_10: 0.7407\n",
      "Epoch 257/400\n",
      "20/20 [==============================] - 0s 1ms/step - loss: 0.3055 - accuracy: 0.8900 - recall_10: 0.7407\n",
      "Epoch 258/400\n",
      "20/20 [==============================] - 0s 1ms/step - loss: 0.3046 - accuracy: 0.9000 - recall_10: 0.7407\n",
      "Epoch 259/400\n",
      "20/20 [==============================] - 0s 1ms/step - loss: 0.3042 - accuracy: 0.8900 - recall_10: 0.7407\n",
      "Epoch 260/400\n",
      "20/20 [==============================] - 0s 1ms/step - loss: 0.3038 - accuracy: 0.8900 - recall_10: 0.7407\n",
      "Epoch 261/400\n",
      "20/20 [==============================] - 0s 1ms/step - loss: 0.3048 - accuracy: 0.9000 - recall_10: 0.7222\n",
      "Epoch 262/400\n",
      "20/20 [==============================] - 0s 1ms/step - loss: 0.3043 - accuracy: 0.8900 - recall_10: 0.7407\n",
      "Epoch 263/400\n",
      "20/20 [==============================] - 0s 2ms/step - loss: 0.3038 - accuracy: 0.9050 - recall_10: 0.7407\n",
      "Epoch 264/400\n",
      "20/20 [==============================] - 0s 1ms/step - loss: 0.3035 - accuracy: 0.8900 - recall_10: 0.7407\n",
      "Epoch 265/400\n",
      "20/20 [==============================] - 0s 2ms/step - loss: 0.3040 - accuracy: 0.9050 - recall_10: 0.7407\n",
      "Epoch 266/400\n",
      "20/20 [==============================] - 0s 2ms/step - loss: 0.3054 - accuracy: 0.8900 - recall_10: 0.7407\n",
      "Epoch 267/400\n",
      "20/20 [==============================] - 0s 1ms/step - loss: 0.3053 - accuracy: 0.8850 - recall_10: 0.7037\n",
      "Epoch 268/400\n",
      "20/20 [==============================] - 0s 2ms/step - loss: 0.3060 - accuracy: 0.8900 - recall_10: 0.7222\n",
      "Epoch 269/400\n",
      "20/20 [==============================] - 0s 1ms/step - loss: 0.3019 - accuracy: 0.8900 - recall_10: 0.7407\n",
      "Epoch 270/400\n",
      "20/20 [==============================] - 0s 2ms/step - loss: 0.3018 - accuracy: 0.9050 - recall_10: 0.7407\n",
      "Epoch 271/400\n",
      "20/20 [==============================] - 0s 1ms/step - loss: 0.3014 - accuracy: 0.8850 - recall_10: 0.7222\n",
      "Epoch 272/400\n",
      "20/20 [==============================] - 0s 2ms/step - loss: 0.3016 - accuracy: 0.8950 - recall_10: 0.7407\n",
      "Epoch 273/400\n",
      "20/20 [==============================] - 0s 5ms/step - loss: 0.3019 - accuracy: 0.8950 - recall_10: 0.7222\n",
      "Epoch 274/400\n",
      "20/20 [==============================] - 0s 2ms/step - loss: 0.3004 - accuracy: 0.8900 - recall_10: 0.7407\n",
      "Epoch 275/400\n",
      "20/20 [==============================] - 0s 1ms/step - loss: 0.3011 - accuracy: 0.9000 - recall_10: 0.7407\n",
      "Epoch 276/400\n",
      "20/20 [==============================] - 0s 1ms/step - loss: 0.3013 - accuracy: 0.8900 - recall_10: 0.7407\n",
      "Epoch 277/400\n",
      "20/20 [==============================] - 0s 1000us/step - loss: 0.3008 - accuracy: 0.8950 - recall_10: 0.7407\n",
      "Epoch 278/400\n",
      "20/20 [==============================] - 0s 1ms/step - loss: 0.3011 - accuracy: 0.9000 - recall_10: 0.7222\n",
      "Epoch 279/400\n",
      "20/20 [==============================] - 0s 1ms/step - loss: 0.3037 - accuracy: 0.8850 - recall_10: 0.7407\n",
      "Epoch 280/400\n",
      "20/20 [==============================] - 0s 1ms/step - loss: 0.3032 - accuracy: 0.8950 - recall_10: 0.7222\n",
      "Epoch 281/400\n",
      "20/20 [==============================] - 0s 1ms/step - loss: 0.3012 - accuracy: 0.9000 - recall_10: 0.7407\n",
      "Epoch 282/400\n",
      "20/20 [==============================] - 0s 2ms/step - loss: 0.3007 - accuracy: 0.9000 - recall_10: 0.7222\n",
      "Epoch 283/400\n",
      "20/20 [==============================] - 0s 1ms/step - loss: 0.3003 - accuracy: 0.9000 - recall_10: 0.7407\n",
      "Epoch 284/400\n",
      "20/20 [==============================] - 0s 2ms/step - loss: 0.3004 - accuracy: 0.8900 - recall_10: 0.7407\n",
      "Epoch 285/400\n",
      "20/20 [==============================] - 0s 1ms/step - loss: 0.3000 - accuracy: 0.8950 - recall_10: 0.7407\n",
      "Epoch 286/400\n",
      "20/20 [==============================] - 0s 2ms/step - loss: 0.2994 - accuracy: 0.8950 - recall_10: 0.7222\n",
      "Epoch 287/400\n",
      "20/20 [==============================] - 0s 2ms/step - loss: 0.3000 - accuracy: 0.8950 - recall_10: 0.7407\n",
      "Epoch 288/400\n",
      "20/20 [==============================] - 0s 2ms/step - loss: 0.3000 - accuracy: 0.9000 - recall_10: 0.7222\n",
      "Epoch 289/400\n",
      "20/20 [==============================] - 0s 1ms/step - loss: 0.2986 - accuracy: 0.9000 - recall_10: 0.7222\n",
      "Epoch 290/400\n",
      "20/20 [==============================] - 0s 2ms/step - loss: 0.2989 - accuracy: 0.8950 - recall_10: 0.7222\n",
      "Epoch 291/400\n",
      "20/20 [==============================] - 0s 1ms/step - loss: 0.2994 - accuracy: 0.9000 - recall_10: 0.7222\n",
      "Epoch 292/400\n",
      "20/20 [==============================] - 0s 2ms/step - loss: 0.3017 - accuracy: 0.8850 - recall_10: 0.7222\n",
      "Epoch 293/400\n",
      "20/20 [==============================] - 0s 1ms/step - loss: 0.2984 - accuracy: 0.9000 - recall_10: 0.7222\n",
      "Epoch 294/400\n",
      "20/20 [==============================] - 0s 1ms/step - loss: 0.3000 - accuracy: 0.8900 - recall_10: 0.7222\n",
      "Epoch 295/400\n",
      "20/20 [==============================] - 0s 1ms/step - loss: 0.2988 - accuracy: 0.9000 - recall_10: 0.7222\n",
      "Epoch 296/400\n",
      "20/20 [==============================] - 0s 1ms/step - loss: 0.2997 - accuracy: 0.8950 - recall_10: 0.7407\n",
      "Epoch 297/400\n",
      "20/20 [==============================] - 0s 1ms/step - loss: 0.2987 - accuracy: 0.8950 - recall_10: 0.7222\n",
      "Epoch 298/400\n",
      "20/20 [==============================] - 0s 1ms/step - loss: 0.2988 - accuracy: 0.9050 - recall_10: 0.7407\n",
      "Epoch 299/400\n",
      "20/20 [==============================] - 0s 4ms/step - loss: 0.3027 - accuracy: 0.8900 - recall_10: 0.7407\n",
      "Epoch 300/400\n",
      "20/20 [==============================] - 0s 2ms/step - loss: 0.3001 - accuracy: 0.9000 - recall_10: 0.7222\n",
      "Epoch 301/400\n",
      "20/20 [==============================] - 0s 2ms/step - loss: 0.3000 - accuracy: 0.8900 - recall_10: 0.7222\n",
      "Epoch 302/400\n",
      "20/20 [==============================] - 0s 1ms/step - loss: 0.2993 - accuracy: 0.9000 - recall_10: 0.7222\n",
      "Epoch 303/400\n",
      "20/20 [==============================] - 0s 2ms/step - loss: 0.2987 - accuracy: 0.9000 - recall_10: 0.7222\n",
      "Epoch 304/400\n",
      "20/20 [==============================] - 0s 2ms/step - loss: 0.2975 - accuracy: 0.8950 - recall_10: 0.7222\n",
      "Epoch 305/400\n",
      "20/20 [==============================] - 0s 1ms/step - loss: 0.2973 - accuracy: 0.9000 - recall_10: 0.7222\n",
      "Epoch 306/400\n",
      "20/20 [==============================] - 0s 1ms/step - loss: 0.2983 - accuracy: 0.8950 - recall_10: 0.7407\n",
      "Epoch 307/400\n",
      "20/20 [==============================] - 0s 1ms/step - loss: 0.2978 - accuracy: 0.9000 - recall_10: 0.7222\n",
      "Epoch 308/400\n",
      "20/20 [==============================] - 0s 1ms/step - loss: 0.3017 - accuracy: 0.8900 - recall_10: 0.7407\n",
      "Epoch 309/400\n",
      "20/20 [==============================] - 0s 1ms/step - loss: 0.2960 - accuracy: 0.8950 - recall_10: 0.7407\n",
      "Epoch 310/400\n",
      "20/20 [==============================] - 0s 1ms/step - loss: 0.3005 - accuracy: 0.8950 - recall_10: 0.7222\n",
      "Epoch 311/400\n",
      "20/20 [==============================] - 0s 1ms/step - loss: 0.2982 - accuracy: 0.8950 - recall_10: 0.7037\n",
      "Epoch 312/400\n",
      "20/20 [==============================] - 0s 1ms/step - loss: 0.3028 - accuracy: 0.8850 - recall_10: 0.7407\n",
      "Epoch 313/400\n",
      "20/20 [==============================] - 0s 1ms/step - loss: 0.2976 - accuracy: 0.8950 - recall_10: 0.7222\n",
      "Epoch 314/400\n",
      "20/20 [==============================] - 0s 1ms/step - loss: 0.2985 - accuracy: 0.8950 - recall_10: 0.7037\n",
      "Epoch 315/400\n",
      "20/20 [==============================] - 0s 1ms/step - loss: 0.2989 - accuracy: 0.8800 - recall_10: 0.7222\n",
      "Epoch 316/400\n",
      "20/20 [==============================] - 0s 1ms/step - loss: 0.2972 - accuracy: 0.8950 - recall_10: 0.7407\n",
      "Epoch 317/400\n",
      "20/20 [==============================] - 0s 1ms/step - loss: 0.2965 - accuracy: 0.8950 - recall_10: 0.7222\n",
      "Epoch 318/400\n",
      "20/20 [==============================] - 0s 1ms/step - loss: 0.2981 - accuracy: 0.8950 - recall_10: 0.7407\n",
      "Epoch 319/400\n",
      "20/20 [==============================] - 0s 1ms/step - loss: 0.2961 - accuracy: 0.9000 - recall_10: 0.7222\n",
      "Epoch 320/400\n",
      "20/20 [==============================] - 0s 1ms/step - loss: 0.2983 - accuracy: 0.9000 - recall_10: 0.7222\n",
      "Epoch 321/400\n",
      "20/20 [==============================] - 0s 1ms/step - loss: 0.3028 - accuracy: 0.8750 - recall_10: 0.7222\n",
      "Epoch 322/400\n",
      "20/20 [==============================] - 0s 1ms/step - loss: 0.2980 - accuracy: 0.8950 - recall_10: 0.7222\n",
      "Epoch 323/400\n",
      "20/20 [==============================] - 0s 1ms/step - loss: 0.2961 - accuracy: 0.9000 - recall_10: 0.7222\n",
      "Epoch 324/400\n",
      "20/20 [==============================] - 0s 1ms/step - loss: 0.2958 - accuracy: 0.9000 - recall_10: 0.7222\n",
      "Epoch 325/400\n",
      "20/20 [==============================] - 0s 1ms/step - loss: 0.2974 - accuracy: 0.9000 - recall_10: 0.7222\n",
      "Epoch 326/400\n",
      "20/20 [==============================] - 0s 1ms/step - loss: 0.2970 - accuracy: 0.8950 - recall_10: 0.7407\n",
      "Epoch 327/400\n",
      "20/20 [==============================] - 0s 4ms/step - loss: 0.2966 - accuracy: 0.8900 - recall_10: 0.7222\n",
      "Epoch 328/400\n",
      "20/20 [==============================] - 0s 1000us/step - loss: 0.2952 - accuracy: 0.8900 - recall_10: 0.7222\n",
      "Epoch 329/400\n",
      "20/20 [==============================] - 0s 1ms/step - loss: 0.2965 - accuracy: 0.8900 - recall_10: 0.7222\n",
      "Epoch 330/400\n",
      "20/20 [==============================] - 0s 1ms/step - loss: 0.2950 - accuracy: 0.8950 - recall_10: 0.7222\n",
      "Epoch 331/400\n",
      "20/20 [==============================] - 0s 1ms/step - loss: 0.2958 - accuracy: 0.8800 - recall_10: 0.7222\n",
      "Epoch 332/400\n",
      "20/20 [==============================] - 0s 1ms/step - loss: 0.2959 - accuracy: 0.8950 - recall_10: 0.7222\n",
      "Epoch 333/400\n",
      "20/20 [==============================] - 0s 1ms/step - loss: 0.2972 - accuracy: 0.8950 - recall_10: 0.7222\n",
      "Epoch 334/400\n",
      "20/20 [==============================] - 0s 1ms/step - loss: 0.2989 - accuracy: 0.9000 - recall_10: 0.7222\n",
      "Epoch 335/400\n",
      "20/20 [==============================] - 0s 1000us/step - loss: 0.2967 - accuracy: 0.8800 - recall_10: 0.7222\n",
      "Epoch 336/400\n",
      "20/20 [==============================] - 0s 1ms/step - loss: 0.2941 - accuracy: 0.8850 - recall_10: 0.7407\n",
      "Epoch 337/400\n",
      "20/20 [==============================] - 0s 1ms/step - loss: 0.2951 - accuracy: 0.8950 - recall_10: 0.7037\n",
      "Epoch 338/400\n",
      "20/20 [==============================] - 0s 1ms/step - loss: 0.2938 - accuracy: 0.9000 - recall_10: 0.7222\n",
      "Epoch 339/400\n",
      "20/20 [==============================] - 0s 1ms/step - loss: 0.2940 - accuracy: 0.9000 - recall_10: 0.7222\n",
      "Epoch 340/400\n",
      "20/20 [==============================] - 0s 2ms/step - loss: 0.2946 - accuracy: 0.8850 - recall_10: 0.7222\n",
      "Epoch 341/400\n",
      "20/20 [==============================] - 0s 1ms/step - loss: 0.2932 - accuracy: 0.8900 - recall_10: 0.7222\n",
      "Epoch 342/400\n",
      "20/20 [==============================] - 0s 2ms/step - loss: 0.2935 - accuracy: 0.9050 - recall_10: 0.7407\n",
      "Epoch 343/400\n",
      "20/20 [==============================] - 0s 2ms/step - loss: 0.2939 - accuracy: 0.9000 - recall_10: 0.7222\n",
      "Epoch 344/400\n",
      "20/20 [==============================] - 0s 1ms/step - loss: 0.2939 - accuracy: 0.8950 - recall_10: 0.7222\n",
      "Epoch 345/400\n",
      "20/20 [==============================] - 0s 2ms/step - loss: 0.2941 - accuracy: 0.8850 - recall_10: 0.7222\n",
      "Epoch 346/400\n",
      "20/20 [==============================] - 0s 1ms/step - loss: 0.2951 - accuracy: 0.8900 - recall_10: 0.7037\n",
      "Epoch 347/400\n",
      "20/20 [==============================] - 0s 947us/step - loss: 0.2938 - accuracy: 0.9000 - recall_10: 0.7222\n",
      "Epoch 348/400\n",
      "20/20 [==============================] - 0s 1ms/step - loss: 0.2964 - accuracy: 0.8800 - recall_10: 0.7407\n",
      "Epoch 349/400\n",
      "20/20 [==============================] - 0s 1ms/step - loss: 0.2943 - accuracy: 0.8850 - recall_10: 0.7407\n",
      "Epoch 350/400\n",
      "20/20 [==============================] - 0s 5ms/step - loss: 0.2930 - accuracy: 0.8900 - recall_10: 0.7407\n",
      "Epoch 351/400\n",
      "20/20 [==============================] - 0s 1ms/step - loss: 0.2931 - accuracy: 0.8950 - recall_10: 0.7222\n",
      "Epoch 352/400\n",
      "20/20 [==============================] - 0s 1ms/step - loss: 0.2940 - accuracy: 0.8900 - recall_10: 0.7037\n",
      "Epoch 353/400\n",
      "20/20 [==============================] - 0s 1ms/step - loss: 0.2938 - accuracy: 0.8900 - recall_10: 0.7222\n",
      "Epoch 354/400\n",
      "20/20 [==============================] - 0s 1ms/step - loss: 0.2926 - accuracy: 0.8950 - recall_10: 0.7222\n",
      "Epoch 355/400\n",
      "20/20 [==============================] - 0s 1ms/step - loss: 0.2929 - accuracy: 0.8800 - recall_10: 0.7407\n",
      "Epoch 356/400\n",
      "20/20 [==============================] - 0s 1ms/step - loss: 0.2927 - accuracy: 0.9050 - recall_10: 0.7407\n",
      "Epoch 357/400\n",
      "20/20 [==============================] - 0s 1ms/step - loss: 0.2925 - accuracy: 0.8950 - recall_10: 0.7222\n",
      "Epoch 358/400\n",
      "20/20 [==============================] - 0s 1ms/step - loss: 0.2917 - accuracy: 0.8800 - recall_10: 0.7222\n",
      "Epoch 359/400\n",
      "20/20 [==============================] - 0s 1ms/step - loss: 0.2941 - accuracy: 0.8950 - recall_10: 0.7222\n",
      "Epoch 360/400\n",
      "20/20 [==============================] - 0s 1ms/step - loss: 0.2920 - accuracy: 0.8950 - recall_10: 0.7222\n",
      "Epoch 361/400\n",
      "20/20 [==============================] - 0s 1ms/step - loss: 0.2949 - accuracy: 0.8900 - recall_10: 0.7222\n",
      "Epoch 362/400\n",
      "20/20 [==============================] - 0s 1ms/step - loss: 0.2921 - accuracy: 0.8900 - recall_10: 0.7407\n",
      "Epoch 363/400\n",
      "20/20 [==============================] - 0s 1ms/step - loss: 0.2937 - accuracy: 0.8800 - recall_10: 0.7407\n",
      "Epoch 364/400\n",
      "20/20 [==============================] - 0s 1ms/step - loss: 0.2924 - accuracy: 0.8950 - recall_10: 0.7222\n",
      "Epoch 365/400\n",
      "20/20 [==============================] - 0s 1ms/step - loss: 0.2924 - accuracy: 0.8850 - recall_10: 0.7037\n",
      "Epoch 366/400\n",
      "20/20 [==============================] - 0s 1ms/step - loss: 0.2913 - accuracy: 0.8900 - recall_10: 0.7407\n",
      "Epoch 367/400\n",
      "20/20 [==============================] - 0s 1ms/step - loss: 0.2911 - accuracy: 0.8800 - recall_10: 0.7222\n",
      "Epoch 368/400\n",
      "20/20 [==============================] - 0s 1ms/step - loss: 0.2916 - accuracy: 0.8950 - recall_10: 0.7222\n",
      "Epoch 369/400\n",
      "20/20 [==============================] - 0s 1ms/step - loss: 0.2901 - accuracy: 0.8900 - recall_10: 0.7222\n",
      "Epoch 370/400\n",
      "20/20 [==============================] - 0s 1ms/step - loss: 0.2920 - accuracy: 0.8850 - recall_10: 0.7222\n",
      "Epoch 371/400\n",
      "20/20 [==============================] - 0s 1ms/step - loss: 0.2952 - accuracy: 0.8750 - recall_10: 0.7222\n",
      "Epoch 372/400\n",
      "20/20 [==============================] - 0s 1ms/step - loss: 0.2897 - accuracy: 0.8900 - recall_10: 0.7407\n",
      "Epoch 373/400\n",
      "20/20 [==============================] - 0s 1ms/step - loss: 0.2924 - accuracy: 0.8900 - recall_10: 0.7222\n",
      "Epoch 374/400\n",
      "20/20 [==============================] - 0s 1ms/step - loss: 0.2917 - accuracy: 0.8900 - recall_10: 0.7222\n",
      "Epoch 375/400\n",
      "20/20 [==============================] - 0s 1ms/step - loss: 0.2916 - accuracy: 0.8950 - recall_10: 0.7222\n",
      "Epoch 376/400\n",
      "20/20 [==============================] - 0s 1ms/step - loss: 0.2912 - accuracy: 0.8850 - recall_10: 0.7037\n",
      "Epoch 377/400\n",
      "20/20 [==============================] - 0s 1ms/step - loss: 0.2917 - accuracy: 0.8900 - recall_10: 0.7222\n",
      "Epoch 378/400\n",
      "20/20 [==============================] - 0s 1ms/step - loss: 0.2920 - accuracy: 0.8850 - recall_10: 0.7407\n",
      "Epoch 379/400\n",
      "20/20 [==============================] - 0s 1ms/step - loss: 0.2899 - accuracy: 0.8900 - recall_10: 0.7222\n",
      "Epoch 380/400\n",
      "20/20 [==============================] - 0s 1ms/step - loss: 0.2909 - accuracy: 0.8800 - recall_10: 0.7222\n",
      "Epoch 381/400\n",
      "20/20 [==============================] - 0s 1ms/step - loss: 0.2901 - accuracy: 0.8850 - recall_10: 0.7222\n",
      "Epoch 382/400\n",
      "20/20 [==============================] - 0s 3ms/step - loss: 0.2909 - accuracy: 0.8900 - recall_10: 0.7037\n",
      "Epoch 383/400\n",
      "20/20 [==============================] - 0s 1ms/step - loss: 0.2895 - accuracy: 0.8800 - recall_10: 0.7222\n",
      "Epoch 384/400\n",
      "20/20 [==============================] - 0s 1ms/step - loss: 0.2908 - accuracy: 0.8850 - recall_10: 0.7407\n",
      "Epoch 385/400\n",
      "20/20 [==============================] - 0s 1000us/step - loss: 0.2919 - accuracy: 0.8850 - recall_10: 0.7222\n",
      "Epoch 386/400\n",
      "20/20 [==============================] - 0s 1ms/step - loss: 0.2918 - accuracy: 0.8900 - recall_10: 0.7222\n",
      "Epoch 387/400\n",
      "20/20 [==============================] - 0s 1ms/step - loss: 0.2907 - accuracy: 0.8900 - recall_10: 0.7222\n",
      "Epoch 388/400\n",
      "20/20 [==============================] - 0s 1ms/step - loss: 0.2892 - accuracy: 0.8950 - recall_10: 0.7222\n",
      "Epoch 389/400\n",
      "20/20 [==============================] - 0s 1ms/step - loss: 0.2891 - accuracy: 0.8850 - recall_10: 0.7222\n",
      "Epoch 390/400\n",
      "20/20 [==============================] - 0s 1ms/step - loss: 0.2888 - accuracy: 0.8850 - recall_10: 0.7407\n",
      "Epoch 391/400\n",
      "20/20 [==============================] - 0s 1ms/step - loss: 0.2890 - accuracy: 0.8900 - recall_10: 0.7407\n",
      "Epoch 392/400\n",
      "20/20 [==============================] - 0s 1ms/step - loss: 0.2901 - accuracy: 0.8950 - recall_10: 0.7222\n",
      "Epoch 393/400\n",
      "20/20 [==============================] - 0s 1ms/step - loss: 0.2884 - accuracy: 0.8900 - recall_10: 0.7222\n",
      "Epoch 394/400\n",
      "20/20 [==============================] - 0s 1ms/step - loss: 0.2885 - accuracy: 0.8900 - recall_10: 0.7222\n",
      "Epoch 395/400\n",
      "20/20 [==============================] - 0s 1ms/step - loss: 0.2891 - accuracy: 0.8850 - recall_10: 0.7407\n",
      "Epoch 396/400\n",
      "20/20 [==============================] - 0s 2ms/step - loss: 0.2880 - accuracy: 0.8850 - recall_10: 0.7222\n",
      "Epoch 397/400\n",
      "20/20 [==============================] - 0s 1ms/step - loss: 0.2880 - accuracy: 0.8850 - recall_10: 0.7407\n",
      "Epoch 398/400\n",
      "20/20 [==============================] - 0s 1ms/step - loss: 0.2883 - accuracy: 0.8900 - recall_10: 0.7222\n",
      "Epoch 399/400\n",
      "20/20 [==============================] - 0s 1ms/step - loss: 0.2897 - accuracy: 0.8850 - recall_10: 0.7222\n",
      "Epoch 400/400\n",
      "20/20 [==============================] - 0s 1ms/step - loss: 0.2874 - accuracy: 0.8900 - recall_10: 0.7222\n"
     ]
    },
    {
     "data": {
      "text/plain": [
       "<keras.callbacks.History at 0x1dd52720250>"
      ]
     },
     "execution_count": 99,
     "metadata": {},
     "output_type": "execute_result"
    }
   ],
   "source": [
    "classificador = Sequential()\n",
    "classificador.add(Dense(units=3, activation='relu', input_dim=4))\n",
    "classificador.add(Dense(units=3, activation='relu'))\n",
    "classificador.add(Dense(units=1, activation='sigmoid'))\n",
    "classificador.compile(optimizer='adam', loss='binary_crossentropy', metrics=['accuracy', tf.keras.metrics.Recall()])\n",
    "\n",
    "classificador.fit(X_train, y_train, batch_size=10, epochs=400)"
   ]
  },
  {
   "cell_type": "code",
   "execution_count": null,
   "metadata": {},
   "outputs": [
    {
     "name": "stdout",
     "output_type": "stream",
     "text": [
      "4/4 [==============================] - 0s 1ms/step\n",
      "Accuracy: 0.7474747474747475\n",
      "Recall: 0.42857142857142855\n",
      "F1: 0.5901639344262295\n",
      "[[56  1]\n",
      " [24 18]]\n"
     ]
    }
   ],
   "source": [
    "prev = classificador.predict(X_test)\n",
    "prev = (prev > 0.6)\n",
    "print(f'Accuracy: {accuracy_score(y_test, prev)}')\n",
    "print(f'Recall: {recall_score(y_test, prev)}')\n",
    "print(f'F1: {f1_score(y_test, prev)}')\n",
    "print(confusion_matrix(y_test, prev))"
   ]
  },
  {
   "cell_type": "markdown",
   "metadata": {},
   "source": [
    "# Melhorando o melhor modelo"
   ]
  },
  {
   "cell_type": "markdown",
   "metadata": {},
   "source": [
    "O melhor modelo encontrado foi o SVC:"
   ]
  },
  {
   "cell_type": "code",
   "execution_count": 100,
   "metadata": {},
   "outputs": [
    {
     "name": "stdout",
     "output_type": "stream",
     "text": [
      "Accuracy: 0.797979797979798\n",
      "Recall: 0.6666666666666666\n",
      "F1: 0.7368421052631577\n",
      "[[51  6]\n",
      " [14 28]]\n"
     ]
    }
   ],
   "source": [
    "model = make_pipeline(StandardScaler(), SVC(gamma='auto')).fit(X_train, y_train)\n",
    "prev = model.predict(X_test)\n",
    "\n",
    "print(f'Accuracy: {accuracy_score(y_test, prev)}')\n",
    "print(f'Recall: {recall_score(y_test, prev)}')\n",
    "print(f'F1: {f1_score(y_test, prev)}')\n",
    "print(confusion_matrix(y_test, prev))"
   ]
  }
 ],
 "metadata": {
  "kernelspec": {
   "display_name": "Python 3.9.12 ('base')",
   "language": "python",
   "name": "python3"
  },
  "language_info": {
   "codemirror_mode": {
    "name": "ipython",
    "version": 3
   },
   "file_extension": ".py",
   "mimetype": "text/x-python",
   "name": "python",
   "nbconvert_exporter": "python",
   "pygments_lexer": "ipython3",
   "version": "3.9.12"
  },
  "orig_nbformat": 4,
  "vscode": {
   "interpreter": {
    "hash": "ad2bdc8ecc057115af97d19610ffacc2b4e99fae6737bb82f5d7fb13d2f2c186"
   }
  }
 },
 "nbformat": 4,
 "nbformat_minor": 2
}
