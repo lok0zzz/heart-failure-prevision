{
 "cells": [
  {
   "cell_type": "markdown",
   "metadata": {},
   "source": [
    "## Importação das bibliotecas"
   ]
  },
  {
   "cell_type": "code",
   "execution_count": 156,
   "metadata": {},
   "outputs": [],
   "source": [
    "import pandas as pd\n",
    "import numpy as np\n",
    "import seaborn as sns\n",
    "import plotly.express as px"
   ]
  },
  {
   "cell_type": "code",
   "execution_count": 157,
   "metadata": {},
   "outputs": [
    {
     "data": {
      "text/html": [
       "<div>\n",
       "<style scoped>\n",
       "    .dataframe tbody tr th:only-of-type {\n",
       "        vertical-align: middle;\n",
       "    }\n",
       "\n",
       "    .dataframe tbody tr th {\n",
       "        vertical-align: top;\n",
       "    }\n",
       "\n",
       "    .dataframe thead th {\n",
       "        text-align: right;\n",
       "    }\n",
       "</style>\n",
       "<table border=\"1\" class=\"dataframe\">\n",
       "  <thead>\n",
       "    <tr style=\"text-align: right;\">\n",
       "      <th></th>\n",
       "      <th>age</th>\n",
       "      <th>anaemia</th>\n",
       "      <th>creatinine_phosphokinase</th>\n",
       "      <th>diabetes</th>\n",
       "      <th>ejection_fraction</th>\n",
       "      <th>high_blood_pressure</th>\n",
       "      <th>platelets</th>\n",
       "      <th>serum_creatinine</th>\n",
       "      <th>serum_sodium</th>\n",
       "      <th>sex</th>\n",
       "      <th>smoking</th>\n",
       "      <th>time</th>\n",
       "      <th>DEATH_EVENT</th>\n",
       "    </tr>\n",
       "  </thead>\n",
       "  <tbody>\n",
       "    <tr>\n",
       "      <th>0</th>\n",
       "      <td>75.0</td>\n",
       "      <td>0</td>\n",
       "      <td>582</td>\n",
       "      <td>0</td>\n",
       "      <td>20</td>\n",
       "      <td>1</td>\n",
       "      <td>265000.00</td>\n",
       "      <td>1.9</td>\n",
       "      <td>130</td>\n",
       "      <td>1</td>\n",
       "      <td>0</td>\n",
       "      <td>4</td>\n",
       "      <td>1</td>\n",
       "    </tr>\n",
       "    <tr>\n",
       "      <th>1</th>\n",
       "      <td>55.0</td>\n",
       "      <td>0</td>\n",
       "      <td>7861</td>\n",
       "      <td>0</td>\n",
       "      <td>38</td>\n",
       "      <td>0</td>\n",
       "      <td>263358.03</td>\n",
       "      <td>1.1</td>\n",
       "      <td>136</td>\n",
       "      <td>1</td>\n",
       "      <td>0</td>\n",
       "      <td>6</td>\n",
       "      <td>1</td>\n",
       "    </tr>\n",
       "    <tr>\n",
       "      <th>2</th>\n",
       "      <td>65.0</td>\n",
       "      <td>0</td>\n",
       "      <td>146</td>\n",
       "      <td>0</td>\n",
       "      <td>20</td>\n",
       "      <td>0</td>\n",
       "      <td>162000.00</td>\n",
       "      <td>1.3</td>\n",
       "      <td>129</td>\n",
       "      <td>1</td>\n",
       "      <td>1</td>\n",
       "      <td>7</td>\n",
       "      <td>1</td>\n",
       "    </tr>\n",
       "    <tr>\n",
       "      <th>3</th>\n",
       "      <td>50.0</td>\n",
       "      <td>1</td>\n",
       "      <td>111</td>\n",
       "      <td>0</td>\n",
       "      <td>20</td>\n",
       "      <td>0</td>\n",
       "      <td>210000.00</td>\n",
       "      <td>1.9</td>\n",
       "      <td>137</td>\n",
       "      <td>1</td>\n",
       "      <td>0</td>\n",
       "      <td>7</td>\n",
       "      <td>1</td>\n",
       "    </tr>\n",
       "    <tr>\n",
       "      <th>4</th>\n",
       "      <td>65.0</td>\n",
       "      <td>1</td>\n",
       "      <td>160</td>\n",
       "      <td>1</td>\n",
       "      <td>20</td>\n",
       "      <td>0</td>\n",
       "      <td>327000.00</td>\n",
       "      <td>2.7</td>\n",
       "      <td>116</td>\n",
       "      <td>0</td>\n",
       "      <td>0</td>\n",
       "      <td>8</td>\n",
       "      <td>1</td>\n",
       "    </tr>\n",
       "  </tbody>\n",
       "</table>\n",
       "</div>"
      ],
      "text/plain": [
       "    age  anaemia  creatinine_phosphokinase  diabetes  ejection_fraction  \\\n",
       "0  75.0        0                       582         0                 20   \n",
       "1  55.0        0                      7861         0                 38   \n",
       "2  65.0        0                       146         0                 20   \n",
       "3  50.0        1                       111         0                 20   \n",
       "4  65.0        1                       160         1                 20   \n",
       "\n",
       "   high_blood_pressure  platelets  serum_creatinine  serum_sodium  sex  \\\n",
       "0                    1  265000.00               1.9           130    1   \n",
       "1                    0  263358.03               1.1           136    1   \n",
       "2                    0  162000.00               1.3           129    1   \n",
       "3                    0  210000.00               1.9           137    1   \n",
       "4                    0  327000.00               2.7           116    0   \n",
       "\n",
       "   smoking  time  DEATH_EVENT  \n",
       "0        0     4            1  \n",
       "1        0     6            1  \n",
       "2        1     7            1  \n",
       "3        0     7            1  \n",
       "4        0     8            1  "
      ]
     },
     "execution_count": 157,
     "metadata": {},
     "output_type": "execute_result"
    }
   ],
   "source": [
    "data = pd.read_csv('Heart Failure Clinical Records.csv')\n",
    "data.head()"
   ]
  },
  {
   "cell_type": "markdown",
   "metadata": {},
   "source": [
    "## Análise exploratória"
   ]
  },
  {
   "cell_type": "code",
   "execution_count": 158,
   "metadata": {},
   "outputs": [
    {
     "name": "stdout",
     "output_type": "stream",
     "text": [
      "Tamanho: (299, 13)\n",
      "-----------------------------------------------------------------------------------------------------------\n"
     ]
    },
    {
     "data": {
      "text/html": [
       "<div>\n",
       "<style scoped>\n",
       "    .dataframe tbody tr th:only-of-type {\n",
       "        vertical-align: middle;\n",
       "    }\n",
       "\n",
       "    .dataframe tbody tr th {\n",
       "        vertical-align: top;\n",
       "    }\n",
       "\n",
       "    .dataframe thead th {\n",
       "        text-align: right;\n",
       "    }\n",
       "</style>\n",
       "<table border=\"1\" class=\"dataframe\">\n",
       "  <thead>\n",
       "    <tr style=\"text-align: right;\">\n",
       "      <th></th>\n",
       "      <th>age</th>\n",
       "      <th>anaemia</th>\n",
       "      <th>creatinine_phosphokinase</th>\n",
       "      <th>diabetes</th>\n",
       "      <th>ejection_fraction</th>\n",
       "      <th>high_blood_pressure</th>\n",
       "      <th>platelets</th>\n",
       "      <th>serum_creatinine</th>\n",
       "      <th>serum_sodium</th>\n",
       "      <th>sex</th>\n",
       "      <th>smoking</th>\n",
       "      <th>time</th>\n",
       "      <th>DEATH_EVENT</th>\n",
       "    </tr>\n",
       "  </thead>\n",
       "  <tbody>\n",
       "    <tr>\n",
       "      <th>count</th>\n",
       "      <td>299.000000</td>\n",
       "      <td>299.000000</td>\n",
       "      <td>299.000000</td>\n",
       "      <td>299.000000</td>\n",
       "      <td>299.000000</td>\n",
       "      <td>299.000000</td>\n",
       "      <td>299.000000</td>\n",
       "      <td>299.00000</td>\n",
       "      <td>299.000000</td>\n",
       "      <td>299.000000</td>\n",
       "      <td>299.00000</td>\n",
       "      <td>299.000000</td>\n",
       "      <td>299.00000</td>\n",
       "    </tr>\n",
       "    <tr>\n",
       "      <th>mean</th>\n",
       "      <td>60.833893</td>\n",
       "      <td>0.431438</td>\n",
       "      <td>581.839465</td>\n",
       "      <td>0.418060</td>\n",
       "      <td>38.083612</td>\n",
       "      <td>0.351171</td>\n",
       "      <td>263358.029264</td>\n",
       "      <td>1.39388</td>\n",
       "      <td>136.625418</td>\n",
       "      <td>0.648829</td>\n",
       "      <td>0.32107</td>\n",
       "      <td>130.260870</td>\n",
       "      <td>0.32107</td>\n",
       "    </tr>\n",
       "    <tr>\n",
       "      <th>std</th>\n",
       "      <td>11.894809</td>\n",
       "      <td>0.496107</td>\n",
       "      <td>970.287881</td>\n",
       "      <td>0.494067</td>\n",
       "      <td>11.834841</td>\n",
       "      <td>0.478136</td>\n",
       "      <td>97804.236869</td>\n",
       "      <td>1.03451</td>\n",
       "      <td>4.412477</td>\n",
       "      <td>0.478136</td>\n",
       "      <td>0.46767</td>\n",
       "      <td>77.614208</td>\n",
       "      <td>0.46767</td>\n",
       "    </tr>\n",
       "    <tr>\n",
       "      <th>min</th>\n",
       "      <td>40.000000</td>\n",
       "      <td>0.000000</td>\n",
       "      <td>23.000000</td>\n",
       "      <td>0.000000</td>\n",
       "      <td>14.000000</td>\n",
       "      <td>0.000000</td>\n",
       "      <td>25100.000000</td>\n",
       "      <td>0.50000</td>\n",
       "      <td>113.000000</td>\n",
       "      <td>0.000000</td>\n",
       "      <td>0.00000</td>\n",
       "      <td>4.000000</td>\n",
       "      <td>0.00000</td>\n",
       "    </tr>\n",
       "    <tr>\n",
       "      <th>25%</th>\n",
       "      <td>51.000000</td>\n",
       "      <td>0.000000</td>\n",
       "      <td>116.500000</td>\n",
       "      <td>0.000000</td>\n",
       "      <td>30.000000</td>\n",
       "      <td>0.000000</td>\n",
       "      <td>212500.000000</td>\n",
       "      <td>0.90000</td>\n",
       "      <td>134.000000</td>\n",
       "      <td>0.000000</td>\n",
       "      <td>0.00000</td>\n",
       "      <td>73.000000</td>\n",
       "      <td>0.00000</td>\n",
       "    </tr>\n",
       "    <tr>\n",
       "      <th>50%</th>\n",
       "      <td>60.000000</td>\n",
       "      <td>0.000000</td>\n",
       "      <td>250.000000</td>\n",
       "      <td>0.000000</td>\n",
       "      <td>38.000000</td>\n",
       "      <td>0.000000</td>\n",
       "      <td>262000.000000</td>\n",
       "      <td>1.10000</td>\n",
       "      <td>137.000000</td>\n",
       "      <td>1.000000</td>\n",
       "      <td>0.00000</td>\n",
       "      <td>115.000000</td>\n",
       "      <td>0.00000</td>\n",
       "    </tr>\n",
       "    <tr>\n",
       "      <th>75%</th>\n",
       "      <td>70.000000</td>\n",
       "      <td>1.000000</td>\n",
       "      <td>582.000000</td>\n",
       "      <td>1.000000</td>\n",
       "      <td>45.000000</td>\n",
       "      <td>1.000000</td>\n",
       "      <td>303500.000000</td>\n",
       "      <td>1.40000</td>\n",
       "      <td>140.000000</td>\n",
       "      <td>1.000000</td>\n",
       "      <td>1.00000</td>\n",
       "      <td>203.000000</td>\n",
       "      <td>1.00000</td>\n",
       "    </tr>\n",
       "    <tr>\n",
       "      <th>max</th>\n",
       "      <td>95.000000</td>\n",
       "      <td>1.000000</td>\n",
       "      <td>7861.000000</td>\n",
       "      <td>1.000000</td>\n",
       "      <td>80.000000</td>\n",
       "      <td>1.000000</td>\n",
       "      <td>850000.000000</td>\n",
       "      <td>9.40000</td>\n",
       "      <td>148.000000</td>\n",
       "      <td>1.000000</td>\n",
       "      <td>1.00000</td>\n",
       "      <td>285.000000</td>\n",
       "      <td>1.00000</td>\n",
       "    </tr>\n",
       "  </tbody>\n",
       "</table>\n",
       "</div>"
      ],
      "text/plain": [
       "              age     anaemia  creatinine_phosphokinase    diabetes  \\\n",
       "count  299.000000  299.000000                299.000000  299.000000   \n",
       "mean    60.833893    0.431438                581.839465    0.418060   \n",
       "std     11.894809    0.496107                970.287881    0.494067   \n",
       "min     40.000000    0.000000                 23.000000    0.000000   \n",
       "25%     51.000000    0.000000                116.500000    0.000000   \n",
       "50%     60.000000    0.000000                250.000000    0.000000   \n",
       "75%     70.000000    1.000000                582.000000    1.000000   \n",
       "max     95.000000    1.000000               7861.000000    1.000000   \n",
       "\n",
       "       ejection_fraction  high_blood_pressure      platelets  \\\n",
       "count         299.000000           299.000000     299.000000   \n",
       "mean           38.083612             0.351171  263358.029264   \n",
       "std            11.834841             0.478136   97804.236869   \n",
       "min            14.000000             0.000000   25100.000000   \n",
       "25%            30.000000             0.000000  212500.000000   \n",
       "50%            38.000000             0.000000  262000.000000   \n",
       "75%            45.000000             1.000000  303500.000000   \n",
       "max            80.000000             1.000000  850000.000000   \n",
       "\n",
       "       serum_creatinine  serum_sodium         sex    smoking        time  \\\n",
       "count         299.00000    299.000000  299.000000  299.00000  299.000000   \n",
       "mean            1.39388    136.625418    0.648829    0.32107  130.260870   \n",
       "std             1.03451      4.412477    0.478136    0.46767   77.614208   \n",
       "min             0.50000    113.000000    0.000000    0.00000    4.000000   \n",
       "25%             0.90000    134.000000    0.000000    0.00000   73.000000   \n",
       "50%             1.10000    137.000000    1.000000    0.00000  115.000000   \n",
       "75%             1.40000    140.000000    1.000000    1.00000  203.000000   \n",
       "max             9.40000    148.000000    1.000000    1.00000  285.000000   \n",
       "\n",
       "       DEATH_EVENT  \n",
       "count    299.00000  \n",
       "mean       0.32107  \n",
       "std        0.46767  \n",
       "min        0.00000  \n",
       "25%        0.00000  \n",
       "50%        0.00000  \n",
       "75%        1.00000  \n",
       "max        1.00000  "
      ]
     },
     "metadata": {},
     "output_type": "display_data"
    },
    {
     "name": "stdout",
     "output_type": "stream",
     "text": [
      "-----------------------------------------------------------------------------------------------------------\n",
      "<class 'pandas.core.frame.DataFrame'>\n",
      "RangeIndex: 299 entries, 0 to 298\n",
      "Data columns (total 13 columns):\n",
      " #   Column                    Non-Null Count  Dtype  \n",
      "---  ------                    --------------  -----  \n",
      " 0   age                       299 non-null    float64\n",
      " 1   anaemia                   299 non-null    int64  \n",
      " 2   creatinine_phosphokinase  299 non-null    int64  \n",
      " 3   diabetes                  299 non-null    int64  \n",
      " 4   ejection_fraction         299 non-null    int64  \n",
      " 5   high_blood_pressure       299 non-null    int64  \n",
      " 6   platelets                 299 non-null    float64\n",
      " 7   serum_creatinine          299 non-null    float64\n",
      " 8   serum_sodium              299 non-null    int64  \n",
      " 9   sex                       299 non-null    int64  \n",
      " 10  smoking                   299 non-null    int64  \n",
      " 11  time                      299 non-null    int64  \n",
      " 12  DEATH_EVENT               299 non-null    int64  \n",
      "dtypes: float64(3), int64(10)\n",
      "memory usage: 30.5 KB\n",
      "None\n"
     ]
    }
   ],
   "source": [
    "print('Tamanho: ', end=\"\")\n",
    "print(data.shape)\n",
    "print('-----------------------------------------------------------------------------------------------------------')\n",
    "display(data.describe())\n",
    "print('-----------------------------------------------------------------------------------------------------------')\n",
    "print(data.info())"
   ]
  },
  {
   "cell_type": "markdown",
   "metadata": {},
   "source": [
    "Aqui observamos que temos mais mulheres do que homens na nossa base de dados."
   ]
  },
  {
   "cell_type": "code",
   "execution_count": 159,
   "metadata": {},
   "outputs": [
    {
     "data": {
      "text/html": [
       "<div>\n",
       "<style scoped>\n",
       "    .dataframe tbody tr th:only-of-type {\n",
       "        vertical-align: middle;\n",
       "    }\n",
       "\n",
       "    .dataframe tbody tr th {\n",
       "        vertical-align: top;\n",
       "    }\n",
       "\n",
       "    .dataframe thead th {\n",
       "        text-align: right;\n",
       "    }\n",
       "</style>\n",
       "<table border=\"1\" class=\"dataframe\">\n",
       "  <thead>\n",
       "    <tr style=\"text-align: right;\">\n",
       "      <th></th>\n",
       "      <th>age</th>\n",
       "      <th>anaemia</th>\n",
       "      <th>creatinine_phosphokinase</th>\n",
       "      <th>diabetes</th>\n",
       "      <th>ejection_fraction</th>\n",
       "      <th>high_blood_pressure</th>\n",
       "      <th>platelets</th>\n",
       "      <th>serum_creatinine</th>\n",
       "      <th>serum_sodium</th>\n",
       "      <th>sex</th>\n",
       "      <th>smoking</th>\n",
       "      <th>time</th>\n",
       "      <th>DEATH_EVENT</th>\n",
       "    </tr>\n",
       "  </thead>\n",
       "  <tbody>\n",
       "    <tr>\n",
       "      <th>0</th>\n",
       "      <td>75.0</td>\n",
       "      <td>0</td>\n",
       "      <td>582</td>\n",
       "      <td>0</td>\n",
       "      <td>20</td>\n",
       "      <td>1</td>\n",
       "      <td>265000.00</td>\n",
       "      <td>1.9</td>\n",
       "      <td>130</td>\n",
       "      <td>1</td>\n",
       "      <td>0</td>\n",
       "      <td>4</td>\n",
       "      <td>1</td>\n",
       "    </tr>\n",
       "    <tr>\n",
       "      <th>1</th>\n",
       "      <td>55.0</td>\n",
       "      <td>0</td>\n",
       "      <td>7861</td>\n",
       "      <td>0</td>\n",
       "      <td>38</td>\n",
       "      <td>0</td>\n",
       "      <td>263358.03</td>\n",
       "      <td>1.1</td>\n",
       "      <td>136</td>\n",
       "      <td>1</td>\n",
       "      <td>0</td>\n",
       "      <td>6</td>\n",
       "      <td>1</td>\n",
       "    </tr>\n",
       "    <tr>\n",
       "      <th>2</th>\n",
       "      <td>65.0</td>\n",
       "      <td>0</td>\n",
       "      <td>146</td>\n",
       "      <td>0</td>\n",
       "      <td>20</td>\n",
       "      <td>0</td>\n",
       "      <td>162000.00</td>\n",
       "      <td>1.3</td>\n",
       "      <td>129</td>\n",
       "      <td>1</td>\n",
       "      <td>1</td>\n",
       "      <td>7</td>\n",
       "      <td>1</td>\n",
       "    </tr>\n",
       "    <tr>\n",
       "      <th>3</th>\n",
       "      <td>50.0</td>\n",
       "      <td>1</td>\n",
       "      <td>111</td>\n",
       "      <td>0</td>\n",
       "      <td>20</td>\n",
       "      <td>0</td>\n",
       "      <td>210000.00</td>\n",
       "      <td>1.9</td>\n",
       "      <td>137</td>\n",
       "      <td>1</td>\n",
       "      <td>0</td>\n",
       "      <td>7</td>\n",
       "      <td>1</td>\n",
       "    </tr>\n",
       "    <tr>\n",
       "      <th>4</th>\n",
       "      <td>65.0</td>\n",
       "      <td>1</td>\n",
       "      <td>160</td>\n",
       "      <td>1</td>\n",
       "      <td>20</td>\n",
       "      <td>0</td>\n",
       "      <td>327000.00</td>\n",
       "      <td>2.7</td>\n",
       "      <td>116</td>\n",
       "      <td>0</td>\n",
       "      <td>0</td>\n",
       "      <td>8</td>\n",
       "      <td>1</td>\n",
       "    </tr>\n",
       "    <tr>\n",
       "      <th>...</th>\n",
       "      <td>...</td>\n",
       "      <td>...</td>\n",
       "      <td>...</td>\n",
       "      <td>...</td>\n",
       "      <td>...</td>\n",
       "      <td>...</td>\n",
       "      <td>...</td>\n",
       "      <td>...</td>\n",
       "      <td>...</td>\n",
       "      <td>...</td>\n",
       "      <td>...</td>\n",
       "      <td>...</td>\n",
       "      <td>...</td>\n",
       "    </tr>\n",
       "    <tr>\n",
       "      <th>294</th>\n",
       "      <td>62.0</td>\n",
       "      <td>0</td>\n",
       "      <td>61</td>\n",
       "      <td>1</td>\n",
       "      <td>38</td>\n",
       "      <td>1</td>\n",
       "      <td>155000.00</td>\n",
       "      <td>1.1</td>\n",
       "      <td>143</td>\n",
       "      <td>1</td>\n",
       "      <td>1</td>\n",
       "      <td>270</td>\n",
       "      <td>0</td>\n",
       "    </tr>\n",
       "    <tr>\n",
       "      <th>295</th>\n",
       "      <td>55.0</td>\n",
       "      <td>0</td>\n",
       "      <td>1820</td>\n",
       "      <td>0</td>\n",
       "      <td>38</td>\n",
       "      <td>0</td>\n",
       "      <td>270000.00</td>\n",
       "      <td>1.2</td>\n",
       "      <td>139</td>\n",
       "      <td>0</td>\n",
       "      <td>0</td>\n",
       "      <td>271</td>\n",
       "      <td>0</td>\n",
       "    </tr>\n",
       "    <tr>\n",
       "      <th>296</th>\n",
       "      <td>45.0</td>\n",
       "      <td>0</td>\n",
       "      <td>2060</td>\n",
       "      <td>1</td>\n",
       "      <td>60</td>\n",
       "      <td>0</td>\n",
       "      <td>742000.00</td>\n",
       "      <td>0.8</td>\n",
       "      <td>138</td>\n",
       "      <td>0</td>\n",
       "      <td>0</td>\n",
       "      <td>278</td>\n",
       "      <td>0</td>\n",
       "    </tr>\n",
       "    <tr>\n",
       "      <th>297</th>\n",
       "      <td>45.0</td>\n",
       "      <td>0</td>\n",
       "      <td>2413</td>\n",
       "      <td>0</td>\n",
       "      <td>38</td>\n",
       "      <td>0</td>\n",
       "      <td>140000.00</td>\n",
       "      <td>1.4</td>\n",
       "      <td>140</td>\n",
       "      <td>1</td>\n",
       "      <td>1</td>\n",
       "      <td>280</td>\n",
       "      <td>0</td>\n",
       "    </tr>\n",
       "    <tr>\n",
       "      <th>298</th>\n",
       "      <td>50.0</td>\n",
       "      <td>0</td>\n",
       "      <td>196</td>\n",
       "      <td>0</td>\n",
       "      <td>45</td>\n",
       "      <td>0</td>\n",
       "      <td>395000.00</td>\n",
       "      <td>1.6</td>\n",
       "      <td>136</td>\n",
       "      <td>1</td>\n",
       "      <td>1</td>\n",
       "      <td>285</td>\n",
       "      <td>0</td>\n",
       "    </tr>\n",
       "  </tbody>\n",
       "</table>\n",
       "<p>299 rows × 13 columns</p>\n",
       "</div>"
      ],
      "text/plain": [
       "      age  anaemia  creatinine_phosphokinase  diabetes  ejection_fraction  \\\n",
       "0    75.0        0                       582         0                 20   \n",
       "1    55.0        0                      7861         0                 38   \n",
       "2    65.0        0                       146         0                 20   \n",
       "3    50.0        1                       111         0                 20   \n",
       "4    65.0        1                       160         1                 20   \n",
       "..    ...      ...                       ...       ...                ...   \n",
       "294  62.0        0                        61         1                 38   \n",
       "295  55.0        0                      1820         0                 38   \n",
       "296  45.0        0                      2060         1                 60   \n",
       "297  45.0        0                      2413         0                 38   \n",
       "298  50.0        0                       196         0                 45   \n",
       "\n",
       "     high_blood_pressure  platelets  serum_creatinine  serum_sodium  sex  \\\n",
       "0                      1  265000.00               1.9           130    1   \n",
       "1                      0  263358.03               1.1           136    1   \n",
       "2                      0  162000.00               1.3           129    1   \n",
       "3                      0  210000.00               1.9           137    1   \n",
       "4                      0  327000.00               2.7           116    0   \n",
       "..                   ...        ...               ...           ...  ...   \n",
       "294                    1  155000.00               1.1           143    1   \n",
       "295                    0  270000.00               1.2           139    0   \n",
       "296                    0  742000.00               0.8           138    0   \n",
       "297                    0  140000.00               1.4           140    1   \n",
       "298                    0  395000.00               1.6           136    1   \n",
       "\n",
       "     smoking  time  DEATH_EVENT  \n",
       "0          0     4            1  \n",
       "1          0     6            1  \n",
       "2          1     7            1  \n",
       "3          0     7            1  \n",
       "4          0     8            1  \n",
       "..       ...   ...          ...  \n",
       "294        1   270            0  \n",
       "295        0   271            0  \n",
       "296        0   278            0  \n",
       "297        1   280            0  \n",
       "298        1   285            0  \n",
       "\n",
       "[299 rows x 13 columns]"
      ]
     },
     "metadata": {},
     "output_type": "display_data"
    }
   ],
   "source": [
    "tmp = data.copy()\n",
    "tmp['sex'] = tmp['sex'].apply(lambda x: 'Mulher' if x == 0 else 'Homem')\n",
    "tmp['DEATH_EVENT'] = tmp['DEATH_EVENT'].apply(lambda x: 'Não faleceu' if x == 0 else 'Faleceu')\n",
    "\n",
    "fig = px.pie(tmp, names='sex', width=500, color_discrete_sequence=['#19647E', '#A31621'])\n",
    "fig.update_xaxes(title_text='Sexo')\n",
    "fig.update_yaxes(title_text='')\n",
    "fig.update_layout(bargap=0.2)\n",
    "# fig.show()\n",
    "display(data)\n"
   ]
  },
  {
   "cell_type": "markdown",
   "metadata": {},
   "source": [
    "Aqui podemos ver que apenas 32% dos homens e 32,4% das mulheres da base de dados faleceram durante o acompanhamento"
   ]
  },
  {
   "cell_type": "code",
   "execution_count": 160,
   "metadata": {},
   "outputs": [
    {
     "data": {
      "application/vnd.plotly.v1+json": {
       "config": {
        "plotlyServerURL": "https://plot.ly"
       },
       "data": [
        {
         "alignmentgroup": "True",
         "bingroup": "x",
         "hovertemplate": "Sexo=Homem<br>DEATH_EVENT=%{x}<br>count=%{y}<extra></extra>",
         "legendgroup": "Homem",
         "marker": {
          "color": "#19647E",
          "pattern": {
           "shape": ""
          }
         },
         "name": "Homem",
         "offsetgroup": "Homem",
         "orientation": "v",
         "showlegend": true,
         "type": "histogram",
         "x": [
          "Faleceu",
          "Faleceu",
          "Faleceu",
          "Faleceu",
          "Faleceu",
          "Faleceu",
          "Faleceu",
          "Faleceu",
          "Faleceu",
          "Faleceu",
          "Faleceu",
          "Faleceu",
          "Faleceu",
          "Faleceu",
          "Faleceu",
          "Faleceu",
          "Não faleceu",
          "Faleceu",
          "Faleceu",
          "Faleceu",
          "Faleceu",
          "Faleceu",
          "Faleceu",
          "Faleceu",
          "Faleceu",
          "Faleceu",
          "Não faleceu",
          "Faleceu",
          "Faleceu",
          "Não faleceu",
          "Faleceu",
          "Faleceu",
          "Faleceu",
          "Faleceu",
          "Faleceu",
          "Faleceu",
          "Não faleceu",
          "Não faleceu",
          "Faleceu",
          "Faleceu",
          "Faleceu",
          "Não faleceu",
          "Faleceu",
          "Faleceu",
          "Faleceu",
          "Faleceu",
          "Não faleceu",
          "Não faleceu",
          "Faleceu",
          "Não faleceu",
          "Faleceu",
          "Faleceu",
          "Não faleceu",
          "Não faleceu",
          "Não faleceu",
          "Não faleceu",
          "Não faleceu",
          "Não faleceu",
          "Não faleceu",
          "Não faleceu",
          "Não faleceu",
          "Não faleceu",
          "Não faleceu",
          "Faleceu",
          "Não faleceu",
          "Não faleceu",
          "Não faleceu",
          "Não faleceu",
          "Não faleceu",
          "Não faleceu",
          "Não faleceu",
          "Não faleceu",
          "Não faleceu",
          "Não faleceu",
          "Faleceu",
          "Não faleceu",
          "Não faleceu",
          "Não faleceu",
          "Não faleceu",
          "Faleceu",
          "Não faleceu",
          "Não faleceu",
          "Não faleceu",
          "Não faleceu",
          "Não faleceu",
          "Não faleceu",
          "Não faleceu",
          "Não faleceu",
          "Não faleceu",
          "Faleceu",
          "Faleceu",
          "Não faleceu",
          "Não faleceu",
          "Não faleceu",
          "Faleceu",
          "Não faleceu",
          "Não faleceu",
          "Não faleceu",
          "Não faleceu",
          "Não faleceu",
          "Não faleceu",
          "Não faleceu",
          "Não faleceu",
          "Não faleceu",
          "Não faleceu",
          "Não faleceu",
          "Faleceu",
          "Não faleceu",
          "Faleceu",
          "Não faleceu",
          "Não faleceu",
          "Não faleceu",
          "Não faleceu",
          "Não faleceu",
          "Não faleceu",
          "Não faleceu",
          "Não faleceu",
          "Não faleceu",
          "Não faleceu",
          "Faleceu",
          "Faleceu",
          "Faleceu",
          "Faleceu",
          "Faleceu",
          "Não faleceu",
          "Não faleceu",
          "Não faleceu",
          "Faleceu",
          "Faleceu",
          "Não faleceu",
          "Não faleceu",
          "Não faleceu",
          "Não faleceu",
          "Não faleceu",
          "Não faleceu",
          "Não faleceu",
          "Não faleceu",
          "Não faleceu",
          "Não faleceu",
          "Não faleceu",
          "Não faleceu",
          "Não faleceu",
          "Faleceu",
          "Não faleceu",
          "Não faleceu",
          "Não faleceu",
          "Não faleceu",
          "Não faleceu",
          "Não faleceu",
          "Não faleceu",
          "Não faleceu",
          "Não faleceu",
          "Não faleceu",
          "Não faleceu",
          "Não faleceu",
          "Não faleceu",
          "Não faleceu",
          "Não faleceu",
          "Não faleceu",
          "Não faleceu",
          "Não faleceu",
          "Faleceu",
          "Não faleceu",
          "Não faleceu",
          "Não faleceu",
          "Não faleceu",
          "Não faleceu",
          "Não faleceu",
          "Não faleceu",
          "Não faleceu",
          "Não faleceu",
          "Faleceu",
          "Não faleceu",
          "Não faleceu",
          "Faleceu",
          "Não faleceu",
          "Não faleceu",
          "Não faleceu",
          "Não faleceu",
          "Não faleceu",
          "Não faleceu",
          "Não faleceu",
          "Não faleceu",
          "Não faleceu",
          "Não faleceu",
          "Não faleceu",
          "Não faleceu",
          "Não faleceu",
          "Não faleceu",
          "Não faleceu",
          "Não faleceu",
          "Não faleceu",
          "Não faleceu",
          "Não faleceu"
         ],
         "xaxis": "x",
         "yaxis": "y"
        },
        {
         "alignmentgroup": "True",
         "bingroup": "x",
         "hovertemplate": "Sexo=Mulher<br>DEATH_EVENT=%{x}<br>count=%{y}<extra></extra>",
         "legendgroup": "Mulher",
         "marker": {
          "color": "#A31621",
          "pattern": {
           "shape": ""
          }
         },
         "name": "Mulher",
         "offsetgroup": "Mulher",
         "orientation": "v",
         "showlegend": true,
         "type": "histogram",
         "x": [
          "Faleceu",
          "Faleceu",
          "Não faleceu",
          "Faleceu",
          "Faleceu",
          "Não faleceu",
          "Faleceu",
          "Faleceu",
          "Faleceu",
          "Faleceu",
          "Não faleceu",
          "Faleceu",
          "Faleceu",
          "Faleceu",
          "Faleceu",
          "Faleceu",
          "Faleceu",
          "Faleceu",
          "Faleceu",
          "Faleceu",
          "Faleceu",
          "Não faleceu",
          "Faleceu",
          "Faleceu",
          "Não faleceu",
          "Não faleceu",
          "Não faleceu",
          "Faleceu",
          "Faleceu",
          "Não faleceu",
          "Não faleceu",
          "Não faleceu",
          "Não faleceu",
          "Não faleceu",
          "Não faleceu",
          "Faleceu",
          "Faleceu",
          "Não faleceu",
          "Não faleceu",
          "Não faleceu",
          "Não faleceu",
          "Faleceu",
          "Não faleceu",
          "Não faleceu",
          "Não faleceu",
          "Não faleceu",
          "Faleceu",
          "Não faleceu",
          "Não faleceu",
          "Não faleceu",
          "Não faleceu",
          "Não faleceu",
          "Não faleceu",
          "Não faleceu",
          "Faleceu",
          "Não faleceu",
          "Não faleceu",
          "Faleceu",
          "Faleceu",
          "Não faleceu",
          "Não faleceu",
          "Não faleceu",
          "Faleceu",
          "Faleceu",
          "Não faleceu",
          "Não faleceu",
          "Não faleceu",
          "Não faleceu",
          "Não faleceu",
          "Não faleceu",
          "Não faleceu",
          "Não faleceu",
          "Não faleceu",
          "Não faleceu",
          "Faleceu",
          "Não faleceu",
          "Faleceu",
          "Não faleceu",
          "Não faleceu",
          "Não faleceu",
          "Não faleceu",
          "Faleceu",
          "Não faleceu",
          "Não faleceu",
          "Não faleceu",
          "Não faleceu",
          "Não faleceu",
          "Não faleceu",
          "Não faleceu",
          "Não faleceu",
          "Não faleceu",
          "Não faleceu",
          "Não faleceu",
          "Não faleceu",
          "Não faleceu",
          "Não faleceu",
          "Não faleceu",
          "Não faleceu",
          "Não faleceu",
          "Não faleceu",
          "Não faleceu",
          "Não faleceu",
          "Não faleceu",
          "Não faleceu",
          "Não faleceu"
         ],
         "xaxis": "x",
         "yaxis": "y"
        }
       ],
       "layout": {
        "bargap": 0.2,
        "barmode": "relative",
        "legend": {
         "title": {
          "text": "Sexo"
         },
         "tracegroupgap": 0
        },
        "margin": {
         "t": 60
        },
        "template": {
         "data": {
          "bar": [
           {
            "error_x": {
             "color": "#2a3f5f"
            },
            "error_y": {
             "color": "#2a3f5f"
            },
            "marker": {
             "line": {
              "color": "#E5ECF6",
              "width": 0.5
             },
             "pattern": {
              "fillmode": "overlay",
              "size": 10,
              "solidity": 0.2
             }
            },
            "type": "bar"
           }
          ],
          "barpolar": [
           {
            "marker": {
             "line": {
              "color": "#E5ECF6",
              "width": 0.5
             },
             "pattern": {
              "fillmode": "overlay",
              "size": 10,
              "solidity": 0.2
             }
            },
            "type": "barpolar"
           }
          ],
          "carpet": [
           {
            "aaxis": {
             "endlinecolor": "#2a3f5f",
             "gridcolor": "white",
             "linecolor": "white",
             "minorgridcolor": "white",
             "startlinecolor": "#2a3f5f"
            },
            "baxis": {
             "endlinecolor": "#2a3f5f",
             "gridcolor": "white",
             "linecolor": "white",
             "minorgridcolor": "white",
             "startlinecolor": "#2a3f5f"
            },
            "type": "carpet"
           }
          ],
          "choropleth": [
           {
            "colorbar": {
             "outlinewidth": 0,
             "ticks": ""
            },
            "type": "choropleth"
           }
          ],
          "contour": [
           {
            "colorbar": {
             "outlinewidth": 0,
             "ticks": ""
            },
            "colorscale": [
             [
              0,
              "#0d0887"
             ],
             [
              0.1111111111111111,
              "#46039f"
             ],
             [
              0.2222222222222222,
              "#7201a8"
             ],
             [
              0.3333333333333333,
              "#9c179e"
             ],
             [
              0.4444444444444444,
              "#bd3786"
             ],
             [
              0.5555555555555556,
              "#d8576b"
             ],
             [
              0.6666666666666666,
              "#ed7953"
             ],
             [
              0.7777777777777778,
              "#fb9f3a"
             ],
             [
              0.8888888888888888,
              "#fdca26"
             ],
             [
              1,
              "#f0f921"
             ]
            ],
            "type": "contour"
           }
          ],
          "contourcarpet": [
           {
            "colorbar": {
             "outlinewidth": 0,
             "ticks": ""
            },
            "type": "contourcarpet"
           }
          ],
          "heatmap": [
           {
            "colorbar": {
             "outlinewidth": 0,
             "ticks": ""
            },
            "colorscale": [
             [
              0,
              "#0d0887"
             ],
             [
              0.1111111111111111,
              "#46039f"
             ],
             [
              0.2222222222222222,
              "#7201a8"
             ],
             [
              0.3333333333333333,
              "#9c179e"
             ],
             [
              0.4444444444444444,
              "#bd3786"
             ],
             [
              0.5555555555555556,
              "#d8576b"
             ],
             [
              0.6666666666666666,
              "#ed7953"
             ],
             [
              0.7777777777777778,
              "#fb9f3a"
             ],
             [
              0.8888888888888888,
              "#fdca26"
             ],
             [
              1,
              "#f0f921"
             ]
            ],
            "type": "heatmap"
           }
          ],
          "heatmapgl": [
           {
            "colorbar": {
             "outlinewidth": 0,
             "ticks": ""
            },
            "colorscale": [
             [
              0,
              "#0d0887"
             ],
             [
              0.1111111111111111,
              "#46039f"
             ],
             [
              0.2222222222222222,
              "#7201a8"
             ],
             [
              0.3333333333333333,
              "#9c179e"
             ],
             [
              0.4444444444444444,
              "#bd3786"
             ],
             [
              0.5555555555555556,
              "#d8576b"
             ],
             [
              0.6666666666666666,
              "#ed7953"
             ],
             [
              0.7777777777777778,
              "#fb9f3a"
             ],
             [
              0.8888888888888888,
              "#fdca26"
             ],
             [
              1,
              "#f0f921"
             ]
            ],
            "type": "heatmapgl"
           }
          ],
          "histogram": [
           {
            "marker": {
             "pattern": {
              "fillmode": "overlay",
              "size": 10,
              "solidity": 0.2
             }
            },
            "type": "histogram"
           }
          ],
          "histogram2d": [
           {
            "colorbar": {
             "outlinewidth": 0,
             "ticks": ""
            },
            "colorscale": [
             [
              0,
              "#0d0887"
             ],
             [
              0.1111111111111111,
              "#46039f"
             ],
             [
              0.2222222222222222,
              "#7201a8"
             ],
             [
              0.3333333333333333,
              "#9c179e"
             ],
             [
              0.4444444444444444,
              "#bd3786"
             ],
             [
              0.5555555555555556,
              "#d8576b"
             ],
             [
              0.6666666666666666,
              "#ed7953"
             ],
             [
              0.7777777777777778,
              "#fb9f3a"
             ],
             [
              0.8888888888888888,
              "#fdca26"
             ],
             [
              1,
              "#f0f921"
             ]
            ],
            "type": "histogram2d"
           }
          ],
          "histogram2dcontour": [
           {
            "colorbar": {
             "outlinewidth": 0,
             "ticks": ""
            },
            "colorscale": [
             [
              0,
              "#0d0887"
             ],
             [
              0.1111111111111111,
              "#46039f"
             ],
             [
              0.2222222222222222,
              "#7201a8"
             ],
             [
              0.3333333333333333,
              "#9c179e"
             ],
             [
              0.4444444444444444,
              "#bd3786"
             ],
             [
              0.5555555555555556,
              "#d8576b"
             ],
             [
              0.6666666666666666,
              "#ed7953"
             ],
             [
              0.7777777777777778,
              "#fb9f3a"
             ],
             [
              0.8888888888888888,
              "#fdca26"
             ],
             [
              1,
              "#f0f921"
             ]
            ],
            "type": "histogram2dcontour"
           }
          ],
          "mesh3d": [
           {
            "colorbar": {
             "outlinewidth": 0,
             "ticks": ""
            },
            "type": "mesh3d"
           }
          ],
          "parcoords": [
           {
            "line": {
             "colorbar": {
              "outlinewidth": 0,
              "ticks": ""
             }
            },
            "type": "parcoords"
           }
          ],
          "pie": [
           {
            "automargin": true,
            "type": "pie"
           }
          ],
          "scatter": [
           {
            "marker": {
             "colorbar": {
              "outlinewidth": 0,
              "ticks": ""
             }
            },
            "type": "scatter"
           }
          ],
          "scatter3d": [
           {
            "line": {
             "colorbar": {
              "outlinewidth": 0,
              "ticks": ""
             }
            },
            "marker": {
             "colorbar": {
              "outlinewidth": 0,
              "ticks": ""
             }
            },
            "type": "scatter3d"
           }
          ],
          "scattercarpet": [
           {
            "marker": {
             "colorbar": {
              "outlinewidth": 0,
              "ticks": ""
             }
            },
            "type": "scattercarpet"
           }
          ],
          "scattergeo": [
           {
            "marker": {
             "colorbar": {
              "outlinewidth": 0,
              "ticks": ""
             }
            },
            "type": "scattergeo"
           }
          ],
          "scattergl": [
           {
            "marker": {
             "colorbar": {
              "outlinewidth": 0,
              "ticks": ""
             }
            },
            "type": "scattergl"
           }
          ],
          "scattermapbox": [
           {
            "marker": {
             "colorbar": {
              "outlinewidth": 0,
              "ticks": ""
             }
            },
            "type": "scattermapbox"
           }
          ],
          "scatterpolar": [
           {
            "marker": {
             "colorbar": {
              "outlinewidth": 0,
              "ticks": ""
             }
            },
            "type": "scatterpolar"
           }
          ],
          "scatterpolargl": [
           {
            "marker": {
             "colorbar": {
              "outlinewidth": 0,
              "ticks": ""
             }
            },
            "type": "scatterpolargl"
           }
          ],
          "scatterternary": [
           {
            "marker": {
             "colorbar": {
              "outlinewidth": 0,
              "ticks": ""
             }
            },
            "type": "scatterternary"
           }
          ],
          "surface": [
           {
            "colorbar": {
             "outlinewidth": 0,
             "ticks": ""
            },
            "colorscale": [
             [
              0,
              "#0d0887"
             ],
             [
              0.1111111111111111,
              "#46039f"
             ],
             [
              0.2222222222222222,
              "#7201a8"
             ],
             [
              0.3333333333333333,
              "#9c179e"
             ],
             [
              0.4444444444444444,
              "#bd3786"
             ],
             [
              0.5555555555555556,
              "#d8576b"
             ],
             [
              0.6666666666666666,
              "#ed7953"
             ],
             [
              0.7777777777777778,
              "#fb9f3a"
             ],
             [
              0.8888888888888888,
              "#fdca26"
             ],
             [
              1,
              "#f0f921"
             ]
            ],
            "type": "surface"
           }
          ],
          "table": [
           {
            "cells": {
             "fill": {
              "color": "#EBF0F8"
             },
             "line": {
              "color": "white"
             }
            },
            "header": {
             "fill": {
              "color": "#C8D4E3"
             },
             "line": {
              "color": "white"
             }
            },
            "type": "table"
           }
          ]
         },
         "layout": {
          "annotationdefaults": {
           "arrowcolor": "#2a3f5f",
           "arrowhead": 0,
           "arrowwidth": 1
          },
          "autotypenumbers": "strict",
          "coloraxis": {
           "colorbar": {
            "outlinewidth": 0,
            "ticks": ""
           }
          },
          "colorscale": {
           "diverging": [
            [
             0,
             "#8e0152"
            ],
            [
             0.1,
             "#c51b7d"
            ],
            [
             0.2,
             "#de77ae"
            ],
            [
             0.3,
             "#f1b6da"
            ],
            [
             0.4,
             "#fde0ef"
            ],
            [
             0.5,
             "#f7f7f7"
            ],
            [
             0.6,
             "#e6f5d0"
            ],
            [
             0.7,
             "#b8e186"
            ],
            [
             0.8,
             "#7fbc41"
            ],
            [
             0.9,
             "#4d9221"
            ],
            [
             1,
             "#276419"
            ]
           ],
           "sequential": [
            [
             0,
             "#0d0887"
            ],
            [
             0.1111111111111111,
             "#46039f"
            ],
            [
             0.2222222222222222,
             "#7201a8"
            ],
            [
             0.3333333333333333,
             "#9c179e"
            ],
            [
             0.4444444444444444,
             "#bd3786"
            ],
            [
             0.5555555555555556,
             "#d8576b"
            ],
            [
             0.6666666666666666,
             "#ed7953"
            ],
            [
             0.7777777777777778,
             "#fb9f3a"
            ],
            [
             0.8888888888888888,
             "#fdca26"
            ],
            [
             1,
             "#f0f921"
            ]
           ],
           "sequentialminus": [
            [
             0,
             "#0d0887"
            ],
            [
             0.1111111111111111,
             "#46039f"
            ],
            [
             0.2222222222222222,
             "#7201a8"
            ],
            [
             0.3333333333333333,
             "#9c179e"
            ],
            [
             0.4444444444444444,
             "#bd3786"
            ],
            [
             0.5555555555555556,
             "#d8576b"
            ],
            [
             0.6666666666666666,
             "#ed7953"
            ],
            [
             0.7777777777777778,
             "#fb9f3a"
            ],
            [
             0.8888888888888888,
             "#fdca26"
            ],
            [
             1,
             "#f0f921"
            ]
           ]
          },
          "colorway": [
           "#636efa",
           "#EF553B",
           "#00cc96",
           "#ab63fa",
           "#FFA15A",
           "#19d3f3",
           "#FF6692",
           "#B6E880",
           "#FF97FF",
           "#FECB52"
          ],
          "font": {
           "color": "#2a3f5f"
          },
          "geo": {
           "bgcolor": "white",
           "lakecolor": "white",
           "landcolor": "#E5ECF6",
           "showlakes": true,
           "showland": true,
           "subunitcolor": "white"
          },
          "hoverlabel": {
           "align": "left"
          },
          "hovermode": "closest",
          "mapbox": {
           "style": "light"
          },
          "paper_bgcolor": "white",
          "plot_bgcolor": "#E5ECF6",
          "polar": {
           "angularaxis": {
            "gridcolor": "white",
            "linecolor": "white",
            "ticks": ""
           },
           "bgcolor": "#E5ECF6",
           "radialaxis": {
            "gridcolor": "white",
            "linecolor": "white",
            "ticks": ""
           }
          },
          "scene": {
           "xaxis": {
            "backgroundcolor": "#E5ECF6",
            "gridcolor": "white",
            "gridwidth": 2,
            "linecolor": "white",
            "showbackground": true,
            "ticks": "",
            "zerolinecolor": "white"
           },
           "yaxis": {
            "backgroundcolor": "#E5ECF6",
            "gridcolor": "white",
            "gridwidth": 2,
            "linecolor": "white",
            "showbackground": true,
            "ticks": "",
            "zerolinecolor": "white"
           },
           "zaxis": {
            "backgroundcolor": "#E5ECF6",
            "gridcolor": "white",
            "gridwidth": 2,
            "linecolor": "white",
            "showbackground": true,
            "ticks": "",
            "zerolinecolor": "white"
           }
          },
          "shapedefaults": {
           "line": {
            "color": "#2a3f5f"
           }
          },
          "ternary": {
           "aaxis": {
            "gridcolor": "white",
            "linecolor": "white",
            "ticks": ""
           },
           "baxis": {
            "gridcolor": "white",
            "linecolor": "white",
            "ticks": ""
           },
           "bgcolor": "#E5ECF6",
           "caxis": {
            "gridcolor": "white",
            "linecolor": "white",
            "ticks": ""
           }
          },
          "title": {
           "x": 0.05
          },
          "xaxis": {
           "automargin": true,
           "gridcolor": "white",
           "linecolor": "white",
           "ticks": "",
           "title": {
            "standoff": 15
           },
           "zerolinecolor": "white",
           "zerolinewidth": 2
          },
          "yaxis": {
           "automargin": true,
           "gridcolor": "white",
           "linecolor": "white",
           "ticks": "",
           "title": {
            "standoff": 15
           },
           "zerolinecolor": "white",
           "zerolinewidth": 2
          }
         }
        },
        "width": 500,
        "xaxis": {
         "anchor": "y",
         "domain": [
          0,
          1
         ],
         "title": {
          "text": "Evento"
         }
        },
        "yaxis": {
         "anchor": "x",
         "domain": [
          0,
          1
         ],
         "title": {
          "text": ""
         }
        }
       }
      }
     },
     "metadata": {},
     "output_type": "display_data"
    }
   ],
   "source": [
    "fig = px.histogram(tmp, x='DEATH_EVENT', width=500, \n",
    "             color_discrete_sequence=['#19647E', '#A31621'], color='sex', labels={\"sex\": \"Sexo\"})\n",
    "fig.update_xaxes(title_text='Evento')\n",
    "fig.update_yaxes(title_text='')\n",
    "fig.update_layout(bargap=0.2)\n",
    "fig.show()"
   ]
  },
  {
   "cell_type": "markdown",
   "metadata": {},
   "source": [
    "Aqui podemos observar que, dos pacientes falecidos, os homens são os que mais acabaram morrendo durante o acompanhamento"
   ]
  },
  {
   "cell_type": "code",
   "execution_count": 161,
   "metadata": {},
   "outputs": [
    {
     "data": {
      "application/vnd.plotly.v1+json": {
       "config": {
        "plotlyServerURL": "https://plot.ly"
       },
       "data": [
        {
         "domain": {
          "x": [
           0,
           1
          ],
          "y": [
           0,
           1
          ]
         },
         "hovertemplate": "sex=%{label}<extra></extra>",
         "labels": [
          "Homem",
          "Homem",
          "Homem",
          "Homem",
          "Mulher",
          "Homem",
          "Homem",
          "Homem",
          "Mulher",
          "Homem",
          "Homem",
          "Homem",
          "Homem",
          "Homem",
          "Homem",
          "Homem",
          "Homem",
          "Mulher",
          "Mulher",
          "Mulher",
          "Homem",
          "Mulher",
          "Homem",
          "Mulher",
          "Homem",
          "Homem",
          "Homem",
          "Homem",
          "Homem",
          "Mulher",
          "Homem",
          "Homem",
          "Homem",
          "Mulher",
          "Mulher",
          "Homem",
          "Mulher",
          "Homem",
          "Mulher",
          "Homem",
          "Homem",
          "Homem",
          "Homem",
          "Mulher",
          "Homem",
          "Mulher",
          "Mulher",
          "Mulher",
          "Mulher",
          "Homem",
          "Homem",
          "Homem",
          "Homem",
          "Mulher",
          "Homem",
          "Homem",
          "Mulher",
          "Homem",
          "Mulher",
          "Homem",
          "Homem",
          "Homem",
          "Homem",
          "Mulher",
          "Mulher",
          "Homem",
          "Mulher",
          "Homem",
          "Mulher",
          "Mulher",
          "Homem",
          "Mulher",
          "Homem",
          "Homem",
          "Homem",
          "Mulher",
          "Mulher",
          "Homem",
          "Mulher",
          "Homem",
          "Homem",
          "Homem",
          "Homem",
          "Homem",
          "Homem",
          "Mulher",
          "Mulher",
          "Homem",
          "Homem",
          "Mulher",
          "Mulher",
          "Homem",
          "Mulher",
          "Homem",
          "Homem",
          "Homem"
         ],
         "legendgroup": "",
         "name": "",
         "showlegend": true,
         "type": "pie"
        }
       ],
       "layout": {
        "legend": {
         "tracegroupgap": 0
        },
        "margin": {
         "t": 60
        },
        "piecolorway": [
         "#19647E",
         "#A31621"
        ],
        "template": {
         "data": {
          "bar": [
           {
            "error_x": {
             "color": "#2a3f5f"
            },
            "error_y": {
             "color": "#2a3f5f"
            },
            "marker": {
             "line": {
              "color": "#E5ECF6",
              "width": 0.5
             },
             "pattern": {
              "fillmode": "overlay",
              "size": 10,
              "solidity": 0.2
             }
            },
            "type": "bar"
           }
          ],
          "barpolar": [
           {
            "marker": {
             "line": {
              "color": "#E5ECF6",
              "width": 0.5
             },
             "pattern": {
              "fillmode": "overlay",
              "size": 10,
              "solidity": 0.2
             }
            },
            "type": "barpolar"
           }
          ],
          "carpet": [
           {
            "aaxis": {
             "endlinecolor": "#2a3f5f",
             "gridcolor": "white",
             "linecolor": "white",
             "minorgridcolor": "white",
             "startlinecolor": "#2a3f5f"
            },
            "baxis": {
             "endlinecolor": "#2a3f5f",
             "gridcolor": "white",
             "linecolor": "white",
             "minorgridcolor": "white",
             "startlinecolor": "#2a3f5f"
            },
            "type": "carpet"
           }
          ],
          "choropleth": [
           {
            "colorbar": {
             "outlinewidth": 0,
             "ticks": ""
            },
            "type": "choropleth"
           }
          ],
          "contour": [
           {
            "colorbar": {
             "outlinewidth": 0,
             "ticks": ""
            },
            "colorscale": [
             [
              0,
              "#0d0887"
             ],
             [
              0.1111111111111111,
              "#46039f"
             ],
             [
              0.2222222222222222,
              "#7201a8"
             ],
             [
              0.3333333333333333,
              "#9c179e"
             ],
             [
              0.4444444444444444,
              "#bd3786"
             ],
             [
              0.5555555555555556,
              "#d8576b"
             ],
             [
              0.6666666666666666,
              "#ed7953"
             ],
             [
              0.7777777777777778,
              "#fb9f3a"
             ],
             [
              0.8888888888888888,
              "#fdca26"
             ],
             [
              1,
              "#f0f921"
             ]
            ],
            "type": "contour"
           }
          ],
          "contourcarpet": [
           {
            "colorbar": {
             "outlinewidth": 0,
             "ticks": ""
            },
            "type": "contourcarpet"
           }
          ],
          "heatmap": [
           {
            "colorbar": {
             "outlinewidth": 0,
             "ticks": ""
            },
            "colorscale": [
             [
              0,
              "#0d0887"
             ],
             [
              0.1111111111111111,
              "#46039f"
             ],
             [
              0.2222222222222222,
              "#7201a8"
             ],
             [
              0.3333333333333333,
              "#9c179e"
             ],
             [
              0.4444444444444444,
              "#bd3786"
             ],
             [
              0.5555555555555556,
              "#d8576b"
             ],
             [
              0.6666666666666666,
              "#ed7953"
             ],
             [
              0.7777777777777778,
              "#fb9f3a"
             ],
             [
              0.8888888888888888,
              "#fdca26"
             ],
             [
              1,
              "#f0f921"
             ]
            ],
            "type": "heatmap"
           }
          ],
          "heatmapgl": [
           {
            "colorbar": {
             "outlinewidth": 0,
             "ticks": ""
            },
            "colorscale": [
             [
              0,
              "#0d0887"
             ],
             [
              0.1111111111111111,
              "#46039f"
             ],
             [
              0.2222222222222222,
              "#7201a8"
             ],
             [
              0.3333333333333333,
              "#9c179e"
             ],
             [
              0.4444444444444444,
              "#bd3786"
             ],
             [
              0.5555555555555556,
              "#d8576b"
             ],
             [
              0.6666666666666666,
              "#ed7953"
             ],
             [
              0.7777777777777778,
              "#fb9f3a"
             ],
             [
              0.8888888888888888,
              "#fdca26"
             ],
             [
              1,
              "#f0f921"
             ]
            ],
            "type": "heatmapgl"
           }
          ],
          "histogram": [
           {
            "marker": {
             "pattern": {
              "fillmode": "overlay",
              "size": 10,
              "solidity": 0.2
             }
            },
            "type": "histogram"
           }
          ],
          "histogram2d": [
           {
            "colorbar": {
             "outlinewidth": 0,
             "ticks": ""
            },
            "colorscale": [
             [
              0,
              "#0d0887"
             ],
             [
              0.1111111111111111,
              "#46039f"
             ],
             [
              0.2222222222222222,
              "#7201a8"
             ],
             [
              0.3333333333333333,
              "#9c179e"
             ],
             [
              0.4444444444444444,
              "#bd3786"
             ],
             [
              0.5555555555555556,
              "#d8576b"
             ],
             [
              0.6666666666666666,
              "#ed7953"
             ],
             [
              0.7777777777777778,
              "#fb9f3a"
             ],
             [
              0.8888888888888888,
              "#fdca26"
             ],
             [
              1,
              "#f0f921"
             ]
            ],
            "type": "histogram2d"
           }
          ],
          "histogram2dcontour": [
           {
            "colorbar": {
             "outlinewidth": 0,
             "ticks": ""
            },
            "colorscale": [
             [
              0,
              "#0d0887"
             ],
             [
              0.1111111111111111,
              "#46039f"
             ],
             [
              0.2222222222222222,
              "#7201a8"
             ],
             [
              0.3333333333333333,
              "#9c179e"
             ],
             [
              0.4444444444444444,
              "#bd3786"
             ],
             [
              0.5555555555555556,
              "#d8576b"
             ],
             [
              0.6666666666666666,
              "#ed7953"
             ],
             [
              0.7777777777777778,
              "#fb9f3a"
             ],
             [
              0.8888888888888888,
              "#fdca26"
             ],
             [
              1,
              "#f0f921"
             ]
            ],
            "type": "histogram2dcontour"
           }
          ],
          "mesh3d": [
           {
            "colorbar": {
             "outlinewidth": 0,
             "ticks": ""
            },
            "type": "mesh3d"
           }
          ],
          "parcoords": [
           {
            "line": {
             "colorbar": {
              "outlinewidth": 0,
              "ticks": ""
             }
            },
            "type": "parcoords"
           }
          ],
          "pie": [
           {
            "automargin": true,
            "type": "pie"
           }
          ],
          "scatter": [
           {
            "marker": {
             "colorbar": {
              "outlinewidth": 0,
              "ticks": ""
             }
            },
            "type": "scatter"
           }
          ],
          "scatter3d": [
           {
            "line": {
             "colorbar": {
              "outlinewidth": 0,
              "ticks": ""
             }
            },
            "marker": {
             "colorbar": {
              "outlinewidth": 0,
              "ticks": ""
             }
            },
            "type": "scatter3d"
           }
          ],
          "scattercarpet": [
           {
            "marker": {
             "colorbar": {
              "outlinewidth": 0,
              "ticks": ""
             }
            },
            "type": "scattercarpet"
           }
          ],
          "scattergeo": [
           {
            "marker": {
             "colorbar": {
              "outlinewidth": 0,
              "ticks": ""
             }
            },
            "type": "scattergeo"
           }
          ],
          "scattergl": [
           {
            "marker": {
             "colorbar": {
              "outlinewidth": 0,
              "ticks": ""
             }
            },
            "type": "scattergl"
           }
          ],
          "scattermapbox": [
           {
            "marker": {
             "colorbar": {
              "outlinewidth": 0,
              "ticks": ""
             }
            },
            "type": "scattermapbox"
           }
          ],
          "scatterpolar": [
           {
            "marker": {
             "colorbar": {
              "outlinewidth": 0,
              "ticks": ""
             }
            },
            "type": "scatterpolar"
           }
          ],
          "scatterpolargl": [
           {
            "marker": {
             "colorbar": {
              "outlinewidth": 0,
              "ticks": ""
             }
            },
            "type": "scatterpolargl"
           }
          ],
          "scatterternary": [
           {
            "marker": {
             "colorbar": {
              "outlinewidth": 0,
              "ticks": ""
             }
            },
            "type": "scatterternary"
           }
          ],
          "surface": [
           {
            "colorbar": {
             "outlinewidth": 0,
             "ticks": ""
            },
            "colorscale": [
             [
              0,
              "#0d0887"
             ],
             [
              0.1111111111111111,
              "#46039f"
             ],
             [
              0.2222222222222222,
              "#7201a8"
             ],
             [
              0.3333333333333333,
              "#9c179e"
             ],
             [
              0.4444444444444444,
              "#bd3786"
             ],
             [
              0.5555555555555556,
              "#d8576b"
             ],
             [
              0.6666666666666666,
              "#ed7953"
             ],
             [
              0.7777777777777778,
              "#fb9f3a"
             ],
             [
              0.8888888888888888,
              "#fdca26"
             ],
             [
              1,
              "#f0f921"
             ]
            ],
            "type": "surface"
           }
          ],
          "table": [
           {
            "cells": {
             "fill": {
              "color": "#EBF0F8"
             },
             "line": {
              "color": "white"
             }
            },
            "header": {
             "fill": {
              "color": "#C8D4E3"
             },
             "line": {
              "color": "white"
             }
            },
            "type": "table"
           }
          ]
         },
         "layout": {
          "annotationdefaults": {
           "arrowcolor": "#2a3f5f",
           "arrowhead": 0,
           "arrowwidth": 1
          },
          "autotypenumbers": "strict",
          "coloraxis": {
           "colorbar": {
            "outlinewidth": 0,
            "ticks": ""
           }
          },
          "colorscale": {
           "diverging": [
            [
             0,
             "#8e0152"
            ],
            [
             0.1,
             "#c51b7d"
            ],
            [
             0.2,
             "#de77ae"
            ],
            [
             0.3,
             "#f1b6da"
            ],
            [
             0.4,
             "#fde0ef"
            ],
            [
             0.5,
             "#f7f7f7"
            ],
            [
             0.6,
             "#e6f5d0"
            ],
            [
             0.7,
             "#b8e186"
            ],
            [
             0.8,
             "#7fbc41"
            ],
            [
             0.9,
             "#4d9221"
            ],
            [
             1,
             "#276419"
            ]
           ],
           "sequential": [
            [
             0,
             "#0d0887"
            ],
            [
             0.1111111111111111,
             "#46039f"
            ],
            [
             0.2222222222222222,
             "#7201a8"
            ],
            [
             0.3333333333333333,
             "#9c179e"
            ],
            [
             0.4444444444444444,
             "#bd3786"
            ],
            [
             0.5555555555555556,
             "#d8576b"
            ],
            [
             0.6666666666666666,
             "#ed7953"
            ],
            [
             0.7777777777777778,
             "#fb9f3a"
            ],
            [
             0.8888888888888888,
             "#fdca26"
            ],
            [
             1,
             "#f0f921"
            ]
           ],
           "sequentialminus": [
            [
             0,
             "#0d0887"
            ],
            [
             0.1111111111111111,
             "#46039f"
            ],
            [
             0.2222222222222222,
             "#7201a8"
            ],
            [
             0.3333333333333333,
             "#9c179e"
            ],
            [
             0.4444444444444444,
             "#bd3786"
            ],
            [
             0.5555555555555556,
             "#d8576b"
            ],
            [
             0.6666666666666666,
             "#ed7953"
            ],
            [
             0.7777777777777778,
             "#fb9f3a"
            ],
            [
             0.8888888888888888,
             "#fdca26"
            ],
            [
             1,
             "#f0f921"
            ]
           ]
          },
          "colorway": [
           "#636efa",
           "#EF553B",
           "#00cc96",
           "#ab63fa",
           "#FFA15A",
           "#19d3f3",
           "#FF6692",
           "#B6E880",
           "#FF97FF",
           "#FECB52"
          ],
          "font": {
           "color": "#2a3f5f"
          },
          "geo": {
           "bgcolor": "white",
           "lakecolor": "white",
           "landcolor": "#E5ECF6",
           "showlakes": true,
           "showland": true,
           "subunitcolor": "white"
          },
          "hoverlabel": {
           "align": "left"
          },
          "hovermode": "closest",
          "mapbox": {
           "style": "light"
          },
          "paper_bgcolor": "white",
          "plot_bgcolor": "#E5ECF6",
          "polar": {
           "angularaxis": {
            "gridcolor": "white",
            "linecolor": "white",
            "ticks": ""
           },
           "bgcolor": "#E5ECF6",
           "radialaxis": {
            "gridcolor": "white",
            "linecolor": "white",
            "ticks": ""
           }
          },
          "scene": {
           "xaxis": {
            "backgroundcolor": "#E5ECF6",
            "gridcolor": "white",
            "gridwidth": 2,
            "linecolor": "white",
            "showbackground": true,
            "ticks": "",
            "zerolinecolor": "white"
           },
           "yaxis": {
            "backgroundcolor": "#E5ECF6",
            "gridcolor": "white",
            "gridwidth": 2,
            "linecolor": "white",
            "showbackground": true,
            "ticks": "",
            "zerolinecolor": "white"
           },
           "zaxis": {
            "backgroundcolor": "#E5ECF6",
            "gridcolor": "white",
            "gridwidth": 2,
            "linecolor": "white",
            "showbackground": true,
            "ticks": "",
            "zerolinecolor": "white"
           }
          },
          "shapedefaults": {
           "line": {
            "color": "#2a3f5f"
           }
          },
          "ternary": {
           "aaxis": {
            "gridcolor": "white",
            "linecolor": "white",
            "ticks": ""
           },
           "baxis": {
            "gridcolor": "white",
            "linecolor": "white",
            "ticks": ""
           },
           "bgcolor": "#E5ECF6",
           "caxis": {
            "gridcolor": "white",
            "linecolor": "white",
            "ticks": ""
           }
          },
          "title": {
           "x": 0.05
          },
          "xaxis": {
           "automargin": true,
           "gridcolor": "white",
           "linecolor": "white",
           "ticks": "",
           "title": {
            "standoff": 15
           },
           "zerolinecolor": "white",
           "zerolinewidth": 2
          },
          "yaxis": {
           "automargin": true,
           "gridcolor": "white",
           "linecolor": "white",
           "ticks": "",
           "title": {
            "standoff": 15
           },
           "zerolinecolor": "white",
           "zerolinewidth": 2
          }
         }
        },
        "width": 500
       }
      }
     },
     "metadata": {},
     "output_type": "display_data"
    }
   ],
   "source": [
    "graph_df = tmp.loc[tmp['DEATH_EVENT'] == 'Faleceu']\n",
    "fig = px.pie(graph_df, names='sex', width=500, \n",
    "             color_discrete_sequence=['#19647E', '#A31621'])\n",
    "fig.show()"
   ]
  },
  {
   "cell_type": "markdown",
   "metadata": {},
   "source": [
    "## Criando possiveis features novas"
   ]
  },
  {
   "cell_type": "markdown",
   "metadata": {},
   "source": [
    "Aqui podemos ver que as melhores correlações são: Smoking (50), Serum_Creatinine (30), Serum_Sodium (10), Ejection_fraction (2), Age (2)"
   ]
  },
  {
   "cell_type": "code",
   "execution_count": 178,
   "metadata": {},
   "outputs": [
    {
     "data": {
      "text/html": [
       "<style type=\"text/css\">\n",
       "#T_40ad8_row0_col0, #T_40ad8_row1_col1, #T_40ad8_row2_col2, #T_40ad8_row3_col3, #T_40ad8_row4_col4, #T_40ad8_row5_col5, #T_40ad8_row6_col6, #T_40ad8_row7_col7, #T_40ad8_row8_col8, #T_40ad8_row9_col9, #T_40ad8_row10_col10, #T_40ad8_row11_col11, #T_40ad8_row12_col12 {\n",
       "  background-color: #b40426;\n",
       "  color: #f1f1f1;\n",
       "}\n",
       "#T_40ad8_row0_col1, #T_40ad8_row4_col0, #T_40ad8_row5_col4, #T_40ad8_row12_col5 {\n",
       "  background-color: #86a9fc;\n",
       "  color: #f1f1f1;\n",
       "}\n",
       "#T_40ad8_row0_col2 {\n",
       "  background-color: #5673e0;\n",
       "  color: #f1f1f1;\n",
       "}\n",
       "#T_40ad8_row0_col3 {\n",
       "  background-color: #4961d2;\n",
       "  color: #f1f1f1;\n",
       "}\n",
       "#T_40ad8_row0_col4, #T_40ad8_row5_col0 {\n",
       "  background-color: #90b2fe;\n",
       "  color: #000000;\n",
       "}\n",
       "#T_40ad8_row0_col5 {\n",
       "  background-color: #89acfd;\n",
       "  color: #000000;\n",
       "}\n",
       "#T_40ad8_row0_col6 {\n",
       "  background-color: #4e68d8;\n",
       "  color: #f1f1f1;\n",
       "}\n",
       "#T_40ad8_row0_col7 {\n",
       "  background-color: #9bbcff;\n",
       "  color: #000000;\n",
       "}\n",
       "#T_40ad8_row0_col8, #T_40ad8_row4_col2, #T_40ad8_row6_col1, #T_40ad8_row6_col7, #T_40ad8_row11_col9 {\n",
       "  background-color: #6180e9;\n",
       "  color: #f1f1f1;\n",
       "}\n",
       "#T_40ad8_row0_col9, #T_40ad8_row3_col6, #T_40ad8_row5_col1, #T_40ad8_row5_col8, #T_40ad8_row8_col5 {\n",
       "  background-color: #799cf8;\n",
       "  color: #f1f1f1;\n",
       "}\n",
       "#T_40ad8_row0_col10, #T_40ad8_row2_col7, #T_40ad8_row7_col2, #T_40ad8_row8_col0 {\n",
       "  background-color: #688aef;\n",
       "  color: #f1f1f1;\n",
       "}\n",
       "#T_40ad8_row0_col11, #T_40ad8_row1_col5, #T_40ad8_row1_col8, #T_40ad8_row8_col1, #T_40ad8_row10_col0 {\n",
       "  background-color: #7a9df8;\n",
       "  color: #f1f1f1;\n",
       "}\n",
       "#T_40ad8_row0_col12 {\n",
       "  background-color: #dfdbd9;\n",
       "  color: #000000;\n",
       "}\n",
       "#T_40ad8_row1_col0 {\n",
       "  background-color: #8fb1fe;\n",
       "  color: #000000;\n",
       "}\n",
       "#T_40ad8_row1_col2, #T_40ad8_row2_col1, #T_40ad8_row3_col9, #T_40ad8_row3_col10, #T_40ad8_row8_col7, #T_40ad8_row9_col3, #T_40ad8_row9_col6, #T_40ad8_row11_col0, #T_40ad8_row11_col5, #T_40ad8_row11_col12, #T_40ad8_row12_col4, #T_40ad8_row12_col8, #T_40ad8_row12_col11 {\n",
       "  background-color: #3b4cc0;\n",
       "  color: #f1f1f1;\n",
       "}\n",
       "#T_40ad8_row1_col3, #T_40ad8_row2_col3, #T_40ad8_row5_col3 {\n",
       "  background-color: #6282ea;\n",
       "  color: #f1f1f1;\n",
       "}\n",
       "#T_40ad8_row1_col4, #T_40ad8_row9_col0, #T_40ad8_row11_col8 {\n",
       "  background-color: #88abfd;\n",
       "  color: #000000;\n",
       "}\n",
       "#T_40ad8_row1_col6 {\n",
       "  background-color: #506bda;\n",
       "  color: #f1f1f1;\n",
       "}\n",
       "#T_40ad8_row1_col7, #T_40ad8_row7_col4 {\n",
       "  background-color: #7b9ff9;\n",
       "  color: #f1f1f1;\n",
       "}\n",
       "#T_40ad8_row1_col9 {\n",
       "  background-color: #4a63d3;\n",
       "  color: #f1f1f1;\n",
       "}\n",
       "#T_40ad8_row1_col10, #T_40ad8_row11_col7 {\n",
       "  background-color: #445acc;\n",
       "  color: #f1f1f1;\n",
       "}\n",
       "#T_40ad8_row1_col11 {\n",
       "  background-color: #8db0fe;\n",
       "  color: #000000;\n",
       "}\n",
       "#T_40ad8_row1_col12, #T_40ad8_row12_col0 {\n",
       "  background-color: #bcd2f7;\n",
       "  color: #000000;\n",
       "}\n",
       "#T_40ad8_row2_col0 {\n",
       "  background-color: #5e7de7;\n",
       "  color: #f1f1f1;\n",
       "}\n",
       "#T_40ad8_row2_col4 {\n",
       "  background-color: #7396f5;\n",
       "  color: #f1f1f1;\n",
       "}\n",
       "#T_40ad8_row2_col5, #T_40ad8_row7_col10 {\n",
       "  background-color: #5a78e4;\n",
       "  color: #f1f1f1;\n",
       "}\n",
       "#T_40ad8_row2_col6, #T_40ad8_row10_col6, #T_40ad8_row10_col7, #T_40ad8_row12_col3 {\n",
       "  background-color: #6485ec;\n",
       "  color: #f1f1f1;\n",
       "}\n",
       "#T_40ad8_row2_col8, #T_40ad8_row12_col2 {\n",
       "  background-color: #80a3fa;\n",
       "  color: #f1f1f1;\n",
       "}\n",
       "#T_40ad8_row2_col9, #T_40ad8_row6_col5, #T_40ad8_row7_col1 {\n",
       "  background-color: #7da0f9;\n",
       "  color: #f1f1f1;\n",
       "}\n",
       "#T_40ad8_row2_col10, #T_40ad8_row4_col3, #T_40ad8_row8_col10, #T_40ad8_row12_col9 {\n",
       "  background-color: #6384eb;\n",
       "  color: #f1f1f1;\n",
       "}\n",
       "#T_40ad8_row2_col11, #T_40ad8_row10_col12 {\n",
       "  background-color: #abc8fd;\n",
       "  color: #000000;\n",
       "}\n",
       "#T_40ad8_row2_col12 {\n",
       "  background-color: #bbd1f8;\n",
       "  color: #000000;\n",
       "}\n",
       "#T_40ad8_row3_col0, #T_40ad8_row5_col2 {\n",
       "  background-color: #5977e3;\n",
       "  color: #f1f1f1;\n",
       "}\n",
       "#T_40ad8_row3_col1, #T_40ad8_row3_col2, #T_40ad8_row4_col7, #T_40ad8_row11_col2 {\n",
       "  background-color: #6a8bef;\n",
       "  color: #f1f1f1;\n",
       "}\n",
       "#T_40ad8_row3_col4, #T_40ad8_row8_col2 {\n",
       "  background-color: #7ea1fa;\n",
       "  color: #f1f1f1;\n",
       "}\n",
       "#T_40ad8_row3_col5, #T_40ad8_row5_col6, #T_40ad8_row5_col7, #T_40ad8_row6_col10 {\n",
       "  background-color: #6b8df0;\n",
       "  color: #f1f1f1;\n",
       "}\n",
       "#T_40ad8_row3_col7, #T_40ad8_row10_col5, #T_40ad8_row11_col6, #T_40ad8_row12_col10 {\n",
       "  background-color: #5f7fe8;\n",
       "  color: #f1f1f1;\n",
       "}\n",
       "#T_40ad8_row3_col8 {\n",
       "  background-color: #5572df;\n",
       "  color: #f1f1f1;\n",
       "}\n",
       "#T_40ad8_row3_col11 {\n",
       "  background-color: #b6cefa;\n",
       "  color: #000000;\n",
       "}\n",
       "#T_40ad8_row3_col12 {\n",
       "  background-color: #aec9fc;\n",
       "  color: #000000;\n",
       "}\n",
       "#T_40ad8_row4_col1, #T_40ad8_row4_col5 {\n",
       "  background-color: #7699f6;\n",
       "  color: #f1f1f1;\n",
       "}\n",
       "#T_40ad8_row4_col6 {\n",
       "  background-color: #7295f4;\n",
       "  color: #f1f1f1;\n",
       "}\n",
       "#T_40ad8_row4_col8 {\n",
       "  background-color: #a2c1ff;\n",
       "  color: #000000;\n",
       "}\n",
       "#T_40ad8_row4_col9, #T_40ad8_row10_col3 {\n",
       "  background-color: #3d50c3;\n",
       "  color: #f1f1f1;\n",
       "}\n",
       "#T_40ad8_row4_col10, #T_40ad8_row10_col1, #T_40ad8_row12_col6 {\n",
       "  background-color: #4f69d9;\n",
       "  color: #f1f1f1;\n",
       "}\n",
       "#T_40ad8_row4_col11 {\n",
       "  background-color: #b7cff9;\n",
       "  color: #000000;\n",
       "}\n",
       "#T_40ad8_row4_col12 {\n",
       "  background-color: #7093f3;\n",
       "  color: #f1f1f1;\n",
       "}\n",
       "#T_40ad8_row5_col9 {\n",
       "  background-color: #485fd1;\n",
       "  color: #f1f1f1;\n",
       "}\n",
       "#T_40ad8_row5_col10, #T_40ad8_row9_col1 {\n",
       "  background-color: #536edd;\n",
       "  color: #f1f1f1;\n",
       "}\n",
       "#T_40ad8_row5_col11, #T_40ad8_row6_col3, #T_40ad8_row6_col8, #T_40ad8_row8_col12, #T_40ad8_row12_col1 {\n",
       "  background-color: #81a4fb;\n",
       "  color: #f1f1f1;\n",
       "}\n",
       "#T_40ad8_row5_col12 {\n",
       "  background-color: #bfd3f6;\n",
       "  color: #000000;\n",
       "}\n",
       "#T_40ad8_row6_col0, #T_40ad8_row9_col8 {\n",
       "  background-color: #6687ed;\n",
       "  color: #f1f1f1;\n",
       "}\n",
       "#T_40ad8_row6_col2 {\n",
       "  background-color: #7597f6;\n",
       "  color: #f1f1f1;\n",
       "}\n",
       "#T_40ad8_row6_col4 {\n",
       "  background-color: #93b5fe;\n",
       "  color: #000000;\n",
       "}\n",
       "#T_40ad8_row6_col9 {\n",
       "  background-color: #4358cb;\n",
       "  color: #f1f1f1;\n",
       "}\n",
       "#T_40ad8_row6_col11 {\n",
       "  background-color: #b1cbfc;\n",
       "  color: #000000;\n",
       "}\n",
       "#T_40ad8_row6_col12, #T_40ad8_row7_col0 {\n",
       "  background-color: #a3c2fe;\n",
       "  color: #000000;\n",
       "}\n",
       "#T_40ad8_row7_col3, #T_40ad8_row9_col4 {\n",
       "  background-color: #5875e1;\n",
       "  color: #f1f1f1;\n",
       "}\n",
       "#T_40ad8_row7_col5, #T_40ad8_row10_col4 {\n",
       "  background-color: #6c8ff1;\n",
       "  color: #f1f1f1;\n",
       "}\n",
       "#T_40ad8_row7_col6, #T_40ad8_row9_col5 {\n",
       "  background-color: #516ddb;\n",
       "  color: #f1f1f1;\n",
       "}\n",
       "#T_40ad8_row7_col8 {\n",
       "  background-color: #3c4ec2;\n",
       "  color: #f1f1f1;\n",
       "}\n",
       "#T_40ad8_row7_col9 {\n",
       "  background-color: #6788ee;\n",
       "  color: #f1f1f1;\n",
       "}\n",
       "#T_40ad8_row7_col11 {\n",
       "  background-color: #8caffe;\n",
       "  color: #000000;\n",
       "}\n",
       "#T_40ad8_row7_col12 {\n",
       "  background-color: #e6d7cf;\n",
       "  color: #000000;\n",
       "}\n",
       "#T_40ad8_row8_col3 {\n",
       "  background-color: #4c66d6;\n",
       "  color: #f1f1f1;\n",
       "}\n",
       "#T_40ad8_row8_col4 {\n",
       "  background-color: #afcafc;\n",
       "  color: #000000;\n",
       "}\n",
       "#T_40ad8_row8_col6, #T_40ad8_row9_col7, #T_40ad8_row10_col8, #T_40ad8_row11_col3 {\n",
       "  background-color: #6f92f3;\n",
       "  color: #f1f1f1;\n",
       "}\n",
       "#T_40ad8_row8_col9 {\n",
       "  background-color: #5d7ce6;\n",
       "  color: #f1f1f1;\n",
       "}\n",
       "#T_40ad8_row8_col11 {\n",
       "  background-color: #c1d4f4;\n",
       "  color: #000000;\n",
       "}\n",
       "#T_40ad8_row9_col2 {\n",
       "  background-color: #85a8fc;\n",
       "  color: #f1f1f1;\n",
       "}\n",
       "#T_40ad8_row9_col10 {\n",
       "  background-color: #e1dad6;\n",
       "  color: #000000;\n",
       "}\n",
       "#T_40ad8_row9_col11 {\n",
       "  background-color: #aac7fd;\n",
       "  color: #000000;\n",
       "}\n",
       "#T_40ad8_row9_col12 {\n",
       "  background-color: #adc9fd;\n",
       "  color: #000000;\n",
       "}\n",
       "#T_40ad8_row10_col2 {\n",
       "  background-color: #6e90f2;\n",
       "  color: #f1f1f1;\n",
       "}\n",
       "#T_40ad8_row10_col9 {\n",
       "  background-color: #e2dad5;\n",
       "  color: #000000;\n",
       "}\n",
       "#T_40ad8_row10_col11 {\n",
       "  background-color: #a9c6fd;\n",
       "  color: #000000;\n",
       "}\n",
       "#T_40ad8_row11_col1 {\n",
       "  background-color: #465ecf;\n",
       "  color: #f1f1f1;\n",
       "}\n",
       "#T_40ad8_row11_col4 {\n",
       "  background-color: #8badfd;\n",
       "  color: #000000;\n",
       "}\n",
       "#T_40ad8_row11_col10 {\n",
       "  background-color: #5b7ae5;\n",
       "  color: #f1f1f1;\n",
       "}\n",
       "#T_40ad8_row12_col7 {\n",
       "  background-color: #c3d5f4;\n",
       "  color: #000000;\n",
       "}\n",
       "</style>\n",
       "<table id=\"T_40ad8\">\n",
       "  <thead>\n",
       "    <tr>\n",
       "      <th class=\"blank level0\" >&nbsp;</th>\n",
       "      <th id=\"T_40ad8_level0_col0\" class=\"col_heading level0 col0\" >age</th>\n",
       "      <th id=\"T_40ad8_level0_col1\" class=\"col_heading level0 col1\" >anaemia</th>\n",
       "      <th id=\"T_40ad8_level0_col2\" class=\"col_heading level0 col2\" >creatinine_phosphokinase</th>\n",
       "      <th id=\"T_40ad8_level0_col3\" class=\"col_heading level0 col3\" >diabetes</th>\n",
       "      <th id=\"T_40ad8_level0_col4\" class=\"col_heading level0 col4\" >ejection_fraction</th>\n",
       "      <th id=\"T_40ad8_level0_col5\" class=\"col_heading level0 col5\" >high_blood_pressure</th>\n",
       "      <th id=\"T_40ad8_level0_col6\" class=\"col_heading level0 col6\" >platelets</th>\n",
       "      <th id=\"T_40ad8_level0_col7\" class=\"col_heading level0 col7\" >serum_creatinine</th>\n",
       "      <th id=\"T_40ad8_level0_col8\" class=\"col_heading level0 col8\" >serum_sodium</th>\n",
       "      <th id=\"T_40ad8_level0_col9\" class=\"col_heading level0 col9\" >sex</th>\n",
       "      <th id=\"T_40ad8_level0_col10\" class=\"col_heading level0 col10\" >smoking</th>\n",
       "      <th id=\"T_40ad8_level0_col11\" class=\"col_heading level0 col11\" >time</th>\n",
       "      <th id=\"T_40ad8_level0_col12\" class=\"col_heading level0 col12\" >DEATH_EVENT</th>\n",
       "    </tr>\n",
       "  </thead>\n",
       "  <tbody>\n",
       "    <tr>\n",
       "      <th id=\"T_40ad8_level0_row0\" class=\"row_heading level0 row0\" >age</th>\n",
       "      <td id=\"T_40ad8_row0_col0\" class=\"data row0 col0\" >1.000000</td>\n",
       "      <td id=\"T_40ad8_row0_col1\" class=\"data row0 col1\" >0.088006</td>\n",
       "      <td id=\"T_40ad8_row0_col2\" class=\"data row0 col2\" >-0.081584</td>\n",
       "      <td id=\"T_40ad8_row0_col3\" class=\"data row0 col3\" >-0.101012</td>\n",
       "      <td id=\"T_40ad8_row0_col4\" class=\"data row0 col4\" >0.060098</td>\n",
       "      <td id=\"T_40ad8_row0_col5\" class=\"data row0 col5\" >0.093289</td>\n",
       "      <td id=\"T_40ad8_row0_col6\" class=\"data row0 col6\" >-0.052354</td>\n",
       "      <td id=\"T_40ad8_row0_col7\" class=\"data row0 col7\" >0.159187</td>\n",
       "      <td id=\"T_40ad8_row0_col8\" class=\"data row0 col8\" >-0.045966</td>\n",
       "      <td id=\"T_40ad8_row0_col9\" class=\"data row0 col9\" >0.065430</td>\n",
       "      <td id=\"T_40ad8_row0_col10\" class=\"data row0 col10\" >0.018668</td>\n",
       "      <td id=\"T_40ad8_row0_col11\" class=\"data row0 col11\" >-0.224068</td>\n",
       "      <td id=\"T_40ad8_row0_col12\" class=\"data row0 col12\" >0.253729</td>\n",
       "    </tr>\n",
       "    <tr>\n",
       "      <th id=\"T_40ad8_level0_row1\" class=\"row_heading level0 row1\" >anaemia</th>\n",
       "      <td id=\"T_40ad8_row1_col0\" class=\"data row1 col0\" >0.088006</td>\n",
       "      <td id=\"T_40ad8_row1_col1\" class=\"data row1 col1\" >1.000000</td>\n",
       "      <td id=\"T_40ad8_row1_col2\" class=\"data row1 col2\" >-0.190741</td>\n",
       "      <td id=\"T_40ad8_row1_col3\" class=\"data row1 col3\" >-0.012729</td>\n",
       "      <td id=\"T_40ad8_row1_col4\" class=\"data row1 col4\" >0.031557</td>\n",
       "      <td id=\"T_40ad8_row1_col5\" class=\"data row1 col5\" >0.038182</td>\n",
       "      <td id=\"T_40ad8_row1_col6\" class=\"data row1 col6\" >-0.043786</td>\n",
       "      <td id=\"T_40ad8_row1_col7\" class=\"data row1 col7\" >0.052174</td>\n",
       "      <td id=\"T_40ad8_row1_col8\" class=\"data row1 col8\" >0.041882</td>\n",
       "      <td id=\"T_40ad8_row1_col9\" class=\"data row1 col9\" >-0.094769</td>\n",
       "      <td id=\"T_40ad8_row1_col10\" class=\"data row1 col10\" >-0.107290</td>\n",
       "      <td id=\"T_40ad8_row1_col11\" class=\"data row1 col11\" >-0.141414</td>\n",
       "      <td id=\"T_40ad8_row1_col12\" class=\"data row1 col12\" >0.066270</td>\n",
       "    </tr>\n",
       "    <tr>\n",
       "      <th id=\"T_40ad8_level0_row2\" class=\"row_heading level0 row2\" >creatinine_phosphokinase</th>\n",
       "      <td id=\"T_40ad8_row2_col0\" class=\"data row2 col0\" >-0.081584</td>\n",
       "      <td id=\"T_40ad8_row2_col1\" class=\"data row2 col1\" >-0.190741</td>\n",
       "      <td id=\"T_40ad8_row2_col2\" class=\"data row2 col2\" >1.000000</td>\n",
       "      <td id=\"T_40ad8_row2_col3\" class=\"data row2 col3\" >-0.009639</td>\n",
       "      <td id=\"T_40ad8_row2_col4\" class=\"data row2 col4\" >-0.044080</td>\n",
       "      <td id=\"T_40ad8_row2_col5\" class=\"data row2 col5\" >-0.070590</td>\n",
       "      <td id=\"T_40ad8_row2_col6\" class=\"data row2 col6\" >0.024463</td>\n",
       "      <td id=\"T_40ad8_row2_col7\" class=\"data row2 col7\" >-0.016408</td>\n",
       "      <td id=\"T_40ad8_row2_col8\" class=\"data row2 col8\" >0.059550</td>\n",
       "      <td id=\"T_40ad8_row2_col9\" class=\"data row2 col9\" >0.079791</td>\n",
       "      <td id=\"T_40ad8_row2_col10\" class=\"data row2 col10\" >0.002421</td>\n",
       "      <td id=\"T_40ad8_row2_col11\" class=\"data row2 col11\" >-0.009346</td>\n",
       "      <td id=\"T_40ad8_row2_col12\" class=\"data row2 col12\" >0.062728</td>\n",
       "    </tr>\n",
       "    <tr>\n",
       "      <th id=\"T_40ad8_level0_row3\" class=\"row_heading level0 row3\" >diabetes</th>\n",
       "      <td id=\"T_40ad8_row3_col0\" class=\"data row3 col0\" >-0.101012</td>\n",
       "      <td id=\"T_40ad8_row3_col1\" class=\"data row3 col1\" >-0.012729</td>\n",
       "      <td id=\"T_40ad8_row3_col2\" class=\"data row3 col2\" >-0.009639</td>\n",
       "      <td id=\"T_40ad8_row3_col3\" class=\"data row3 col3\" >1.000000</td>\n",
       "      <td id=\"T_40ad8_row3_col4\" class=\"data row3 col4\" >-0.004850</td>\n",
       "      <td id=\"T_40ad8_row3_col5\" class=\"data row3 col5\" >-0.012732</td>\n",
       "      <td id=\"T_40ad8_row3_col6\" class=\"data row3 col6\" >0.092193</td>\n",
       "      <td id=\"T_40ad8_row3_col7\" class=\"data row3 col7\" >-0.046975</td>\n",
       "      <td id=\"T_40ad8_row3_col8\" class=\"data row3 col8\" >-0.089551</td>\n",
       "      <td id=\"T_40ad8_row3_col9\" class=\"data row3 col9\" >-0.157730</td>\n",
       "      <td id=\"T_40ad8_row3_col10\" class=\"data row3 col10\" >-0.147173</td>\n",
       "      <td id=\"T_40ad8_row3_col11\" class=\"data row3 col11\" >0.033726</td>\n",
       "      <td id=\"T_40ad8_row3_col12\" class=\"data row3 col12\" >-0.001943</td>\n",
       "    </tr>\n",
       "    <tr>\n",
       "      <th id=\"T_40ad8_level0_row4\" class=\"row_heading level0 row4\" >ejection_fraction</th>\n",
       "      <td id=\"T_40ad8_row4_col0\" class=\"data row4 col0\" >0.060098</td>\n",
       "      <td id=\"T_40ad8_row4_col1\" class=\"data row4 col1\" >0.031557</td>\n",
       "      <td id=\"T_40ad8_row4_col2\" class=\"data row4 col2\" >-0.044080</td>\n",
       "      <td id=\"T_40ad8_row4_col3\" class=\"data row4 col3\" >-0.004850</td>\n",
       "      <td id=\"T_40ad8_row4_col4\" class=\"data row4 col4\" >1.000000</td>\n",
       "      <td id=\"T_40ad8_row4_col5\" class=\"data row4 col5\" >0.024445</td>\n",
       "      <td id=\"T_40ad8_row4_col6\" class=\"data row4 col6\" >0.072177</td>\n",
       "      <td id=\"T_40ad8_row4_col7\" class=\"data row4 col7\" >-0.011302</td>\n",
       "      <td id=\"T_40ad8_row4_col8\" class=\"data row4 col8\" >0.175902</td>\n",
       "      <td id=\"T_40ad8_row4_col9\" class=\"data row4 col9\" >-0.148386</td>\n",
       "      <td id=\"T_40ad8_row4_col10\" class=\"data row4 col10\" >-0.067315</td>\n",
       "      <td id=\"T_40ad8_row4_col11\" class=\"data row4 col11\" >0.041729</td>\n",
       "      <td id=\"T_40ad8_row4_col12\" class=\"data row4 col12\" >-0.268603</td>\n",
       "    </tr>\n",
       "    <tr>\n",
       "      <th id=\"T_40ad8_level0_row5\" class=\"row_heading level0 row5\" >high_blood_pressure</th>\n",
       "      <td id=\"T_40ad8_row5_col0\" class=\"data row5 col0\" >0.093289</td>\n",
       "      <td id=\"T_40ad8_row5_col1\" class=\"data row5 col1\" >0.038182</td>\n",
       "      <td id=\"T_40ad8_row5_col2\" class=\"data row5 col2\" >-0.070590</td>\n",
       "      <td id=\"T_40ad8_row5_col3\" class=\"data row5 col3\" >-0.012732</td>\n",
       "      <td id=\"T_40ad8_row5_col4\" class=\"data row5 col4\" >0.024445</td>\n",
       "      <td id=\"T_40ad8_row5_col5\" class=\"data row5 col5\" >1.000000</td>\n",
       "      <td id=\"T_40ad8_row5_col6\" class=\"data row5 col6\" >0.049963</td>\n",
       "      <td id=\"T_40ad8_row5_col7\" class=\"data row5 col7\" >-0.004935</td>\n",
       "      <td id=\"T_40ad8_row5_col8\" class=\"data row5 col8\" >0.037109</td>\n",
       "      <td id=\"T_40ad8_row5_col9\" class=\"data row5 col9\" >-0.104615</td>\n",
       "      <td id=\"T_40ad8_row5_col10\" class=\"data row5 col10\" >-0.055711</td>\n",
       "      <td id=\"T_40ad8_row5_col11\" class=\"data row5 col11\" >-0.196439</td>\n",
       "      <td id=\"T_40ad8_row5_col12\" class=\"data row5 col12\" >0.079351</td>\n",
       "    </tr>\n",
       "    <tr>\n",
       "      <th id=\"T_40ad8_level0_row6\" class=\"row_heading level0 row6\" >platelets</th>\n",
       "      <td id=\"T_40ad8_row6_col0\" class=\"data row6 col0\" >-0.052354</td>\n",
       "      <td id=\"T_40ad8_row6_col1\" class=\"data row6 col1\" >-0.043786</td>\n",
       "      <td id=\"T_40ad8_row6_col2\" class=\"data row6 col2\" >0.024463</td>\n",
       "      <td id=\"T_40ad8_row6_col3\" class=\"data row6 col3\" >0.092193</td>\n",
       "      <td id=\"T_40ad8_row6_col4\" class=\"data row6 col4\" >0.072177</td>\n",
       "      <td id=\"T_40ad8_row6_col5\" class=\"data row6 col5\" >0.049963</td>\n",
       "      <td id=\"T_40ad8_row6_col6\" class=\"data row6 col6\" >1.000000</td>\n",
       "      <td id=\"T_40ad8_row6_col7\" class=\"data row6 col7\" >-0.041198</td>\n",
       "      <td id=\"T_40ad8_row6_col8\" class=\"data row6 col8\" >0.062125</td>\n",
       "      <td id=\"T_40ad8_row6_col9\" class=\"data row6 col9\" >-0.125120</td>\n",
       "      <td id=\"T_40ad8_row6_col10\" class=\"data row6 col10\" >0.028234</td>\n",
       "      <td id=\"T_40ad8_row6_col11\" class=\"data row6 col11\" >0.010514</td>\n",
       "      <td id=\"T_40ad8_row6_col12\" class=\"data row6 col12\" >-0.049139</td>\n",
       "    </tr>\n",
       "    <tr>\n",
       "      <th id=\"T_40ad8_level0_row7\" class=\"row_heading level0 row7\" >serum_creatinine</th>\n",
       "      <td id=\"T_40ad8_row7_col0\" class=\"data row7 col0\" >0.159187</td>\n",
       "      <td id=\"T_40ad8_row7_col1\" class=\"data row7 col1\" >0.052174</td>\n",
       "      <td id=\"T_40ad8_row7_col2\" class=\"data row7 col2\" >-0.016408</td>\n",
       "      <td id=\"T_40ad8_row7_col3\" class=\"data row7 col3\" >-0.046975</td>\n",
       "      <td id=\"T_40ad8_row7_col4\" class=\"data row7 col4\" >-0.011302</td>\n",
       "      <td id=\"T_40ad8_row7_col5\" class=\"data row7 col5\" >-0.004935</td>\n",
       "      <td id=\"T_40ad8_row7_col6\" class=\"data row7 col6\" >-0.041198</td>\n",
       "      <td id=\"T_40ad8_row7_col7\" class=\"data row7 col7\" >1.000000</td>\n",
       "      <td id=\"T_40ad8_row7_col8\" class=\"data row7 col8\" >-0.189095</td>\n",
       "      <td id=\"T_40ad8_row7_col9\" class=\"data row7 col9\" >0.006970</td>\n",
       "      <td id=\"T_40ad8_row7_col10\" class=\"data row7 col10\" >-0.027414</td>\n",
       "      <td id=\"T_40ad8_row7_col11\" class=\"data row7 col11\" >-0.149315</td>\n",
       "      <td id=\"T_40ad8_row7_col12\" class=\"data row7 col12\" >0.294278</td>\n",
       "    </tr>\n",
       "    <tr>\n",
       "      <th id=\"T_40ad8_level0_row8\" class=\"row_heading level0 row8\" >serum_sodium</th>\n",
       "      <td id=\"T_40ad8_row8_col0\" class=\"data row8 col0\" >-0.045966</td>\n",
       "      <td id=\"T_40ad8_row8_col1\" class=\"data row8 col1\" >0.041882</td>\n",
       "      <td id=\"T_40ad8_row8_col2\" class=\"data row8 col2\" >0.059550</td>\n",
       "      <td id=\"T_40ad8_row8_col3\" class=\"data row8 col3\" >-0.089551</td>\n",
       "      <td id=\"T_40ad8_row8_col4\" class=\"data row8 col4\" >0.175902</td>\n",
       "      <td id=\"T_40ad8_row8_col5\" class=\"data row8 col5\" >0.037109</td>\n",
       "      <td id=\"T_40ad8_row8_col6\" class=\"data row8 col6\" >0.062125</td>\n",
       "      <td id=\"T_40ad8_row8_col7\" class=\"data row8 col7\" >-0.189095</td>\n",
       "      <td id=\"T_40ad8_row8_col8\" class=\"data row8 col8\" >1.000000</td>\n",
       "      <td id=\"T_40ad8_row8_col9\" class=\"data row8 col9\" >-0.027566</td>\n",
       "      <td id=\"T_40ad8_row8_col10\" class=\"data row8 col10\" >0.004813</td>\n",
       "      <td id=\"T_40ad8_row8_col11\" class=\"data row8 col11\" >0.087640</td>\n",
       "      <td id=\"T_40ad8_row8_col12\" class=\"data row8 col12\" >-0.195204</td>\n",
       "    </tr>\n",
       "    <tr>\n",
       "      <th id=\"T_40ad8_level0_row9\" class=\"row_heading level0 row9\" >sex</th>\n",
       "      <td id=\"T_40ad8_row9_col0\" class=\"data row9 col0\" >0.065430</td>\n",
       "      <td id=\"T_40ad8_row9_col1\" class=\"data row9 col1\" >-0.094769</td>\n",
       "      <td id=\"T_40ad8_row9_col2\" class=\"data row9 col2\" >0.079791</td>\n",
       "      <td id=\"T_40ad8_row9_col3\" class=\"data row9 col3\" >-0.157730</td>\n",
       "      <td id=\"T_40ad8_row9_col4\" class=\"data row9 col4\" >-0.148386</td>\n",
       "      <td id=\"T_40ad8_row9_col5\" class=\"data row9 col5\" >-0.104615</td>\n",
       "      <td id=\"T_40ad8_row9_col6\" class=\"data row9 col6\" >-0.125120</td>\n",
       "      <td id=\"T_40ad8_row9_col7\" class=\"data row9 col7\" >0.006970</td>\n",
       "      <td id=\"T_40ad8_row9_col8\" class=\"data row9 col8\" >-0.027566</td>\n",
       "      <td id=\"T_40ad8_row9_col9\" class=\"data row9 col9\" >1.000000</td>\n",
       "      <td id=\"T_40ad8_row9_col10\" class=\"data row9 col10\" >0.445892</td>\n",
       "      <td id=\"T_40ad8_row9_col11\" class=\"data row9 col11\" >-0.015608</td>\n",
       "      <td id=\"T_40ad8_row9_col12\" class=\"data row9 col12\" >-0.004316</td>\n",
       "    </tr>\n",
       "    <tr>\n",
       "      <th id=\"T_40ad8_level0_row10\" class=\"row_heading level0 row10\" >smoking</th>\n",
       "      <td id=\"T_40ad8_row10_col0\" class=\"data row10 col0\" >0.018668</td>\n",
       "      <td id=\"T_40ad8_row10_col1\" class=\"data row10 col1\" >-0.107290</td>\n",
       "      <td id=\"T_40ad8_row10_col2\" class=\"data row10 col2\" >0.002421</td>\n",
       "      <td id=\"T_40ad8_row10_col3\" class=\"data row10 col3\" >-0.147173</td>\n",
       "      <td id=\"T_40ad8_row10_col4\" class=\"data row10 col4\" >-0.067315</td>\n",
       "      <td id=\"T_40ad8_row10_col5\" class=\"data row10 col5\" >-0.055711</td>\n",
       "      <td id=\"T_40ad8_row10_col6\" class=\"data row10 col6\" >0.028234</td>\n",
       "      <td id=\"T_40ad8_row10_col7\" class=\"data row10 col7\" >-0.027414</td>\n",
       "      <td id=\"T_40ad8_row10_col8\" class=\"data row10 col8\" >0.004813</td>\n",
       "      <td id=\"T_40ad8_row10_col9\" class=\"data row10 col9\" >0.445892</td>\n",
       "      <td id=\"T_40ad8_row10_col10\" class=\"data row10 col10\" >1.000000</td>\n",
       "      <td id=\"T_40ad8_row10_col11\" class=\"data row10 col11\" >-0.022839</td>\n",
       "      <td id=\"T_40ad8_row10_col12\" class=\"data row10 col12\" >-0.012623</td>\n",
       "    </tr>\n",
       "    <tr>\n",
       "      <th id=\"T_40ad8_level0_row11\" class=\"row_heading level0 row11\" >time</th>\n",
       "      <td id=\"T_40ad8_row11_col0\" class=\"data row11 col0\" >-0.224068</td>\n",
       "      <td id=\"T_40ad8_row11_col1\" class=\"data row11 col1\" >-0.141414</td>\n",
       "      <td id=\"T_40ad8_row11_col2\" class=\"data row11 col2\" >-0.009346</td>\n",
       "      <td id=\"T_40ad8_row11_col3\" class=\"data row11 col3\" >0.033726</td>\n",
       "      <td id=\"T_40ad8_row11_col4\" class=\"data row11 col4\" >0.041729</td>\n",
       "      <td id=\"T_40ad8_row11_col5\" class=\"data row11 col5\" >-0.196439</td>\n",
       "      <td id=\"T_40ad8_row11_col6\" class=\"data row11 col6\" >0.010514</td>\n",
       "      <td id=\"T_40ad8_row11_col7\" class=\"data row11 col7\" >-0.149315</td>\n",
       "      <td id=\"T_40ad8_row11_col8\" class=\"data row11 col8\" >0.087640</td>\n",
       "      <td id=\"T_40ad8_row11_col9\" class=\"data row11 col9\" >-0.015608</td>\n",
       "      <td id=\"T_40ad8_row11_col10\" class=\"data row11 col10\" >-0.022839</td>\n",
       "      <td id=\"T_40ad8_row11_col11\" class=\"data row11 col11\" >1.000000</td>\n",
       "      <td id=\"T_40ad8_row11_col12\" class=\"data row11 col12\" >-0.526964</td>\n",
       "    </tr>\n",
       "    <tr>\n",
       "      <th id=\"T_40ad8_level0_row12\" class=\"row_heading level0 row12\" >DEATH_EVENT</th>\n",
       "      <td id=\"T_40ad8_row12_col0\" class=\"data row12 col0\" >0.253729</td>\n",
       "      <td id=\"T_40ad8_row12_col1\" class=\"data row12 col1\" >0.066270</td>\n",
       "      <td id=\"T_40ad8_row12_col2\" class=\"data row12 col2\" >0.062728</td>\n",
       "      <td id=\"T_40ad8_row12_col3\" class=\"data row12 col3\" >-0.001943</td>\n",
       "      <td id=\"T_40ad8_row12_col4\" class=\"data row12 col4\" >-0.268603</td>\n",
       "      <td id=\"T_40ad8_row12_col5\" class=\"data row12 col5\" >0.079351</td>\n",
       "      <td id=\"T_40ad8_row12_col6\" class=\"data row12 col6\" >-0.049139</td>\n",
       "      <td id=\"T_40ad8_row12_col7\" class=\"data row12 col7\" >0.294278</td>\n",
       "      <td id=\"T_40ad8_row12_col8\" class=\"data row12 col8\" >-0.195204</td>\n",
       "      <td id=\"T_40ad8_row12_col9\" class=\"data row12 col9\" >-0.004316</td>\n",
       "      <td id=\"T_40ad8_row12_col10\" class=\"data row12 col10\" >-0.012623</td>\n",
       "      <td id=\"T_40ad8_row12_col11\" class=\"data row12 col11\" >-0.526964</td>\n",
       "      <td id=\"T_40ad8_row12_col12\" class=\"data row12 col12\" >1.000000</td>\n",
       "    </tr>\n",
       "  </tbody>\n",
       "</table>\n"
      ],
      "text/plain": [
       "<pandas.io.formats.style.Styler at 0x1bd2be09370>"
      ]
     },
     "execution_count": 178,
     "metadata": {},
     "output_type": "execute_result"
    }
   ],
   "source": [
    "corr = data.corr()\n",
    "corr.style.background_gradient(cmap='coolwarm')"
   ]
  },
  {
   "cell_type": "code",
   "execution_count": null,
   "metadata": {},
   "outputs": [],
   "source": []
  }
 ],
 "metadata": {
  "kernelspec": {
   "display_name": "Python 3.9.12 ('base')",
   "language": "python",
   "name": "python3"
  },
  "language_info": {
   "codemirror_mode": {
    "name": "ipython",
    "version": 3
   },
   "file_extension": ".py",
   "mimetype": "text/x-python",
   "name": "python",
   "nbconvert_exporter": "python",
   "pygments_lexer": "ipython3",
   "version": "3.9.12"
  },
  "orig_nbformat": 4,
  "vscode": {
   "interpreter": {
    "hash": "ad2bdc8ecc057115af97d19610ffacc2b4e99fae6737bb82f5d7fb13d2f2c186"
   }
  }
 },
 "nbformat": 4,
 "nbformat_minor": 2
}
