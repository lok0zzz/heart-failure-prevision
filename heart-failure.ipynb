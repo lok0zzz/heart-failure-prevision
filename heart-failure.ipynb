{
 "cells": [
  {
   "cell_type": "markdown",
   "metadata": {},
   "source": [
    "## Importação das bibliotecas"
   ]
  },
  {
   "cell_type": "code",
   "execution_count": 81,
   "metadata": {},
   "outputs": [],
   "source": [
    "import pandas as pd\n",
    "import numpy as np\n",
    "import seaborn as sns\n",
    "import plotly.express as px\n"
   ]
  },
  {
   "cell_type": "code",
   "execution_count": 82,
   "metadata": {},
   "outputs": [
    {
     "data": {
      "text/html": [
       "<div>\n",
       "<style scoped>\n",
       "    .dataframe tbody tr th:only-of-type {\n",
       "        vertical-align: middle;\n",
       "    }\n",
       "\n",
       "    .dataframe tbody tr th {\n",
       "        vertical-align: top;\n",
       "    }\n",
       "\n",
       "    .dataframe thead th {\n",
       "        text-align: right;\n",
       "    }\n",
       "</style>\n",
       "<table border=\"1\" class=\"dataframe\">\n",
       "  <thead>\n",
       "    <tr style=\"text-align: right;\">\n",
       "      <th></th>\n",
       "      <th>age</th>\n",
       "      <th>anaemia</th>\n",
       "      <th>creatinine_phosphokinase</th>\n",
       "      <th>diabetes</th>\n",
       "      <th>ejection_fraction</th>\n",
       "      <th>high_blood_pressure</th>\n",
       "      <th>platelets</th>\n",
       "      <th>serum_creatinine</th>\n",
       "      <th>serum_sodium</th>\n",
       "      <th>sex</th>\n",
       "      <th>smoking</th>\n",
       "      <th>time</th>\n",
       "      <th>DEATH_EVENT</th>\n",
       "    </tr>\n",
       "  </thead>\n",
       "  <tbody>\n",
       "    <tr>\n",
       "      <th>0</th>\n",
       "      <td>75.0</td>\n",
       "      <td>0</td>\n",
       "      <td>582</td>\n",
       "      <td>0</td>\n",
       "      <td>20</td>\n",
       "      <td>1</td>\n",
       "      <td>265000.00</td>\n",
       "      <td>1.9</td>\n",
       "      <td>130</td>\n",
       "      <td>1</td>\n",
       "      <td>0</td>\n",
       "      <td>4</td>\n",
       "      <td>1</td>\n",
       "    </tr>\n",
       "    <tr>\n",
       "      <th>1</th>\n",
       "      <td>55.0</td>\n",
       "      <td>0</td>\n",
       "      <td>7861</td>\n",
       "      <td>0</td>\n",
       "      <td>38</td>\n",
       "      <td>0</td>\n",
       "      <td>263358.03</td>\n",
       "      <td>1.1</td>\n",
       "      <td>136</td>\n",
       "      <td>1</td>\n",
       "      <td>0</td>\n",
       "      <td>6</td>\n",
       "      <td>1</td>\n",
       "    </tr>\n",
       "    <tr>\n",
       "      <th>2</th>\n",
       "      <td>65.0</td>\n",
       "      <td>0</td>\n",
       "      <td>146</td>\n",
       "      <td>0</td>\n",
       "      <td>20</td>\n",
       "      <td>0</td>\n",
       "      <td>162000.00</td>\n",
       "      <td>1.3</td>\n",
       "      <td>129</td>\n",
       "      <td>1</td>\n",
       "      <td>1</td>\n",
       "      <td>7</td>\n",
       "      <td>1</td>\n",
       "    </tr>\n",
       "    <tr>\n",
       "      <th>3</th>\n",
       "      <td>50.0</td>\n",
       "      <td>1</td>\n",
       "      <td>111</td>\n",
       "      <td>0</td>\n",
       "      <td>20</td>\n",
       "      <td>0</td>\n",
       "      <td>210000.00</td>\n",
       "      <td>1.9</td>\n",
       "      <td>137</td>\n",
       "      <td>1</td>\n",
       "      <td>0</td>\n",
       "      <td>7</td>\n",
       "      <td>1</td>\n",
       "    </tr>\n",
       "    <tr>\n",
       "      <th>4</th>\n",
       "      <td>65.0</td>\n",
       "      <td>1</td>\n",
       "      <td>160</td>\n",
       "      <td>1</td>\n",
       "      <td>20</td>\n",
       "      <td>0</td>\n",
       "      <td>327000.00</td>\n",
       "      <td>2.7</td>\n",
       "      <td>116</td>\n",
       "      <td>0</td>\n",
       "      <td>0</td>\n",
       "      <td>8</td>\n",
       "      <td>1</td>\n",
       "    </tr>\n",
       "  </tbody>\n",
       "</table>\n",
       "</div>"
      ],
      "text/plain": [
       "    age  anaemia  creatinine_phosphokinase  diabetes  ejection_fraction  \\\n",
       "0  75.0        0                       582         0                 20   \n",
       "1  55.0        0                      7861         0                 38   \n",
       "2  65.0        0                       146         0                 20   \n",
       "3  50.0        1                       111         0                 20   \n",
       "4  65.0        1                       160         1                 20   \n",
       "\n",
       "   high_blood_pressure  platelets  serum_creatinine  serum_sodium  sex  \\\n",
       "0                    1  265000.00               1.9           130    1   \n",
       "1                    0  263358.03               1.1           136    1   \n",
       "2                    0  162000.00               1.3           129    1   \n",
       "3                    0  210000.00               1.9           137    1   \n",
       "4                    0  327000.00               2.7           116    0   \n",
       "\n",
       "   smoking  time  DEATH_EVENT  \n",
       "0        0     4            1  \n",
       "1        0     6            1  \n",
       "2        1     7            1  \n",
       "3        0     7            1  \n",
       "4        0     8            1  "
      ]
     },
     "execution_count": 82,
     "metadata": {},
     "output_type": "execute_result"
    }
   ],
   "source": [
    "data = pd.read_csv('Heart Failure Clinical Records.csv')\n",
    "data.head()"
   ]
  },
  {
   "cell_type": "markdown",
   "metadata": {},
   "source": [
    "## Tratamento de dados"
   ]
  },
  {
   "cell_type": "code",
   "execution_count": 83,
   "metadata": {},
   "outputs": [],
   "source": [
    "data = data.drop(data[data['platelets']>420000].index)\n",
    "data = data.drop(data[data['serum_creatinine']>2.5].index)\n",
    "data = data.drop(data[data['creatinine_phosphokinase']>1500].index)"
   ]
  },
  {
   "cell_type": "markdown",
   "metadata": {},
   "source": [
    "## Análise exploratória"
   ]
  },
  {
   "cell_type": "code",
   "execution_count": 84,
   "metadata": {},
   "outputs": [
    {
     "name": "stdout",
     "output_type": "stream",
     "text": [
      "Tamanho: (239, 13)\n",
      "-----------------------------------------------------------------------------------------------------------\n"
     ]
    },
    {
     "data": {
      "text/html": [
       "<div>\n",
       "<style scoped>\n",
       "    .dataframe tbody tr th:only-of-type {\n",
       "        vertical-align: middle;\n",
       "    }\n",
       "\n",
       "    .dataframe tbody tr th {\n",
       "        vertical-align: top;\n",
       "    }\n",
       "\n",
       "    .dataframe thead th {\n",
       "        text-align: right;\n",
       "    }\n",
       "</style>\n",
       "<table border=\"1\" class=\"dataframe\">\n",
       "  <thead>\n",
       "    <tr style=\"text-align: right;\">\n",
       "      <th></th>\n",
       "      <th>age</th>\n",
       "      <th>anaemia</th>\n",
       "      <th>creatinine_phosphokinase</th>\n",
       "      <th>diabetes</th>\n",
       "      <th>ejection_fraction</th>\n",
       "      <th>high_blood_pressure</th>\n",
       "      <th>platelets</th>\n",
       "      <th>serum_creatinine</th>\n",
       "      <th>serum_sodium</th>\n",
       "      <th>sex</th>\n",
       "      <th>smoking</th>\n",
       "      <th>time</th>\n",
       "      <th>DEATH_EVENT</th>\n",
       "    </tr>\n",
       "  </thead>\n",
       "  <tbody>\n",
       "    <tr>\n",
       "      <th>count</th>\n",
       "      <td>239.000000</td>\n",
       "      <td>239.000000</td>\n",
       "      <td>239.000000</td>\n",
       "      <td>239.000000</td>\n",
       "      <td>239.000000</td>\n",
       "      <td>239.000000</td>\n",
       "      <td>239.000000</td>\n",
       "      <td>239.000000</td>\n",
       "      <td>239.000000</td>\n",
       "      <td>239.000000</td>\n",
       "      <td>239.000000</td>\n",
       "      <td>239.000000</td>\n",
       "      <td>239.000000</td>\n",
       "    </tr>\n",
       "    <tr>\n",
       "      <th>mean</th>\n",
       "      <td>60.913531</td>\n",
       "      <td>0.451883</td>\n",
       "      <td>345.313808</td>\n",
       "      <td>0.422594</td>\n",
       "      <td>38.221757</td>\n",
       "      <td>0.372385</td>\n",
       "      <td>249320.580042</td>\n",
       "      <td>1.184435</td>\n",
       "      <td>136.661088</td>\n",
       "      <td>0.635983</td>\n",
       "      <td>0.313808</td>\n",
       "      <td>131.242678</td>\n",
       "      <td>0.301255</td>\n",
       "    </tr>\n",
       "    <tr>\n",
       "      <th>std</th>\n",
       "      <td>11.814824</td>\n",
       "      <td>0.498724</td>\n",
       "      <td>296.169846</td>\n",
       "      <td>0.495009</td>\n",
       "      <td>11.997417</td>\n",
       "      <td>0.484455</td>\n",
       "      <td>70024.151330</td>\n",
       "      <td>0.401031</td>\n",
       "      <td>4.355788</td>\n",
       "      <td>0.482163</td>\n",
       "      <td>0.465013</td>\n",
       "      <td>75.884751</td>\n",
       "      <td>0.459766</td>\n",
       "    </tr>\n",
       "    <tr>\n",
       "      <th>min</th>\n",
       "      <td>40.000000</td>\n",
       "      <td>0.000000</td>\n",
       "      <td>30.000000</td>\n",
       "      <td>0.000000</td>\n",
       "      <td>14.000000</td>\n",
       "      <td>0.000000</td>\n",
       "      <td>25100.000000</td>\n",
       "      <td>0.600000</td>\n",
       "      <td>113.000000</td>\n",
       "      <td>0.000000</td>\n",
       "      <td>0.000000</td>\n",
       "      <td>4.000000</td>\n",
       "      <td>0.000000</td>\n",
       "    </tr>\n",
       "    <tr>\n",
       "      <th>25%</th>\n",
       "      <td>51.000000</td>\n",
       "      <td>0.000000</td>\n",
       "      <td>115.000000</td>\n",
       "      <td>0.000000</td>\n",
       "      <td>30.000000</td>\n",
       "      <td>0.000000</td>\n",
       "      <td>206000.000000</td>\n",
       "      <td>0.900000</td>\n",
       "      <td>134.000000</td>\n",
       "      <td>0.000000</td>\n",
       "      <td>0.000000</td>\n",
       "      <td>74.500000</td>\n",
       "      <td>0.000000</td>\n",
       "    </tr>\n",
       "    <tr>\n",
       "      <th>50%</th>\n",
       "      <td>60.000000</td>\n",
       "      <td>0.000000</td>\n",
       "      <td>213.000000</td>\n",
       "      <td>0.000000</td>\n",
       "      <td>38.000000</td>\n",
       "      <td>0.000000</td>\n",
       "      <td>257000.000000</td>\n",
       "      <td>1.100000</td>\n",
       "      <td>137.000000</td>\n",
       "      <td>1.000000</td>\n",
       "      <td>0.000000</td>\n",
       "      <td>118.000000</td>\n",
       "      <td>0.000000</td>\n",
       "    </tr>\n",
       "    <tr>\n",
       "      <th>75%</th>\n",
       "      <td>70.000000</td>\n",
       "      <td>1.000000</td>\n",
       "      <td>582.000000</td>\n",
       "      <td>1.000000</td>\n",
       "      <td>45.000000</td>\n",
       "      <td>1.000000</td>\n",
       "      <td>289500.000000</td>\n",
       "      <td>1.300000</td>\n",
       "      <td>140.000000</td>\n",
       "      <td>1.000000</td>\n",
       "      <td>1.000000</td>\n",
       "      <td>201.000000</td>\n",
       "      <td>1.000000</td>\n",
       "    </tr>\n",
       "    <tr>\n",
       "      <th>max</th>\n",
       "      <td>95.000000</td>\n",
       "      <td>1.000000</td>\n",
       "      <td>1419.000000</td>\n",
       "      <td>1.000000</td>\n",
       "      <td>80.000000</td>\n",
       "      <td>1.000000</td>\n",
       "      <td>418000.000000</td>\n",
       "      <td>2.500000</td>\n",
       "      <td>148.000000</td>\n",
       "      <td>1.000000</td>\n",
       "      <td>1.000000</td>\n",
       "      <td>285.000000</td>\n",
       "      <td>1.000000</td>\n",
       "    </tr>\n",
       "  </tbody>\n",
       "</table>\n",
       "</div>"
      ],
      "text/plain": [
       "              age     anaemia  creatinine_phosphokinase    diabetes  \\\n",
       "count  239.000000  239.000000                239.000000  239.000000   \n",
       "mean    60.913531    0.451883                345.313808    0.422594   \n",
       "std     11.814824    0.498724                296.169846    0.495009   \n",
       "min     40.000000    0.000000                 30.000000    0.000000   \n",
       "25%     51.000000    0.000000                115.000000    0.000000   \n",
       "50%     60.000000    0.000000                213.000000    0.000000   \n",
       "75%     70.000000    1.000000                582.000000    1.000000   \n",
       "max     95.000000    1.000000               1419.000000    1.000000   \n",
       "\n",
       "       ejection_fraction  high_blood_pressure      platelets  \\\n",
       "count         239.000000           239.000000     239.000000   \n",
       "mean           38.221757             0.372385  249320.580042   \n",
       "std            11.997417             0.484455   70024.151330   \n",
       "min            14.000000             0.000000   25100.000000   \n",
       "25%            30.000000             0.000000  206000.000000   \n",
       "50%            38.000000             0.000000  257000.000000   \n",
       "75%            45.000000             1.000000  289500.000000   \n",
       "max            80.000000             1.000000  418000.000000   \n",
       "\n",
       "       serum_creatinine  serum_sodium         sex     smoking        time  \\\n",
       "count        239.000000    239.000000  239.000000  239.000000  239.000000   \n",
       "mean           1.184435    136.661088    0.635983    0.313808  131.242678   \n",
       "std            0.401031      4.355788    0.482163    0.465013   75.884751   \n",
       "min            0.600000    113.000000    0.000000    0.000000    4.000000   \n",
       "25%            0.900000    134.000000    0.000000    0.000000   74.500000   \n",
       "50%            1.100000    137.000000    1.000000    0.000000  118.000000   \n",
       "75%            1.300000    140.000000    1.000000    1.000000  201.000000   \n",
       "max            2.500000    148.000000    1.000000    1.000000  285.000000   \n",
       "\n",
       "       DEATH_EVENT  \n",
       "count   239.000000  \n",
       "mean      0.301255  \n",
       "std       0.459766  \n",
       "min       0.000000  \n",
       "25%       0.000000  \n",
       "50%       0.000000  \n",
       "75%       1.000000  \n",
       "max       1.000000  "
      ]
     },
     "metadata": {},
     "output_type": "display_data"
    },
    {
     "name": "stdout",
     "output_type": "stream",
     "text": [
      "-----------------------------------------------------------------------------------------------------------\n",
      "<class 'pandas.core.frame.DataFrame'>\n",
      "Int64Index: 239 entries, 0 to 298\n",
      "Data columns (total 13 columns):\n",
      " #   Column                    Non-Null Count  Dtype  \n",
      "---  ------                    --------------  -----  \n",
      " 0   age                       239 non-null    float64\n",
      " 1   anaemia                   239 non-null    int64  \n",
      " 2   creatinine_phosphokinase  239 non-null    int64  \n",
      " 3   diabetes                  239 non-null    int64  \n",
      " 4   ejection_fraction         239 non-null    int64  \n",
      " 5   high_blood_pressure       239 non-null    int64  \n",
      " 6   platelets                 239 non-null    float64\n",
      " 7   serum_creatinine          239 non-null    float64\n",
      " 8   serum_sodium              239 non-null    int64  \n",
      " 9   sex                       239 non-null    int64  \n",
      " 10  smoking                   239 non-null    int64  \n",
      " 11  time                      239 non-null    int64  \n",
      " 12  DEATH_EVENT               239 non-null    int64  \n",
      "dtypes: float64(3), int64(10)\n",
      "memory usage: 26.1 KB\n",
      "None\n"
     ]
    }
   ],
   "source": [
    "print('Tamanho: ', end=\"\")\n",
    "print(data.shape)\n",
    "print('-----------------------------------------------------------------------------------------------------------')\n",
    "display(data.describe())\n",
    "print('-----------------------------------------------------------------------------------------------------------')\n",
    "print(data.info())"
   ]
  },
  {
   "cell_type": "markdown",
   "metadata": {},
   "source": [
    "Aqui observamos que temos mais mulheres do que homens na nossa base de dados."
   ]
  },
  {
   "cell_type": "code",
   "execution_count": 85,
   "metadata": {},
   "outputs": [
    {
     "data": {
      "text/html": [
       "<div>\n",
       "<style scoped>\n",
       "    .dataframe tbody tr th:only-of-type {\n",
       "        vertical-align: middle;\n",
       "    }\n",
       "\n",
       "    .dataframe tbody tr th {\n",
       "        vertical-align: top;\n",
       "    }\n",
       "\n",
       "    .dataframe thead th {\n",
       "        text-align: right;\n",
       "    }\n",
       "</style>\n",
       "<table border=\"1\" class=\"dataframe\">\n",
       "  <thead>\n",
       "    <tr style=\"text-align: right;\">\n",
       "      <th></th>\n",
       "      <th>age</th>\n",
       "      <th>anaemia</th>\n",
       "      <th>creatinine_phosphokinase</th>\n",
       "      <th>diabetes</th>\n",
       "      <th>ejection_fraction</th>\n",
       "      <th>high_blood_pressure</th>\n",
       "      <th>platelets</th>\n",
       "      <th>serum_creatinine</th>\n",
       "      <th>serum_sodium</th>\n",
       "      <th>sex</th>\n",
       "      <th>smoking</th>\n",
       "      <th>time</th>\n",
       "      <th>DEATH_EVENT</th>\n",
       "    </tr>\n",
       "  </thead>\n",
       "  <tbody>\n",
       "    <tr>\n",
       "      <th>0</th>\n",
       "      <td>75.0</td>\n",
       "      <td>0</td>\n",
       "      <td>582</td>\n",
       "      <td>0</td>\n",
       "      <td>20</td>\n",
       "      <td>1</td>\n",
       "      <td>265000.0</td>\n",
       "      <td>1.9</td>\n",
       "      <td>130</td>\n",
       "      <td>1</td>\n",
       "      <td>0</td>\n",
       "      <td>4</td>\n",
       "      <td>1</td>\n",
       "    </tr>\n",
       "    <tr>\n",
       "      <th>2</th>\n",
       "      <td>65.0</td>\n",
       "      <td>0</td>\n",
       "      <td>146</td>\n",
       "      <td>0</td>\n",
       "      <td>20</td>\n",
       "      <td>0</td>\n",
       "      <td>162000.0</td>\n",
       "      <td>1.3</td>\n",
       "      <td>129</td>\n",
       "      <td>1</td>\n",
       "      <td>1</td>\n",
       "      <td>7</td>\n",
       "      <td>1</td>\n",
       "    </tr>\n",
       "    <tr>\n",
       "      <th>3</th>\n",
       "      <td>50.0</td>\n",
       "      <td>1</td>\n",
       "      <td>111</td>\n",
       "      <td>0</td>\n",
       "      <td>20</td>\n",
       "      <td>0</td>\n",
       "      <td>210000.0</td>\n",
       "      <td>1.9</td>\n",
       "      <td>137</td>\n",
       "      <td>1</td>\n",
       "      <td>0</td>\n",
       "      <td>7</td>\n",
       "      <td>1</td>\n",
       "    </tr>\n",
       "    <tr>\n",
       "      <th>5</th>\n",
       "      <td>90.0</td>\n",
       "      <td>1</td>\n",
       "      <td>47</td>\n",
       "      <td>0</td>\n",
       "      <td>40</td>\n",
       "      <td>1</td>\n",
       "      <td>204000.0</td>\n",
       "      <td>2.1</td>\n",
       "      <td>132</td>\n",
       "      <td>1</td>\n",
       "      <td>1</td>\n",
       "      <td>8</td>\n",
       "      <td>1</td>\n",
       "    </tr>\n",
       "    <tr>\n",
       "      <th>6</th>\n",
       "      <td>75.0</td>\n",
       "      <td>1</td>\n",
       "      <td>246</td>\n",
       "      <td>0</td>\n",
       "      <td>15</td>\n",
       "      <td>0</td>\n",
       "      <td>127000.0</td>\n",
       "      <td>1.2</td>\n",
       "      <td>137</td>\n",
       "      <td>1</td>\n",
       "      <td>0</td>\n",
       "      <td>10</td>\n",
       "      <td>1</td>\n",
       "    </tr>\n",
       "    <tr>\n",
       "      <th>...</th>\n",
       "      <td>...</td>\n",
       "      <td>...</td>\n",
       "      <td>...</td>\n",
       "      <td>...</td>\n",
       "      <td>...</td>\n",
       "      <td>...</td>\n",
       "      <td>...</td>\n",
       "      <td>...</td>\n",
       "      <td>...</td>\n",
       "      <td>...</td>\n",
       "      <td>...</td>\n",
       "      <td>...</td>\n",
       "      <td>...</td>\n",
       "    </tr>\n",
       "    <tr>\n",
       "      <th>291</th>\n",
       "      <td>60.0</td>\n",
       "      <td>0</td>\n",
       "      <td>320</td>\n",
       "      <td>0</td>\n",
       "      <td>35</td>\n",
       "      <td>0</td>\n",
       "      <td>133000.0</td>\n",
       "      <td>1.4</td>\n",
       "      <td>139</td>\n",
       "      <td>1</td>\n",
       "      <td>0</td>\n",
       "      <td>258</td>\n",
       "      <td>0</td>\n",
       "    </tr>\n",
       "    <tr>\n",
       "      <th>292</th>\n",
       "      <td>52.0</td>\n",
       "      <td>0</td>\n",
       "      <td>190</td>\n",
       "      <td>1</td>\n",
       "      <td>38</td>\n",
       "      <td>0</td>\n",
       "      <td>382000.0</td>\n",
       "      <td>1.0</td>\n",
       "      <td>140</td>\n",
       "      <td>1</td>\n",
       "      <td>1</td>\n",
       "      <td>258</td>\n",
       "      <td>0</td>\n",
       "    </tr>\n",
       "    <tr>\n",
       "      <th>293</th>\n",
       "      <td>63.0</td>\n",
       "      <td>1</td>\n",
       "      <td>103</td>\n",
       "      <td>1</td>\n",
       "      <td>35</td>\n",
       "      <td>0</td>\n",
       "      <td>179000.0</td>\n",
       "      <td>0.9</td>\n",
       "      <td>136</td>\n",
       "      <td>1</td>\n",
       "      <td>1</td>\n",
       "      <td>270</td>\n",
       "      <td>0</td>\n",
       "    </tr>\n",
       "    <tr>\n",
       "      <th>294</th>\n",
       "      <td>62.0</td>\n",
       "      <td>0</td>\n",
       "      <td>61</td>\n",
       "      <td>1</td>\n",
       "      <td>38</td>\n",
       "      <td>1</td>\n",
       "      <td>155000.0</td>\n",
       "      <td>1.1</td>\n",
       "      <td>143</td>\n",
       "      <td>1</td>\n",
       "      <td>1</td>\n",
       "      <td>270</td>\n",
       "      <td>0</td>\n",
       "    </tr>\n",
       "    <tr>\n",
       "      <th>298</th>\n",
       "      <td>50.0</td>\n",
       "      <td>0</td>\n",
       "      <td>196</td>\n",
       "      <td>0</td>\n",
       "      <td>45</td>\n",
       "      <td>0</td>\n",
       "      <td>395000.0</td>\n",
       "      <td>1.6</td>\n",
       "      <td>136</td>\n",
       "      <td>1</td>\n",
       "      <td>1</td>\n",
       "      <td>285</td>\n",
       "      <td>0</td>\n",
       "    </tr>\n",
       "  </tbody>\n",
       "</table>\n",
       "<p>239 rows × 13 columns</p>\n",
       "</div>"
      ],
      "text/plain": [
       "      age  anaemia  creatinine_phosphokinase  diabetes  ejection_fraction  \\\n",
       "0    75.0        0                       582         0                 20   \n",
       "2    65.0        0                       146         0                 20   \n",
       "3    50.0        1                       111         0                 20   \n",
       "5    90.0        1                        47         0                 40   \n",
       "6    75.0        1                       246         0                 15   \n",
       "..    ...      ...                       ...       ...                ...   \n",
       "291  60.0        0                       320         0                 35   \n",
       "292  52.0        0                       190         1                 38   \n",
       "293  63.0        1                       103         1                 35   \n",
       "294  62.0        0                        61         1                 38   \n",
       "298  50.0        0                       196         0                 45   \n",
       "\n",
       "     high_blood_pressure  platelets  serum_creatinine  serum_sodium  sex  \\\n",
       "0                      1   265000.0               1.9           130    1   \n",
       "2                      0   162000.0               1.3           129    1   \n",
       "3                      0   210000.0               1.9           137    1   \n",
       "5                      1   204000.0               2.1           132    1   \n",
       "6                      0   127000.0               1.2           137    1   \n",
       "..                   ...        ...               ...           ...  ...   \n",
       "291                    0   133000.0               1.4           139    1   \n",
       "292                    0   382000.0               1.0           140    1   \n",
       "293                    0   179000.0               0.9           136    1   \n",
       "294                    1   155000.0               1.1           143    1   \n",
       "298                    0   395000.0               1.6           136    1   \n",
       "\n",
       "     smoking  time  DEATH_EVENT  \n",
       "0          0     4            1  \n",
       "2          1     7            1  \n",
       "3          0     7            1  \n",
       "5          1     8            1  \n",
       "6          0    10            1  \n",
       "..       ...   ...          ...  \n",
       "291        0   258            0  \n",
       "292        1   258            0  \n",
       "293        1   270            0  \n",
       "294        1   270            0  \n",
       "298        1   285            0  \n",
       "\n",
       "[239 rows x 13 columns]"
      ]
     },
     "metadata": {},
     "output_type": "display_data"
    }
   ],
   "source": [
    "tmp = data.copy()\n",
    "tmp['sex'] = tmp['sex'].apply(lambda x: 'Mulher' if x == 0 else 'Homem')\n",
    "tmp['DEATH_EVENT'] = tmp['DEATH_EVENT'].apply(lambda x: 'Não faleceu' if x == 0 else 'Faleceu')\n",
    "\n",
    "fig = px.pie(tmp, names='sex', width=500, color_discrete_sequence=['#19647E', '#A31621'])\n",
    "fig.update_xaxes(title_text='Sexo')\n",
    "fig.update_yaxes(title_text='')\n",
    "fig.update_layout(bargap=0.2)\n",
    "# fig.show()\n",
    "display(data)\n"
   ]
  },
  {
   "cell_type": "markdown",
   "metadata": {},
   "source": [
    "Aqui podemos ver que apenas 32% dos homens e 32,4% das mulheres da base de dados faleceram durante o acompanhamento"
   ]
  },
  {
   "cell_type": "code",
   "execution_count": 86,
   "metadata": {},
   "outputs": [
    {
     "data": {
      "application/vnd.plotly.v1+json": {
       "config": {
        "plotlyServerURL": "https://plot.ly"
       },
       "data": [
        {
         "alignmentgroup": "True",
         "bingroup": "x",
         "hovertemplate": "Sexo=Homem<br>DEATH_EVENT=%{x}<br>count=%{y}<extra></extra>",
         "legendgroup": "Homem",
         "marker": {
          "color": "#19647E",
          "pattern": {
           "shape": ""
          }
         },
         "name": "Homem",
         "offsetgroup": "Homem",
         "orientation": "v",
         "showlegend": true,
         "type": "histogram",
         "x": [
          "Faleceu",
          "Faleceu",
          "Faleceu",
          "Faleceu",
          "Faleceu",
          "Faleceu",
          "Faleceu",
          "Faleceu",
          "Faleceu",
          "Faleceu",
          "Faleceu",
          "Faleceu",
          "Não faleceu",
          "Faleceu",
          "Faleceu",
          "Faleceu",
          "Faleceu",
          "Faleceu",
          "Faleceu",
          "Faleceu",
          "Faleceu",
          "Não faleceu",
          "Faleceu",
          "Faleceu",
          "Faleceu",
          "Não faleceu",
          "Faleceu",
          "Faleceu",
          "Não faleceu",
          "Faleceu",
          "Faleceu",
          "Não faleceu",
          "Não faleceu",
          "Não faleceu",
          "Faleceu",
          "Faleceu",
          "Não faleceu",
          "Não faleceu",
          "Não faleceu",
          "Não faleceu",
          "Não faleceu",
          "Não faleceu",
          "Não faleceu",
          "Não faleceu",
          "Não faleceu",
          "Não faleceu",
          "Não faleceu",
          "Faleceu",
          "Não faleceu",
          "Não faleceu",
          "Não faleceu",
          "Não faleceu",
          "Não faleceu",
          "Não faleceu",
          "Não faleceu",
          "Faleceu",
          "Não faleceu",
          "Não faleceu",
          "Não faleceu",
          "Não faleceu",
          "Não faleceu",
          "Não faleceu",
          "Não faleceu",
          "Não faleceu",
          "Faleceu",
          "Faleceu",
          "Não faleceu",
          "Não faleceu",
          "Faleceu",
          "Não faleceu",
          "Não faleceu",
          "Não faleceu",
          "Não faleceu",
          "Não faleceu",
          "Não faleceu",
          "Não faleceu",
          "Não faleceu",
          "Não faleceu",
          "Faleceu",
          "Não faleceu",
          "Não faleceu",
          "Não faleceu",
          "Não faleceu",
          "Não faleceu",
          "Não faleceu",
          "Não faleceu",
          "Não faleceu",
          "Não faleceu",
          "Faleceu",
          "Faleceu",
          "Faleceu",
          "Faleceu",
          "Faleceu",
          "Não faleceu",
          "Não faleceu",
          "Não faleceu",
          "Faleceu",
          "Faleceu",
          "Não faleceu",
          "Não faleceu",
          "Não faleceu",
          "Não faleceu",
          "Não faleceu",
          "Não faleceu",
          "Não faleceu",
          "Não faleceu",
          "Não faleceu",
          "Não faleceu",
          "Faleceu",
          "Não faleceu",
          "Não faleceu",
          "Não faleceu",
          "Não faleceu",
          "Não faleceu",
          "Não faleceu",
          "Não faleceu",
          "Não faleceu",
          "Não faleceu",
          "Não faleceu",
          "Não faleceu",
          "Não faleceu",
          "Não faleceu",
          "Não faleceu",
          "Não faleceu",
          "Não faleceu",
          "Não faleceu",
          "Não faleceu",
          "Não faleceu",
          "Não faleceu",
          "Não faleceu",
          "Não faleceu",
          "Não faleceu",
          "Não faleceu",
          "Não faleceu",
          "Faleceu",
          "Não faleceu",
          "Não faleceu",
          "Faleceu",
          "Não faleceu",
          "Não faleceu",
          "Não faleceu",
          "Não faleceu",
          "Não faleceu",
          "Não faleceu",
          "Não faleceu",
          "Não faleceu",
          "Não faleceu",
          "Não faleceu",
          "Não faleceu",
          "Não faleceu",
          "Não faleceu",
          "Não faleceu"
         ],
         "xaxis": "x",
         "yaxis": "y"
        },
        {
         "alignmentgroup": "True",
         "bingroup": "x",
         "hovertemplate": "Sexo=Mulher<br>DEATH_EVENT=%{x}<br>count=%{y}<extra></extra>",
         "legendgroup": "Mulher",
         "marker": {
          "color": "#A31621",
          "pattern": {
           "shape": ""
          }
         },
         "name": "Mulher",
         "offsetgroup": "Mulher",
         "orientation": "v",
         "showlegend": true,
         "type": "histogram",
         "x": [
          "Faleceu",
          "Faleceu",
          "Faleceu",
          "Não faleceu",
          "Faleceu",
          "Faleceu",
          "Faleceu",
          "Faleceu",
          "Não faleceu",
          "Faleceu",
          "Faleceu",
          "Faleceu",
          "Faleceu",
          "Faleceu",
          "Faleceu",
          "Faleceu",
          "Faleceu",
          "Não faleceu",
          "Faleceu",
          "Faleceu",
          "Não faleceu",
          "Não faleceu",
          "Não faleceu",
          "Faleceu",
          "Faleceu",
          "Não faleceu",
          "Não faleceu",
          "Não faleceu",
          "Não faleceu",
          "Não faleceu",
          "Não faleceu",
          "Faleceu",
          "Não faleceu",
          "Não faleceu",
          "Não faleceu",
          "Faleceu",
          "Não faleceu",
          "Não faleceu",
          "Não faleceu",
          "Não faleceu",
          "Faleceu",
          "Não faleceu",
          "Não faleceu",
          "Não faleceu",
          "Não faleceu",
          "Não faleceu",
          "Não faleceu",
          "Não faleceu",
          "Faleceu",
          "Não faleceu",
          "Não faleceu",
          "Faleceu",
          "Não faleceu",
          "Não faleceu",
          "Não faleceu",
          "Faleceu",
          "Não faleceu",
          "Não faleceu",
          "Não faleceu",
          "Não faleceu",
          "Não faleceu",
          "Não faleceu",
          "Não faleceu",
          "Não faleceu",
          "Não faleceu",
          "Faleceu",
          "Não faleceu",
          "Não faleceu",
          "Não faleceu",
          "Não faleceu",
          "Faleceu",
          "Não faleceu",
          "Não faleceu",
          "Não faleceu",
          "Não faleceu",
          "Não faleceu",
          "Não faleceu",
          "Não faleceu",
          "Não faleceu",
          "Não faleceu",
          "Não faleceu",
          "Não faleceu",
          "Não faleceu",
          "Não faleceu",
          "Não faleceu",
          "Não faleceu",
          "Não faleceu"
         ],
         "xaxis": "x",
         "yaxis": "y"
        }
       ],
       "layout": {
        "bargap": 0.2,
        "barmode": "relative",
        "legend": {
         "title": {
          "text": "Sexo"
         },
         "tracegroupgap": 0
        },
        "margin": {
         "t": 60
        },
        "template": {
         "data": {
          "bar": [
           {
            "error_x": {
             "color": "#2a3f5f"
            },
            "error_y": {
             "color": "#2a3f5f"
            },
            "marker": {
             "line": {
              "color": "#E5ECF6",
              "width": 0.5
             },
             "pattern": {
              "fillmode": "overlay",
              "size": 10,
              "solidity": 0.2
             }
            },
            "type": "bar"
           }
          ],
          "barpolar": [
           {
            "marker": {
             "line": {
              "color": "#E5ECF6",
              "width": 0.5
             },
             "pattern": {
              "fillmode": "overlay",
              "size": 10,
              "solidity": 0.2
             }
            },
            "type": "barpolar"
           }
          ],
          "carpet": [
           {
            "aaxis": {
             "endlinecolor": "#2a3f5f",
             "gridcolor": "white",
             "linecolor": "white",
             "minorgridcolor": "white",
             "startlinecolor": "#2a3f5f"
            },
            "baxis": {
             "endlinecolor": "#2a3f5f",
             "gridcolor": "white",
             "linecolor": "white",
             "minorgridcolor": "white",
             "startlinecolor": "#2a3f5f"
            },
            "type": "carpet"
           }
          ],
          "choropleth": [
           {
            "colorbar": {
             "outlinewidth": 0,
             "ticks": ""
            },
            "type": "choropleth"
           }
          ],
          "contour": [
           {
            "colorbar": {
             "outlinewidth": 0,
             "ticks": ""
            },
            "colorscale": [
             [
              0,
              "#0d0887"
             ],
             [
              0.1111111111111111,
              "#46039f"
             ],
             [
              0.2222222222222222,
              "#7201a8"
             ],
             [
              0.3333333333333333,
              "#9c179e"
             ],
             [
              0.4444444444444444,
              "#bd3786"
             ],
             [
              0.5555555555555556,
              "#d8576b"
             ],
             [
              0.6666666666666666,
              "#ed7953"
             ],
             [
              0.7777777777777778,
              "#fb9f3a"
             ],
             [
              0.8888888888888888,
              "#fdca26"
             ],
             [
              1,
              "#f0f921"
             ]
            ],
            "type": "contour"
           }
          ],
          "contourcarpet": [
           {
            "colorbar": {
             "outlinewidth": 0,
             "ticks": ""
            },
            "type": "contourcarpet"
           }
          ],
          "heatmap": [
           {
            "colorbar": {
             "outlinewidth": 0,
             "ticks": ""
            },
            "colorscale": [
             [
              0,
              "#0d0887"
             ],
             [
              0.1111111111111111,
              "#46039f"
             ],
             [
              0.2222222222222222,
              "#7201a8"
             ],
             [
              0.3333333333333333,
              "#9c179e"
             ],
             [
              0.4444444444444444,
              "#bd3786"
             ],
             [
              0.5555555555555556,
              "#d8576b"
             ],
             [
              0.6666666666666666,
              "#ed7953"
             ],
             [
              0.7777777777777778,
              "#fb9f3a"
             ],
             [
              0.8888888888888888,
              "#fdca26"
             ],
             [
              1,
              "#f0f921"
             ]
            ],
            "type": "heatmap"
           }
          ],
          "heatmapgl": [
           {
            "colorbar": {
             "outlinewidth": 0,
             "ticks": ""
            },
            "colorscale": [
             [
              0,
              "#0d0887"
             ],
             [
              0.1111111111111111,
              "#46039f"
             ],
             [
              0.2222222222222222,
              "#7201a8"
             ],
             [
              0.3333333333333333,
              "#9c179e"
             ],
             [
              0.4444444444444444,
              "#bd3786"
             ],
             [
              0.5555555555555556,
              "#d8576b"
             ],
             [
              0.6666666666666666,
              "#ed7953"
             ],
             [
              0.7777777777777778,
              "#fb9f3a"
             ],
             [
              0.8888888888888888,
              "#fdca26"
             ],
             [
              1,
              "#f0f921"
             ]
            ],
            "type": "heatmapgl"
           }
          ],
          "histogram": [
           {
            "marker": {
             "pattern": {
              "fillmode": "overlay",
              "size": 10,
              "solidity": 0.2
             }
            },
            "type": "histogram"
           }
          ],
          "histogram2d": [
           {
            "colorbar": {
             "outlinewidth": 0,
             "ticks": ""
            },
            "colorscale": [
             [
              0,
              "#0d0887"
             ],
             [
              0.1111111111111111,
              "#46039f"
             ],
             [
              0.2222222222222222,
              "#7201a8"
             ],
             [
              0.3333333333333333,
              "#9c179e"
             ],
             [
              0.4444444444444444,
              "#bd3786"
             ],
             [
              0.5555555555555556,
              "#d8576b"
             ],
             [
              0.6666666666666666,
              "#ed7953"
             ],
             [
              0.7777777777777778,
              "#fb9f3a"
             ],
             [
              0.8888888888888888,
              "#fdca26"
             ],
             [
              1,
              "#f0f921"
             ]
            ],
            "type": "histogram2d"
           }
          ],
          "histogram2dcontour": [
           {
            "colorbar": {
             "outlinewidth": 0,
             "ticks": ""
            },
            "colorscale": [
             [
              0,
              "#0d0887"
             ],
             [
              0.1111111111111111,
              "#46039f"
             ],
             [
              0.2222222222222222,
              "#7201a8"
             ],
             [
              0.3333333333333333,
              "#9c179e"
             ],
             [
              0.4444444444444444,
              "#bd3786"
             ],
             [
              0.5555555555555556,
              "#d8576b"
             ],
             [
              0.6666666666666666,
              "#ed7953"
             ],
             [
              0.7777777777777778,
              "#fb9f3a"
             ],
             [
              0.8888888888888888,
              "#fdca26"
             ],
             [
              1,
              "#f0f921"
             ]
            ],
            "type": "histogram2dcontour"
           }
          ],
          "mesh3d": [
           {
            "colorbar": {
             "outlinewidth": 0,
             "ticks": ""
            },
            "type": "mesh3d"
           }
          ],
          "parcoords": [
           {
            "line": {
             "colorbar": {
              "outlinewidth": 0,
              "ticks": ""
             }
            },
            "type": "parcoords"
           }
          ],
          "pie": [
           {
            "automargin": true,
            "type": "pie"
           }
          ],
          "scatter": [
           {
            "marker": {
             "colorbar": {
              "outlinewidth": 0,
              "ticks": ""
             }
            },
            "type": "scatter"
           }
          ],
          "scatter3d": [
           {
            "line": {
             "colorbar": {
              "outlinewidth": 0,
              "ticks": ""
             }
            },
            "marker": {
             "colorbar": {
              "outlinewidth": 0,
              "ticks": ""
             }
            },
            "type": "scatter3d"
           }
          ],
          "scattercarpet": [
           {
            "marker": {
             "colorbar": {
              "outlinewidth": 0,
              "ticks": ""
             }
            },
            "type": "scattercarpet"
           }
          ],
          "scattergeo": [
           {
            "marker": {
             "colorbar": {
              "outlinewidth": 0,
              "ticks": ""
             }
            },
            "type": "scattergeo"
           }
          ],
          "scattergl": [
           {
            "marker": {
             "colorbar": {
              "outlinewidth": 0,
              "ticks": ""
             }
            },
            "type": "scattergl"
           }
          ],
          "scattermapbox": [
           {
            "marker": {
             "colorbar": {
              "outlinewidth": 0,
              "ticks": ""
             }
            },
            "type": "scattermapbox"
           }
          ],
          "scatterpolar": [
           {
            "marker": {
             "colorbar": {
              "outlinewidth": 0,
              "ticks": ""
             }
            },
            "type": "scatterpolar"
           }
          ],
          "scatterpolargl": [
           {
            "marker": {
             "colorbar": {
              "outlinewidth": 0,
              "ticks": ""
             }
            },
            "type": "scatterpolargl"
           }
          ],
          "scatterternary": [
           {
            "marker": {
             "colorbar": {
              "outlinewidth": 0,
              "ticks": ""
             }
            },
            "type": "scatterternary"
           }
          ],
          "surface": [
           {
            "colorbar": {
             "outlinewidth": 0,
             "ticks": ""
            },
            "colorscale": [
             [
              0,
              "#0d0887"
             ],
             [
              0.1111111111111111,
              "#46039f"
             ],
             [
              0.2222222222222222,
              "#7201a8"
             ],
             [
              0.3333333333333333,
              "#9c179e"
             ],
             [
              0.4444444444444444,
              "#bd3786"
             ],
             [
              0.5555555555555556,
              "#d8576b"
             ],
             [
              0.6666666666666666,
              "#ed7953"
             ],
             [
              0.7777777777777778,
              "#fb9f3a"
             ],
             [
              0.8888888888888888,
              "#fdca26"
             ],
             [
              1,
              "#f0f921"
             ]
            ],
            "type": "surface"
           }
          ],
          "table": [
           {
            "cells": {
             "fill": {
              "color": "#EBF0F8"
             },
             "line": {
              "color": "white"
             }
            },
            "header": {
             "fill": {
              "color": "#C8D4E3"
             },
             "line": {
              "color": "white"
             }
            },
            "type": "table"
           }
          ]
         },
         "layout": {
          "annotationdefaults": {
           "arrowcolor": "#2a3f5f",
           "arrowhead": 0,
           "arrowwidth": 1
          },
          "autotypenumbers": "strict",
          "coloraxis": {
           "colorbar": {
            "outlinewidth": 0,
            "ticks": ""
           }
          },
          "colorscale": {
           "diverging": [
            [
             0,
             "#8e0152"
            ],
            [
             0.1,
             "#c51b7d"
            ],
            [
             0.2,
             "#de77ae"
            ],
            [
             0.3,
             "#f1b6da"
            ],
            [
             0.4,
             "#fde0ef"
            ],
            [
             0.5,
             "#f7f7f7"
            ],
            [
             0.6,
             "#e6f5d0"
            ],
            [
             0.7,
             "#b8e186"
            ],
            [
             0.8,
             "#7fbc41"
            ],
            [
             0.9,
             "#4d9221"
            ],
            [
             1,
             "#276419"
            ]
           ],
           "sequential": [
            [
             0,
             "#0d0887"
            ],
            [
             0.1111111111111111,
             "#46039f"
            ],
            [
             0.2222222222222222,
             "#7201a8"
            ],
            [
             0.3333333333333333,
             "#9c179e"
            ],
            [
             0.4444444444444444,
             "#bd3786"
            ],
            [
             0.5555555555555556,
             "#d8576b"
            ],
            [
             0.6666666666666666,
             "#ed7953"
            ],
            [
             0.7777777777777778,
             "#fb9f3a"
            ],
            [
             0.8888888888888888,
             "#fdca26"
            ],
            [
             1,
             "#f0f921"
            ]
           ],
           "sequentialminus": [
            [
             0,
             "#0d0887"
            ],
            [
             0.1111111111111111,
             "#46039f"
            ],
            [
             0.2222222222222222,
             "#7201a8"
            ],
            [
             0.3333333333333333,
             "#9c179e"
            ],
            [
             0.4444444444444444,
             "#bd3786"
            ],
            [
             0.5555555555555556,
             "#d8576b"
            ],
            [
             0.6666666666666666,
             "#ed7953"
            ],
            [
             0.7777777777777778,
             "#fb9f3a"
            ],
            [
             0.8888888888888888,
             "#fdca26"
            ],
            [
             1,
             "#f0f921"
            ]
           ]
          },
          "colorway": [
           "#636efa",
           "#EF553B",
           "#00cc96",
           "#ab63fa",
           "#FFA15A",
           "#19d3f3",
           "#FF6692",
           "#B6E880",
           "#FF97FF",
           "#FECB52"
          ],
          "font": {
           "color": "#2a3f5f"
          },
          "geo": {
           "bgcolor": "white",
           "lakecolor": "white",
           "landcolor": "#E5ECF6",
           "showlakes": true,
           "showland": true,
           "subunitcolor": "white"
          },
          "hoverlabel": {
           "align": "left"
          },
          "hovermode": "closest",
          "mapbox": {
           "style": "light"
          },
          "paper_bgcolor": "white",
          "plot_bgcolor": "#E5ECF6",
          "polar": {
           "angularaxis": {
            "gridcolor": "white",
            "linecolor": "white",
            "ticks": ""
           },
           "bgcolor": "#E5ECF6",
           "radialaxis": {
            "gridcolor": "white",
            "linecolor": "white",
            "ticks": ""
           }
          },
          "scene": {
           "xaxis": {
            "backgroundcolor": "#E5ECF6",
            "gridcolor": "white",
            "gridwidth": 2,
            "linecolor": "white",
            "showbackground": true,
            "ticks": "",
            "zerolinecolor": "white"
           },
           "yaxis": {
            "backgroundcolor": "#E5ECF6",
            "gridcolor": "white",
            "gridwidth": 2,
            "linecolor": "white",
            "showbackground": true,
            "ticks": "",
            "zerolinecolor": "white"
           },
           "zaxis": {
            "backgroundcolor": "#E5ECF6",
            "gridcolor": "white",
            "gridwidth": 2,
            "linecolor": "white",
            "showbackground": true,
            "ticks": "",
            "zerolinecolor": "white"
           }
          },
          "shapedefaults": {
           "line": {
            "color": "#2a3f5f"
           }
          },
          "ternary": {
           "aaxis": {
            "gridcolor": "white",
            "linecolor": "white",
            "ticks": ""
           },
           "baxis": {
            "gridcolor": "white",
            "linecolor": "white",
            "ticks": ""
           },
           "bgcolor": "#E5ECF6",
           "caxis": {
            "gridcolor": "white",
            "linecolor": "white",
            "ticks": ""
           }
          },
          "title": {
           "x": 0.05
          },
          "xaxis": {
           "automargin": true,
           "gridcolor": "white",
           "linecolor": "white",
           "ticks": "",
           "title": {
            "standoff": 15
           },
           "zerolinecolor": "white",
           "zerolinewidth": 2
          },
          "yaxis": {
           "automargin": true,
           "gridcolor": "white",
           "linecolor": "white",
           "ticks": "",
           "title": {
            "standoff": 15
           },
           "zerolinecolor": "white",
           "zerolinewidth": 2
          }
         }
        },
        "width": 500,
        "xaxis": {
         "anchor": "y",
         "domain": [
          0,
          1
         ],
         "title": {
          "text": "Evento"
         }
        },
        "yaxis": {
         "anchor": "x",
         "domain": [
          0,
          1
         ],
         "title": {
          "text": ""
         }
        }
       }
      }
     },
     "metadata": {},
     "output_type": "display_data"
    }
   ],
   "source": [
    "fig = px.histogram(tmp, x='DEATH_EVENT', width=500, \n",
    "             color_discrete_sequence=['#19647E', '#A31621'], color='sex', labels={\"sex\": \"Sexo\"})\n",
    "fig.update_xaxes(title_text='Evento')\n",
    "fig.update_yaxes(title_text='')\n",
    "fig.update_layout(bargap=0.2)\n",
    "fig.show()"
   ]
  },
  {
   "cell_type": "markdown",
   "metadata": {},
   "source": [
    "Aqui podemos observar que, dos pacientes falecidos, os homens são os que mais acabaram morrendo durante o acompanhamento"
   ]
  },
  {
   "cell_type": "code",
   "execution_count": 87,
   "metadata": {},
   "outputs": [
    {
     "data": {
      "application/vnd.plotly.v1+json": {
       "config": {
        "plotlyServerURL": "https://plot.ly"
       },
       "data": [
        {
         "domain": {
          "x": [
           0,
           1
          ],
          "y": [
           0,
           1
          ]
         },
         "hovertemplate": "sex=%{label}<extra></extra>",
         "labels": [
          "Homem",
          "Homem",
          "Homem",
          "Homem",
          "Homem",
          "Mulher",
          "Homem",
          "Homem",
          "Homem",
          "Homem",
          "Homem",
          "Homem",
          "Mulher",
          "Mulher",
          "Mulher",
          "Homem",
          "Mulher",
          "Homem",
          "Mulher",
          "Homem",
          "Homem",
          "Homem",
          "Mulher",
          "Homem",
          "Homem",
          "Mulher",
          "Homem",
          "Mulher",
          "Homem",
          "Mulher",
          "Homem",
          "Homem",
          "Mulher",
          "Homem",
          "Mulher",
          "Mulher",
          "Mulher",
          "Homem",
          "Homem",
          "Mulher",
          "Homem",
          "Mulher",
          "Homem",
          "Mulher",
          "Homem",
          "Homem",
          "Mulher",
          "Mulher",
          "Homem",
          "Homem",
          "Mulher",
          "Mulher",
          "Mulher",
          "Homem",
          "Homem",
          "Homem",
          "Mulher",
          "Mulher",
          "Homem",
          "Homem",
          "Homem",
          "Homem",
          "Homem",
          "Homem",
          "Mulher",
          "Homem",
          "Homem",
          "Mulher",
          "Homem",
          "Mulher",
          "Homem",
          "Homem"
         ],
         "legendgroup": "",
         "name": "",
         "showlegend": true,
         "type": "pie"
        }
       ],
       "layout": {
        "legend": {
         "tracegroupgap": 0
        },
        "margin": {
         "t": 60
        },
        "piecolorway": [
         "#19647E",
         "#A31621"
        ],
        "template": {
         "data": {
          "bar": [
           {
            "error_x": {
             "color": "#2a3f5f"
            },
            "error_y": {
             "color": "#2a3f5f"
            },
            "marker": {
             "line": {
              "color": "#E5ECF6",
              "width": 0.5
             },
             "pattern": {
              "fillmode": "overlay",
              "size": 10,
              "solidity": 0.2
             }
            },
            "type": "bar"
           }
          ],
          "barpolar": [
           {
            "marker": {
             "line": {
              "color": "#E5ECF6",
              "width": 0.5
             },
             "pattern": {
              "fillmode": "overlay",
              "size": 10,
              "solidity": 0.2
             }
            },
            "type": "barpolar"
           }
          ],
          "carpet": [
           {
            "aaxis": {
             "endlinecolor": "#2a3f5f",
             "gridcolor": "white",
             "linecolor": "white",
             "minorgridcolor": "white",
             "startlinecolor": "#2a3f5f"
            },
            "baxis": {
             "endlinecolor": "#2a3f5f",
             "gridcolor": "white",
             "linecolor": "white",
             "minorgridcolor": "white",
             "startlinecolor": "#2a3f5f"
            },
            "type": "carpet"
           }
          ],
          "choropleth": [
           {
            "colorbar": {
             "outlinewidth": 0,
             "ticks": ""
            },
            "type": "choropleth"
           }
          ],
          "contour": [
           {
            "colorbar": {
             "outlinewidth": 0,
             "ticks": ""
            },
            "colorscale": [
             [
              0,
              "#0d0887"
             ],
             [
              0.1111111111111111,
              "#46039f"
             ],
             [
              0.2222222222222222,
              "#7201a8"
             ],
             [
              0.3333333333333333,
              "#9c179e"
             ],
             [
              0.4444444444444444,
              "#bd3786"
             ],
             [
              0.5555555555555556,
              "#d8576b"
             ],
             [
              0.6666666666666666,
              "#ed7953"
             ],
             [
              0.7777777777777778,
              "#fb9f3a"
             ],
             [
              0.8888888888888888,
              "#fdca26"
             ],
             [
              1,
              "#f0f921"
             ]
            ],
            "type": "contour"
           }
          ],
          "contourcarpet": [
           {
            "colorbar": {
             "outlinewidth": 0,
             "ticks": ""
            },
            "type": "contourcarpet"
           }
          ],
          "heatmap": [
           {
            "colorbar": {
             "outlinewidth": 0,
             "ticks": ""
            },
            "colorscale": [
             [
              0,
              "#0d0887"
             ],
             [
              0.1111111111111111,
              "#46039f"
             ],
             [
              0.2222222222222222,
              "#7201a8"
             ],
             [
              0.3333333333333333,
              "#9c179e"
             ],
             [
              0.4444444444444444,
              "#bd3786"
             ],
             [
              0.5555555555555556,
              "#d8576b"
             ],
             [
              0.6666666666666666,
              "#ed7953"
             ],
             [
              0.7777777777777778,
              "#fb9f3a"
             ],
             [
              0.8888888888888888,
              "#fdca26"
             ],
             [
              1,
              "#f0f921"
             ]
            ],
            "type": "heatmap"
           }
          ],
          "heatmapgl": [
           {
            "colorbar": {
             "outlinewidth": 0,
             "ticks": ""
            },
            "colorscale": [
             [
              0,
              "#0d0887"
             ],
             [
              0.1111111111111111,
              "#46039f"
             ],
             [
              0.2222222222222222,
              "#7201a8"
             ],
             [
              0.3333333333333333,
              "#9c179e"
             ],
             [
              0.4444444444444444,
              "#bd3786"
             ],
             [
              0.5555555555555556,
              "#d8576b"
             ],
             [
              0.6666666666666666,
              "#ed7953"
             ],
             [
              0.7777777777777778,
              "#fb9f3a"
             ],
             [
              0.8888888888888888,
              "#fdca26"
             ],
             [
              1,
              "#f0f921"
             ]
            ],
            "type": "heatmapgl"
           }
          ],
          "histogram": [
           {
            "marker": {
             "pattern": {
              "fillmode": "overlay",
              "size": 10,
              "solidity": 0.2
             }
            },
            "type": "histogram"
           }
          ],
          "histogram2d": [
           {
            "colorbar": {
             "outlinewidth": 0,
             "ticks": ""
            },
            "colorscale": [
             [
              0,
              "#0d0887"
             ],
             [
              0.1111111111111111,
              "#46039f"
             ],
             [
              0.2222222222222222,
              "#7201a8"
             ],
             [
              0.3333333333333333,
              "#9c179e"
             ],
             [
              0.4444444444444444,
              "#bd3786"
             ],
             [
              0.5555555555555556,
              "#d8576b"
             ],
             [
              0.6666666666666666,
              "#ed7953"
             ],
             [
              0.7777777777777778,
              "#fb9f3a"
             ],
             [
              0.8888888888888888,
              "#fdca26"
             ],
             [
              1,
              "#f0f921"
             ]
            ],
            "type": "histogram2d"
           }
          ],
          "histogram2dcontour": [
           {
            "colorbar": {
             "outlinewidth": 0,
             "ticks": ""
            },
            "colorscale": [
             [
              0,
              "#0d0887"
             ],
             [
              0.1111111111111111,
              "#46039f"
             ],
             [
              0.2222222222222222,
              "#7201a8"
             ],
             [
              0.3333333333333333,
              "#9c179e"
             ],
             [
              0.4444444444444444,
              "#bd3786"
             ],
             [
              0.5555555555555556,
              "#d8576b"
             ],
             [
              0.6666666666666666,
              "#ed7953"
             ],
             [
              0.7777777777777778,
              "#fb9f3a"
             ],
             [
              0.8888888888888888,
              "#fdca26"
             ],
             [
              1,
              "#f0f921"
             ]
            ],
            "type": "histogram2dcontour"
           }
          ],
          "mesh3d": [
           {
            "colorbar": {
             "outlinewidth": 0,
             "ticks": ""
            },
            "type": "mesh3d"
           }
          ],
          "parcoords": [
           {
            "line": {
             "colorbar": {
              "outlinewidth": 0,
              "ticks": ""
             }
            },
            "type": "parcoords"
           }
          ],
          "pie": [
           {
            "automargin": true,
            "type": "pie"
           }
          ],
          "scatter": [
           {
            "marker": {
             "colorbar": {
              "outlinewidth": 0,
              "ticks": ""
             }
            },
            "type": "scatter"
           }
          ],
          "scatter3d": [
           {
            "line": {
             "colorbar": {
              "outlinewidth": 0,
              "ticks": ""
             }
            },
            "marker": {
             "colorbar": {
              "outlinewidth": 0,
              "ticks": ""
             }
            },
            "type": "scatter3d"
           }
          ],
          "scattercarpet": [
           {
            "marker": {
             "colorbar": {
              "outlinewidth": 0,
              "ticks": ""
             }
            },
            "type": "scattercarpet"
           }
          ],
          "scattergeo": [
           {
            "marker": {
             "colorbar": {
              "outlinewidth": 0,
              "ticks": ""
             }
            },
            "type": "scattergeo"
           }
          ],
          "scattergl": [
           {
            "marker": {
             "colorbar": {
              "outlinewidth": 0,
              "ticks": ""
             }
            },
            "type": "scattergl"
           }
          ],
          "scattermapbox": [
           {
            "marker": {
             "colorbar": {
              "outlinewidth": 0,
              "ticks": ""
             }
            },
            "type": "scattermapbox"
           }
          ],
          "scatterpolar": [
           {
            "marker": {
             "colorbar": {
              "outlinewidth": 0,
              "ticks": ""
             }
            },
            "type": "scatterpolar"
           }
          ],
          "scatterpolargl": [
           {
            "marker": {
             "colorbar": {
              "outlinewidth": 0,
              "ticks": ""
             }
            },
            "type": "scatterpolargl"
           }
          ],
          "scatterternary": [
           {
            "marker": {
             "colorbar": {
              "outlinewidth": 0,
              "ticks": ""
             }
            },
            "type": "scatterternary"
           }
          ],
          "surface": [
           {
            "colorbar": {
             "outlinewidth": 0,
             "ticks": ""
            },
            "colorscale": [
             [
              0,
              "#0d0887"
             ],
             [
              0.1111111111111111,
              "#46039f"
             ],
             [
              0.2222222222222222,
              "#7201a8"
             ],
             [
              0.3333333333333333,
              "#9c179e"
             ],
             [
              0.4444444444444444,
              "#bd3786"
             ],
             [
              0.5555555555555556,
              "#d8576b"
             ],
             [
              0.6666666666666666,
              "#ed7953"
             ],
             [
              0.7777777777777778,
              "#fb9f3a"
             ],
             [
              0.8888888888888888,
              "#fdca26"
             ],
             [
              1,
              "#f0f921"
             ]
            ],
            "type": "surface"
           }
          ],
          "table": [
           {
            "cells": {
             "fill": {
              "color": "#EBF0F8"
             },
             "line": {
              "color": "white"
             }
            },
            "header": {
             "fill": {
              "color": "#C8D4E3"
             },
             "line": {
              "color": "white"
             }
            },
            "type": "table"
           }
          ]
         },
         "layout": {
          "annotationdefaults": {
           "arrowcolor": "#2a3f5f",
           "arrowhead": 0,
           "arrowwidth": 1
          },
          "autotypenumbers": "strict",
          "coloraxis": {
           "colorbar": {
            "outlinewidth": 0,
            "ticks": ""
           }
          },
          "colorscale": {
           "diverging": [
            [
             0,
             "#8e0152"
            ],
            [
             0.1,
             "#c51b7d"
            ],
            [
             0.2,
             "#de77ae"
            ],
            [
             0.3,
             "#f1b6da"
            ],
            [
             0.4,
             "#fde0ef"
            ],
            [
             0.5,
             "#f7f7f7"
            ],
            [
             0.6,
             "#e6f5d0"
            ],
            [
             0.7,
             "#b8e186"
            ],
            [
             0.8,
             "#7fbc41"
            ],
            [
             0.9,
             "#4d9221"
            ],
            [
             1,
             "#276419"
            ]
           ],
           "sequential": [
            [
             0,
             "#0d0887"
            ],
            [
             0.1111111111111111,
             "#46039f"
            ],
            [
             0.2222222222222222,
             "#7201a8"
            ],
            [
             0.3333333333333333,
             "#9c179e"
            ],
            [
             0.4444444444444444,
             "#bd3786"
            ],
            [
             0.5555555555555556,
             "#d8576b"
            ],
            [
             0.6666666666666666,
             "#ed7953"
            ],
            [
             0.7777777777777778,
             "#fb9f3a"
            ],
            [
             0.8888888888888888,
             "#fdca26"
            ],
            [
             1,
             "#f0f921"
            ]
           ],
           "sequentialminus": [
            [
             0,
             "#0d0887"
            ],
            [
             0.1111111111111111,
             "#46039f"
            ],
            [
             0.2222222222222222,
             "#7201a8"
            ],
            [
             0.3333333333333333,
             "#9c179e"
            ],
            [
             0.4444444444444444,
             "#bd3786"
            ],
            [
             0.5555555555555556,
             "#d8576b"
            ],
            [
             0.6666666666666666,
             "#ed7953"
            ],
            [
             0.7777777777777778,
             "#fb9f3a"
            ],
            [
             0.8888888888888888,
             "#fdca26"
            ],
            [
             1,
             "#f0f921"
            ]
           ]
          },
          "colorway": [
           "#636efa",
           "#EF553B",
           "#00cc96",
           "#ab63fa",
           "#FFA15A",
           "#19d3f3",
           "#FF6692",
           "#B6E880",
           "#FF97FF",
           "#FECB52"
          ],
          "font": {
           "color": "#2a3f5f"
          },
          "geo": {
           "bgcolor": "white",
           "lakecolor": "white",
           "landcolor": "#E5ECF6",
           "showlakes": true,
           "showland": true,
           "subunitcolor": "white"
          },
          "hoverlabel": {
           "align": "left"
          },
          "hovermode": "closest",
          "mapbox": {
           "style": "light"
          },
          "paper_bgcolor": "white",
          "plot_bgcolor": "#E5ECF6",
          "polar": {
           "angularaxis": {
            "gridcolor": "white",
            "linecolor": "white",
            "ticks": ""
           },
           "bgcolor": "#E5ECF6",
           "radialaxis": {
            "gridcolor": "white",
            "linecolor": "white",
            "ticks": ""
           }
          },
          "scene": {
           "xaxis": {
            "backgroundcolor": "#E5ECF6",
            "gridcolor": "white",
            "gridwidth": 2,
            "linecolor": "white",
            "showbackground": true,
            "ticks": "",
            "zerolinecolor": "white"
           },
           "yaxis": {
            "backgroundcolor": "#E5ECF6",
            "gridcolor": "white",
            "gridwidth": 2,
            "linecolor": "white",
            "showbackground": true,
            "ticks": "",
            "zerolinecolor": "white"
           },
           "zaxis": {
            "backgroundcolor": "#E5ECF6",
            "gridcolor": "white",
            "gridwidth": 2,
            "linecolor": "white",
            "showbackground": true,
            "ticks": "",
            "zerolinecolor": "white"
           }
          },
          "shapedefaults": {
           "line": {
            "color": "#2a3f5f"
           }
          },
          "ternary": {
           "aaxis": {
            "gridcolor": "white",
            "linecolor": "white",
            "ticks": ""
           },
           "baxis": {
            "gridcolor": "white",
            "linecolor": "white",
            "ticks": ""
           },
           "bgcolor": "#E5ECF6",
           "caxis": {
            "gridcolor": "white",
            "linecolor": "white",
            "ticks": ""
           }
          },
          "title": {
           "x": 0.05
          },
          "xaxis": {
           "automargin": true,
           "gridcolor": "white",
           "linecolor": "white",
           "ticks": "",
           "title": {
            "standoff": 15
           },
           "zerolinecolor": "white",
           "zerolinewidth": 2
          },
          "yaxis": {
           "automargin": true,
           "gridcolor": "white",
           "linecolor": "white",
           "ticks": "",
           "title": {
            "standoff": 15
           },
           "zerolinecolor": "white",
           "zerolinewidth": 2
          }
         }
        },
        "width": 500
       }
      }
     },
     "metadata": {},
     "output_type": "display_data"
    }
   ],
   "source": [
    "graph_df = tmp.loc[tmp['DEATH_EVENT'] == 'Faleceu']\n",
    "fig = px.pie(graph_df, names='sex', width=500, \n",
    "             color_discrete_sequence=['#19647E', '#A31621'])\n",
    "fig.show()"
   ]
  },
  {
   "cell_type": "markdown",
   "metadata": {},
   "source": [
    "## Procurando features"
   ]
  },
  {
   "cell_type": "code",
   "execution_count": 88,
   "metadata": {},
   "outputs": [
    {
     "data": {
      "text/html": [
       "<style type=\"text/css\">\n",
       "#T_631ad_row0_col0, #T_631ad_row1_col1, #T_631ad_row2_col2, #T_631ad_row3_col3, #T_631ad_row4_col4, #T_631ad_row5_col5, #T_631ad_row6_col6, #T_631ad_row7_col7, #T_631ad_row8_col8, #T_631ad_row9_col9, #T_631ad_row10_col10, #T_631ad_row11_col11, #T_631ad_row12_col12 {\n",
       "  background-color: #b40426;\n",
       "  color: #f1f1f1;\n",
       "}\n",
       "#T_631ad_row0_col1, #T_631ad_row1_col0, #T_631ad_row8_col5 {\n",
       "  background-color: #80a3fa;\n",
       "  color: #f1f1f1;\n",
       "}\n",
       "#T_631ad_row0_col2, #T_631ad_row2_col0, #T_631ad_row7_col5, #T_631ad_row8_col0 {\n",
       "  background-color: #7597f6;\n",
       "  color: #f1f1f1;\n",
       "}\n",
       "#T_631ad_row0_col3, #T_631ad_row9_col1 {\n",
       "  background-color: #5470de;\n",
       "  color: #f1f1f1;\n",
       "}\n",
       "#T_631ad_row0_col4, #T_631ad_row0_col5, #T_631ad_row6_col8 {\n",
       "  background-color: #9abbff;\n",
       "  color: #000000;\n",
       "}\n",
       "#T_631ad_row0_col6 {\n",
       "  background-color: #4055c8;\n",
       "  color: #f1f1f1;\n",
       "}\n",
       "#T_631ad_row0_col7 {\n",
       "  background-color: #bed2f6;\n",
       "  color: #000000;\n",
       "}\n",
       "#T_631ad_row0_col8, #T_631ad_row9_col7, #T_631ad_row11_col4 {\n",
       "  background-color: #8caffe;\n",
       "  color: #000000;\n",
       "}\n",
       "#T_631ad_row0_col9, #T_631ad_row4_col1, #T_631ad_row5_col3, #T_631ad_row10_col4, #T_631ad_row11_col9 {\n",
       "  background-color: #7093f3;\n",
       "  color: #f1f1f1;\n",
       "}\n",
       "#T_631ad_row0_col10, #T_631ad_row9_col5 {\n",
       "  background-color: #5b7ae5;\n",
       "  color: #f1f1f1;\n",
       "}\n",
       "#T_631ad_row0_col11 {\n",
       "  background-color: #7ea1fa;\n",
       "  color: #f1f1f1;\n",
       "}\n",
       "#T_631ad_row0_col12 {\n",
       "  background-color: #dddcdc;\n",
       "  color: #000000;\n",
       "}\n",
       "#T_631ad_row1_col2, #T_631ad_row1_col10, #T_631ad_row2_col1, #T_631ad_row3_col9, #T_631ad_row4_col9, #T_631ad_row7_col8, #T_631ad_row8_col3, #T_631ad_row8_col7, #T_631ad_row11_col0, #T_631ad_row11_col5, #T_631ad_row11_col12, #T_631ad_row12_col4, #T_631ad_row12_col6, #T_631ad_row12_col11 {\n",
       "  background-color: #3b4cc0;\n",
       "  color: #f1f1f1;\n",
       "}\n",
       "#T_631ad_row1_col3, #T_631ad_row4_col12, #T_631ad_row7_col3, #T_631ad_row8_col10 {\n",
       "  background-color: #6687ed;\n",
       "  color: #f1f1f1;\n",
       "}\n",
       "#T_631ad_row1_col4, #T_631ad_row9_col8 {\n",
       "  background-color: #86a9fc;\n",
       "  color: #f1f1f1;\n",
       "}\n",
       "#T_631ad_row1_col5, #T_631ad_row5_col11, #T_631ad_row7_col2, #T_631ad_row11_col3, #T_631ad_row12_col2 {\n",
       "  background-color: #7699f6;\n",
       "  color: #f1f1f1;\n",
       "}\n",
       "#T_631ad_row1_col6, #T_631ad_row8_col9, #T_631ad_row9_col4 {\n",
       "  background-color: #6180e9;\n",
       "  color: #f1f1f1;\n",
       "}\n",
       "#T_631ad_row1_col7, #T_631ad_row6_col1 {\n",
       "  background-color: #779af7;\n",
       "  color: #f1f1f1;\n",
       "}\n",
       "#T_631ad_row1_col8 {\n",
       "  background-color: #9ebeff;\n",
       "  color: #000000;\n",
       "}\n",
       "#T_631ad_row1_col9, #T_631ad_row7_col10 {\n",
       "  background-color: #465ecf;\n",
       "  color: #f1f1f1;\n",
       "}\n",
       "#T_631ad_row1_col11 {\n",
       "  background-color: #97b8ff;\n",
       "  color: #000000;\n",
       "}\n",
       "#T_631ad_row1_col12 {\n",
       "  background-color: #bad0f8;\n",
       "  color: #000000;\n",
       "}\n",
       "#T_631ad_row2_col3, #T_631ad_row4_col3, #T_631ad_row6_col3, #T_631ad_row6_col10, #T_631ad_row10_col5 {\n",
       "  background-color: #6282ea;\n",
       "  color: #f1f1f1;\n",
       "}\n",
       "#T_631ad_row2_col4, #T_631ad_row6_col7, #T_631ad_row9_col2 {\n",
       "  background-color: #6c8ff1;\n",
       "  color: #f1f1f1;\n",
       "}\n",
       "#T_631ad_row2_col5, #T_631ad_row5_col1, #T_631ad_row6_col2, #T_631ad_row8_col6 {\n",
       "  background-color: #6f92f3;\n",
       "  color: #f1f1f1;\n",
       "}\n",
       "#T_631ad_row2_col6, #T_631ad_row2_col8 {\n",
       "  background-color: #5875e1;\n",
       "  color: #f1f1f1;\n",
       "}\n",
       "#T_631ad_row2_col7 {\n",
       "  background-color: #8db0fe;\n",
       "  color: #000000;\n",
       "}\n",
       "#T_631ad_row2_col9, #T_631ad_row3_col0, #T_631ad_row3_col8, #T_631ad_row10_col6, #T_631ad_row12_col9 {\n",
       "  background-color: #5e7de7;\n",
       "  color: #f1f1f1;\n",
       "}\n",
       "#T_631ad_row2_col10, #T_631ad_row11_col10 {\n",
       "  background-color: #5977e3;\n",
       "  color: #f1f1f1;\n",
       "}\n",
       "#T_631ad_row2_col11 {\n",
       "  background-color: #bfd3f6;\n",
       "  color: #000000;\n",
       "}\n",
       "#T_631ad_row2_col12, #T_631ad_row4_col11 {\n",
       "  background-color: #b1cbfc;\n",
       "  color: #000000;\n",
       "}\n",
       "#T_631ad_row3_col1, #T_631ad_row4_col6, #T_631ad_row10_col7 {\n",
       "  background-color: #7295f4;\n",
       "  color: #f1f1f1;\n",
       "}\n",
       "#T_631ad_row3_col2, #T_631ad_row10_col0 {\n",
       "  background-color: #6e90f2;\n",
       "  color: #f1f1f1;\n",
       "}\n",
       "#T_631ad_row3_col4 {\n",
       "  background-color: #85a8fc;\n",
       "  color: #f1f1f1;\n",
       "}\n",
       "#T_631ad_row3_col5, #T_631ad_row8_col12, #T_631ad_row12_col1 {\n",
       "  background-color: #82a6fb;\n",
       "  color: #f1f1f1;\n",
       "}\n",
       "#T_631ad_row3_col6, #T_631ad_row4_col7, #T_631ad_row6_col0, #T_631ad_row7_col4, #T_631ad_row11_col1, #T_631ad_row12_col8 {\n",
       "  background-color: #5673e0;\n",
       "  color: #f1f1f1;\n",
       "}\n",
       "#T_631ad_row3_col7 {\n",
       "  background-color: #88abfd;\n",
       "  color: #000000;\n",
       "}\n",
       "#T_631ad_row3_col10, #T_631ad_row8_col2 {\n",
       "  background-color: #3f53c6;\n",
       "  color: #f1f1f1;\n",
       "}\n",
       "#T_631ad_row3_col11 {\n",
       "  background-color: #b9d0f9;\n",
       "  color: #000000;\n",
       "}\n",
       "#T_631ad_row3_col12 {\n",
       "  background-color: #a6c4fe;\n",
       "  color: #000000;\n",
       "}\n",
       "#T_631ad_row4_col0, #T_631ad_row4_col5, #T_631ad_row5_col7 {\n",
       "  background-color: #84a7fc;\n",
       "  color: #f1f1f1;\n",
       "}\n",
       "#T_631ad_row4_col2 {\n",
       "  background-color: #5572df;\n",
       "  color: #f1f1f1;\n",
       "}\n",
       "#T_631ad_row4_col8 {\n",
       "  background-color: #b5cdfa;\n",
       "  color: #000000;\n",
       "}\n",
       "#T_631ad_row4_col10, #T_631ad_row5_col9 {\n",
       "  background-color: #455cce;\n",
       "  color: #f1f1f1;\n",
       "}\n",
       "#T_631ad_row5_col0, #T_631ad_row5_col4, #T_631ad_row6_col12, #T_631ad_row12_col5 {\n",
       "  background-color: #93b5fe;\n",
       "  color: #000000;\n",
       "}\n",
       "#T_631ad_row5_col2, #T_631ad_row7_col9, #T_631ad_row11_col7 {\n",
       "  background-color: #688aef;\n",
       "  color: #f1f1f1;\n",
       "}\n",
       "#T_631ad_row5_col6 {\n",
       "  background-color: #799cf8;\n",
       "  color: #f1f1f1;\n",
       "}\n",
       "#T_631ad_row5_col8, #T_631ad_row10_col8 {\n",
       "  background-color: #8fb1fe;\n",
       "  color: #000000;\n",
       "}\n",
       "#T_631ad_row5_col10, #T_631ad_row6_col9, #T_631ad_row10_col3 {\n",
       "  background-color: #485fd1;\n",
       "  color: #f1f1f1;\n",
       "}\n",
       "#T_631ad_row5_col12 {\n",
       "  background-color: #c1d4f4;\n",
       "  color: #000000;\n",
       "}\n",
       "#T_631ad_row6_col4 {\n",
       "  background-color: #9dbdff;\n",
       "  color: #000000;\n",
       "}\n",
       "#T_631ad_row6_col5, #T_631ad_row11_col8 {\n",
       "  background-color: #94b6ff;\n",
       "  color: #000000;\n",
       "}\n",
       "#T_631ad_row6_col11, #T_631ad_row8_col4 {\n",
       "  background-color: #b3cdfb;\n",
       "  color: #000000;\n",
       "}\n",
       "#T_631ad_row7_col0 {\n",
       "  background-color: #abc8fd;\n",
       "  color: #000000;\n",
       "}\n",
       "#T_631ad_row7_col1, #T_631ad_row12_col10 {\n",
       "  background-color: #5f7fe8;\n",
       "  color: #f1f1f1;\n",
       "}\n",
       "#T_631ad_row7_col6, #T_631ad_row9_col6 {\n",
       "  background-color: #3e51c5;\n",
       "  color: #f1f1f1;\n",
       "}\n",
       "#T_631ad_row7_col11 {\n",
       "  background-color: #92b4fe;\n",
       "  color: #000000;\n",
       "}\n",
       "#T_631ad_row7_col12 {\n",
       "  background-color: #f2cbb7;\n",
       "  color: #000000;\n",
       "}\n",
       "#T_631ad_row8_col1, #T_631ad_row11_col2 {\n",
       "  background-color: #89acfd;\n",
       "  color: #000000;\n",
       "}\n",
       "#T_631ad_row8_col11 {\n",
       "  background-color: #b6cefa;\n",
       "  color: #000000;\n",
       "}\n",
       "#T_631ad_row9_col0 {\n",
       "  background-color: #7da0f9;\n",
       "  color: #f1f1f1;\n",
       "}\n",
       "#T_631ad_row9_col3 {\n",
       "  background-color: #3d50c3;\n",
       "  color: #f1f1f1;\n",
       "}\n",
       "#T_631ad_row9_col10 {\n",
       "  background-color: #e1dad6;\n",
       "  color: #000000;\n",
       "}\n",
       "#T_631ad_row9_col11, #T_631ad_row12_col0 {\n",
       "  background-color: #b7cff9;\n",
       "  color: #000000;\n",
       "}\n",
       "#T_631ad_row9_col12, #T_631ad_row10_col11 {\n",
       "  background-color: #a9c6fd;\n",
       "  color: #000000;\n",
       "}\n",
       "#T_631ad_row10_col1 {\n",
       "  background-color: #4e68d8;\n",
       "  color: #f1f1f1;\n",
       "}\n",
       "#T_631ad_row10_col2 {\n",
       "  background-color: #6b8df0;\n",
       "  color: #f1f1f1;\n",
       "}\n",
       "#T_631ad_row10_col9 {\n",
       "  background-color: #e3d9d3;\n",
       "  color: #000000;\n",
       "}\n",
       "#T_631ad_row10_col12 {\n",
       "  background-color: #aec9fc;\n",
       "  color: #000000;\n",
       "}\n",
       "#T_631ad_row11_col6 {\n",
       "  background-color: #6384eb;\n",
       "  color: #f1f1f1;\n",
       "}\n",
       "#T_631ad_row12_col3 {\n",
       "  background-color: #5d7ce6;\n",
       "  color: #f1f1f1;\n",
       "}\n",
       "#T_631ad_row12_col7 {\n",
       "  background-color: #e5d8d1;\n",
       "  color: #000000;\n",
       "}\n",
       "</style>\n",
       "<table id=\"T_631ad\">\n",
       "  <thead>\n",
       "    <tr>\n",
       "      <th class=\"blank level0\" >&nbsp;</th>\n",
       "      <th id=\"T_631ad_level0_col0\" class=\"col_heading level0 col0\" >age</th>\n",
       "      <th id=\"T_631ad_level0_col1\" class=\"col_heading level0 col1\" >anaemia</th>\n",
       "      <th id=\"T_631ad_level0_col2\" class=\"col_heading level0 col2\" >creatinine_phosphokinase</th>\n",
       "      <th id=\"T_631ad_level0_col3\" class=\"col_heading level0 col3\" >diabetes</th>\n",
       "      <th id=\"T_631ad_level0_col4\" class=\"col_heading level0 col4\" >ejection_fraction</th>\n",
       "      <th id=\"T_631ad_level0_col5\" class=\"col_heading level0 col5\" >high_blood_pressure</th>\n",
       "      <th id=\"T_631ad_level0_col6\" class=\"col_heading level0 col6\" >platelets</th>\n",
       "      <th id=\"T_631ad_level0_col7\" class=\"col_heading level0 col7\" >serum_creatinine</th>\n",
       "      <th id=\"T_631ad_level0_col8\" class=\"col_heading level0 col8\" >serum_sodium</th>\n",
       "      <th id=\"T_631ad_level0_col9\" class=\"col_heading level0 col9\" >sex</th>\n",
       "      <th id=\"T_631ad_level0_col10\" class=\"col_heading level0 col10\" >smoking</th>\n",
       "      <th id=\"T_631ad_level0_col11\" class=\"col_heading level0 col11\" >time</th>\n",
       "      <th id=\"T_631ad_level0_col12\" class=\"col_heading level0 col12\" >DEATH_EVENT</th>\n",
       "    </tr>\n",
       "  </thead>\n",
       "  <tbody>\n",
       "    <tr>\n",
       "      <th id=\"T_631ad_level0_row0\" class=\"row_heading level0 row0\" >age</th>\n",
       "      <td id=\"T_631ad_row0_col0\" class=\"data row0 col0\" >1.000000</td>\n",
       "      <td id=\"T_631ad_row0_col1\" class=\"data row0 col1\" >0.056100</td>\n",
       "      <td id=\"T_631ad_row0_col2\" class=\"data row0 col2\" >0.018336</td>\n",
       "      <td id=\"T_631ad_row0_col3\" class=\"data row0 col3\" >-0.057426</td>\n",
       "      <td id=\"T_631ad_row0_col4\" class=\"data row0 col4\" >0.072848</td>\n",
       "      <td id=\"T_631ad_row0_col5\" class=\"data row0 col5\" >0.122123</td>\n",
       "      <td id=\"T_631ad_row0_col6\" class=\"data row0 col6\" >-0.087910</td>\n",
       "      <td id=\"T_631ad_row0_col7\" class=\"data row0 col7\" >0.207104</td>\n",
       "      <td id=\"T_631ad_row0_col8\" class=\"data row0 col8\" >0.020792</td>\n",
       "      <td id=\"T_631ad_row0_col9\" class=\"data row0 col9\" >0.050015</td>\n",
       "      <td id=\"T_631ad_row0_col10\" class=\"data row0 col10\" >-0.004218</td>\n",
       "      <td id=\"T_631ad_row0_col11\" class=\"data row0 col11\" >-0.197546</td>\n",
       "      <td id=\"T_631ad_row0_col12\" class=\"data row0 col12\" >0.248983</td>\n",
       "    </tr>\n",
       "    <tr>\n",
       "      <th id=\"T_631ad_level0_row1\" class=\"row_heading level0 row1\" >anaemia</th>\n",
       "      <td id=\"T_631ad_row1_col0\" class=\"data row1 col0\" >0.056100</td>\n",
       "      <td id=\"T_631ad_row1_col1\" class=\"data row1 col1\" >1.000000</td>\n",
       "      <td id=\"T_631ad_row1_col2\" class=\"data row1 col2\" >-0.201025</td>\n",
       "      <td id=\"T_631ad_row1_col3\" class=\"data row1 col3\" >0.006124</td>\n",
       "      <td id=\"T_631ad_row1_col4\" class=\"data row1 col4\" >0.002844</td>\n",
       "      <td id=\"T_631ad_row1_col5\" class=\"data row1 col5\" >-0.003784</td>\n",
       "      <td id=\"T_631ad_row1_col6\" class=\"data row1 col6\" >0.026644</td>\n",
       "      <td id=\"T_631ad_row1_col7\" class=\"data row1 col7\" >-0.057331</td>\n",
       "      <td id=\"T_631ad_row1_col8\" class=\"data row1 col8\" >0.086269</td>\n",
       "      <td id=\"T_631ad_row1_col9\" class=\"data row1 col9\" >-0.099355</td>\n",
       "      <td id=\"T_631ad_row1_col10\" class=\"data row1 col10\" >-0.124851</td>\n",
       "      <td id=\"T_631ad_row1_col11\" class=\"data row1 col11\" >-0.091727</td>\n",
       "      <td id=\"T_631ad_row1_col12\" class=\"data row1 col12\" >0.063483</td>\n",
       "    </tr>\n",
       "    <tr>\n",
       "      <th id=\"T_631ad_level0_row2\" class=\"row_heading level0 row2\" >creatinine_phosphokinase</th>\n",
       "      <td id=\"T_631ad_row2_col0\" class=\"data row2 col0\" >0.018336</td>\n",
       "      <td id=\"T_631ad_row2_col1\" class=\"data row2 col1\" >-0.201025</td>\n",
       "      <td id=\"T_631ad_row2_col2\" class=\"data row2 col2\" >1.000000</td>\n",
       "      <td id=\"T_631ad_row2_col3\" class=\"data row2 col3\" >-0.006755</td>\n",
       "      <td id=\"T_631ad_row2_col4\" class=\"data row2 col4\" >-0.095706</td>\n",
       "      <td id=\"T_631ad_row2_col5\" class=\"data row2 col5\" >-0.027232</td>\n",
       "      <td id=\"T_631ad_row2_col6\" class=\"data row2 col6\" >-0.002856</td>\n",
       "      <td id=\"T_631ad_row2_col7\" class=\"data row2 col7\" >0.023912</td>\n",
       "      <td id=\"T_631ad_row2_col8\" class=\"data row2 col8\" >-0.180406</td>\n",
       "      <td id=\"T_631ad_row2_col9\" class=\"data row2 col9\" >-0.012525</td>\n",
       "      <td id=\"T_631ad_row2_col10\" class=\"data row2 col10\" >-0.013470</td>\n",
       "      <td id=\"T_631ad_row2_col11\" class=\"data row2 col11\" >0.086162</td>\n",
       "      <td id=\"T_631ad_row2_col12\" class=\"data row2 col12\" >0.023926</td>\n",
       "    </tr>\n",
       "    <tr>\n",
       "      <th id=\"T_631ad_level0_row3\" class=\"row_heading level0 row3\" >diabetes</th>\n",
       "      <td id=\"T_631ad_row3_col0\" class=\"data row3 col0\" >-0.057426</td>\n",
       "      <td id=\"T_631ad_row3_col1\" class=\"data row3 col1\" >0.006124</td>\n",
       "      <td id=\"T_631ad_row3_col2\" class=\"data row3 col2\" >-0.006755</td>\n",
       "      <td id=\"T_631ad_row3_col3\" class=\"data row3 col3\" >1.000000</td>\n",
       "      <td id=\"T_631ad_row3_col4\" class=\"data row3 col4\" >-0.006649</td>\n",
       "      <td id=\"T_631ad_row3_col5\" class=\"data row3 col5\" >0.041860</td>\n",
       "      <td id=\"T_631ad_row3_col6\" class=\"data row3 col6\" >-0.007973</td>\n",
       "      <td id=\"T_631ad_row3_col7\" class=\"data row3 col7\" >0.005123</td>\n",
       "      <td id=\"T_631ad_row3_col8\" class=\"data row3 col8\" >-0.155447</td>\n",
       "      <td id=\"T_631ad_row3_col9\" class=\"data row3 col9\" >-0.144958</td>\n",
       "      <td id=\"T_631ad_row3_col10\" class=\"data row3 col10\" >-0.103945</td>\n",
       "      <td id=\"T_631ad_row3_col11\" class=\"data row3 col11\" >0.059897</td>\n",
       "      <td id=\"T_631ad_row3_col12\" class=\"data row3 col12\" >-0.026341</td>\n",
       "    </tr>\n",
       "    <tr>\n",
       "      <th id=\"T_631ad_level0_row4\" class=\"row_heading level0 row4\" >ejection_fraction</th>\n",
       "      <td id=\"T_631ad_row4_col0\" class=\"data row4 col0\" >0.072848</td>\n",
       "      <td id=\"T_631ad_row4_col1\" class=\"data row4 col1\" >0.002844</td>\n",
       "      <td id=\"T_631ad_row4_col2\" class=\"data row4 col2\" >-0.095706</td>\n",
       "      <td id=\"T_631ad_row4_col3\" class=\"data row4 col3\" >-0.006649</td>\n",
       "      <td id=\"T_631ad_row4_col4\" class=\"data row4 col4\" >1.000000</td>\n",
       "      <td id=\"T_631ad_row4_col5\" class=\"data row4 col5\" >0.046457</td>\n",
       "      <td id=\"T_631ad_row4_col6\" class=\"data row4 col6\" >0.082162</td>\n",
       "      <td id=\"T_631ad_row4_col7\" class=\"data row4 col7\" >-0.184522</td>\n",
       "      <td id=\"T_631ad_row4_col8\" class=\"data row4 col8\" >0.171013</td>\n",
       "      <td id=\"T_631ad_row4_col9\" class=\"data row4 col9\" >-0.141424</td>\n",
       "      <td id=\"T_631ad_row4_col10\" class=\"data row4 col10\" >-0.081814</td>\n",
       "      <td id=\"T_631ad_row4_col11\" class=\"data row4 col11\" >0.020898</td>\n",
       "      <td id=\"T_631ad_row4_col12\" class=\"data row4 col12\" >-0.301618</td>\n",
       "    </tr>\n",
       "    <tr>\n",
       "      <th id=\"T_631ad_level0_row5\" class=\"row_heading level0 row5\" >high_blood_pressure</th>\n",
       "      <td id=\"T_631ad_row5_col0\" class=\"data row5 col0\" >0.122123</td>\n",
       "      <td id=\"T_631ad_row5_col1\" class=\"data row5 col1\" >-0.003784</td>\n",
       "      <td id=\"T_631ad_row5_col2\" class=\"data row5 col2\" >-0.027232</td>\n",
       "      <td id=\"T_631ad_row5_col3\" class=\"data row5 col3\" >0.041860</td>\n",
       "      <td id=\"T_631ad_row5_col4\" class=\"data row5 col4\" >0.046457</td>\n",
       "      <td id=\"T_631ad_row5_col5\" class=\"data row5 col5\" >1.000000</td>\n",
       "      <td id=\"T_631ad_row5_col6\" class=\"data row5 col6\" >0.101976</td>\n",
       "      <td id=\"T_631ad_row5_col7\" class=\"data row5 col7\" >-0.008320</td>\n",
       "      <td id=\"T_631ad_row5_col8\" class=\"data row5 col8\" >0.032183</td>\n",
       "      <td id=\"T_631ad_row5_col9\" class=\"data row5 col9\" >-0.100776</td>\n",
       "      <td id=\"T_631ad_row5_col10\" class=\"data row5 col10\" >-0.073278</td>\n",
       "      <td id=\"T_631ad_row5_col11\" class=\"data row5 col11\" >-0.231509</td>\n",
       "      <td id=\"T_631ad_row5_col12\" class=\"data row5 col12\" >0.097872</td>\n",
       "    </tr>\n",
       "    <tr>\n",
       "      <th id=\"T_631ad_level0_row6\" class=\"row_heading level0 row6\" >platelets</th>\n",
       "      <td id=\"T_631ad_row6_col0\" class=\"data row6 col0\" >-0.087910</td>\n",
       "      <td id=\"T_631ad_row6_col1\" class=\"data row6 col1\" >0.026644</td>\n",
       "      <td id=\"T_631ad_row6_col2\" class=\"data row6 col2\" >-0.002856</td>\n",
       "      <td id=\"T_631ad_row6_col3\" class=\"data row6 col3\" >-0.007973</td>\n",
       "      <td id=\"T_631ad_row6_col4\" class=\"data row6 col4\" >0.082162</td>\n",
       "      <td id=\"T_631ad_row6_col5\" class=\"data row6 col5\" >0.101976</td>\n",
       "      <td id=\"T_631ad_row6_col6\" class=\"data row6 col6\" >1.000000</td>\n",
       "      <td id=\"T_631ad_row6_col7\" class=\"data row6 col7\" >-0.097105</td>\n",
       "      <td id=\"T_631ad_row6_col8\" class=\"data row6 col8\" >0.071511</td>\n",
       "      <td id=\"T_631ad_row6_col9\" class=\"data row6 col9\" >-0.093954</td>\n",
       "      <td id=\"T_631ad_row6_col10\" class=\"data row6 col10\" >0.018899</td>\n",
       "      <td id=\"T_631ad_row6_col11\" class=\"data row6 col11\" >0.036182</td>\n",
       "      <td id=\"T_631ad_row6_col12\" class=\"data row6 col12\" >-0.110960</td>\n",
       "    </tr>\n",
       "    <tr>\n",
       "      <th id=\"T_631ad_level0_row7\" class=\"row_heading level0 row7\" >serum_creatinine</th>\n",
       "      <td id=\"T_631ad_row7_col0\" class=\"data row7 col0\" >0.207104</td>\n",
       "      <td id=\"T_631ad_row7_col1\" class=\"data row7 col1\" >-0.057331</td>\n",
       "      <td id=\"T_631ad_row7_col2\" class=\"data row7 col2\" >0.023912</td>\n",
       "      <td id=\"T_631ad_row7_col3\" class=\"data row7 col3\" >0.005123</td>\n",
       "      <td id=\"T_631ad_row7_col4\" class=\"data row7 col4\" >-0.184522</td>\n",
       "      <td id=\"T_631ad_row7_col5\" class=\"data row7 col5\" >-0.008320</td>\n",
       "      <td id=\"T_631ad_row7_col6\" class=\"data row7 col6\" >-0.097105</td>\n",
       "      <td id=\"T_631ad_row7_col7\" class=\"data row7 col7\" >1.000000</td>\n",
       "      <td id=\"T_631ad_row7_col8\" class=\"data row7 col8\" >-0.303413</td>\n",
       "      <td id=\"T_631ad_row7_col9\" class=\"data row7 col9\" >0.022074</td>\n",
       "      <td id=\"T_631ad_row7_col10\" class=\"data row7 col10\" >-0.077341</td>\n",
       "      <td id=\"T_631ad_row7_col11\" class=\"data row7 col11\" >-0.113498</td>\n",
       "      <td id=\"T_631ad_row7_col12\" class=\"data row7 col12\" >0.392654</td>\n",
       "    </tr>\n",
       "    <tr>\n",
       "      <th id=\"T_631ad_level0_row8\" class=\"row_heading level0 row8\" >serum_sodium</th>\n",
       "      <td id=\"T_631ad_row8_col0\" class=\"data row8 col0\" >0.020792</td>\n",
       "      <td id=\"T_631ad_row8_col1\" class=\"data row8 col1\" >0.086269</td>\n",
       "      <td id=\"T_631ad_row8_col2\" class=\"data row8 col2\" >-0.180406</td>\n",
       "      <td id=\"T_631ad_row8_col3\" class=\"data row8 col3\" >-0.155447</td>\n",
       "      <td id=\"T_631ad_row8_col4\" class=\"data row8 col4\" >0.171013</td>\n",
       "      <td id=\"T_631ad_row8_col5\" class=\"data row8 col5\" >0.032183</td>\n",
       "      <td id=\"T_631ad_row8_col6\" class=\"data row8 col6\" >0.071511</td>\n",
       "      <td id=\"T_631ad_row8_col7\" class=\"data row8 col7\" >-0.303413</td>\n",
       "      <td id=\"T_631ad_row8_col8\" class=\"data row8 col8\" >1.000000</td>\n",
       "      <td id=\"T_631ad_row8_col9\" class=\"data row8 col9\" >-0.002972</td>\n",
       "      <td id=\"T_631ad_row8_col10\" class=\"data row8 col10\" >0.029909</td>\n",
       "      <td id=\"T_631ad_row8_col11\" class=\"data row8 col11\" >0.048249</td>\n",
       "      <td id=\"T_631ad_row8_col12\" class=\"data row8 col12\" >-0.181689</td>\n",
       "    </tr>\n",
       "    <tr>\n",
       "      <th id=\"T_631ad_level0_row9\" class=\"row_heading level0 row9\" >sex</th>\n",
       "      <td id=\"T_631ad_row9_col0\" class=\"data row9 col0\" >0.050015</td>\n",
       "      <td id=\"T_631ad_row9_col1\" class=\"data row9 col1\" >-0.099355</td>\n",
       "      <td id=\"T_631ad_row9_col2\" class=\"data row9 col2\" >-0.012525</td>\n",
       "      <td id=\"T_631ad_row9_col3\" class=\"data row9 col3\" >-0.144958</td>\n",
       "      <td id=\"T_631ad_row9_col4\" class=\"data row9 col4\" >-0.141424</td>\n",
       "      <td id=\"T_631ad_row9_col5\" class=\"data row9 col5\" >-0.100776</td>\n",
       "      <td id=\"T_631ad_row9_col6\" class=\"data row9 col6\" >-0.093954</td>\n",
       "      <td id=\"T_631ad_row9_col7\" class=\"data row9 col7\" >0.022074</td>\n",
       "      <td id=\"T_631ad_row9_col8\" class=\"data row9 col8\" >-0.002972</td>\n",
       "      <td id=\"T_631ad_row9_col9\" class=\"data row9 col9\" >1.000000</td>\n",
       "      <td id=\"T_631ad_row9_col10\" class=\"data row9 col10\" >0.455400</td>\n",
       "      <td id=\"T_631ad_row9_col11\" class=\"data row9 col11\" >0.051344</td>\n",
       "      <td id=\"T_631ad_row9_col12\" class=\"data row9 col12\" >-0.014988</td>\n",
       "    </tr>\n",
       "    <tr>\n",
       "      <th id=\"T_631ad_level0_row10\" class=\"row_heading level0 row10\" >smoking</th>\n",
       "      <td id=\"T_631ad_row10_col0\" class=\"data row10 col0\" >-0.004218</td>\n",
       "      <td id=\"T_631ad_row10_col1\" class=\"data row10 col1\" >-0.124851</td>\n",
       "      <td id=\"T_631ad_row10_col2\" class=\"data row10 col2\" >-0.013470</td>\n",
       "      <td id=\"T_631ad_row10_col3\" class=\"data row10 col3\" >-0.103945</td>\n",
       "      <td id=\"T_631ad_row10_col4\" class=\"data row10 col4\" >-0.081814</td>\n",
       "      <td id=\"T_631ad_row10_col5\" class=\"data row10 col5\" >-0.073278</td>\n",
       "      <td id=\"T_631ad_row10_col6\" class=\"data row10 col6\" >0.018899</td>\n",
       "      <td id=\"T_631ad_row10_col7\" class=\"data row10 col7\" >-0.077341</td>\n",
       "      <td id=\"T_631ad_row10_col8\" class=\"data row10 col8\" >0.029909</td>\n",
       "      <td id=\"T_631ad_row10_col9\" class=\"data row10 col9\" >0.455400</td>\n",
       "      <td id=\"T_631ad_row10_col10\" class=\"data row10 col10\" >1.000000</td>\n",
       "      <td id=\"T_631ad_row10_col11\" class=\"data row10 col11\" >-0.014074</td>\n",
       "      <td id=\"T_631ad_row10_col12\" class=\"data row10 col12\" >0.007976</td>\n",
       "    </tr>\n",
       "    <tr>\n",
       "      <th id=\"T_631ad_level0_row11\" class=\"row_heading level0 row11\" >time</th>\n",
       "      <td id=\"T_631ad_row11_col0\" class=\"data row11 col0\" >-0.197546</td>\n",
       "      <td id=\"T_631ad_row11_col1\" class=\"data row11 col1\" >-0.091727</td>\n",
       "      <td id=\"T_631ad_row11_col2\" class=\"data row11 col2\" >0.086162</td>\n",
       "      <td id=\"T_631ad_row11_col3\" class=\"data row11 col3\" >0.059897</td>\n",
       "      <td id=\"T_631ad_row11_col4\" class=\"data row11 col4\" >0.020898</td>\n",
       "      <td id=\"T_631ad_row11_col5\" class=\"data row11 col5\" >-0.231509</td>\n",
       "      <td id=\"T_631ad_row11_col6\" class=\"data row11 col6\" >0.036182</td>\n",
       "      <td id=\"T_631ad_row11_col7\" class=\"data row11 col7\" >-0.113498</td>\n",
       "      <td id=\"T_631ad_row11_col8\" class=\"data row11 col8\" >0.048249</td>\n",
       "      <td id=\"T_631ad_row11_col9\" class=\"data row11 col9\" >0.051344</td>\n",
       "      <td id=\"T_631ad_row11_col10\" class=\"data row11 col10\" >-0.014074</td>\n",
       "      <td id=\"T_631ad_row11_col11\" class=\"data row11 col11\" >1.000000</td>\n",
       "      <td id=\"T_631ad_row11_col12\" class=\"data row11 col12\" >-0.513085</td>\n",
       "    </tr>\n",
       "    <tr>\n",
       "      <th id=\"T_631ad_level0_row12\" class=\"row_heading level0 row12\" >DEATH_EVENT</th>\n",
       "      <td id=\"T_631ad_row12_col0\" class=\"data row12 col0\" >0.248983</td>\n",
       "      <td id=\"T_631ad_row12_col1\" class=\"data row12 col1\" >0.063483</td>\n",
       "      <td id=\"T_631ad_row12_col2\" class=\"data row12 col2\" >0.023926</td>\n",
       "      <td id=\"T_631ad_row12_col3\" class=\"data row12 col3\" >-0.026341</td>\n",
       "      <td id=\"T_631ad_row12_col4\" class=\"data row12 col4\" >-0.301618</td>\n",
       "      <td id=\"T_631ad_row12_col5\" class=\"data row12 col5\" >0.097872</td>\n",
       "      <td id=\"T_631ad_row12_col6\" class=\"data row12 col6\" >-0.110960</td>\n",
       "      <td id=\"T_631ad_row12_col7\" class=\"data row12 col7\" >0.392654</td>\n",
       "      <td id=\"T_631ad_row12_col8\" class=\"data row12 col8\" >-0.181689</td>\n",
       "      <td id=\"T_631ad_row12_col9\" class=\"data row12 col9\" >-0.014988</td>\n",
       "      <td id=\"T_631ad_row12_col10\" class=\"data row12 col10\" >0.007976</td>\n",
       "      <td id=\"T_631ad_row12_col11\" class=\"data row12 col11\" >-0.513085</td>\n",
       "      <td id=\"T_631ad_row12_col12\" class=\"data row12 col12\" >1.000000</td>\n",
       "    </tr>\n",
       "  </tbody>\n",
       "</table>\n"
      ],
      "text/plain": [
       "<pandas.io.formats.style.Styler at 0x221a9ad9ac0>"
      ]
     },
     "execution_count": 88,
     "metadata": {},
     "output_type": "execute_result"
    }
   ],
   "source": [
    "corr = data.corr()\n",
    "corr.style.background_gradient(cmap='coolwarm')"
   ]
  },
  {
   "cell_type": "markdown",
   "metadata": {},
   "source": [
    "## Iniciando modelagem"
   ]
  },
  {
   "cell_type": "code",
   "execution_count": 89,
   "metadata": {},
   "outputs": [],
   "source": [
    "from sklearn.model_selection import train_test_split\n",
    "\n",
    "X = data[['time', 'serum_creatinine', 'ejection_fraction', 'age']]\n",
    "y = data['DEATH_EVENT']\n",
    "\n",
    "X_train, X_test, y_train, y_test = train_test_split(X, y, test_size=0.33, random_state=42)"
   ]
  },
  {
   "cell_type": "code",
   "execution_count": 90,
   "metadata": {},
   "outputs": [],
   "source": [
    "from sklearn.metrics import accuracy_score\n",
    "from sklearn.metrics import recall_score\n",
    "from sklearn.metrics import f1_score\n",
    "from sklearn.metrics import confusion_matrix\n",
    "from sklearn.pipeline import make_pipeline\n",
    "from sklearn.preprocessing import StandardScaler\n",
    "\n",
    "from sklearn.linear_model import LogisticRegression\n",
    "from sklearn import tree\n",
    "\n",
    "from sklearn.neighbors import KNeighborsClassifier\n",
    "from sklearn.svm import SVC\n",
    "from sklearn.ensemble import RandomForestClassifier\n",
    "from sklearn.ensemble import GradientBoostingClassifier\n",
    "from sklearn.model_selection import GridSearchCV\n",
    "\n",
    "import keras\n",
    "from keras.models import Sequential\n",
    "from keras.layers import Dense\n",
    "from keras.utils import to_categorical\n",
    "import tensorflow as tf\n",
    "\n",
    "import lightgbm as lgb\n",
    "\n"
   ]
  },
  {
   "cell_type": "markdown",
   "metadata": {},
   "source": [
    "# Criando modelos"
   ]
  },
  {
   "cell_type": "markdown",
   "metadata": {},
   "source": [
    "Antes de mais nada, vamos esclarescer algumas decisões tomadas para decidirmos o melhor modelo:\n",
    "\n",
    "    • Iremos prestar atenção principalmente para o recall do modelo, pois ele tenta analisar aqueles que o modelo realmente acertou (ideal para doenças pois analisa principalmente VERDADEIROS POSITIVOS)"
   ]
  },
  {
   "cell_type": "markdown",
   "metadata": {},
   "source": [
    "LogisticRegression"
   ]
  },
  {
   "cell_type": "code",
   "execution_count": 91,
   "metadata": {},
   "outputs": [
    {
     "name": "stdout",
     "output_type": "stream",
     "text": [
      "Accuracy: 0.8860759493670886\n",
      "Recall: 0.7619047619047619\n",
      "F1: 0.7804878048780488\n",
      "[[54  4]\n",
      " [ 5 16]]\n"
     ]
    }
   ],
   "source": [
    "clf = LogisticRegression(random_state=0).fit(X_train, y_train)\n",
    "prev = clf.predict(X_test)\n",
    "\n",
    "print(f'Accuracy: {accuracy_score(y_test, prev)}')\n",
    "print(f'Recall: {recall_score(y_test, prev)}')\n",
    "print(f'F1: {f1_score(y_test, prev)}')\n",
    "print(confusion_matrix(y_test, prev))\n"
   ]
  },
  {
   "cell_type": "markdown",
   "metadata": {},
   "source": [
    "DecisionTree"
   ]
  },
  {
   "cell_type": "code",
   "execution_count": 92,
   "metadata": {},
   "outputs": [
    {
     "name": "stdout",
     "output_type": "stream",
     "text": [
      "Accuracy: 0.8860759493670886\n",
      "Recall: 0.8095238095238095\n",
      "F1: 0.7906976744186046\n",
      "[[53  5]\n",
      " [ 4 17]]\n"
     ]
    }
   ],
   "source": [
    "clf = tree.DecisionTreeClassifier(random_state=0).fit(X_train, y_train)\n",
    "prev = clf.predict(X_test)\n",
    "\n",
    "print(f'Accuracy: {accuracy_score(y_test, prev)}')\n",
    "print(f'Recall: {recall_score(y_test, prev)}')\n",
    "print(f'F1: {f1_score(y_test, prev)}')\n",
    "print(confusion_matrix(y_test, prev))\n"
   ]
  },
  {
   "cell_type": "markdown",
   "metadata": {},
   "source": [
    "KNN"
   ]
  },
  {
   "cell_type": "code",
   "execution_count": 93,
   "metadata": {},
   "outputs": [
    {
     "name": "stdout",
     "output_type": "stream",
     "text": [
      "Accuracy: 0.8354430379746836\n",
      "Recall: 0.47619047619047616\n",
      "F1: 0.6060606060606061\n",
      "[[56  2]\n",
      " [11 10]]\n"
     ]
    }
   ],
   "source": [
    "neigh = KNeighborsClassifier(n_neighbors=2).fit(X_train, y_train)\n",
    "prev = neigh.predict(X_test)\n",
    "\n",
    "print(f'Accuracy: {accuracy_score(y_test, prev)}')\n",
    "print(f'Recall: {recall_score(y_test, prev)}')\n",
    "print(f'F1: {f1_score(y_test, prev)}')\n",
    "print(confusion_matrix(y_test, prev))"
   ]
  },
  {
   "cell_type": "markdown",
   "metadata": {},
   "source": [
    "SVM"
   ]
  },
  {
   "cell_type": "code",
   "execution_count": 94,
   "metadata": {},
   "outputs": [
    {
     "name": "stdout",
     "output_type": "stream",
     "text": [
      "Accuracy: 0.9240506329113924\n",
      "Recall: 0.9047619047619048\n",
      "F1: 0.8636363636363636\n",
      "[[54  4]\n",
      " [ 2 19]]\n"
     ]
    }
   ],
   "source": [
    "model = make_pipeline(StandardScaler(), SVC(gamma='auto')).fit(X_train, y_train)\n",
    "prev = model.predict(X_test)\n",
    "\n",
    "print(f'Accuracy: {accuracy_score(y_test, prev)}')\n",
    "print(f'Recall: {recall_score(y_test, prev)}')\n",
    "print(f'F1: {f1_score(y_test, prev)}')\n",
    "print(confusion_matrix(y_test, prev))"
   ]
  },
  {
   "cell_type": "markdown",
   "metadata": {},
   "source": [
    "RandomForest"
   ]
  },
  {
   "cell_type": "code",
   "execution_count": 95,
   "metadata": {},
   "outputs": [
    {
     "name": "stdout",
     "output_type": "stream",
     "text": [
      "Accuracy: 0.8734177215189873\n",
      "Recall: 0.6190476190476191\n",
      "F1: 0.7222222222222222\n",
      "[[56  2]\n",
      " [ 8 13]]\n"
     ]
    }
   ],
   "source": [
    "clf = RandomForestClassifier(max_depth=2, random_state=0).fit(X_train, y_train)\n",
    "prev = clf.predict(X_test)\n",
    "\n",
    "print(f'Accuracy: {accuracy_score(y_test, prev)}')\n",
    "print(f'Recall: {recall_score(y_test, prev)}')\n",
    "print(f'F1: {f1_score(y_test, prev)}')\n",
    "print(confusion_matrix(y_test, prev))"
   ]
  },
  {
   "cell_type": "markdown",
   "metadata": {},
   "source": [
    "GradientBoosting"
   ]
  },
  {
   "cell_type": "code",
   "execution_count": 96,
   "metadata": {},
   "outputs": [
    {
     "name": "stdout",
     "output_type": "stream",
     "text": [
      "Accuracy: 0.810126582278481\n",
      "Recall: 0.6190476190476191\n",
      "F1: 0.6341463414634146\n",
      "[[51  7]\n",
      " [ 8 13]]\n"
     ]
    }
   ],
   "source": [
    "clf = GradientBoostingClassifier(n_estimators=100, learning_rate=1.0, max_depth=1, random_state=0).fit(X_train, y_train)\n",
    "prev = clf.predict(X_test)\n",
    "\n",
    "print(f'Accuracy: {accuracy_score(y_test, prev)}')\n",
    "print(f'Recall: {recall_score(y_test, prev)}')\n",
    "print(f'F1: {f1_score(y_test, prev)}')\n",
    "print(confusion_matrix(y_test, prev))"
   ]
  },
  {
   "cell_type": "markdown",
   "metadata": {},
   "source": [
    "Keras"
   ]
  },
  {
   "cell_type": "code",
   "execution_count": 97,
   "metadata": {},
   "outputs": [
    {
     "data": {
      "text/plain": [
       "<keras.callbacks.History at 0x221b8049460>"
      ]
     },
     "execution_count": 97,
     "metadata": {},
     "output_type": "execute_result"
    }
   ],
   "source": [
    "classificador = Sequential()\n",
    "classificador.add(Dense(units=3, activation='relu', input_dim=4))\n",
    "classificador.add(Dense(units=3, activation='relu'))\n",
    "classificador.add(Dense(units=1, activation='sigmoid'))\n",
    "classificador.compile(optimizer='adam', loss='binary_crossentropy', metrics=['accuracy', tf.keras.metrics.Recall()])\n",
    "\n",
    "classificador.fit(X_train, y_train, batch_size=10, epochs=400, verbose=0)"
   ]
  },
  {
   "cell_type": "code",
   "execution_count": 98,
   "metadata": {},
   "outputs": [
    {
     "name": "stdout",
     "output_type": "stream",
     "text": [
      "3/3 [==============================] - 0s 4ms/step\n",
      "Accuracy: 0.8734177215189873\n",
      "Recall: 0.6190476190476191\n",
      "F1: 0.7222222222222222\n",
      "[[56  2]\n",
      " [ 8 13]]\n"
     ]
    }
   ],
   "source": [
    "prev = classificador.predict(X_test)\n",
    "prev = (prev > 0.6)\n",
    "print(f'Accuracy: {accuracy_score(y_test, prev)}')\n",
    "print(f'Recall: {recall_score(y_test, prev)}')\n",
    "print(f'F1: {f1_score(y_test, prev)}')\n",
    "print(confusion_matrix(y_test, prev))"
   ]
  },
  {
   "cell_type": "markdown",
   "metadata": {},
   "source": [
    "LGBMClassifier"
   ]
  },
  {
   "cell_type": "code",
   "execution_count": 99,
   "metadata": {},
   "outputs": [
    {
     "name": "stdout",
     "output_type": "stream",
     "text": [
      "Accuracy: 0.8354430379746836\n",
      "Recall: 0.6666666666666666\n",
      "F1: 0.6829268292682926\n",
      "[[52  6]\n",
      " [ 7 14]]\n"
     ]
    }
   ],
   "source": [
    "clf = lgb.LGBMClassifier().fit(X_train, y_train)\n",
    "prev = clf.predict(X_test)\n",
    "print(f'Accuracy: {accuracy_score(y_test, prev)}')\n",
    "print(f'Recall: {recall_score(y_test, prev)}')\n",
    "print(f'F1: {f1_score(y_test, prev)}')\n",
    "print(confusion_matrix(y_test, prev))"
   ]
  },
  {
   "cell_type": "markdown",
   "metadata": {},
   "source": [
    "# Melhorando o melhor modelo"
   ]
  },
  {
   "cell_type": "markdown",
   "metadata": {},
   "source": [
    "### O melhor modelo encontrado foi o SVC:"
   ]
  },
  {
   "cell_type": "code",
   "execution_count": 100,
   "metadata": {},
   "outputs": [
    {
     "name": "stdout",
     "output_type": "stream",
     "text": [
      "Accuracy: 0.9240506329113924\n",
      "Recall: 0.9047619047619048\n",
      "F1: 0.8636363636363636\n",
      "[[54  4]\n",
      " [ 2 19]]\n"
     ]
    }
   ],
   "source": [
    "model = make_pipeline(StandardScaler(), SVC(gamma='auto')).fit(X_train, y_train)\n",
    "prev = model.predict(X_test)\n",
    "\n",
    "print(f'Accuracy: {accuracy_score(y_test, prev)}')\n",
    "print(f'Recall: {recall_score(y_test, prev)}')\n",
    "print(f'F1: {f1_score(y_test, prev)}')\n",
    "print(confusion_matrix(y_test, prev))"
   ]
  },
  {
   "cell_type": "markdown",
   "metadata": {},
   "source": [
    "Testando hyperparametros"
   ]
  },
  {
   "cell_type": "code",
   "execution_count": 101,
   "metadata": {},
   "outputs": [
    {
     "name": "stdout",
     "output_type": "stream",
     "text": [
      "Accuracy: 0.7341772151898734\n",
      "Recall: 0.0\n",
      "F1: 0.0\n",
      "--------------------------------------------\n",
      "{'C': 0.1, 'class_weight': 'balanced', 'gamma': 1, 'kernel': 'rbf', 'random_state': 1}\n",
      "SVC(C=0.1, class_weight='balanced', gamma=1, random_state=1)\n",
      "[[58  0]\n",
      " [21  0]]\n",
      "1.0\n"
     ]
    }
   ],
   "source": [
    "param_grid = {'C': [0.1, 1, 10, 100, 1000], \n",
    "              'gamma': [1, 0.1, 0.01, 0.001, 0.0001],\n",
    "              'kernel': ['linear', 'rbf', 'sigmoid'],\n",
    "              'class_weight': ['balanced'],\n",
    "              'random_state': [1]\n",
    "            } \n",
    "\n",
    "grid = GridSearchCV(SVC(), param_grid, refit = True, scoring='recall')\n",
    "grid.fit(X_train, y_train)\n",
    "\n",
    "grid_predictions = grid.predict(X_test)\n",
    "\n",
    "print(f'Accuracy: {accuracy_score(y_test, grid_predictions)}')\n",
    "print(f'Recall: {recall_score(y_test, grid_predictions)}')\n",
    "print(f'F1: {f1_score(y_test, grid_predictions)}')\n",
    "\n",
    "print('--------------------------------------------')\n",
    "print(grid.best_params_)\n",
    "print(grid.best_estimator_)\n",
    "print(confusion_matrix(y_test, grid_predictions))\n",
    "print(grid.best_score_)"
   ]
  },
  {
   "cell_type": "markdown",
   "metadata": {},
   "source": [
    "Adicionando HyperParametros em nosso modelo"
   ]
  },
  {
   "cell_type": "code",
   "execution_count": 102,
   "metadata": {},
   "outputs": [
    {
     "name": "stdout",
     "output_type": "stream",
     "text": [
      "Accuracy: 0.8481012658227848\n",
      "Recall: 0.8571428571428571\n",
      "F1: 0.75\n",
      "[[49  9]\n",
      " [ 3 18]]\n"
     ]
    }
   ],
   "source": [
    "model = make_pipeline(StandardScaler(), SVC(C=0.1, class_weight='balanced', gamma=1, kernel='linear', random_state=1)).fit(X_train, y_train)\n",
    "prev = model.predict(X_test)\n",
    "\n",
    "print(f'Accuracy: {accuracy_score(y_test, prev)}')\n",
    "print(f'Recall: {recall_score(y_test, prev)}')\n",
    "print(f'F1: {f1_score(y_test, prev)}')\n",
    "print(confusion_matrix(y_test, prev))"
   ]
  }
 ],
 "metadata": {
  "kernelspec": {
   "display_name": "Python 3.9.12 ('base')",
   "language": "python",
   "name": "python3"
  },
  "language_info": {
   "codemirror_mode": {
    "name": "ipython",
    "version": 3
   },
   "file_extension": ".py",
   "mimetype": "text/x-python",
   "name": "python",
   "nbconvert_exporter": "python",
   "pygments_lexer": "ipython3",
   "version": "3.9.12"
  },
  "orig_nbformat": 4,
  "vscode": {
   "interpreter": {
    "hash": "ad2bdc8ecc057115af97d19610ffacc2b4e99fae6737bb82f5d7fb13d2f2c186"
   }
  }
 },
 "nbformat": 4,
 "nbformat_minor": 2
}
